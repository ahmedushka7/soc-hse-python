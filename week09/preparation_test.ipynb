{
 "cells": [
  {
   "cell_type": "markdown",
   "id": "edbe45fb",
   "metadata": {},
   "source": [
    "## 1. Поиск вероятности\n",
    "\n",
    "Пусть у вас есть $X_1, X_2, X_3$ случайные величины, которые независимы и одинаково равномерно распределены $X_i \\sim U[0;2]$. Оцените следующие вероятности: \n",
    "\n",
    "1. $P(X_1 + X_2 + X_3^2 > 5)$\n",
    "2. $P(X_1 + X_2 + X_3 > 0.8 \\mid X_3 < 0.1)$"
   ]
  },
  {
   "cell_type": "markdown",
   "id": "d5071136",
   "metadata": {},
   "source": [
    "### Решение №1"
   ]
  },
  {
   "cell_type": "code",
   "execution_count": 20,
   "id": "8170b06a",
   "metadata": {},
   "outputs": [],
   "source": [
    "import numpy as np"
   ]
  },
  {
   "cell_type": "code",
   "execution_count": 69,
   "id": "2dbcb048",
   "metadata": {},
   "outputs": [
    {
     "data": {
      "text/plain": [
       "0.1509"
      ]
     },
     "execution_count": 69,
     "metadata": {},
     "output_type": "execute_result"
    }
   ],
   "source": [
    "N = 10_000\n",
    "\n",
    "x1 = np.random.uniform(0, 2, size=N)\n",
    "x2 = np.random.uniform(0, 2, size=N)\n",
    "x3 = np.random.uniform(0, 2, size=N)\n",
    "\n",
    "np.mean(x1 + x2 + x3**2 > 5)"
   ]
  },
  {
   "cell_type": "code",
   "execution_count": 70,
   "id": "e0785c9f",
   "metadata": {},
   "outputs": [
    {
     "data": {
      "text/plain": [
       "0.9391634980988594"
      ]
     },
     "execution_count": 70,
     "metadata": {},
     "output_type": "execute_result"
    }
   ],
   "source": [
    "x1_slice = x1[x3 < 0.1]\n",
    "x2_slice = x2[x3 < 0.1]\n",
    "x3_slice = x3[x3 < 0.1]\n",
    "\n",
    "np.mean(x1_slice + x2_slice + x3_slice > 0.8)\n",
    "\n",
    "# or\n",
    "# np.mean((x1 + x2 + x3)[x3 < 0.1] > 0.8)"
   ]
  },
  {
   "cell_type": "markdown",
   "id": "546b9d05",
   "metadata": {},
   "source": [
    "### Решение №2"
   ]
  },
  {
   "cell_type": "code",
   "execution_count": 71,
   "id": "a63f67ae",
   "metadata": {},
   "outputs": [
    {
     "name": "stdout",
     "output_type": "stream",
     "text": [
      "0.9391634980988594\n"
     ]
    }
   ],
   "source": [
    "count = 0\n",
    "n = 0\n",
    "\n",
    "for i in range(N):\n",
    "    if x3[i] < 0.1:\n",
    "        n += 1\n",
    "        count += (x1[i] + x2[i] + x3[i] > 0.8)\n",
    "print(count / n)"
   ]
  },
  {
   "cell_type": "markdown",
   "id": "ecb74606",
   "metadata": {},
   "source": [
    "### Решение №3"
   ]
  },
  {
   "cell_type": "code",
   "execution_count": 72,
   "id": "35b0e605",
   "metadata": {},
   "outputs": [],
   "source": [
    "from scipy import stats as sts"
   ]
  },
  {
   "cell_type": "code",
   "execution_count": 73,
   "id": "1f0f961a",
   "metadata": {},
   "outputs": [],
   "source": [
    "gen = sts.uniform(0, 2)"
   ]
  },
  {
   "cell_type": "code",
   "execution_count": 75,
   "id": "f65c1f1e",
   "metadata": {},
   "outputs": [
    {
     "data": {
      "text/plain": [
       "0.1451"
      ]
     },
     "execution_count": 75,
     "metadata": {},
     "output_type": "execute_result"
    }
   ],
   "source": [
    "x1 = gen.rvs(N)\n",
    "x2 = gen.rvs(N)\n",
    "x3 = gen.rvs(N)\n",
    "\n",
    "np.mean(x1 + x2 + x3**2 > 5)"
   ]
  },
  {
   "cell_type": "markdown",
   "id": "ee92e888",
   "metadata": {},
   "source": [
    "## Принц и принцесса\n",
    "\n",
    "Давайте создадим функцию для игры. Есть принц, на старте игры у него есть h здоровья. Его цель – забраться по лестнице на башню, где находится принцесса, которую нужно спасти от великана. Количество ступенек равно m. Двигается он по одной ступеньке вверх. Но с каждым продвижением наверх с вероятностью p его бьет по голове великан и герой теряет z здоровья и остается на прежней ступеньке. Нужно понять, сможет ли принц забраться на башню. Это означает, что принц должен забраться на башню и остаться живым."
   ]
  },
  {
   "cell_type": "code",
   "execution_count": null,
   "id": "62cd9bac",
   "metadata": {},
   "outputs": [],
   "source": [
    "h = 100\n",
    "m = 10\n",
    "p = 0.2\n",
    "z = 10\n",
    "cur_step = 0\n",
    "\n",
    "while h > 0 and cur_step < m:\n",
    "    print(f'Здоровье было: {h}')\n",
    "    seen = np.random.choice([True, False], size=1, p=[p, 1 - p])[0]\n",
    "\n",
    "    if seen:\n",
    "        h = h - z\n",
    "    else:\n",
    "        cur_step = cur_step + 1\n",
    "#     print(f'Заметил: {seen}')\n",
    "#     print(f'Cтупенька: {cur_step}/{m}')\n",
    "#     print(f'Здоровье стало: {h}')\n",
    "#     input()\n",
    "\n",
    "# h > 0"
   ]
  },
  {
   "cell_type": "code",
   "execution_count": 191,
   "id": "71a189b8",
   "metadata": {},
   "outputs": [],
   "source": [
    "def game(h, m, p, z):\n",
    "    cur_step = 0\n",
    "\n",
    "    while h > 0 and cur_step < m:\n",
    "        seen = np.random.choice([True, False], size=1, p=[p, 1 - p])[0]\n",
    "\n",
    "        if seen:\n",
    "            h = h - z\n",
    "        else:\n",
    "            cur_step = cur_step + 1\n",
    "    return h > 0"
   ]
  },
  {
   "cell_type": "code",
   "execution_count": 192,
   "id": "55e8135b",
   "metadata": {},
   "outputs": [
    {
     "data": {
      "text/plain": [
       "True"
      ]
     },
     "execution_count": 192,
     "metadata": {},
     "output_type": "execute_result"
    }
   ],
   "source": [
    "game(h=100, m=10, p=0.2, z=10)"
   ]
  },
  {
   "cell_type": "code",
   "execution_count": 194,
   "id": "d3e65ede",
   "metadata": {},
   "outputs": [
    {
     "name": "stdout",
     "output_type": "stream",
     "text": [
      "0.1635\n"
     ]
    }
   ],
   "source": [
    "n = 10_000\n",
    "win = 0\n",
    "\n",
    "for i in range(n):\n",
    "    win = win + game(h=110, m=15, p=0.3, z=30)\n",
    "    \n",
    "print(win / n)"
   ]
  },
  {
   "cell_type": "markdown",
   "id": "dd201f07",
   "metadata": {},
   "source": [
    "### 3. Удав и багеты\n",
    "\n",
    "Удав Анатолий любит французские багеты. Длина французского багета равна $1$ метру. За один укус Удав Анатолий съедает кусок случайной длины, равномерно распределённый на отрезке $[0;1]$. Для того, чтобы съесть весь багет удаву потребуется случайное количество $N$ укусов. Найдите $E(N)$ и $Var(N)$"
   ]
  },
  {
   "cell_type": "code",
   "execution_count": 209,
   "id": "e015ccdb",
   "metadata": {},
   "outputs": [
    {
     "name": "stdout",
     "output_type": "stream",
     "text": [
      "3\n"
     ]
    }
   ],
   "source": [
    "baget = 1\n",
    "count = 0\n",
    "\n",
    "while baget > 0:\n",
    "    ukus = np.random.uniform(0, 1, size=1)[0]\n",
    "    baget = baget - ukus\n",
    "    count = count + 1\n",
    "print(count)"
   ]
  },
  {
   "cell_type": "code",
   "execution_count": 213,
   "id": "1e88df9e",
   "metadata": {},
   "outputs": [],
   "source": [
    "def udav():\n",
    "    baget = 1\n",
    "    count = 0\n",
    "\n",
    "    while baget > 0:\n",
    "        ukus = np.random.uniform(0, 1, size=1)[0]\n",
    "        baget = baget - ukus\n",
    "        count = count + 1\n",
    "    return count"
   ]
  },
  {
   "cell_type": "code",
   "execution_count": 226,
   "id": "5bcfce45",
   "metadata": {},
   "outputs": [],
   "source": [
    "results = []\n",
    "for i in range(1_000_000):\n",
    "    results.append(udav())"
   ]
  },
  {
   "cell_type": "code",
   "execution_count": 229,
   "id": "0ab78614",
   "metadata": {},
   "outputs": [],
   "source": [
    "import math"
   ]
  },
  {
   "cell_type": "code",
   "execution_count": 230,
   "id": "c022b317",
   "metadata": {},
   "outputs": [
    {
     "data": {
      "text/plain": [
       "2.718281828459045"
      ]
     },
     "execution_count": 230,
     "metadata": {},
     "output_type": "execute_result"
    }
   ],
   "source": [
    "math.exp(1)"
   ]
  },
  {
   "cell_type": "code",
   "execution_count": 227,
   "id": "8b5bc18f",
   "metadata": {},
   "outputs": [
    {
     "data": {
      "text/plain": [
       "2.717298"
      ]
     },
     "execution_count": 227,
     "metadata": {},
     "output_type": "execute_result"
    }
   ],
   "source": [
    "np.mean(results)"
   ]
  },
  {
   "cell_type": "code",
   "execution_count": 228,
   "id": "5d484090",
   "metadata": {},
   "outputs": [
    {
     "data": {
      "text/plain": [
       "0.7638855791960002"
      ]
     },
     "execution_count": 228,
     "metadata": {},
     "output_type": "execute_result"
    }
   ],
   "source": [
    "np.var(results)"
   ]
  },
  {
   "cell_type": "code",
   "execution_count": 219,
   "id": "dbbab36d",
   "metadata": {},
   "outputs": [],
   "source": [
    "import matplotlib.pyplot as plt"
   ]
  },
  {
   "cell_type": "code",
   "execution_count": 223,
   "id": "cbe45c95",
   "metadata": {},
   "outputs": [
    {
     "data": {
      "image/png": "[encoded data removed]",
      "text/plain": [
       "<Figure size 640x480 with 1 Axes>"
      ]
     },
     "metadata": {},
     "output_type": "display_data"
    }
   ],
   "source": [
    "plt.hist(results);"
   ]
  },
  {
   "cell_type": "code",
   "execution_count": 257,
   "id": "2b84addb",
   "metadata": {},
   "outputs": [
    {
     "data": {
      "text/plain": [
       "array([0.92957764, 0.0584906 , 0.00477569, 0.73541234, 0.35802292,\n",
       "       0.03327943, 0.83362412, 0.45195453, 0.0026109 , 0.19142651])"
      ]
     },
     "execution_count": 257,
     "metadata": {},
     "output_type": "execute_result"
    }
   ],
   "source": [
    "x = np.random.uniform(0, 1, size=10)\n",
    "x"
   ]
  },
  {
   "cell_type": "code",
   "execution_count": 254,
   "id": "de587f0c",
   "metadata": {},
   "outputs": [
    {
     "data": {
      "text/plain": [
       "array([0.10101456, 0.43840971])"
      ]
     },
     "execution_count": 254,
     "metadata": {},
     "output_type": "execute_result"
    }
   ],
   "source": [
    "cum_x = np.cumsum(x)\n",
    "cum_x"
   ]
  },
  {
   "cell_type": "code",
   "execution_count": 255,
   "id": "3d741141",
   "metadata": {},
   "outputs": [
    {
     "data": {
      "text/plain": [
       "array([False, False])"
      ]
     },
     "execution_count": 255,
     "metadata": {},
     "output_type": "execute_result"
    }
   ],
   "source": [
    "cum_x > 1"
   ]
  },
  {
   "cell_type": "code",
   "execution_count": 256,
   "id": "94a6ff62",
   "metadata": {},
   "outputs": [
    {
     "data": {
      "text/plain": [
       "11"
      ]
     },
     "execution_count": 256,
     "metadata": {},
     "output_type": "execute_result"
    }
   ],
   "source": [
    "2 - np.sum(cum_x > 1) + 1"
   ]
  }
 ],
 "metadata": {
  "kernelspec": {
   "display_name": "Python 3 (ipykernel)",
   "language": "python",
   "name": "python3"
  },
  "language_info": {
   "codemirror_mode": {
    "name": "ipython",
    "version": 3
   },
   "file_extension": ".py",
   "mimetype": "text/x-python",
   "name": "python",
   "nbconvert_exporter": "python",
   "pygments_lexer": "ipython3",
   "version": "3.8.13"
  }
 },
 "nbformat": 4,
 "nbformat_minor": 5
}
