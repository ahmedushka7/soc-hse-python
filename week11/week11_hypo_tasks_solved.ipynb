{
 "cells": [
  {
   "cell_type": "code",
   "execution_count": 2,
   "metadata": {},
   "outputs": [],
   "source": [
    "import numpy as np   \n",
    "import pandas as pd        \n",
    "from scipy import stats as sts \n",
    "\n",
    "import matplotlib.pyplot as plt\n",
    "import seaborn as sns\n",
    "\n",
    "%matplotlib inline \n",
    "\n",
    "from math import factorial as fact"
   ]
  },
  {
   "cell_type": "markdown",
   "metadata": {},
   "source": [
    "## Задачи на проверку гипотез"
   ]
  },
  {
   "cell_type": "markdown",
   "metadata": {},
   "source": [
    "### Задача №1: Джеймс Бонд"
   ]
  },
  {
   "cell_type": "markdown",
   "metadata": {},
   "source": [
    "<img src=\"../images/bond.png\" width=\"300\" align='left'>"
   ]
  },
  {
   "cell_type": "markdown",
   "metadata": {},
   "source": [
    "Ваш друг Джеймс Бонд утверждает, что умеет отличать взболтанный мартини от смешанного. Вы решили проверить это. Чтобы сделать это, вы завязали глаза Бонду и дали попробовать ему мартини 10 раз. Пусть Бонд отгадал тип мартини 6 раз и не угадал 4. Давайте проверим гипотезу о том, что Бонд умеет отличать мартини, используя z-test.\n",
    "\n",
    "*Выборка:* $1, 0, 0, 1, 1, 0, 0, 1, 1, 1$"
   ]
  },
  {
   "cell_type": "code",
   "execution_count": 3,
   "metadata": {},
   "outputs": [],
   "source": [
    "X = np.array([1, 0, 0, 1, 1, 0, 0, 1, 1, 1])\n",
    "n = len(X)\n",
    "alpha = 0.05"
   ]
  },
  {
   "cell_type": "markdown",
   "metadata": {},
   "source": [
    "**Решение:**\n",
    "\n",
    "$$\n",
    "H_0: p \\le 0.5 \\\\\n",
    "H_1: p > 0.5\n",
    "$$\n",
    "\n",
    "$$\n",
    "H_0: p = 0.5 \\\\ \n",
    "H_1: p > 0.5 \n",
    "$$\n",
    "\n",
    "\n",
    "$$\n",
    "z = \\frac{\\hat p - 0.5}{\\sqrt{\\frac{0.5 (1 - 0.5)}{10}}} \\sim_{n \\rightarrow \\infty} \\mathcal{N}(0, 1)\n",
    "$$"
   ]
  },
  {
   "cell_type": "code",
   "execution_count": 4,
   "metadata": {},
   "outputs": [
    {
     "name": "stdout",
     "output_type": "stream",
     "text": [
      "0.63 < 1.64 => не отвергаем нулевую гипотезу\n"
     ]
    }
   ],
   "source": [
    "p_hat = np.mean(X)\n",
    "p_0 = 0.5\n",
    "denom = ((p_0 * (1-p_0)) / 10)**(1/2)\n",
    "\n",
    "z_obs = (p_hat - p_0) / denom\n",
    "z_cr = sts.norm.ppf(q=(1-alpha), loc=0, scale=1)\n",
    "\n",
    "if z_obs > z_cr:\n",
    "    print(f'{round(z_obs, 2)} > {round(z_cr, 2)} => отвергаем нулевую гипотезу')\n",
    "else:\n",
    "    print(f'{round(z_obs, 2)} < {round(z_cr, 2)} => не отвергаем нулевую гипотезу')"
   ]
  },
  {
   "cell_type": "markdown",
   "metadata": {},
   "source": [
    "То же самое, но одной функцией:"
   ]
  },
  {
   "cell_type": "code",
   "execution_count": 5,
   "metadata": {},
   "outputs": [
    {
     "data": {
      "text/plain": [
       "(0.6454972243679027, 0.25930250821436285)"
      ]
     },
     "execution_count": 5,
     "metadata": {},
     "output_type": "execute_result"
    }
   ],
   "source": [
    "from statsmodels.stats.proportion import proportions_ztest\n",
    "\n",
    "proportions_ztest(sum(X), len(X), value=0.5, alternative='larger')"
   ]
  },
  {
   "cell_type": "markdown",
   "metadata": {},
   "source": [
    "### Задача №2: О мышах и людях"
   ]
  },
  {
   "cell_type": "markdown",
   "metadata": {},
   "source": [
    "<img src=\"../images/vagon.jpeg\" width=\"500\" align='left'>"
   ]
  },
  {
   "cell_type": "markdown",
   "metadata": {},
   "source": [
    "Для изучения аспектов процесса принятия моральных решений психологи уже много лет используют этические дилеммы, с помощью которых оценивают действия людей в гипотетических ситуациях. Один из самых известных примеров — это [проблема вагонетки,](https://ru.wikipedia.org/wiki/Проблема_вагонетки) в которой необходимо принять решение о том, стоит ли пожертвовать одним человеком для спасения пятерых.\n",
    "\n",
    "Бельгийские психологи воплотили дилемму в реальную жизнь. Участники эксперимента должны были выбрать, ударить током пять мышей или одну мышь. Эксперимент проходил следующим образом. Участника сажали перед двумя клетками, в одной из которых сидели пять мышей, а в другой — одна. Перед клетками стоял ноутбук с $20$-секундным таймером: участникам сообщили, что по истечении этих $20$ секунд в клетку с пятью мышами пустят ток, и мыши получат не смертельный, но очень болезненный удар. Пока время идет, участник может нажать на кнопку: в этом случае ток пустят по клетке с одной мышью. В исследовании использовали живых мышей. \n",
    "\n",
    "Удары тока были ненастоящими: сразу же после «удара» участников сопроводили в отдельную комнату, где разъяснили им, что мыши в полном порядке и током их не били (об этом заранее догадались только $12$ участников). В решении реальной проблемы вагонетки приняли участие $192$ человека, а еще $83$ решали такую же задачку, но гипотетическую (на бумаге). Все участники также прошли онлайн-опросы, в ходе которых учёные собрали о респондентах кучу дополнительной информации. \n",
    "\n",
    "В файле `mouse.csv` лежит информация о том, как прошёл эксперимент. Нас будут интересовать столбцы: \n",
    "\n",
    "* __STUDY:__ какую проблему вагонетки решал человек $1$, если на бумаге и $2$, если реальную\n",
    "* __AGE:__ возраст респондента \n",
    "* __GENDER:__ пол респондента\n",
    "* __DECISION:__ решение дилеммы ($1$ - жать на кнопу, $0$ - не жать) \n",
    "* __RT:__ время, которое респондент потратил, чтобы нажать на кнопку \n",
    "\n",
    "Подробное описание данных, сами данные и даже код на R, использованный при оценивании моделей, можно найти в [репозитории исследования.](https://osf.io/kvb99/) В статье авторы строили несколько логистических регрессий, чтобы очистить эффект от психологических особенностей респондентов. Про подобные приёмы очистки мы немного поговорим позже.  Также более подробно про исследование [можно почитать на N + 1.](https://nplus1.ru/news/2018/05/11/mice-trolley)"
   ]
  },
  {
   "cell_type": "code",
   "execution_count": 38,
   "metadata": {},
   "outputs": [],
   "source": [
    "df = pd.read_csv('../data/mouse.csv', sep='\\t')\n",
    "\n",
    "# отбираем нужные колонки\n",
    "df = df[['STUDY', 'AGE', 'GENDER', 'DECISION', 'RT']]\n",
    "\n",
    "# удаляем пропуски по колонке DECISION\n",
    "#     (то есть тех, кто не смог принять решение)\n",
    "df = df[~df.DECISION.isnull()]"
   ]
  },
  {
   "cell_type": "markdown",
   "metadata": {},
   "source": [
    "### Гипотеза №1: Доля и нажатия на кнопку\n",
    "\n",
    "Попытаемся ответить на тот же вопрос, что и исследователи. В какой из двух ситуаций респонденты чаще принимают решение нажать кнопку: в реальной или на бумаге?\n",
    "\n",
    "$$\n",
    "\\begin{aligned}\n",
    "&H_0: \\hspace{2mm} p_1 = p_2 \\hspace{2mm} \\text{(На бумаге и в реальности жмут на кнопку одинаково часто)} \\\\\n",
    "&H_1: \\hspace{2mm} p_1 > p_2  \\hspace{2mm} \\text{(На бумаге на кнопку жмут чаще)}\n",
    "\\end{aligned}\n",
    "$$"
   ]
  },
  {
   "cell_type": "code",
   "execution_count": 39,
   "metadata": {},
   "outputs": [],
   "source": [
    "sample_paper = df[df.STUDY == 1].DECISION.values\n",
    "sample_real = df[df.STUDY == 2].DECISION.values"
   ]
  },
  {
   "cell_type": "code",
   "execution_count": 40,
   "metadata": {},
   "outputs": [
    {
     "name": "stdout",
     "output_type": "stream",
     "text": [
      "Доля нажатий на бумаге: 0.8645833333333334\n",
      "Доля нажатий в реальности: 0.7469879518072289\n"
     ]
    }
   ],
   "source": [
    "print(f'Доля нажатий на бумаге: {np.mean(sample_paper)}')\n",
    "print(f'Доля нажатий в реальности: {np.mean(sample_real)}')"
   ]
  },
  {
   "cell_type": "code",
   "execution_count": 41,
   "metadata": {},
   "outputs": [
    {
     "data": {
      "text/plain": [
       "(2.3780989461645565, 0.008701077805778048)"
      ]
     },
     "execution_count": 41,
     "metadata": {},
     "output_type": "execute_result"
    }
   ],
   "source": [
    "proportions_ztest(\n",
    "    (sum(sample_paper), sum(sample_real)), \n",
    "    (len(sample_paper), len(sample_real)), \n",
    "    value=0, \n",
    "    alternative='larger'\n",
    ")"
   ]
  },
  {
   "cell_type": "markdown",
   "metadata": {},
   "source": [
    "> __Вывод:__ гипотеза о том, что на кнопку жмут одинаково часто, отвергается. На бумаге на кнопку жмут чаще."
   ]
  },
  {
   "cell_type": "markdown",
   "metadata": {},
   "source": [
    "### Гипотеза №2. Среднее и кровожадность\n",
    "\n",
    "Кровожадные люди быстро берут на себя ответственность за удар мышки током. Будем считать, что кровожадные люди принимают решение менее, чем за пять секунд. Правда ли, что люди по своей природе кровожадные? \n",
    "\n",
    "$$\n",
    "\\begin{aligned}\n",
    "&H_0: \\hspace{2mm} \\mu \\le 5 \\hspace{2mm} \\text{(Люди кровожадны)} \\\\\n",
    "&H_1: \\hspace{2mm} \\mu > 5  \\hspace{2mm} \\text{(Люди не кровожадны)}\n",
    "\\end{aligned}\n",
    "$$"
   ]
  },
  {
   "cell_type": "code",
   "execution_count": 54,
   "metadata": {},
   "outputs": [
    {
     "name": "stdout",
     "output_type": "stream",
     "text": [
      "Среднее кол-во секунд по выборке: 10.116762704819276\n"
     ]
    }
   ],
   "source": [
    "X = df[~df.RT.isnull()].RT.values\n",
    "n = len(X)\n",
    "\n",
    "rt_mean = np.mean(X)\n",
    "print(f'Среднее кол-во секунд по выборке: {rt_mean}')"
   ]
  },
  {
   "cell_type": "code",
   "execution_count": 55,
   "metadata": {},
   "outputs": [
    {
     "name": "stdout",
     "output_type": "stream",
     "text": [
      "12.97 > 1.65 => отвергаем, люди не кровожадны\n"
     ]
    }
   ],
   "source": [
    "t_obs = (rt_mean - 5) / (np.std(X, ddof=1) / n**(1/2))\n",
    "t_cr = sts.t.ppf(q=(1 - alpha), df=n-1)\n",
    "\n",
    "if t_obs > t_cr:\n",
    "    print(f'{round(t_obs, 2)} > {round(t_cr, 2)} => отвергаем, люди не кровожадны')\n",
    "else:\n",
    "    print(f'{round(t_obs, 2)} < {round(t_cr, 2)} => не отвергаем, люди кровожадны')"
   ]
  },
  {
   "cell_type": "code",
   "execution_count": 56,
   "metadata": {},
   "outputs": [
    {
     "data": {
      "text/plain": [
       "Ttest_1sampResult(statistic=12.974895950977869, pvalue=2.7586881778173365e-27)"
      ]
     },
     "execution_count": 56,
     "metadata": {},
     "output_type": "execute_result"
    }
   ],
   "source": [
    "sts.ttest_1samp(X, 5, axis=0, alternative='greater')"
   ]
  }
 ],
 "metadata": {
  "kernelspec": {
   "display_name": "Python 3",
   "language": "python",
   "name": "python3"
  },
  "language_info": {
   "codemirror_mode": {
    "name": "ipython",
    "version": 3
   },
   "file_extension": ".py",
   "mimetype": "text/x-python",
   "name": "python",
   "nbconvert_exporter": "python",
   "pygments_lexer": "ipython3",
   "version": "3.8.5"
  },
  "varInspector": {
   "cols": {
    "lenName": 16,
    "lenType": 16,
    "lenVar": 40
   },
   "kernels_config": {
    "python": {
     "delete_cmd_postfix": "",
     "delete_cmd_prefix": "del ",
     "library": "var_list.py",
     "varRefreshCmd": "print(var_dic_list())"
    },
    "r": {
     "delete_cmd_postfix": ") ",
     "delete_cmd_prefix": "rm(",
     "library": "var_list.r",
     "varRefreshCmd": "cat(var_dic_list()) "
    }
   },
   "types_to_exclude": [
    "module",
    "function",
    "builtin_function_or_method",
    "instance",
    "_Feature"
   ],
   "window_display": false
  }
 },
 "nbformat": 4,
 "nbformat_minor": 5
}
