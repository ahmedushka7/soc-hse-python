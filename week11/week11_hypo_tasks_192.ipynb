{
 "cells": [
  {
   "cell_type": "code",
   "execution_count": 1,
   "metadata": {},
   "outputs": [],
   "source": [
    "import numpy as np   \n",
    "import pandas as pd        \n",
    "from scipy import stats as sts \n",
    "\n",
    "import matplotlib.pyplot as plt\n",
    "import seaborn as sns\n",
    "\n",
    "%matplotlib inline \n",
    "\n",
    "from math import factorial as fact"
   ]
  },
  {
   "cell_type": "markdown",
   "metadata": {},
   "source": [
    "## Задачи на проверку гипотез"
   ]
  },
  {
   "cell_type": "markdown",
   "metadata": {},
   "source": [
    "### Задача №1: Джеймс Бонд (доля + 1 выборка)"
   ]
  },
  {
   "cell_type": "markdown",
   "metadata": {},
   "source": [
    "<img src=\"../images/bond.png\" width=\"300\" align='left'>"
   ]
  },
  {
   "cell_type": "markdown",
   "metadata": {},
   "source": [
    "Ваш друг Джеймс Бонд утверждает, что умеет отличать взболтанный мартини от смешанного. Вы решили проверить это. Чтобы сделать это, вы завязали глаза Бонду и дали попробовать ему мартини 10 раз. Пусть Бонд отгадал тип мартини 6 раз и не угадал 4. Давайте проверим гипотезу о том, что Бонд умеет отличать мартини, используя z-test.\n",
    "\n",
    "*Выборка:* $1, 0, 0, 1, 1, 0, 0, 1, 1, 1$"
   ]
  },
  {
   "cell_type": "markdown",
   "metadata": {},
   "source": [
    "$$\n",
    "\\begin{aligned}\n",
    "& H_0: p = 0.5 \\text{(не отличает мартини)} \\\\\n",
    "& H_1: p > 0.5 \\text{(отличает мартини)}\n",
    "\\end{aligned}\n",
    "$$\n",
    "\n",
    "\n",
    "$$\n",
    "X_1, \\ldots, X_n \\sim Bern(p)\n",
    "$$\n",
    "\n",
    "$$\n",
    "\\begin{aligned}\n",
    "& E(X) = p \\\\\n",
    "& Var(X) = p \\cdot (1-p)\n",
    "\\end{aligned}\n",
    "$$"
   ]
  },
  {
   "cell_type": "code",
   "execution_count": 17,
   "metadata": {},
   "outputs": [],
   "source": [
    "X = np.array([1, 0, 0, 1, 1, 0, 0, 1, 1, 1])\n",
    "n = len(X)\n",
    "alpha = 0.05"
   ]
  },
  {
   "cell_type": "markdown",
   "metadata": {},
   "source": [
    "1. Давайте проверим вручную"
   ]
  },
  {
   "cell_type": "code",
   "execution_count": 22,
   "metadata": {},
   "outputs": [
    {
     "name": "stdout",
     "output_type": "stream",
     "text": [
      "Выборочная доля: 0.6\n",
      "Выборочное z: 0.6324555320336757\n",
      "Критическое z: 1.6448536269514722\n",
      "\n",
      "Нулевая гипотеза не отвергается\n"
     ]
    }
   ],
   "source": [
    "p_0 = 0.5\n",
    "var_0 = p_0 * (1 - p_0)\n",
    "# var_0 = np.var(X)\n",
    "\n",
    "\n",
    "p_hat = np.mean(X)\n",
    "print(f'Выборочная доля: {p_hat}')\n",
    "\n",
    "\n",
    "z_sample = (p_hat - p_0) / np.sqrt(var_0 / n)\n",
    "print(f'Выборочное z: {z_sample}')\n",
    "\n",
    "\n",
    "norm_gen = sts.norm(0, 1)\n",
    "z_crit = norm_gen.ppf(1 - alpha)\n",
    "print(f'Критическое z: {z_crit}')\n",
    "\n",
    "# делаем вывод:\n",
    "print()\n",
    "if z_sample > z_crit:\n",
    "    print('Нулевая гипотеза отвергается')\n",
    "else:\n",
    "    print('Нулевая гипотеза не отвергается')"
   ]
  },
  {
   "cell_type": "markdown",
   "metadata": {},
   "source": [
    "2. Проверим одной функцией"
   ]
  },
  {
   "cell_type": "code",
   "execution_count": 19,
   "metadata": {},
   "outputs": [],
   "source": [
    "from statsmodels.stats.proportion import proportions_ztest"
   ]
  },
  {
   "cell_type": "code",
   "execution_count": 23,
   "metadata": {},
   "outputs": [
    {
     "data": {
      "text/plain": [
       "(0.6454972243679027, 0.25930250821436285)"
      ]
     },
     "execution_count": 23,
     "metadata": {},
     "output_type": "execute_result"
    }
   ],
   "source": [
    "proportions_ztest(\n",
    "    sum(X),              # кол-во единиц\n",
    "    len(X),              # n \n",
    "    value=0.5,           # p_0\n",
    "    alternative='larger' # альтернативная гипотеза (larger / smaller / two-sided)\n",
    ")"
   ]
  },
  {
   "cell_type": "markdown",
   "metadata": {},
   "source": [
    "### Задача №2: О мышах и людях"
   ]
  },
  {
   "cell_type": "markdown",
   "metadata": {},
   "source": [
    "<img src=\"../images/vagon.jpeg\" width=\"500\" align='left'>"
   ]
  },
  {
   "cell_type": "markdown",
   "metadata": {},
   "source": [
    "Для изучения аспектов процесса принятия моральных решений психологи уже много лет используют этические дилеммы, с помощью которых оценивают действия людей в гипотетических ситуациях. Один из самых известных примеров — это [проблема вагонетки,](https://ru.wikipedia.org/wiki/Проблема_вагонетки) в которой необходимо принять решение о том, стоит ли пожертвовать одним человеком для спасения пятерых.\n",
    "\n",
    "Бельгийские психологи воплотили дилемму в реальную жизнь. Участники эксперимента должны были выбрать, ударить током пять мышей или одну мышь. Эксперимент проходил следующим образом. Участника сажали перед двумя клетками, в одной из которых сидели пять мышей, а в другой — одна. Перед клетками стоял ноутбук с $20$-секундным таймером: участникам сообщили, что по истечении этих $20$ секунд в клетку с пятью мышами пустят ток, и мыши получат не смертельный, но очень болезненный удар. Пока время идет, участник может нажать на кнопку: в этом случае ток пустят по клетке с одной мышью. В исследовании использовали живых мышей. \n",
    "\n",
    "Удары тока были ненастоящими: сразу же после «удара» участников сопроводили в отдельную комнату, где разъяснили им, что мыши в полном порядке и током их не били (об этом заранее догадались только $12$ участников). В решении реальной проблемы вагонетки приняли участие $192$ человека, а еще $83$ решали такую же задачку, но гипотетическую (на бумаге). Все участники также прошли онлайн-опросы, в ходе которых учёные собрали о респондентах кучу дополнительной информации. \n",
    "\n",
    "В файле `mouse.csv` лежит информация о том, как прошёл эксперимент. Нас будут интересовать столбцы: \n",
    "\n",
    "* __STUDY:__ какую проблему вагонетки решал человек $1$, если на бумаге и $2$, если реальную\n",
    "* __AGE:__ возраст респондента \n",
    "* __GENDER:__ пол респондента\n",
    "* __DECISION:__ решение дилеммы ($1$ - жать на кнопу, $0$ - не жать) \n",
    "* __RT:__ время, которое респондент потратил, чтобы нажать на кнопку \n",
    "\n",
    "Подробное описание данных, сами данные и даже код на R, использованный при оценивании моделей, можно найти в [репозитории исследования.](https://osf.io/kvb99/) В статье авторы строили несколько логистических регрессий, чтобы очистить эффект от психологических особенностей респондентов. Про подобные приёмы очистки мы немного поговорим позже.  Также более подробно про исследование [можно почитать на N + 1.](https://nplus1.ru/news/2018/05/11/mice-trolley)"
   ]
  },
  {
   "cell_type": "code",
   "execution_count": 24,
   "metadata": {},
   "outputs": [],
   "source": [
    "df = pd.read_csv('../data/mouse.csv', sep='\\t')\n",
    "\n",
    "# отбираем нужные колонки\n",
    "df = df[['STUDY', 'AGE', 'GENDER', 'DECISION', 'RT']]\n",
    "\n",
    "# удаляем пропуски по колонке DECISION\n",
    "#     (то есть тех, кто не смог принять решение)\n",
    "df = df[~df.DECISION.isnull()]"
   ]
  },
  {
   "cell_type": "code",
   "execution_count": 25,
   "metadata": {},
   "outputs": [
    {
     "data": {
      "text/html": [
       "<div>\n",
       "<style scoped>\n",
       "    .dataframe tbody tr th:only-of-type {\n",
       "        vertical-align: middle;\n",
       "    }\n",
       "\n",
       "    .dataframe tbody tr th {\n",
       "        vertical-align: top;\n",
       "    }\n",
       "\n",
       "    .dataframe thead th {\n",
       "        text-align: right;\n",
       "    }\n",
       "</style>\n",
       "<table border=\"1\" class=\"dataframe\">\n",
       "  <thead>\n",
       "    <tr style=\"text-align: right;\">\n",
       "      <th></th>\n",
       "      <th>STUDY</th>\n",
       "      <th>AGE</th>\n",
       "      <th>GENDER</th>\n",
       "      <th>DECISION</th>\n",
       "      <th>RT</th>\n",
       "    </tr>\n",
       "  </thead>\n",
       "  <tbody>\n",
       "    <tr>\n",
       "      <th>3</th>\n",
       "      <td>1</td>\n",
       "      <td>21</td>\n",
       "      <td>0</td>\n",
       "      <td>1.0</td>\n",
       "      <td>9.212427</td>\n",
       "    </tr>\n",
       "    <tr>\n",
       "      <th>4</th>\n",
       "      <td>1</td>\n",
       "      <td>20</td>\n",
       "      <td>0</td>\n",
       "      <td>1.0</td>\n",
       "      <td>17.071711</td>\n",
       "    </tr>\n",
       "    <tr>\n",
       "      <th>5</th>\n",
       "      <td>1</td>\n",
       "      <td>21</td>\n",
       "      <td>1</td>\n",
       "      <td>1.0</td>\n",
       "      <td>9.827884</td>\n",
       "    </tr>\n",
       "    <tr>\n",
       "      <th>6</th>\n",
       "      <td>1</td>\n",
       "      <td>23</td>\n",
       "      <td>1</td>\n",
       "      <td>1.0</td>\n",
       "      <td>10.143030</td>\n",
       "    </tr>\n",
       "    <tr>\n",
       "      <th>7</th>\n",
       "      <td>1</td>\n",
       "      <td>20</td>\n",
       "      <td>1</td>\n",
       "      <td>1.0</td>\n",
       "      <td>7.447534</td>\n",
       "    </tr>\n",
       "  </tbody>\n",
       "</table>\n",
       "</div>"
      ],
      "text/plain": [
       "   STUDY  AGE  GENDER  DECISION         RT\n",
       "3      1   21       0       1.0   9.212427\n",
       "4      1   20       0       1.0  17.071711\n",
       "5      1   21       1       1.0   9.827884\n",
       "6      1   23       1       1.0  10.143030\n",
       "7      1   20       1       1.0   7.447534"
      ]
     },
     "execution_count": 25,
     "metadata": {},
     "output_type": "execute_result"
    }
   ],
   "source": [
    "df.head()"
   ]
  },
  {
   "cell_type": "markdown",
   "metadata": {},
   "source": [
    "### Гипотеза №1: Доля и нажатия на кнопку (доля + 2 выборки)\n",
    "\n",
    "Попытаемся ответить на тот же вопрос, что и исследователи. В какой из двух ситуаций респонденты чаще принимают решение нажать кнопку: в реальной или на бумаге?\n",
    "\n",
    "$$\n",
    "\\begin{aligned}\n",
    "&H_0: \\hspace{2mm} p_1 = p_2 \\hspace{2mm} \\text{(На бумаге и в реальности жмут на кнопку одинаково часто)} \\\\\n",
    "&H_1: \\hspace{2mm} p_1 > p_2  \\hspace{2mm} \\text{(На бумаге на кнопку жмут чаще)}\n",
    "\\end{aligned}\n",
    "$$"
   ]
  },
  {
   "cell_type": "code",
   "execution_count": 32,
   "metadata": {
    "scrolled": true
   },
   "outputs": [
    {
     "name": "stdout",
     "output_type": "stream",
     "text": [
      "Доля нажатий на бумаге: 0.8645833333333334\n",
      "Доля нажатий в реальных условиях: 0.7469879518072289\n"
     ]
    }
   ],
   "source": [
    "X_paper = df[df['STUDY'] == 1].DECISION.values\n",
    "X_real = df[df['STUDY'] == 2].DECISION.values\n",
    "\n",
    "\n",
    "p_paper = np.mean(X_paper)\n",
    "p_real = np.mean(X_real)\n",
    "\n",
    "print(f'Доля нажатий на бумаге: {p_paper}')\n",
    "print(f'Доля нажатий в реальных условиях: {p_real}')"
   ]
  },
  {
   "cell_type": "markdown",
   "metadata": {},
   "source": [
    "ТАК ДЕЛАТЬ НЕЛЬЗЯ:\n",
    "\n",
    "$$\n",
    "0.86 > 0.74 \\Rightarrow \\text{ на бумаге жмут чаще}\n",
    "$$"
   ]
  },
  {
   "cell_type": "markdown",
   "metadata": {},
   "source": [
    "$$\n",
    "\\begin{aligned}\n",
    "&H_0: \\hspace{2mm} p_1 - p_2 = 0 \\hspace{2mm} \\text{(На бумаге и в реальности жмут на кнопку одинаково часто)} \\\\\n",
    "&H_1: \\hspace{2mm} p_1 - p_2 > 0 \\hspace{2mm} \\text{(На бумаге на кнопку жмут чаще)}\n",
    "\\end{aligned}\n",
    "$$\n",
    "\n",
    "\n",
    "$$\n",
    "\\begin{aligned}\n",
    "&H_0: \\hspace{2mm} p_{diff} = 0 \\hspace{2mm} \\text{(На бумаге и в реальности жмут на кнопку одинаково часто)} \\\\\n",
    "&H_1: \\hspace{2mm} p_{diff} > 0 \\hspace{2mm} \\text{(На бумаге на кнопку жмут чаще)}\n",
    "\\end{aligned}\n",
    "$$"
   ]
  },
  {
   "cell_type": "code",
   "execution_count": 35,
   "metadata": {},
   "outputs": [],
   "source": [
    "alpha = 0.05"
   ]
  },
  {
   "cell_type": "code",
   "execution_count": 36,
   "metadata": {},
   "outputs": [
    {
     "name": "stdout",
     "output_type": "stream",
     "text": [
      "Выборочное z: 2.3780989461645565\n",
      "Критическое z: 1.6448536269514722\n",
      "\n",
      "Нулевая гипотеза отвергается\n"
     ]
    }
   ],
   "source": [
    "p_diff_0 = 0\n",
    "\n",
    "p_diff_sample = p_paper - p_real\n",
    "\n",
    "# для двух выборок\n",
    "P = (sum(X_paper) + sum(X_real)) / (len(X_paper) + len(X_real))\n",
    "\n",
    "z_sample = (p_diff_sample - p_diff_0) / np.sqrt(P * (1-P) * (1 / len(X_paper) + 1 / len(X_real)))\n",
    "print(f'Выборочное z: {z_sample}')\n",
    "\n",
    "\n",
    "norm_gen = sts.norm(0, 1)\n",
    "z_crit = norm_gen.ppf(1 - alpha)\n",
    "print(f'Критическое z: {z_crit}')\n",
    "\n",
    "# делаем вывод:\n",
    "print()\n",
    "if z_sample > z_crit:\n",
    "    print('Нулевая гипотеза отвергается')\n",
    "else:\n",
    "    print('Нулевая гипотеза не отвергается')"
   ]
  },
  {
   "cell_type": "code",
   "execution_count": 37,
   "metadata": {},
   "outputs": [
    {
     "data": {
      "text/plain": [
       "(2.3780989461645565, 0.008701077805778048)"
      ]
     },
     "execution_count": 37,
     "metadata": {},
     "output_type": "execute_result"
    }
   ],
   "source": [
    "proportions_ztest(\n",
    "    (sum(X_paper), sum(X_real)),              # кол-во единиц\n",
    "    (len(X_paper), len(X_real)),              # n \n",
    "    value=0,                                  # p_0\n",
    "    alternative='larger'                      # альтернативная гипотеза (larger / smaller / two-sided)\n",
    ")"
   ]
  },
  {
   "cell_type": "markdown",
   "metadata": {},
   "source": [
    "### Гипотеза №2. Среднее и кровожадность (среднее + 1 выборка)\n",
    "\n",
    "Кровожадные люди быстро берут на себя ответственность за удар мышки током. Будем считать, что кровожадные люди принимают решение менее, чем за пять секунд. Правда ли, что люди по своей природе кровожадные? \n",
    "\n",
    "$$\n",
    "\\begin{aligned}\n",
    "&H_0: \\hspace{2mm} \\mu \\le 5 \\hspace{2mm} \\text{(Люди кровожадны)} \\\\\n",
    "&H_1: \\hspace{2mm} \\mu > 5  \\hspace{2mm} \\text{(Люди не кровожадны)}\n",
    "\\end{aligned}\n",
    "$$"
   ]
  },
  {
   "cell_type": "code",
   "execution_count": 45,
   "metadata": {},
   "outputs": [
    {
     "name": "stdout",
     "output_type": "stream",
     "text": [
      "Выборочное среднее: 10.116762704819276\n",
      "Выборочное z: 13.014154424812848\n",
      "Критическое z: 1.6448536269514722\n",
      "\n",
      "Нулевая гипотеза отвергается\n"
     ]
    }
   ],
   "source": [
    "X = df[~df['RT'].isnull()].RT.values\n",
    "\n",
    "mu_hat = np.mean(X)\n",
    "print(f'Выборочное среднее: {mu_hat}')\n",
    "\n",
    "\n",
    "mu_0 = 5\n",
    "alpha = 0.05\n",
    "var_sample = np.var(X)\n",
    "n = len(X)\n",
    "\n",
    "z_sample = (mu_hat - mu_0) / np.sqrt(var_sample / n)\n",
    "print(f'Выборочное z: {z_sample}')\n",
    "\n",
    "\n",
    "norm_gen = sts.norm(0, 1)\n",
    "z_crit = norm_gen.ppf(1 - alpha)\n",
    "print(f'Критическое z: {z_crit}')\n",
    "\n",
    "\n",
    "# делаем вывод:\n",
    "print()\n",
    "if z_sample > z_crit:\n",
    "    print('Нулевая гипотеза отвергается')\n",
    "else:\n",
    "    print('Нулевая гипотеза не отвергается')"
   ]
  },
  {
   "cell_type": "markdown",
   "metadata": {},
   "source": [
    "## Делаем красиво"
   ]
  },
  {
   "cell_type": "code",
   "execution_count": 46,
   "metadata": {},
   "outputs": [],
   "source": [
    "def my_test(X, mu_0, alpha):\n",
    "    \n",
    "    mu_hat = np.mean(X)\n",
    "    var_hat = np.var(X)\n",
    "    n = len(X)\n",
    "    \n",
    "    z_sample = (mu_hat - mu_0) / np.sqrt(var_hat / n)\n",
    "    \n",
    "    norm_gen = sts.norm(0, 1)\n",
    "    z_crit = norm_gen.ppf(1 - alpha)\n",
    "    \n",
    "    if z_sample > z_crit:\n",
    "        print('Нулевая гипотеза отвергается')\n",
    "    else:\n",
    "        print('Нулевая гипотеза не отвергается')"
   ]
  },
  {
   "cell_type": "code",
   "execution_count": 50,
   "metadata": {},
   "outputs": [],
   "source": [
    "X = [1, 2, 4, 10, 24, 100]\n",
    "mu_0 = 5\n",
    "alpha = 0.01"
   ]
  },
  {
   "cell_type": "code",
   "execution_count": 51,
   "metadata": {},
   "outputs": [
    {
     "name": "stdout",
     "output_type": "stream",
     "text": [
      "Нулевая гипотеза не отвергается\n"
     ]
    }
   ],
   "source": [
    "my_test(\n",
    "    X = X,\n",
    "    mu_0 = mu_0,\n",
    "    alpha = alpha\n",
    ")"
   ]
  },
  {
   "cell_type": "code",
   "execution_count": null,
   "metadata": {},
   "outputs": [],
   "source": []
  }
 ],
 "metadata": {
  "kernelspec": {
   "display_name": "Python 3",
   "language": "python",
   "name": "python3"
  },
  "language_info": {
   "codemirror_mode": {
    "name": "ipython",
    "version": 3
   },
   "file_extension": ".py",
   "mimetype": "text/x-python",
   "name": "python",
   "nbconvert_exporter": "python",
   "pygments_lexer": "ipython3",
   "version": "3.8.5"
  },
  "varInspector": {
   "cols": {
    "lenName": 16,
    "lenType": 16,
    "lenVar": 40
   },
   "kernels_config": {
    "python": {
     "delete_cmd_postfix": "",
     "delete_cmd_prefix": "del ",
     "library": "var_list.py",
     "varRefreshCmd": "print(var_dic_list())"
    },
    "r": {
     "delete_cmd_postfix": ") ",
     "delete_cmd_prefix": "rm(",
     "library": "var_list.r",
     "varRefreshCmd": "cat(var_dic_list()) "
    }
   },
   "types_to_exclude": [
    "module",
    "function",
    "builtin_function_or_method",
    "instance",
    "_Feature"
   ],
   "window_display": false
  }
 },
 "nbformat": 4,
 "nbformat_minor": 5
}
