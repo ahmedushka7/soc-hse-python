{
 "cells": [
  {
   "cell_type": "code",
   "execution_count": 3,
   "id": "7ccaeade",
   "metadata": {},
   "outputs": [],
   "source": [
    "import numpy as np   \n",
    "import pandas as pd        \n",
    "from scipy import stats as sts \n",
    "\n",
    "import matplotlib.pyplot as plt\n",
    "import seaborn as sns\n",
    "\n",
    "%matplotlib inline \n",
    "\n",
    "from math import factorial as fact"
   ]
  },
  {
   "cell_type": "markdown",
   "id": "09895f69",
   "metadata": {},
   "source": [
    "## Задачи на проверку гипотез"
   ]
  },
  {
   "cell_type": "markdown",
   "id": "b5f44cc6",
   "metadata": {},
   "source": [
    "### Задача №1: Джеймс Бонд"
   ]
  },
  {
   "cell_type": "markdown",
   "id": "65fd12fa",
   "metadata": {},
   "source": [
    "<img src=\"../images/bond.png\" width=\"300\" align='left'>"
   ]
  },
  {
   "cell_type": "markdown",
   "id": "c1ecf069",
   "metadata": {},
   "source": [
    "Ваш друг Джеймс Бонд утверждает, что умеет отличать взболтанный мартини от смешанного. Вы решили проверить это. Чтобы сделать это, вы завязали глаза Бонду и дали попробовать ему мартини 10 раз. Пусть Бонд отгадал тип мартини 6 раз и не угадал 4. Давайте проверим гипотезу о том, что Бонд умеет отличать мартини, используя z-test.\n",
    "\n",
    "*Выборка:* $1, 0, 0, 1, 1, 0, 0, 1, 1, 1$"
   ]
  },
  {
   "cell_type": "markdown",
   "id": "93e3cde9",
   "metadata": {},
   "source": [
    "**Решение:**\n",
    "\n",
    "$$\n",
    "H_0: p = 0.5 \\\\ \n",
    "H_1: p != 0.5 \n",
    "$$\n",
    "\n",
    "\n",
    "$$\n",
    "z = \\frac{\\hat p - 0.5}{\\sqrt{\\frac{0.5 (1 - 0.5)}{10}}} \\sim_{n \\rightarrow \\infty} \\mathcal{N}(0, 1)\n",
    "$$"
   ]
  },
  {
   "cell_type": "code",
   "execution_count": 9,
   "id": "a8606920",
   "metadata": {},
   "outputs": [],
   "source": [
    "from math import sqrt"
   ]
  },
  {
   "cell_type": "code",
   "execution_count": 4,
   "id": "f3f88371",
   "metadata": {},
   "outputs": [],
   "source": [
    "X = np.array([1, 0, 0, 1, 1, 0, 0, 1, 1, 1])\n",
    "n = len(X)\n",
    "alpha = 0.05"
   ]
  },
  {
   "cell_type": "code",
   "execution_count": 27,
   "id": "608791fb",
   "metadata": {},
   "outputs": [
    {
     "name": "stdout",
     "output_type": "stream",
     "text": [
      "Наблюдаемое значение: 0.632\n",
      "Критическое значение: 1.96\n",
      "Не отвергаем гипотезу\n"
     ]
    }
   ],
   "source": [
    "p_hat = np.mean(X)\n",
    "p_h0 = 0.5\n",
    "\n",
    "denom = sqrt(p_h0 * (1 - p_h0) / n)\n",
    "\n",
    "z_obs = (p_hat - p_h0) / denom\n",
    "z_crit = sts.norm(0, 1).ppf(1 - alpha/2)\n",
    "\n",
    "print(f'Наблюдаемое значение: {z_obs:.3}', f'Критическое значение: {z_crit:.3}', sep='\\n')\n",
    "if abs(z_obs) > z_crit:\n",
    "    print('Отвергаем гипотезу')\n",
    "else:\n",
    "    print('Не отвергаем гипотезу')"
   ]
  },
  {
   "cell_type": "code",
   "execution_count": 34,
   "id": "f2bcdc53",
   "metadata": {},
   "outputs": [
    {
     "data": {
      "text/plain": [
       "0.5270892568655383"
      ]
     },
     "execution_count": 34,
     "metadata": {},
     "output_type": "execute_result"
    }
   ],
   "source": [
    "sts.norm(0, 1).cdf(-z_obs) * 2"
   ]
  },
  {
   "cell_type": "code",
   "execution_count": 28,
   "id": "39aab620",
   "metadata": {},
   "outputs": [],
   "source": [
    "from statsmodels.stats.proportion import proportions_ztest"
   ]
  },
  {
   "cell_type": "code",
   "execution_count": 37,
   "id": "14766bba",
   "metadata": {},
   "outputs": [
    {
     "data": {
      "text/plain": [
       "(0.6454972243679027, 0.5186050164287257)"
      ]
     },
     "execution_count": 37,
     "metadata": {},
     "output_type": "execute_result"
    }
   ],
   "source": [
    "# h_alt: p != 0.5\n",
    "proportions_ztest(sum(X), n, value=0.5, alternative='two-sided')"
   ]
  },
  {
   "cell_type": "code",
   "execution_count": 30,
   "id": "af5ff4c9",
   "metadata": {},
   "outputs": [
    {
     "data": {
      "text/plain": [
       "(0.6454972243679027, 0.25930250821436285)"
      ]
     },
     "execution_count": 30,
     "metadata": {},
     "output_type": "execute_result"
    }
   ],
   "source": [
    "# h_alt: p > 0.5\n",
    "proportions_ztest(sum(X), n, value=0.5, alternative='larger')  "
   ]
  },
  {
   "cell_type": "markdown",
   "id": "82efbf48",
   "metadata": {},
   "source": [
    "### Задача №2: О мышах и людях"
   ]
  },
  {
   "cell_type": "markdown",
   "id": "8e52b3af",
   "metadata": {},
   "source": [
    "<img src=\"../images/vagon.jpeg\" width=\"500\" align='left'>"
   ]
  },
  {
   "cell_type": "markdown",
   "id": "03285502",
   "metadata": {},
   "source": [
    "Для изучения аспектов процесса принятия моральных решений психологи уже много лет используют этические дилеммы, с помощью которых оценивают действия людей в гипотетических ситуациях. Один из самых известных примеров — это [проблема вагонетки,](https://ru.wikipedia.org/wiki/Проблема_вагонетки) в которой необходимо принять решение о том, стоит ли пожертвовать одним человеком для спасения пятерых.\n",
    "\n",
    "Бельгийские психологи воплотили дилемму в реальную жизнь. Участники эксперимента должны были выбрать, ударить током пять мышей или одну мышь. Эксперимент проходил следующим образом. Участника сажали перед двумя клетками, в одной из которых сидели пять мышей, а в другой — одна. Перед клетками стоял ноутбук с $20$-секундным таймером: участникам сообщили, что по истечении этих $20$ секунд в клетку с пятью мышами пустят ток, и мыши получат не смертельный, но очень болезненный удар. Пока время идет, участник может нажать на кнопку: в этом случае ток пустят по клетке с одной мышью. В исследовании использовали живых мышей. \n",
    "\n",
    "Удары тока были ненастоящими: сразу же после «удара» участников сопроводили в отдельную комнату, где разъяснили им, что мыши в полном порядке и током их не били (об этом заранее догадались только $12$ участников). В решении реальной проблемы вагонетки приняли участие $192$ человека, а еще $83$ решали такую же задачку, но гипотетическую (на бумаге). Все участники также прошли онлайн-опросы, в ходе которых учёные собрали о респондентах кучу дополнительной информации. \n",
    "\n",
    "В файле `mouse.csv` лежит информация о том, как прошёл эксперимент. Нас будут интересовать столбцы: \n",
    "\n",
    "* __STUDY:__ какую проблему вагонетки решал человек $1$, если на бумаге и $2$, если реальную\n",
    "* __AGE:__ возраст респондента \n",
    "* __GENDER:__ пол респондента\n",
    "* __DECISION:__ решение дилеммы ($1$ - жать на кнопу, $0$ - не жать) \n",
    "* __RT:__ время, которое респондент потратил, чтобы нажать на кнопку \n",
    "\n",
    "Подробное описание данных, сами данные и даже код на R, использованный при оценивании моделей, можно найти в [репозитории исследования.](https://osf.io/kvb99/) В статье авторы строили несколько логистических регрессий, чтобы очистить эффект от психологических особенностей респондентов. Про подобные приёмы очистки мы немного поговорим позже.  Также более подробно про исследование [можно почитать на N + 1.](https://nplus1.ru/news/2018/05/11/mice-trolley)"
   ]
  },
  {
   "cell_type": "code",
   "execution_count": 38,
   "id": "128eabc4",
   "metadata": {},
   "outputs": [],
   "source": [
    "df = pd.read_csv('../data/mouse.csv', sep='\\t')\n",
    "\n",
    "# отбираем нужные колонки\n",
    "df = df[['STUDY', 'AGE', 'GENDER', 'DECISION', 'RT']]\n",
    "\n",
    "# удаляем пропуски по колонке DECISION\n",
    "#     (то есть тех, кто не смог принять решение)\n",
    "df = df[~df.DECISION.isnull()]"
   ]
  },
  {
   "cell_type": "code",
   "execution_count": 39,
   "id": "b029513b",
   "metadata": {},
   "outputs": [
    {
     "data": {
      "text/html": [
       "<div>\n",
       "<style scoped>\n",
       "    .dataframe tbody tr th:only-of-type {\n",
       "        vertical-align: middle;\n",
       "    }\n",
       "\n",
       "    .dataframe tbody tr th {\n",
       "        vertical-align: top;\n",
       "    }\n",
       "\n",
       "    .dataframe thead th {\n",
       "        text-align: right;\n",
       "    }\n",
       "</style>\n",
       "<table border=\"1\" class=\"dataframe\">\n",
       "  <thead>\n",
       "    <tr style=\"text-align: right;\">\n",
       "      <th></th>\n",
       "      <th>STUDY</th>\n",
       "      <th>AGE</th>\n",
       "      <th>GENDER</th>\n",
       "      <th>DECISION</th>\n",
       "      <th>RT</th>\n",
       "    </tr>\n",
       "  </thead>\n",
       "  <tbody>\n",
       "    <tr>\n",
       "      <th>3</th>\n",
       "      <td>1</td>\n",
       "      <td>21</td>\n",
       "      <td>0</td>\n",
       "      <td>1.0</td>\n",
       "      <td>9.212427</td>\n",
       "    </tr>\n",
       "    <tr>\n",
       "      <th>4</th>\n",
       "      <td>1</td>\n",
       "      <td>20</td>\n",
       "      <td>0</td>\n",
       "      <td>1.0</td>\n",
       "      <td>17.071711</td>\n",
       "    </tr>\n",
       "    <tr>\n",
       "      <th>5</th>\n",
       "      <td>1</td>\n",
       "      <td>21</td>\n",
       "      <td>1</td>\n",
       "      <td>1.0</td>\n",
       "      <td>9.827884</td>\n",
       "    </tr>\n",
       "    <tr>\n",
       "      <th>6</th>\n",
       "      <td>1</td>\n",
       "      <td>23</td>\n",
       "      <td>1</td>\n",
       "      <td>1.0</td>\n",
       "      <td>10.143030</td>\n",
       "    </tr>\n",
       "    <tr>\n",
       "      <th>7</th>\n",
       "      <td>1</td>\n",
       "      <td>20</td>\n",
       "      <td>1</td>\n",
       "      <td>1.0</td>\n",
       "      <td>7.447534</td>\n",
       "    </tr>\n",
       "    <tr>\n",
       "      <th>...</th>\n",
       "      <td>...</td>\n",
       "      <td>...</td>\n",
       "      <td>...</td>\n",
       "      <td>...</td>\n",
       "      <td>...</td>\n",
       "    </tr>\n",
       "    <tr>\n",
       "      <th>286</th>\n",
       "      <td>2</td>\n",
       "      <td>20</td>\n",
       "      <td>1</td>\n",
       "      <td>1.0</td>\n",
       "      <td>NaN</td>\n",
       "    </tr>\n",
       "    <tr>\n",
       "      <th>287</th>\n",
       "      <td>2</td>\n",
       "      <td>21</td>\n",
       "      <td>1</td>\n",
       "      <td>1.0</td>\n",
       "      <td>NaN</td>\n",
       "    </tr>\n",
       "    <tr>\n",
       "      <th>288</th>\n",
       "      <td>2</td>\n",
       "      <td>19</td>\n",
       "      <td>0</td>\n",
       "      <td>0.0</td>\n",
       "      <td>NaN</td>\n",
       "    </tr>\n",
       "    <tr>\n",
       "      <th>289</th>\n",
       "      <td>2</td>\n",
       "      <td>21</td>\n",
       "      <td>0</td>\n",
       "      <td>1.0</td>\n",
       "      <td>NaN</td>\n",
       "    </tr>\n",
       "    <tr>\n",
       "      <th>290</th>\n",
       "      <td>2</td>\n",
       "      <td>19</td>\n",
       "      <td>0</td>\n",
       "      <td>1.0</td>\n",
       "      <td>NaN</td>\n",
       "    </tr>\n",
       "  </tbody>\n",
       "</table>\n",
       "<p>275 rows × 5 columns</p>\n",
       "</div>"
      ],
      "text/plain": [
       "     STUDY  AGE  GENDER  DECISION         RT\n",
       "3        1   21       0       1.0   9.212427\n",
       "4        1   20       0       1.0  17.071711\n",
       "5        1   21       1       1.0   9.827884\n",
       "6        1   23       1       1.0  10.143030\n",
       "7        1   20       1       1.0   7.447534\n",
       "..     ...  ...     ...       ...        ...\n",
       "286      2   20       1       1.0        NaN\n",
       "287      2   21       1       1.0        NaN\n",
       "288      2   19       0       0.0        NaN\n",
       "289      2   21       0       1.0        NaN\n",
       "290      2   19       0       1.0        NaN\n",
       "\n",
       "[275 rows x 5 columns]"
      ]
     },
     "execution_count": 39,
     "metadata": {},
     "output_type": "execute_result"
    }
   ],
   "source": [
    "df"
   ]
  },
  {
   "cell_type": "markdown",
   "id": "0dc6d964",
   "metadata": {},
   "source": [
    "### Гипотеза №1: Доля и нажатия на кнопку\n",
    "\n",
    "Попытаемся ответить на тот же вопрос, что и исследователи. В какой из двух ситуаций респонденты чаще принимают решение нажать кнопку: в реальной или на бумаге?\n",
    "\n",
    "$$\n",
    "\\begin{aligned}\n",
    "&H_0: \\hspace{2mm} p_1 = p_2 \\hspace{2mm} \\text{(На бумаге и в реальности жмут на кнопку одинаково часто)} \\\\\n",
    "&H_1: \\hspace{2mm} p_1 > p_2  \\hspace{2mm} \\text{(На бумаге на кнопку жмут чаще)}\n",
    "\\end{aligned}\n",
    "$$"
   ]
  },
  {
   "cell_type": "code",
   "execution_count": 45,
   "id": "ef5add90",
   "metadata": {},
   "outputs": [],
   "source": [
    "sample_real = df[df['STUDY'] == 1]['DECISION'].values\n",
    "sample_paper = df[df['STUDY'] == 2]['DECISION'].values"
   ]
  },
  {
   "cell_type": "code",
   "execution_count": 49,
   "id": "91b75d37",
   "metadata": {},
   "outputs": [
    {
     "name": "stdout",
     "output_type": "stream",
     "text": [
      "Доля нажатий кнопки на бумаге: 0.747\n",
      "Доля нажатий кнопки в реальности: 0.865\n"
     ]
    }
   ],
   "source": [
    "print(f'Доля нажатий кнопки на бумаге: {np.mean(sample_paper):.3}')\n",
    "print(f'Доля нажатий кнопки в реальности: {np.mean(sample_real):.3}')"
   ]
  },
  {
   "cell_type": "code",
   "execution_count": 50,
   "id": "633d0a5b",
   "metadata": {},
   "outputs": [
    {
     "data": {
      "text/plain": [
       "(-2.3780989461645565, 0.008701077805778048)"
      ]
     },
     "execution_count": 50,
     "metadata": {},
     "output_type": "execute_result"
    }
   ],
   "source": [
    "proportions_ztest(\n",
    "    (sum(sample_paper), sum(sample_real)),\n",
    "    (len(sample_paper), len(sample_real)),\n",
    "    value=0,\n",
    "    alternative='smaller',\n",
    ")"
   ]
  },
  {
   "cell_type": "markdown",
   "id": "ec6a9b9d",
   "metadata": {},
   "source": [
    "> __Вывод:__ гипотеза о том, что на кнопку жмут одинаково часто, отвергается. На бумаге на кнопку жмут чаще."
   ]
  },
  {
   "cell_type": "markdown",
   "id": "bf1740cf",
   "metadata": {},
   "source": [
    "### Гипотеза №2. Среднее и кровожадность\n",
    "\n",
    "Кровожадные люди быстро берут на себя ответственность за удар мышки током. Будем считать, что кровожадные люди принимают решение менее, чем за пять секунд. Правда ли, что люди по своей природе кровожадные? \n",
    "\n",
    "$$\n",
    "\\begin{aligned}\n",
    "&H_0: \\hspace{2mm} \\mu \\le 5 \\hspace{2mm} \\text{(Люди кровожадны)} \\\\\n",
    "&H_1: \\hspace{2mm} \\mu > 5  \\hspace{2mm} \\text{(Люди не кровожадны)}\n",
    "\\end{aligned}\n",
    "$$"
   ]
  },
  {
   "cell_type": "code",
   "execution_count": 64,
   "id": "5df12947",
   "metadata": {},
   "outputs": [
    {
     "name": "stdout",
     "output_type": "stream",
     "text": [
      "Среднее кол-во секунд раздумья: 10.117\n"
     ]
    }
   ],
   "source": [
    "X = df[~df['RT'].isnull()]['RT'].values\n",
    "n = len(X)\n",
    "\n",
    "rt_mean = np.mean(X)\n",
    "print(f'Среднее кол-во секунд раздумья: {rt_mean:.5}')"
   ]
  },
  {
   "cell_type": "code",
   "execution_count": 66,
   "id": "96a61447",
   "metadata": {},
   "outputs": [],
   "source": [
    "import matplotlib.pyplot as plt"
   ]
  },
  {
   "cell_type": "code",
   "execution_count": 72,
   "id": "d42658fb",
   "metadata": {},
   "outputs": [
    {
     "data": {
      "image/png": "[encoded data removed]",
      "text/plain": [
       "<Figure size 640x480 with 1 Axes>"
      ]
     },
     "metadata": {},
     "output_type": "display_data"
    }
   ],
   "source": [
    "plt.hist(X, bins=25);"
   ]
  },
  {
   "cell_type": "code",
   "execution_count": 74,
   "id": "c2de1f28",
   "metadata": {},
   "outputs": [],
   "source": [
    "alpha = 0.05"
   ]
  },
  {
   "cell_type": "code",
   "execution_count": 79,
   "id": "8dcf1de5",
   "metadata": {},
   "outputs": [
    {
     "data": {
      "text/plain": [
       "12.97489595097787"
      ]
     },
     "execution_count": 79,
     "metadata": {},
     "output_type": "execute_result"
    }
   ],
   "source": [
    "z_obs = (rt_mean - 5) / (np.std(X, ddof=1) / sqrt(n))\n",
    "z_obs"
   ]
  },
  {
   "cell_type": "code",
   "execution_count": 80,
   "id": "01aecc6d",
   "metadata": {},
   "outputs": [],
   "source": [
    "z_crit = sts.norm(0, 1).ppf(1 - alpha)"
   ]
  },
  {
   "cell_type": "code",
   "execution_count": 81,
   "id": "a7f611a2",
   "metadata": {
    "scrolled": true
   },
   "outputs": [
    {
     "data": {
      "text/plain": [
       "1.6448536269514722"
      ]
     },
     "execution_count": 81,
     "metadata": {},
     "output_type": "execute_result"
    }
   ],
   "source": [
    "z_crit"
   ]
  },
  {
   "cell_type": "code",
   "execution_count": 82,
   "id": "e20be152",
   "metadata": {},
   "outputs": [
    {
     "data": {
      "text/plain": [
       "Ttest_1sampResult(statistic=12.974895950977869, pvalue=2.7586881778173365e-27)"
      ]
     },
     "execution_count": 82,
     "metadata": {},
     "output_type": "execute_result"
    }
   ],
   "source": [
    "sts.ttest_1samp(X, 5, axis=0, alternative='greater')"
   ]
  },
  {
   "cell_type": "code",
   "execution_count": null,
   "id": "d5879c22",
   "metadata": {},
   "outputs": [],
   "source": []
  }
 ],
 "metadata": {
  "kernelspec": {
   "display_name": "Python 3 (ipykernel)",
   "language": "python",
   "name": "python3"
  },
  "language_info": {
   "codemirror_mode": {
    "name": "ipython",
    "version": 3
   },
   "file_extension": ".py",
   "mimetype": "text/x-python",
   "name": "python",
   "nbconvert_exporter": "python",
   "pygments_lexer": "ipython3",
   "version": "3.9.15"
  },
  "varInspector": {
   "cols": {
    "lenName": 16,
    "lenType": 16,
    "lenVar": 40
   },
   "kernels_config": {
    "python": {
     "delete_cmd_postfix": "",
     "delete_cmd_prefix": "del ",
     "library": "var_list.py",
     "varRefreshCmd": "print(var_dic_list())"
    },
    "r": {
     "delete_cmd_postfix": ") ",
     "delete_cmd_prefix": "rm(",
     "library": "var_list.r",
     "varRefreshCmd": "cat(var_dic_list()) "
    }
   },
   "types_to_exclude": [
    "module",
    "function",
    "builtin_function_or_method",
    "instance",
    "_Feature"
   ],
   "window_display": false
  }
 },
 "nbformat": 4,
 "nbformat_minor": 5
}
