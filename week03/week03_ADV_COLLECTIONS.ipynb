{
 "cells": [
  {
   "cell_type": "markdown",
   "id": "adjacent-earthquake",
   "metadata": {},
   "source": [
    "# Семинар №4: Продвинутые конструкции"
   ]
  },
  {
   "cell_type": "markdown",
   "id": "particular-provincial",
   "metadata": {},
   "source": [
    "<img src=\"images/oooh.jpg\" width=\"500\">"
   ]
  },
  {
   "cell_type": "markdown",
   "id": "registered-daisy",
   "metadata": {},
   "source": [
    "## 1. Изменяемые и неизменяемые объекты"
   ]
  },
  {
   "cell_type": "markdown",
   "id": "adaptive-contest",
   "metadata": {},
   "source": [
    "Как мы с вами до этого определелили: все в python является объектом. Объекты можно разделять по разным классификациям. Рассмотрим одну из них: так, все объекты делятся на **изменяемые** и **неизменяемые**. Давайте разберемся, что это значит.  \n",
    "\n",
    "\n",
    "Представим себе огромный комод с кучей ящиком в нем. Комод $-$ память вашего компьютера, а ящик $-$ ячейка памяти. \n",
    "\n",
    "<img src=\"images/comod.jpg\" width=\"400\">\n",
    "\n",
    "Когда вы инициализируете какой-либо объект в питоне, а затем сохраняете его в памяти (например, закидываете в переменную), то один из ящиков вашего чудо-комода открывается, и в него кладется ваш объект:\n",
    "\n",
    "<img src=\"images/comod_open.jpg\" width=\"400\">"
   ]
  },
  {
   "cell_type": "markdown",
   "id": "explicit-command",
   "metadata": {},
   "source": [
    "Теперь давайте попробуем создать и сохранить объект числа $5$ в переменную $a$:"
   ]
  },
  {
   "cell_type": "code",
   "execution_count": 1,
   "id": "apart-stocks",
   "metadata": {},
   "outputs": [],
   "source": [
    "a = 5"
   ]
  },
  {
   "cell_type": "markdown",
   "id": "tropical-privilege",
   "metadata": {},
   "source": [
    "На этом этапе один из ваших ящиков в комоде открылся, и в него сохранилось число $5$. Также стоит отметить, что все ящики пронумерованны, а номер ящика можно узнать с помощью функции `id()` "
   ]
  },
  {
   "cell_type": "code",
   "execution_count": 2,
   "id": "opened-cable",
   "metadata": {},
   "outputs": [
    {
     "data": {
      "text/plain": [
       "4499372464"
      ]
     },
     "execution_count": 2,
     "metadata": {},
     "output_type": "execute_result"
    }
   ],
   "source": [
    "id(a)"
   ]
  },
  {
   "cell_type": "markdown",
   "id": "guilty-commonwealth",
   "metadata": {},
   "source": [
    "Теперь давайте попробуем изменить нашу переменную $a$, добавив к ней $1$, а затем посмотрим снова на номер нашего ящика:"
   ]
  },
  {
   "cell_type": "code",
   "execution_count": 3,
   "id": "featured-plane",
   "metadata": {},
   "outputs": [
    {
     "data": {
      "text/plain": [
       "4499372496"
      ]
     },
     "execution_count": 3,
     "metadata": {},
     "output_type": "execute_result"
    }
   ],
   "source": [
    "a += 1\n",
    "\n",
    "id(a)"
   ]
  },
  {
   "cell_type": "markdown",
   "id": "traditional-plain",
   "metadata": {},
   "source": [
    "Как видим, номер нашего ящика _изменился_. Это означает, что после того как мы добавили к $5$ единицу, наш объект $a$ (то есть $5$) _не перезаписался_. Напротив, создался новый объект, для которого был выделен отдельный ящик. Так вот, когда такое происходит, объекты, которые вы пытаетесь изменить, называются **неизменяемыми**$!!$ То есть каждый раз у вас занимается отдельный ящик и, соответственно, больше ячеек памяти."
   ]
  },
  {
   "cell_type": "markdown",
   "id": "extraordinary-scoop",
   "metadata": {},
   "source": [
    "А вот массив является изменяемым объектом. Так, например, когда вы добавляете к массиву какой-то элемент, у вас не создается нового экземпляра объекта и ящика под него. Наоборот, открывается уже существующий ящик и в нем изменяется элемент на другой. "
   ]
  },
  {
   "cell_type": "code",
   "execution_count": 5,
   "id": "fabulous-singapore",
   "metadata": {},
   "outputs": [
    {
     "name": "stdout",
     "output_type": "stream",
     "text": [
      "До: 4534364928\n",
      "После: 4534364928\n"
     ]
    }
   ],
   "source": [
    "x = [1, 2, 3, 4]\n",
    "\n",
    "print(f'До: {id(x)}')\n",
    "\n",
    "x.append(100)\n",
    "\n",
    "print(f'После: {id(x)}')"
   ]
  },
  {
   "cell_type": "markdown",
   "id": "signed-joyce",
   "metadata": {},
   "source": [
    "**Шпаргалка:**\n",
    "\n",
    "* Простейшие (`int`, `float`, `str`, `bool`) - неизменяемые\n",
    "* Списки (`list`) - изменяемые\n",
    "* Кортежи (`tuple`) - неизменяемые\n",
    "* Множества (`set`) - изменяемые\n",
    "* \"Замороженные\" множества (`frozen set`) - неизменяемые\n",
    "* Словари (`dict`) - изменяемые\n",
    "\n",
    "Про последние типы данных мы с вами еще не говорили, самое время это исправить!"
   ]
  },
  {
   "cell_type": "markdown",
   "id": "greenhouse-local",
   "metadata": {},
   "source": [
    "## 2. Кортежи (`tuple`)"
   ]
  },
  {
   "cell_type": "markdown",
   "id": "broad-arena",
   "metadata": {},
   "source": [
    "**Кортежи** $-$ это неизменяемые списки. То есть это такие списки, в которых нельзя изменять, добавлять и удалять элементы. Поэтому если вы боитесь, что кто-то залезет в ваш список и что-то там поменяет, не сообщив вам, либо, что более страшно, какая-то функция случайно изменит ваш список, а вы бы этого не хотели, то смело пользуйтесь кортежами. Задаются они также как списки, только вместо квадратных скобок пишем круглые:"
   ]
  },
  {
   "cell_type": "code",
   "execution_count": 16,
   "id": "disciplinary-citizen",
   "metadata": {},
   "outputs": [
    {
     "data": {
      "text/plain": [
       "tuple"
      ]
     },
     "execution_count": 16,
     "metadata": {},
     "output_type": "execute_result"
    }
   ],
   "source": [
    "my_first_tuple = (1, -100, 'Привет')\n",
    "\n",
    "type(my_first_tuple)"
   ]
  },
  {
   "cell_type": "code",
   "execution_count": 15,
   "id": "elegant-aaron",
   "metadata": {},
   "outputs": [
    {
     "ename": "TypeError",
     "evalue": "'tuple' object does not support item assignment",
     "output_type": "error",
     "traceback": [
      "\u001b[0;31m---------------------------------------------------------------------------\u001b[0m",
      "\u001b[0;31mTypeError\u001b[0m                                 Traceback (most recent call last)",
      "\u001b[0;32m<ipython-input-15-212491e7e591>\u001b[0m in \u001b[0;36m<module>\u001b[0;34m\u001b[0m\n\u001b[1;32m      1\u001b[0m \u001b[0;31m# изменить не можем!\u001b[0m\u001b[0;34m\u001b[0m\u001b[0;34m\u001b[0m\u001b[0;34m\u001b[0m\u001b[0m\n\u001b[0;32m----> 2\u001b[0;31m \u001b[0mmy_first_tuple\u001b[0m\u001b[0;34m[\u001b[0m\u001b[0;36m0\u001b[0m\u001b[0;34m]\u001b[0m \u001b[0;34m=\u001b[0m \u001b[0;36m4\u001b[0m\u001b[0;34m\u001b[0m\u001b[0;34m\u001b[0m\u001b[0m\n\u001b[0m",
      "\u001b[0;31mTypeError\u001b[0m: 'tuple' object does not support item assignment"
     ]
    }
   ],
   "source": [
    "# изменить не можем!\n",
    "my_first_tuple[0] = 4"
   ]
  },
  {
   "cell_type": "code",
   "execution_count": 21,
   "id": "seeing-comment",
   "metadata": {},
   "outputs": [
    {
     "data": {
      "text/plain": [
       "(1,)"
      ]
     },
     "execution_count": 21,
     "metadata": {},
     "output_type": "execute_result"
    }
   ],
   "source": [
    "# если хотим создать один объект в кортеже, то нужна запятая. Иначе преобразует в int\n",
    "\n",
    "tup = (1, )\n",
    "tup"
   ]
  },
  {
   "cell_type": "markdown",
   "id": "written-duration",
   "metadata": {},
   "source": [
    "Иногда бывает полезным создавать списки из кортежей  \n",
    "\n",
    "**Пример:** У вас есть записная книжка с номерами телефонов (да кто вообще ей пользуется в 2021 году??). Так вот, в этой записной книжке у вас составлены некие пары: _Имя человека_ и _номер телефона_. Тогда такую конструкцию можно представить в виде списка из кортежей:"
   ]
  },
  {
   "cell_type": "code",
   "execution_count": 43,
   "id": "funny-success",
   "metadata": {},
   "outputs": [
    {
     "data": {
      "text/plain": [
       "[('мария', 9998884422),\n",
       " ('антон', 8561328945),\n",
       " ('егор', 9221784421),\n",
       " ('паша', 6688911231),\n",
       " ('иннокентий', 5411234423),\n",
       " ('спасательная', 911),\n",
       " ('андрей', 124125124)]"
      ]
     },
     "execution_count": 43,
     "metadata": {},
     "output_type": "execute_result"
    }
   ],
   "source": [
    "my_phonebook = [('мария', 9998884422), ('антон', 8561328945), \n",
    "                ('егор', 9221784421), ('паша', 6688911231), \n",
    "                ('иннокентий', 5411234423), ('спасательная', 911), \n",
    "                ('андрей', 124125124)]\n",
    "\n",
    "my_phonebook"
   ]
  },
  {
   "cell_type": "markdown",
   "id": "apart-solution",
   "metadata": {},
   "source": [
    "А еще такие пары можно собрать из двух списков с помощью функции `zip()`:"
   ]
  },
  {
   "cell_type": "code",
   "execution_count": 68,
   "id": "innocent-therapy",
   "metadata": {},
   "outputs": [
    {
     "data": {
      "text/plain": [
       "[('мария', 9998884422),\n",
       " ('антон', 8561328945),\n",
       " ('егор', 9221784421),\n",
       " ('паша', 6688911231),\n",
       " ('иннокентий', 5411234423),\n",
       " ('спасательная', 911),\n",
       " ('андрей', 124125124)]"
      ]
     },
     "execution_count": 68,
     "metadata": {},
     "output_type": "execute_result"
    }
   ],
   "source": [
    "names = ['мария', 'антон', 'егор', 'паша', 'иннокентий', 'спасательная', 'андрей']\n",
    "numbers = [9998884422, 8561328945, 9221784421, 6688911231, 5411234423, 911, 124125124]\n",
    "\n",
    "list(zip(names, numbers))"
   ]
  },
  {
   "cell_type": "markdown",
   "id": "julian-atlantic",
   "metadata": {},
   "source": [
    "### Линейный и бинарный поиск "
   ]
  },
  {
   "cell_type": "markdown",
   "id": "floating-castle",
   "metadata": {},
   "source": [
    "Теперь представим _задачу_: нужно найти номер конкретного человека. Как мы это сделаем? Самый простой способ - это проходить по нашему массиву и сравнивать каждый объект до совпадения. Можно представить себе, что каждое имя в вашей книжке записано на отдельной странице, и вы по очереди перелистываете страницы, смотрите глазами на имя человека и если это тот, который вам нужен, то останавливаетесь, а если нет, то продолжаете листать страницы.   \n",
    "\n",
    "Такой поиск называется **линейным**. Реализуем его:"
   ]
  },
  {
   "cell_type": "code",
   "execution_count": 44,
   "id": "preceding-falls",
   "metadata": {},
   "outputs": [
    {
     "name": "stdout",
     "output_type": "stream",
     "text": [
      "паша имеет номер 6688911231\n"
     ]
    }
   ],
   "source": [
    "search = 'паша'\n",
    "\n",
    "for item in my_phonebook:\n",
    "    if item[0] == search:\n",
    "        print(f'{search} имеет номер {item[1]}')"
   ]
  },
  {
   "cell_type": "markdown",
   "id": "suitable-grass",
   "metadata": {},
   "source": [
    "Однако в таком поиске есть один существенный недостаток: он долгий. Ведь если имя человека, которого вы ищете, находится на последней странице, то вам придется перелистать все страницы. Если в то же время ваша телефонная книга содержит около 1000 номеров, сделать это довольно затруднительно как и вам, так и компьютеру.  \n",
    "\n",
    "Для того что я сейчас описал есть даже специальный термин в программировании - сложность по времени в худшем случае, обозначается она в данном случае как $O(n)$ и читается как **о-большое от эн**.  \n",
    "\n",
    "$n$ - так как именно столько страниц вам нужно будет просмотреть, если имя находится на последней странице, а у книги всего $n$ страниц  \n",
    "\n",
    "\n",
    "Чтобы узнать о сложностях чуть больше, можно почитать отдельную тетрадку:"
   ]
  },
  {
   "cell_type": "markdown",
   "id": "addressed-robin",
   "metadata": {},
   "source": [
    "**Однако задачу поиска можно _упростить_:**  \n",
    "\n",
    "Давайте представим, что наша записная книжка отсортирована в алфавитном порядке имен:"
   ]
  },
  {
   "cell_type": "code",
   "execution_count": 45,
   "id": "creative-nudist",
   "metadata": {},
   "outputs": [
    {
     "data": {
      "text/plain": [
       "[('андрей', 124125124),\n",
       " ('антон', 8561328945),\n",
       " ('егор', 9221784421),\n",
       " ('иннокентий', 5411234423),\n",
       " ('мария', 9998884422),\n",
       " ('паша', 6688911231),\n",
       " ('спасательная', 911)]"
      ]
     },
     "execution_count": 45,
     "metadata": {},
     "output_type": "execute_result"
    }
   ],
   "source": [
    "phonebook_sorted = sorted(my_phonebook, key=lambda w: w[0]) # сортируем по первому ключу\n",
    "\n",
    "phonebook_sorted"
   ]
  },
  {
   "cell_type": "markdown",
   "id": "adequate-trade",
   "metadata": {},
   "source": [
    "Теперь мы можем открыть серединную страницу нашей книги и посмотреть, какое имя записано на ней. В данном примере этим именем будет Иннокентий. Затем мы с вами знаем, что буква \"П\" (в слове Паша) идет после буквы \"И\", поэтому нам нужно взять только те страницы нашей книги, которые идут после серединной. Теперь снова откроем середину в этом числе страниц. Попадем на какое-то имя, посмотрим на его букву и проделаем все тоже самое до тех пор, пока не окажемся на имени Паша.  \n",
    "\n",
    "Такой поиск называется **бинарным**, и он очень сильно ускоряет работу. Ниже представлен входной размер данных и сколько по времени мы будем тратить, если будем проходить бинарным и линейным поиском:  \n",
    "\n",
    "Кол-во элементов | Линейный поиск | Бинарный поиск | \n",
    "----| :-------------:|:-------------:| \n",
    "100| 100 мс | 7 мс | \n",
    "10000| 10 сек     | 14 мс      |  \n",
    "1000000000| 11 дней | 32 мс    | "
   ]
  },
  {
   "cell_type": "markdown",
   "id": "hawaiian-level",
   "metadata": {},
   "source": [
    "Видим, что **скорость роста** у бинарного поиска совершенно другая. Связано это с тем, что скорость описывается другой функцией - логарифмом, поэтому сложность в худшем случае для такого алгоритма - это $O(\\log n)$. Подумайте почему дело тут именно в логарифме, а также попробуйте реализовать код алгоритма в ячейке ниже:  \n",
    "\n",
    "Сложность алгоритма, потому что:  \n",
    "\n",
    "$$\n",
    "\\frac{n}{2^k} = 1\n",
    "$$\n",
    "\n",
    "$$\n",
    "k = \\log n\n",
    "$$"
   ]
  },
  {
   "cell_type": "code",
   "execution_count": 37,
   "id": "removable-yellow",
   "metadata": {},
   "outputs": [
    {
     "data": {
      "text/plain": [
       "('паша', 6688911231)"
      ]
     },
     "execution_count": 37,
     "metadata": {},
     "output_type": "execute_result"
    }
   ],
   "source": [
    "# ваш код\n",
    "\n",
    "def binary_search(lst, search):\n",
    "    low = 0\n",
    "    high = len(lst) - 1\n",
    "    \n",
    "    while low <= high:\n",
    "        mid = (low + high) // 2\n",
    "        guess = lst[mid]\n",
    "        \n",
    "        if guess[0] == search:\n",
    "            return mid\n",
    "        elif guess[0] > search:\n",
    "            high = mid - 1\n",
    "        else:\n",
    "            low = mid + 1\n",
    "    return 'Такого имени нет'  \n",
    "\n",
    "phonebook_sorted[binary_search(phonebook_sorted, 'паша')]"
   ]
  },
  {
   "cell_type": "markdown",
   "id": "foreign-democracy",
   "metadata": {},
   "source": [
    "Больше алгоритмов простым языком можно найти в книге \"Грокаем алгоритмы\""
   ]
  },
  {
   "cell_type": "markdown",
   "id": "organized-alcohol",
   "metadata": {},
   "source": [
    "## 3. Хэш-таблицы"
   ]
  },
  {
   "cell_type": "markdown",
   "id": "fitted-choice",
   "metadata": {},
   "source": [
    "Однако на бинарном поиске упрощение не заканчивается. Оказывается, можно _моментально_ (то есть за константное время $O(1)$) получать ответ. Однако для такого записной книжкой ограничиться не получится, теперь нам нужен специальный помощник Алиса, который будет отвечать, на какой странице в нашей книге находится тот или иной человек. Такую \"Алису\" можно реализовать на питоне с помощью **хэш-таблицы**:  "
   ]
  },
  {
   "cell_type": "markdown",
   "id": "acting-heading",
   "metadata": {},
   "source": [
    "Хэш-таблица задается **хэш-функцией**, то есть правилом, которое сопоставляет каждый элемент входных данных натуральному числу. "
   ]
  },
  {
   "cell_type": "markdown",
   "id": "detailed-retreat",
   "metadata": {},
   "source": [
    "Например, в качестве простейшей хэш-функции мы можем взять функцию, возвращающую номер первой буквы слова в алфавите:"
   ]
  },
  {
   "cell_type": "code",
   "execution_count": 38,
   "id": "fabulous-iraqi",
   "metadata": {},
   "outputs": [
    {
     "data": {
      "text/plain": [
       "16"
      ]
     },
     "execution_count": 38,
     "metadata": {},
     "output_type": "execute_result"
    }
   ],
   "source": [
    "def simple_hash(x):\n",
    "    alph = 'абвгдеёжзийклмнопрстуфхцчшщъыьэюя'\n",
    "    return alph.index(x[0])\n",
    "\n",
    "simple_hash('паша')"
   ]
  },
  {
   "cell_type": "markdown",
   "id": "imported-branch",
   "metadata": {},
   "source": [
    "Давайте _захешируем_ теперь каждое наше имя:"
   ]
  },
  {
   "cell_type": "code",
   "execution_count": 42,
   "id": "owned-stage",
   "metadata": {},
   "outputs": [
    {
     "data": {
      "text/plain": [
       "[0, 0, 0, 0, 0, 0, 0, 0, 0, 0]"
      ]
     },
     "execution_count": 42,
     "metadata": {},
     "output_type": "execute_result"
    }
   ],
   "source": [
    "# для этого завели массив под каждую букву (размера 33)\n",
    "x = [0] * 33\n",
    "x[:10]"
   ]
  },
  {
   "cell_type": "code",
   "execution_count": 47,
   "id": "central-terrorist",
   "metadata": {},
   "outputs": [
    {
     "data": {
      "text/plain": [
       "[124125124, 0, 0, 0, 0, 9221784421, 0, 0, 0, 5411234423]"
      ]
     },
     "execution_count": 47,
     "metadata": {},
     "output_type": "execute_result"
    }
   ],
   "source": [
    "# а теперь идем по всем именам и кладем их на соответствующее место в массиве\n",
    "for name, number in my_phonebook:\n",
    "    x[simple_hash(name)] = number\n",
    "    \n",
    "x[:10]"
   ]
  },
  {
   "cell_type": "markdown",
   "id": "restricted-investigator",
   "metadata": {},
   "source": [
    "Теперь если нам нужно найти номер по имени, то мы для начала ищем хэш данного имени с помощью функции `simple_hash()`, получаем наш хэш, а затем по нему итерируемся в массиве $x$:"
   ]
  },
  {
   "cell_type": "code",
   "execution_count": 48,
   "id": "invalid-vitamin",
   "metadata": {},
   "outputs": [
    {
     "data": {
      "text/plain": [
       "16"
      ]
     },
     "execution_count": 48,
     "metadata": {},
     "output_type": "execute_result"
    }
   ],
   "source": [
    "idx = simple_hash('паша')\n",
    "idx"
   ]
  },
  {
   "cell_type": "code",
   "execution_count": 49,
   "id": "brutal-quantum",
   "metadata": {},
   "outputs": [
    {
     "data": {
      "text/plain": [
       "6688911231"
      ]
     },
     "execution_count": 49,
     "metadata": {},
     "output_type": "execute_result"
    }
   ],
   "source": [
    "x[idx]"
   ]
  },
  {
   "cell_type": "markdown",
   "id": "smart-individual",
   "metadata": {},
   "source": [
    "**Замечание:** В данном случае мы взяли слишком плохую хэш-функцию, так как для имен, начинающихся с одной и той же буквы, мы сопоставляем один и тот же хэш, поэтому если мы с вами внимательно посмотрим на $х$, то на 1ом месте в этом массиве увидим номер андрея, так как он шел после антона. Хэш для номера антона в данном случае _перезаписался_. Такая ситуация называется **коллизией**. Нужно писать такие хэш-функции, чтобы коллизии возникали очень очень редко. А если они все таки возникают, то обычно на позиции хэша создается массив, содержащий несколько объектов сразу. То есть что-то такое:"
   ]
  },
  {
   "cell_type": "code",
   "execution_count": 51,
   "id": "variable-auditor",
   "metadata": {},
   "outputs": [
    {
     "data": {
      "text/plain": [
       "[[8561328945, 124125124], 0, 0, 0, 0, 9221784421, 0, 0, 0, 5411234423]"
      ]
     },
     "execution_count": 51,
     "metadata": {},
     "output_type": "execute_result"
    }
   ],
   "source": [
    "x[0] = [8561328945, 124125124]\n",
    "\n",
    "x[:10]"
   ]
  },
  {
   "cell_type": "markdown",
   "id": "awful-landing",
   "metadata": {},
   "source": [
    "### Реализации хэш-таблиц в python:"
   ]
  },
  {
   "cell_type": "markdown",
   "id": "concerned-terror",
   "metadata": {},
   "source": [
    "В питоне хэш-функции написаны уже за вас. Вам достаточно всего лишь воспользоваться конструкциями, которые реализуют их в отдельном объекте. Такие конструкции называются **словарями** и **множествами**:"
   ]
  },
  {
   "cell_type": "markdown",
   "id": "nutritional-feeding",
   "metadata": {},
   "source": [
    "### Множества"
   ]
  },
  {
   "cell_type": "markdown",
   "id": "tired-qualification",
   "metadata": {},
   "source": [
    "**Множество** $-$ это объект, в котором все значения уникальны, то есть нет повторяющихся. Также в множестве не задан порядок на объектами, а сам объект множества является хэш-таблицей.  \n",
    "\n",
    "Множество можно создать как самому, так и из массива:"
   ]
  },
  {
   "cell_type": "code",
   "execution_count": 53,
   "id": "unauthorized-genius",
   "metadata": {},
   "outputs": [
    {
     "data": {
      "text/plain": [
       "{1, 2, 3, 4, 5, 6}"
      ]
     },
     "execution_count": 53,
     "metadata": {},
     "output_type": "execute_result"
    }
   ],
   "source": [
    "set_a = {1, 2, 3, 4, 4, 4, 5, 6}\n",
    "set_a"
   ]
  },
  {
   "cell_type": "code",
   "execution_count": 54,
   "id": "extended-paraguay",
   "metadata": {},
   "outputs": [
    {
     "data": {
      "text/plain": [
       "[1, 2, 3, 10, 10, 3]"
      ]
     },
     "execution_count": 54,
     "metadata": {},
     "output_type": "execute_result"
    }
   ],
   "source": [
    "list_b = [1, 2, 3, 10, 10, 3]\n",
    "list_b"
   ]
  },
  {
   "cell_type": "code",
   "execution_count": 55,
   "id": "satellite-communist",
   "metadata": {},
   "outputs": [
    {
     "data": {
      "text/plain": [
       "{1, 2, 3, 10}"
      ]
     },
     "execution_count": 55,
     "metadata": {},
     "output_type": "execute_result"
    }
   ],
   "source": [
    "set_b = set(list_b)\n",
    "set_b"
   ]
  },
  {
   "cell_type": "markdown",
   "id": "hindu-masters",
   "metadata": {},
   "source": [
    "Над множествами определены следующие **операции**:"
   ]
  },
  {
   "cell_type": "code",
   "execution_count": 61,
   "id": "allied-fundamental",
   "metadata": {},
   "outputs": [
    {
     "name": "stdout",
     "output_type": "stream",
     "text": [
      "True\n",
      "\n",
      "False\n",
      "\n",
      "True\n",
      "\n",
      "{1, 2, 3, 4, 5, 6}\n",
      "\n",
      "{3, 4}\n",
      "\n",
      "{1, 2}\n",
      "\n",
      "{1, 2, 5, 6}\n"
     ]
    }
   ],
   "source": [
    "a = {1, 2, 3, 4}\n",
    "b = {3, 4, 5, 6}\n",
    "c = {2, 3}\n",
    "\n",
    "print(c <= a) # проверка на подмножество (с подномжество a)\n",
    "print()\n",
    "print(c <= b) # не подмножество, т.к. в b нет 2 \n",
    "print()\n",
    "print(a >= c) # а надмножество с\n",
    "print()\n",
    "print(a | b) # объединение\n",
    "print()\n",
    "print(a & b) # пересечение\n",
    "print()\n",
    "print(a - b) # разность множеств (все что в a, кроме b)\n",
    "print()\n",
    "print(a ^ b) # симметрическая разность множеств (объединение без пересечения)"
   ]
  },
  {
   "cell_type": "markdown",
   "id": "chubby-bedroom",
   "metadata": {},
   "source": [
    "Множество - это изменяемый объект, поэтому в него мы, например, можем добавить элемент:"
   ]
  },
  {
   "cell_type": "code",
   "execution_count": 58,
   "id": "absolute-invitation",
   "metadata": {},
   "outputs": [
    {
     "data": {
      "text/plain": [
       "{1, 2, 3, 4, 100}"
      ]
     },
     "execution_count": 58,
     "metadata": {},
     "output_type": "execute_result"
    }
   ],
   "source": [
    "a.add(100)\n",
    "\n",
    "a"
   ]
  },
  {
   "cell_type": "markdown",
   "id": "married-wales",
   "metadata": {},
   "source": [
    "Однако в питон есть и специальная конструкция `frozenset`, которая делает множество неизменяемым:"
   ]
  },
  {
   "cell_type": "code",
   "execution_count": 1,
   "id": "rational-politics",
   "metadata": {},
   "outputs": [
    {
     "ename": "AttributeError",
     "evalue": "'frozenset' object has no attribute 'add'",
     "output_type": "error",
     "traceback": [
      "\u001b[0;31m---------------------------------------------------------------------------\u001b[0m",
      "\u001b[0;31mAttributeError\u001b[0m                            Traceback (most recent call last)",
      "\u001b[0;32m<ipython-input-1-f0534e01ace5>\u001b[0m in \u001b[0;36m<module>\u001b[0;34m\u001b[0m\n\u001b[1;32m      1\u001b[0m \u001b[0mb\u001b[0m \u001b[0;34m=\u001b[0m \u001b[0mfrozenset\u001b[0m\u001b[0;34m(\u001b[0m\u001b[0;34m[\u001b[0m\u001b[0;36m1\u001b[0m\u001b[0;34m,\u001b[0m \u001b[0;36m2\u001b[0m\u001b[0;34m,\u001b[0m \u001b[0;36m3\u001b[0m\u001b[0;34m,\u001b[0m \u001b[0;36m4\u001b[0m\u001b[0;34m]\u001b[0m\u001b[0;34m)\u001b[0m\u001b[0;34m\u001b[0m\u001b[0;34m\u001b[0m\u001b[0m\n\u001b[1;32m      2\u001b[0m \u001b[0;34m\u001b[0m\u001b[0m\n\u001b[0;32m----> 3\u001b[0;31m \u001b[0mb\u001b[0m\u001b[0;34m.\u001b[0m\u001b[0madd\u001b[0m\u001b[0;34m(\u001b[0m\u001b[0;36m100\u001b[0m\u001b[0;34m)\u001b[0m\u001b[0;34m\u001b[0m\u001b[0;34m\u001b[0m\u001b[0m\n\u001b[0m",
      "\u001b[0;31mAttributeError\u001b[0m: 'frozenset' object has no attribute 'add'"
     ]
    }
   ],
   "source": [
    "b = frozenset([1, 2, 3, 4])\n",
    "\n",
    "b.add(100)"
   ]
  },
  {
   "cell_type": "markdown",
   "id": "statistical-issue",
   "metadata": {},
   "source": [
    "**Очень простая задача на понимание:** Дан список чисел, который может содержать до $100000$ чисел. Определите, сколько в нем встречается различных чисел."
   ]
  },
  {
   "cell_type": "code",
   "execution_count": 62,
   "id": "chubby-lounge",
   "metadata": {},
   "outputs": [
    {
     "data": {
      "text/plain": [
       "7"
      ]
     },
     "execution_count": 62,
     "metadata": {},
     "output_type": "execute_result"
    }
   ],
   "source": [
    "# ваш код\n",
    "x = [1, 20, 3, 44, 5, 1, 100, 100, 100, 2, 2]\n",
    "\n",
    "len(set(x))"
   ]
  },
  {
   "cell_type": "markdown",
   "id": "exempt-breakdown",
   "metadata": {},
   "source": [
    "### Словари"
   ]
  },
  {
   "cell_type": "markdown",
   "id": "responsible-indication",
   "metadata": {},
   "source": [
    "**Словари** $-$ это некая конструкция (отображение), которая каждому _уникальному_ ключу задает свое значение. Словари тоже являются хэш-таблицами.  \n",
    "\n",
    "Например, словарем можно представить таблицу с оценками студентов за курс по питону:"
   ]
  },
  {
   "cell_type": "code",
   "execution_count": 5,
   "id": "racial-quarter",
   "metadata": {},
   "outputs": [
    {
     "data": {
      "text/plain": [
       "{'Маша': 10, 'Паша': 5, 'Коля': 7, 'Тейлор': 12}"
      ]
     },
     "execution_count": 5,
     "metadata": {},
     "output_type": "execute_result"
    }
   ],
   "source": [
    "d = {'Маша': 10, 'Паша': 5, 'Коля': 7, 'Тейлор': 12}\n",
    "\n",
    "d"
   ]
  },
  {
   "cell_type": "markdown",
   "id": "armed-retro",
   "metadata": {},
   "source": [
    "Здесь **ключами** являются студенты, а **значениями** $-$ их оценки"
   ]
  },
  {
   "cell_type": "markdown",
   "id": "challenging-compilation",
   "metadata": {},
   "source": [
    "**Важно:** Ключами в словаре могут быть только неизменяемые объекты"
   ]
  },
  {
   "cell_type": "code",
   "execution_count": 2,
   "id": "posted-skating",
   "metadata": {},
   "outputs": [
    {
     "data": {
      "text/plain": [
       "{('Маша', 10): 'Оценка отлично',\n",
       " ('Паша', 5): 'Оценка удовлетворительно',\n",
       " ('Коля', 7): 'Оценка хорошо',\n",
       " ('Тейлор', 12): 'Оценка гений'}"
      ]
     },
     "execution_count": 2,
     "metadata": {},
     "output_type": "execute_result"
    }
   ],
   "source": [
    "# можно взять кортеж или строку (как мы делали до этого)\n",
    "\n",
    "d2 = {('Маша', 10): 'Оценка отлично', ('Паша', 5): 'Оценка удовлетворительно', \n",
    "      ('Коля', 7): 'Оценка хорошо', ('Тейлор', 12): 'Оценка гений'}\n",
    "\n",
    "d2"
   ]
  },
  {
   "cell_type": "code",
   "execution_count": 1,
   "id": "passive-coach",
   "metadata": {},
   "outputs": [
    {
     "ename": "TypeError",
     "evalue": "unhashable type: 'list'",
     "output_type": "error",
     "traceback": [
      "\u001b[0;31m---------------------------------------------------------------------------\u001b[0m",
      "\u001b[0;31mTypeError\u001b[0m                                 Traceback (most recent call last)",
      "\u001b[0;32m<ipython-input-1-90522a9e0c72>\u001b[0m in \u001b[0;36m<module>\u001b[0;34m\u001b[0m\n\u001b[1;32m      1\u001b[0m \u001b[0;31m# а вот список не может быть\u001b[0m\u001b[0;34m\u001b[0m\u001b[0;34m\u001b[0m\u001b[0;34m\u001b[0m\u001b[0m\n\u001b[0;32m----> 2\u001b[0;31m \u001b[0md2\u001b[0m \u001b[0;34m=\u001b[0m \u001b[0;34m{\u001b[0m\u001b[0;34m[\u001b[0m\u001b[0;34m'Маша'\u001b[0m\u001b[0;34m,\u001b[0m \u001b[0;36m10\u001b[0m\u001b[0;34m]\u001b[0m\u001b[0;34m:\u001b[0m \u001b[0;34m'Оценка отлично'\u001b[0m\u001b[0;34m}\u001b[0m\u001b[0;34m\u001b[0m\u001b[0;34m\u001b[0m\u001b[0m\n\u001b[0m",
      "\u001b[0;31mTypeError\u001b[0m: unhashable type: 'list'"
     ]
    }
   ],
   "source": [
    "# а вот список не может быть\n",
    "d2 = {['Маша', 10]: 'Оценка отлично'}"
   ]
  },
  {
   "cell_type": "markdown",
   "id": "reliable-arnold",
   "metadata": {},
   "source": [
    "Что можно делать со словарями:"
   ]
  },
  {
   "cell_type": "code",
   "execution_count": 80,
   "id": "retired-underground",
   "metadata": {},
   "outputs": [
    {
     "data": {
      "text/plain": [
       "True"
      ]
     },
     "execution_count": 80,
     "metadata": {},
     "output_type": "execute_result"
    }
   ],
   "source": [
    "'Маша' in d  # проверять, есть ли ключ"
   ]
  },
  {
   "cell_type": "code",
   "execution_count": 81,
   "id": "robust-choice",
   "metadata": {},
   "outputs": [
    {
     "data": {
      "text/plain": [
       "{'Маша': 10, 'Паша': 5, 'Коля': 7, 'Тейлор': 12, 'Андрей': 6}"
      ]
     },
     "execution_count": 81,
     "metadata": {},
     "output_type": "execute_result"
    }
   ],
   "source": [
    "d['Андрей'] = 6 # добавлять новую пару ключ-значение\n",
    "d"
   ]
  },
  {
   "cell_type": "code",
   "execution_count": 23,
   "id": "existing-wages",
   "metadata": {},
   "outputs": [
    {
     "data": {
      "text/plain": [
       "{'Маша': 9, 'Паша': 5, 'Коля': 7, 'Тейлор': 12}"
      ]
     },
     "execution_count": 23,
     "metadata": {},
     "output_type": "execute_result"
    }
   ],
   "source": [
    "d['Маша'] = 9 # заменять по ключу. Помним, что ключи все уникальны, то есть множество ключей - это множество\n",
    "d"
   ]
  },
  {
   "cell_type": "markdown",
   "id": "future-ebony",
   "metadata": {},
   "source": [
    "Если хотим добавить ключ и значение, но боимся что такой ключ уже есть и значение заменится, можно использовать `setdefault`"
   ]
  },
  {
   "cell_type": "code",
   "execution_count": 24,
   "id": "successful-heather",
   "metadata": {},
   "outputs": [
    {
     "data": {
      "text/plain": [
       "{'Маша': 9, 'Паша': 5, 'Коля': 7, 'Тейлор': 12}"
      ]
     },
     "execution_count": 24,
     "metadata": {},
     "output_type": "execute_result"
    }
   ],
   "source": [
    "d.setdefault('Маша', '100')\n",
    "d"
   ]
  },
  {
   "cell_type": "code",
   "execution_count": 16,
   "id": "advised-madonna",
   "metadata": {},
   "outputs": [
    {
     "data": {
      "text/plain": [
       "{'a': 1, 'b': 2, 'c': 3, 'd': 4}"
      ]
     },
     "execution_count": 16,
     "metadata": {},
     "output_type": "execute_result"
    }
   ],
   "source": [
    "# объединять словари через kwargs\n",
    "c2 = {'c': 3, 'd': 4}\n",
    "\n",
    "c1 = {'a': 1, 'b': 2, **c2}\n",
    "c1"
   ]
  },
  {
   "cell_type": "markdown",
   "id": "dress-oriental",
   "metadata": {},
   "source": [
    "views методы:"
   ]
  },
  {
   "cell_type": "code",
   "execution_count": 84,
   "id": "spare-falls",
   "metadata": {},
   "outputs": [
    {
     "name": "stdout",
     "output_type": "stream",
     "text": [
      "dict_values([9, 5, 7, 12, 6])\n",
      "\n",
      "dict_keys(['Маша', 'Паша', 'Коля', 'Тейлор', 'Андрей'])\n",
      "\n",
      "dict_items([('Маша', 9), ('Паша', 5), ('Коля', 7), ('Тейлор', 12), ('Андрей', 6)])\n"
     ]
    }
   ],
   "source": [
    "print(d.values()) # получаем значения\n",
    "print()\n",
    "print(d.keys()) # получаем ключи\n",
    "print()\n",
    "print(d.items()) # получаем пары"
   ]
  },
  {
   "cell_type": "markdown",
   "id": "dental-pioneer",
   "metadata": {},
   "source": [
    "Еще методы:"
   ]
  },
  {
   "cell_type": "code",
   "execution_count": 14,
   "id": "reduced-secretary",
   "metadata": {},
   "outputs": [
    {
     "data": {
      "text/plain": [
       "'404'"
      ]
     },
     "execution_count": 14,
     "metadata": {},
     "output_type": "execute_result"
    }
   ],
   "source": [
    "d.get('Дарт Вейдер', '404') # если такого ключа нет, то выдавай 404\n",
    "\n",
    "# сам список при этом не меняется"
   ]
  },
  {
   "cell_type": "code",
   "execution_count": 15,
   "id": "demographic-father",
   "metadata": {},
   "outputs": [
    {
     "data": {
      "text/plain": [
       "'404'"
      ]
     },
     "execution_count": 15,
     "metadata": {},
     "output_type": "execute_result"
    }
   ],
   "source": [
    "d.pop('Дарт Вейдер', '404') # тоже самое, что с get, но только с удалением"
   ]
  },
  {
   "cell_type": "markdown",
   "id": "biological-adapter",
   "metadata": {},
   "source": [
    "Переписываем долгий if через словари:"
   ]
  },
  {
   "cell_type": "code",
   "execution_count": 18,
   "id": "sitting-forum",
   "metadata": {},
   "outputs": [
    {
     "name": "stdout",
     "output_type": "stream",
     "text": [
      "Status is active!\n"
     ]
    }
   ],
   "source": [
    "status = 'active'\n",
    "\n",
    "if status == 'active':\n",
    "    print('Status is active!')\n",
    "elif status == 'inactive':\n",
    "    print('Status is inactive!!')\n",
    "else:\n",
    "    print('Status is unknown')"
   ]
  },
  {
   "cell_type": "code",
   "execution_count": 19,
   "id": "approved-device",
   "metadata": {},
   "outputs": [
    {
     "data": {
      "text/plain": [
       "'Status is active!'"
      ]
     },
     "execution_count": 19,
     "metadata": {},
     "output_type": "execute_result"
    }
   ],
   "source": [
    "MESSAGES = {\n",
    "    'active': 'Status is active!',\n",
    "    'inactive': 'Status is inactive!!'\n",
    "}\n",
    "\n",
    "MESSAGES.get(status, 'Status is unknown')"
   ]
  },
  {
   "cell_type": "markdown",
   "id": "annual-globe",
   "metadata": {},
   "source": [
    "Таким образом, нашу записную книжку мы бы могли перезаписать с помощью словаря и тогда бы поиск по ней был бы моментальным:"
   ]
  },
  {
   "cell_type": "code",
   "execution_count": 86,
   "id": "proud-clearing",
   "metadata": {},
   "outputs": [
    {
     "data": {
      "text/plain": [
       "9998884422"
      ]
     },
     "execution_count": 86,
     "metadata": {},
     "output_type": "execute_result"
    }
   ],
   "source": [
    "phonebook_dict = {'мария': 9998884422, 'антон': 8561328945, 'егор': 9221784421, \n",
    "                  'паша': 6688911231, 'иннокентий': 5411234423, 'спасательная': 911, 'андрей': 124125124}\n",
    "\n",
    "phonebook_dict['мария']"
   ]
  },
  {
   "cell_type": "markdown",
   "id": "bizarre-tuning",
   "metadata": {},
   "source": [
    "**Еще пример:** Найти 3 самых частых слова, использующихся в дзене питона"
   ]
  },
  {
   "cell_type": "code",
   "execution_count": 27,
   "id": "excessive-spice",
   "metadata": {},
   "outputs": [],
   "source": [
    "zen = \"\"\"\n",
    "Beautiful is better than ugly.\n",
    "Explicit is better than implicit.\n",
    "Simple is better than complex.\n",
    "Complex is better than complicated.\n",
    "Flat is better than nested.\n",
    "Sparse is better than dense.\n",
    "Readability counts.\n",
    "Special cases aren't special enough to break the rules.\n",
    "Although practicality beats purity.\n",
    "Errors should never pass silently.\n",
    "Unless explicitly silenced.\n",
    "In the face of ambiguity, refuse the temptation to guess.\n",
    "There should be one-- and preferably only one --obvious way to do it.\n",
    "Although that way may not be obvious at first unless you're Dutch.\n",
    "Now is better than never.\n",
    "Although never is often better than *right* now.\n",
    "If the implementation is hard to explain, it's a bad idea.\n",
    "If the implementation is easy to explain, it may be a good idea.\n",
    "Namespaces are one honking great idea -- let's do more of those!\n",
    "\"\"\""
   ]
  },
  {
   "cell_type": "code",
   "execution_count": 28,
   "id": "innovative-pricing",
   "metadata": {},
   "outputs": [
    {
     "name": "stdout",
     "output_type": "stream",
     "text": [
      "{'beautiful': 1, 'is': 10, 'better': 8, 'than': 8, 'ugly': 1, 'explicit': 1, 'implicit': 1, 'simple': 1, 'complex': 2, 'complicated': 1, 'flat': 1, 'nested': 1, 'sparse': 1, 'dense': 1, 'readability': 1, 'counts': 1, 'special': 2, 'cases': 1, \"aren't\": 1, 'enough': 1, 'to': 5, 'break': 1, 'the': 5, 'rules': 1, 'although': 3, 'practicality': 1, 'beats': 1, 'purity': 1, 'errors': 1, 'should': 2, 'never': 3, 'pass': 1, 'silently': 1, 'unless': 2, 'explicitly': 1, 'silenced': 1, 'in': 1, 'face': 1, 'of': 2, 'ambiguity': 1, 'refuse': 1, 'temptation': 1, 'guess': 1, 'there': 1, 'be': 3, 'one': 3, 'and': 1, 'preferably': 1, 'only': 1, 'obvious': 2, 'way': 2, 'do': 2, 'it': 2, 'that': 1, 'may': 2, 'not': 1, 'at': 1, 'first': 1, \"you're\": 1, 'dutch': 1, 'now': 2, 'often': 1, '*right*': 1, 'if': 2, 'implementation': 2, 'hard': 1, 'explain': 2, \"it's\": 1, 'a': 2, 'bad': 1, 'idea': 3, 'easy': 1, 'good': 1, 'namespaces': 1, 'are': 1, 'honking': 1, 'great': 1, '': 1, \"let's\": 1, 'more': 1, 'those': 1}\n"
     ]
    }
   ],
   "source": [
    "zen_map = {}\n",
    "\n",
    "for word in zen.split():\n",
    "    cleaned_word = word.strip('.,!-').lower()\n",
    "    if cleaned_word not in zen_map:\n",
    "        zen_map[cleaned_word] = 0\n",
    "    \n",
    "    zen_map[cleaned_word] += 1\n",
    "    \n",
    "print(zen_map)"
   ]
  },
  {
   "cell_type": "code",
   "execution_count": 29,
   "id": "lesbian-wildlife",
   "metadata": {},
   "outputs": [
    {
     "data": {
      "text/plain": [
       "[('is', 10), ('better', 8), ('than', 8)]"
      ]
     },
     "execution_count": 29,
     "metadata": {},
     "output_type": "execute_result"
    }
   ],
   "source": [
    "# делаем быстрее\n",
    "from collections import Counter\n",
    "\n",
    "cleaned_list = []\n",
    "for word in zen.split():\n",
    "    cleaned_list.append(word.strip('.,!-').lower())\n",
    "    \n",
    "Counter(cleaned_list).most_common(3)"
   ]
  },
  {
   "cell_type": "markdown",
   "id": "rough-lodge",
   "metadata": {},
   "source": [
    "**Замечание:** Словари являются упорядоченными, начиная с версии питона 3.6 (реализация CPython). До 3.6 нужно было пользоваться OrderedDict из модуля collections"
   ]
  }
 ],
 "metadata": {
  "kernelspec": {
   "display_name": "Python 3",
   "language": "python",
   "name": "python3"
  },
  "language_info": {
   "codemirror_mode": {
    "name": "ipython",
    "version": 3
   },
   "file_extension": ".py",
   "mimetype": "text/x-python",
   "name": "python",
   "nbconvert_exporter": "python",
   "pygments_lexer": "ipython3",
   "version": "3.9.2"
  },
  "varInspector": {
   "cols": {
    "lenName": 16,
    "lenType": 16,
    "lenVar": 40
   },
   "kernels_config": {
    "python": {
     "delete_cmd_postfix": "",
     "delete_cmd_prefix": "del ",
     "library": "var_list.py",
     "varRefreshCmd": "print(var_dic_list())"
    },
    "r": {
     "delete_cmd_postfix": ") ",
     "delete_cmd_prefix": "rm(",
     "library": "var_list.r",
     "varRefreshCmd": "cat(var_dic_list()) "
    }
   },
   "types_to_exclude": [
    "module",
    "function",
    "builtin_function_or_method",
    "instance",
    "_Feature"
   ],
   "window_display": false
  }
 },
 "nbformat": 4,
 "nbformat_minor": 5
}
