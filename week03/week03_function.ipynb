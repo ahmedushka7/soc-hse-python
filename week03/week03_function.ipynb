{
 "cells": [
  {
   "cell_type": "markdown",
   "id": "fc678ddf",
   "metadata": {},
   "source": [
    "<center>\n",
    "    <h2>Функции"
   ]
  },
  {
   "cell_type": "markdown",
   "id": "eb206165",
   "metadata": {},
   "source": [
    "### Встроенные функции\n",
    "\n",
    "Мы уже пользовались встроенными функциями в *python*. Для этого мы писали название функции, открывали круглые скобки, передавали внутри них аргументы через запятую."
   ]
  },
  {
   "cell_type": "code",
   "execution_count": 1,
   "id": "8f31ea27",
   "metadata": {},
   "outputs": [
    {
     "data": {
      "text/plain": [
       "11"
      ]
     },
     "execution_count": 1,
     "metadata": {},
     "output_type": "execute_result"
    }
   ],
   "source": [
    "x = [1, -10, 20]\n",
    "sum(x)"
   ]
  },
  {
   "cell_type": "code",
   "execution_count": 2,
   "id": "b4c73b67",
   "metadata": {},
   "outputs": [
    {
     "data": {
      "text/plain": [
       "3.142"
      ]
     },
     "execution_count": 2,
     "metadata": {},
     "output_type": "execute_result"
    }
   ],
   "source": [
    "round(3.141523423, 3)  # 2 аргумента"
   ]
  },
  {
   "cell_type": "markdown",
   "id": "925e72b5",
   "metadata": {
    "slideshow": {
     "slide_type": "slide"
    }
   },
   "source": [
    "### Создание собственной функции\n",
    "\n",
    "<img src=\"../images/python-function.svg\">\n",
    "\n",
    "Функция принимает какие-то параметры на вход, и возвращает что-то на выход. Функция это некоторый макет.\n",
    "\n",
    "Основные моменты при создании функции:\n",
    "\n",
    "* Чтобы определить функцию, нужно написать/использовать команду `def` - define.\n",
    "* Далее через пробел написать название функции, оно должно выполнять требования, которые применялись к переменным (да и вообще к любым объектам). Название функции должно быть понятным. Не затирать встроенные функции.\n",
    "* В круглых скобках через запятую передаются аргументы, которые передаются функции на вход. Их название тоже имеет роль.\n",
    "* Ставится `:`.\n",
    "* С помощью табового отступа отделяется тело функции, в которой пишется все то, что делает функция.\n",
    "* Если функция хочет что-то вернуть, то нужно написать `return` и через пробел передать объект. `return` может быть не единственным. \n",
    "* Если нет `return`, то возвращается None. После `return` работа функции останавливается.\n",
    "\n",
    "```python\n",
    "def function_name(arg1, arg2, ...):\n",
    "    # CODE\n",
    "    return something\n",
    "\n",
    "```"
   ]
  },
  {
   "cell_type": "markdown",
   "id": "ff8fa1bb",
   "metadata": {
    "slideshow": {
     "slide_type": "slide"
    }
   },
   "source": [
    "Давайте попробуем начать с простого и написать функцию, которая находит квадрат числа. На вход поступает число. Пусть оно будет называться `x`, вы можете выбрать любое название."
   ]
  },
  {
   "cell_type": "code",
   "execution_count": 43,
   "id": "b350c15b",
   "metadata": {},
   "outputs": [],
   "source": [
    "def square(x):\n",
    "    res = x**2\n",
    "    return res"
   ]
  },
  {
   "cell_type": "code",
   "execution_count": 44,
   "id": "c8e5bcb5",
   "metadata": {},
   "outputs": [
    {
     "data": {
      "text/plain": [
       "25"
      ]
     },
     "execution_count": 44,
     "metadata": {},
     "output_type": "execute_result"
    }
   ],
   "source": [
    "s = square(x=5)\n",
    "s"
   ]
  },
  {
   "cell_type": "markdown",
   "id": "c1e0c014",
   "metadata": {},
   "source": [
    "Вы можете не указывать x, тогда переданное значение будет расмотренно как позиционый аргумент. По `PEP8` до и после равно при передаче аргументов в функцию не должно быть пробелов. Аргументы бывают позиционные и именованные."
   ]
  },
  {
   "cell_type": "code",
   "execution_count": 30,
   "id": "f0cf5945",
   "metadata": {},
   "outputs": [
    {
     "data": {
      "text/plain": [
       "100"
      ]
     },
     "execution_count": 30,
     "metadata": {},
     "output_type": "execute_result"
    }
   ],
   "source": [
    "s = square(10)\n",
    "s"
   ]
  },
  {
   "cell_type": "markdown",
   "id": "a84a7179",
   "metadata": {
    "slideshow": {
     "slide_type": "slide"
    }
   },
   "source": [
    "Давайте поставим задачу немного по-другому. Мы хотим возводить число в определенную степень. Не будем использовать название `pow`, так как оно принадлежит встроенной функции. На вход у нас идет число и степень в которую мы хотим его возвести."
   ]
  },
  {
   "cell_type": "code",
   "execution_count": 45,
   "id": "b9fc0009",
   "metadata": {},
   "outputs": [],
   "source": [
    "def power(x, y):\n",
    "    res = x**y\n",
    "    return res"
   ]
  },
  {
   "cell_type": "code",
   "execution_count": 46,
   "id": "bcefad8e",
   "metadata": {},
   "outputs": [
    {
     "data": {
      "text/plain": [
       "25"
      ]
     },
     "execution_count": 46,
     "metadata": {},
     "output_type": "execute_result"
    }
   ],
   "source": [
    "power(x=5, y=2)"
   ]
  },
  {
   "cell_type": "code",
   "execution_count": 47,
   "id": "ae63050c",
   "metadata": {},
   "outputs": [
    {
     "data": {
      "text/plain": [
       "125"
      ]
     },
     "execution_count": 47,
     "metadata": {},
     "output_type": "execute_result"
    }
   ],
   "source": [
    "power(x=5, y=3)"
   ]
  },
  {
   "cell_type": "code",
   "execution_count": 48,
   "id": "98de8745",
   "metadata": {},
   "outputs": [
    {
     "data": {
      "text/plain": [
       "25"
      ]
     },
     "execution_count": 48,
     "metadata": {},
     "output_type": "execute_result"
    }
   ],
   "source": [
    "power(y=2, x=5)"
   ]
  },
  {
   "cell_type": "code",
   "execution_count": 49,
   "id": "c6c9f822",
   "metadata": {},
   "outputs": [
    {
     "data": {
      "text/plain": [
       "25"
      ]
     },
     "execution_count": 49,
     "metadata": {},
     "output_type": "execute_result"
    }
   ],
   "source": [
    "power(5, 2)"
   ]
  },
  {
   "cell_type": "code",
   "execution_count": 50,
   "id": "c4ff1fe0",
   "metadata": {},
   "outputs": [
    {
     "data": {
      "text/plain": [
       "32"
      ]
     },
     "execution_count": 50,
     "metadata": {},
     "output_type": "execute_result"
    }
   ],
   "source": [
    "power(2, 5)"
   ]
  },
  {
   "cell_type": "markdown",
   "id": "94b29339",
   "metadata": {
    "slideshow": {
     "slide_type": "slide"
    }
   },
   "source": [
    "Можно передавать название части аргументов."
   ]
  },
  {
   "cell_type": "code",
   "execution_count": 51,
   "id": "0c1c0098",
   "metadata": {},
   "outputs": [
    {
     "data": {
      "text/plain": [
       "25"
      ]
     },
     "execution_count": 51,
     "metadata": {},
     "output_type": "execute_result"
    }
   ],
   "source": [
    "power(5, y=2)"
   ]
  },
  {
   "cell_type": "markdown",
   "id": "fb3f75c6",
   "metadata": {},
   "source": [
    "Но позиционные аргмуенты должны идти до именованных."
   ]
  },
  {
   "cell_type": "code",
   "execution_count": 39,
   "id": "6375d7b6",
   "metadata": {},
   "outputs": [
    {
     "ename": "SyntaxError",
     "evalue": "positional argument follows keyword argument (3735468781.py, line 1)",
     "output_type": "error",
     "traceback": [
      "\u001b[0;36m  Input \u001b[0;32mIn [39]\u001b[0;36m\u001b[0m\n\u001b[0;31m    power(y=2, 5)\u001b[0m\n\u001b[0m               ^\u001b[0m\n\u001b[0;31mSyntaxError\u001b[0m\u001b[0;31m:\u001b[0m positional argument follows keyword argument\n"
     ]
    }
   ],
   "source": [
    "power(y=2, 5)"
   ]
  },
  {
   "cell_type": "markdown",
   "id": "66284f1b",
   "metadata": {
    "slideshow": {
     "slide_type": "slide"
    }
   },
   "source": [
    "### Зачем нужны функции?\n",
    "\n",
    "#### 1. Есть повторяющиеся части кода, которые используются с разными параметрами.\n",
    "\n",
    "Наверное, самый главный плюс функций заключается в том, чтобы избавиться от дублирования кода.\n",
    "\n",
    "Предположим у нас есть массив `x1`. Давайте вспомним как найти сумму массива. Если у нас будет еще массив `x2` для которого нужно тоже найти сумму."
   ]
  },
  {
   "cell_type": "code",
   "execution_count": 41,
   "id": "f28c9499",
   "metadata": {},
   "outputs": [
    {
     "name": "stdout",
     "output_type": "stream",
     "text": [
      "29 5\n"
     ]
    }
   ],
   "source": [
    "x1 = [-10, 4, 32, 15, -12]\n",
    "x2 = [-2, 3, 4, 0]\n",
    "\n",
    "s1 = 0\n",
    "for i in range(len(x1)):\n",
    "    s1 += x1[i]\n",
    "\n",
    "s2 = 0\n",
    "for i in range(len(x2)):\n",
    "    s2 += x2[i]\n",
    "\n",
    "print(s1, s2)"
   ]
  },
  {
   "cell_type": "markdown",
   "id": "fea6d297",
   "metadata": {
    "slideshow": {
     "slide_type": "slide"
    }
   },
   "source": [
    "Если таких массивов будет много, то код будет разростаться. Но и это не главная беда, представьте, что в какой-то момент вас попросят находить не сумму, а произведение. Вам придется менять знак + на знак * во всех частях кода. По `PEP8` нужно оставлять две пустые строки до и после функции."
   ]
  },
  {
   "cell_type": "code",
   "execution_count": 42,
   "id": "eefb8595",
   "metadata": {},
   "outputs": [
    {
     "name": "stdout",
     "output_type": "stream",
     "text": [
      "29 5\n"
     ]
    }
   ],
   "source": [
    "def SUM(x):\n",
    "    s = 0\n",
    "    for i in range(len(x)):\n",
    "        s += x[i]\n",
    "    return s\n",
    "\n",
    "\n",
    "s1 = SUM(x1)\n",
    "s2 = SUM(x2)\n",
    "print(s1, s2)"
   ]
  },
  {
   "cell_type": "markdown",
   "id": "e9081f29",
   "metadata": {
    "slideshow": {
     "slide_type": "slide"
    }
   },
   "source": [
    "#### 2. Структурирование кода, что приводит к улучшению его читабельности и поддерживаемости."
   ]
  },
  {
   "cell_type": "code",
   "execution_count": 51,
   "id": "3bc036fc",
   "metadata": {
    "cell_style": "split"
   },
   "outputs": [],
   "source": [
    "def max3num(x1, x2, x3):\n",
    "    if x1 > x2:\n",
    "        if x1 > x3:\n",
    "            return x1\n",
    "        else:\n",
    "            return x3\n",
    "    elif x2 > x3:\n",
    "        return x2\n",
    "    else:\n",
    "        return x3\n",
    "\n",
    "max3num(1, 2, 3)"
   ]
  },
  {
   "cell_type": "code",
   "execution_count": 52,
   "id": "f30c806e",
   "metadata": {
    "cell_style": "split"
   },
   "outputs": [
    {
     "data": {
      "text/plain": [
       "3"
      ]
     },
     "execution_count": 52,
     "metadata": {},
     "output_type": "execute_result"
    }
   ],
   "source": [
    "def max2num(x1, x2):\n",
    "    return x1 if x1 > x2 else x2\n",
    "\n",
    "def max3num(x1, x2, x3):\n",
    "    return max2num(max2num(x1, x2), x3)\n",
    "\n",
    "max3num(1, 2, 3)"
   ]
  },
  {
   "cell_type": "markdown",
   "id": "f15e07ff",
   "metadata": {
    "slideshow": {
     "slide_type": "slide"
    }
   },
   "source": [
    "#### 3. Можно использовать функцию в другом модуле другими людьми.\n",
    "\n",
    "За вас уже могли написать кучу полезных функций, вы можете их импортировать и пользоваться ими. А также можете зашерить свои функции :3"
   ]
  },
  {
   "cell_type": "markdown",
   "id": "d551f5e6",
   "metadata": {
    "slideshow": {
     "slide_type": "slide"
    }
   },
   "source": [
    "### Аргументы по умолчанию\n",
    "\n",
    "Вспомним про нашу функцию, которая возводила число в определенную степень. Представьте, что вы достаточно часто ее используете и, например, в 80% случаях возводите число в квадрат. Не очень хочется постоянно ставить 2, но при этом хочется иметь возможность ставить ту степень, которая нам нужна. Для решения этой проблемы мы изучим аргументы по умолчанию."
   ]
  },
  {
   "cell_type": "code",
   "execution_count": null,
   "id": "b87bcfb2",
   "metadata": {},
   "outputs": [],
   "source": [
    "def power(x, y):\n",
    "    return x**y\n",
    "\n",
    "power(4, 2)\n",
    "power(5, 2)\n",
    "power(6, 2)\n",
    "power(7, 2)\n",
    "power(8, 2)\n",
    "power(9, 2)\n",
    "power(10, 2)\n",
    "power(2, 3)"
   ]
  },
  {
   "cell_type": "code",
   "execution_count": 52,
   "id": "4e252249",
   "metadata": {
    "slideshow": {
     "slide_type": "slide"
    }
   },
   "outputs": [],
   "source": [
    "def power(x, y=2):\n",
    "    res = x**y\n",
    "    return res"
   ]
  },
  {
   "cell_type": "code",
   "execution_count": 53,
   "id": "d44b7fb7",
   "metadata": {
    "slideshow": {
     "slide_type": "-"
    }
   },
   "outputs": [
    {
     "data": {
      "text/plain": [
       "25"
      ]
     },
     "execution_count": 53,
     "metadata": {},
     "output_type": "execute_result"
    }
   ],
   "source": [
    "power(5)"
   ]
  },
  {
   "cell_type": "code",
   "execution_count": 54,
   "id": "e824714e",
   "metadata": {},
   "outputs": [
    {
     "data": {
      "text/plain": [
       "125"
      ]
     },
     "execution_count": 54,
     "metadata": {},
     "output_type": "execute_result"
    }
   ],
   "source": [
    "power(5, y=3)"
   ]
  },
  {
   "cell_type": "markdown",
   "id": "383f0ef3",
   "metadata": {
    "slideshow": {
     "slide_type": "slide"
    }
   },
   "source": [
    "### Несколько return\n",
    "\n",
    "Вы можете использовать `return` сколько раз вам захочется. Важно только помнить, что после того как функция наткнется на `return` она сразу закончит свою работу. В этом `return` напоминает `break` для циклов."
   ]
  },
  {
   "cell_type": "code",
   "execution_count": 57,
   "id": "c6d7ddd6",
   "metadata": {
    "cell_style": "split"
   },
   "outputs": [],
   "source": [
    "def maximum(a, b):\n",
    "    if a > b:\n",
    "        return a\n",
    "    else:\n",
    "        return b"
   ]
  },
  {
   "cell_type": "code",
   "execution_count": 58,
   "id": "ca6435fc",
   "metadata": {
    "cell_style": "split"
   },
   "outputs": [],
   "source": [
    "def maximum(a, b):\n",
    "    if a > b:\n",
    "        return a\n",
    "    return b"
   ]
  },
  {
   "cell_type": "markdown",
   "id": "edfd102e",
   "metadata": {
    "slideshow": {
     "slide_type": "slide"
    }
   },
   "source": [
    "### Возвращение нескольких объектов\n",
    "\n",
    "В `return` вы можете передать любой объект, который вы захотите. Если вы хотите вернуть несколько объектов, то вы можете написать их через запятую и тогда функцию вернет кортеж объектов. "
   ]
  },
  {
   "cell_type": "code",
   "execution_count": 55,
   "id": "4d8465a1",
   "metadata": {},
   "outputs": [],
   "source": [
    "def sort2num(a, b):\n",
    "    if a < b:\n",
    "        return a, b\n",
    "    return b, a"
   ]
  },
  {
   "cell_type": "code",
   "execution_count": 56,
   "id": "5ee29b5c",
   "metadata": {},
   "outputs": [
    {
     "data": {
      "text/plain": [
       "(3, 4)"
      ]
     },
     "execution_count": 56,
     "metadata": {},
     "output_type": "execute_result"
    }
   ],
   "source": [
    "sort2num(4, 3)"
   ]
  },
  {
   "cell_type": "code",
   "execution_count": 57,
   "id": "5a10f443",
   "metadata": {},
   "outputs": [
    {
     "data": {
      "text/plain": [
       "(3, 19)"
      ]
     },
     "execution_count": 57,
     "metadata": {},
     "output_type": "execute_result"
    }
   ],
   "source": [
    "sort2num(3, 19)"
   ]
  },
  {
   "cell_type": "markdown",
   "id": "bf6a3777",
   "metadata": {
    "slideshow": {
     "slide_type": "slide"
    }
   },
   "source": [
    "### Mutable/immutable объекты\n",
    "\n",
    "Нужно быть аккуратным, когда вы передаете какие-то изменяемые объекты в функцию. Они не копируются автоматически."
   ]
  },
  {
   "cell_type": "code",
   "execution_count": 65,
   "id": "bf723386",
   "metadata": {
    "cell_style": "split"
   },
   "outputs": [
    {
     "name": "stdout",
     "output_type": "stream",
     "text": [
      "[1, 2, 3, 4]\n"
     ]
    }
   ],
   "source": [
    "x = [1, 2, 3]\n",
    "\n",
    "def foo(x):\n",
    "    x.append(4)\n",
    "\n",
    "foo(x)\n",
    "print(x)"
   ]
  },
  {
   "cell_type": "code",
   "execution_count": 66,
   "id": "4ab35abd",
   "metadata": {
    "cell_style": "split"
   },
   "outputs": [
    {
     "name": "stdout",
     "output_type": "stream",
     "text": [
      "[1, 2, 3]\n"
     ]
    }
   ],
   "source": [
    "x = [1, 2, 3]\n",
    "\n",
    "def foo(x):\n",
    "    x = x.copy()\n",
    "    x.append(4)\n",
    "\n",
    "foo(x)\n",
    "print(x)"
   ]
  },
  {
   "cell_type": "markdown",
   "id": "0d674db1",
   "metadata": {
    "slideshow": {
     "slide_type": "slide"
    }
   },
   "source": [
    "Нужно быть аккуратнымии и с дефолтными аргументами. Обычно все IDE ругаются, если вы передадите mutable объект."
   ]
  },
  {
   "cell_type": "code",
   "execution_count": 77,
   "id": "ee74d377",
   "metadata": {
    "cell_style": "split",
    "slideshow": {
     "slide_type": "-"
    }
   },
   "outputs": [
    {
     "name": "stdout",
     "output_type": "stream",
     "text": [
      "[5]\n",
      "[5, 10]\n"
     ]
    }
   ],
   "source": [
    "# BAD\n",
    "def foo(num, l=[]):\n",
    "    l.append(num)\n",
    "    \n",
    "    return l\n",
    "\n",
    "print(foo(5))\n",
    "print(foo(10))"
   ]
  },
  {
   "cell_type": "code",
   "execution_count": 76,
   "id": "7fe004b5",
   "metadata": {
    "cell_style": "split"
   },
   "outputs": [
    {
     "name": "stdout",
     "output_type": "stream",
     "text": [
      "[5]\n",
      "[10]\n"
     ]
    }
   ],
   "source": [
    "# GOOD\n",
    "def foo(num, l=None):\n",
    "    l = [] if l is None else l\n",
    "    \n",
    "    l.append(num)\n",
    "    \n",
    "    return l\n",
    "\n",
    "print(foo(5))\n",
    "print(foo(10))"
   ]
  },
  {
   "cell_type": "markdown",
   "id": "89dc9730",
   "metadata": {
    "slideshow": {
     "slide_type": "slide"
    }
   },
   "source": [
    "### \\*args\n",
    "\n",
    "\\*args позваляет передавать нефиксированное количество неименованных аргументов. Можно называть не только args, но это название уже стало общепринятым. Звездочка собирает все значения вместе в кортеж."
   ]
  },
  {
   "cell_type": "code",
   "execution_count": 58,
   "id": "0d1cc0da",
   "metadata": {
    "cell_style": "split"
   },
   "outputs": [
    {
     "name": "stdout",
     "output_type": "stream",
     "text": [
      "x1:  1\n",
      "x2:  2\n",
      "type args:  <class 'tuple'>\n",
      "args:  (3, 5, 6, 7, 8)\n"
     ]
    }
   ],
   "source": [
    "def foo(x1, x2, *args):\n",
    "    print('x1: ', x1)\n",
    "    print('x2: ', x2)\n",
    "    print('type args: ', type(args))\n",
    "    print('args: ', args)\n",
    "    \n",
    "foo(1, 2, 3, 5, 6, 7, 8)"
   ]
  },
  {
   "cell_type": "code",
   "execution_count": 65,
   "id": "4be50393",
   "metadata": {
    "cell_style": "split"
   },
   "outputs": [
    {
     "name": "stdout",
     "output_type": "stream",
     "text": [
      "x1:  7\n",
      "x2:  8\n",
      "type args:  <class 'tuple'>\n",
      "args:  (1, 2, 3, 5, 6)\n"
     ]
    }
   ],
   "source": [
    "def foo(*args, x1, x2):\n",
    "    print('x1: ', x1)\n",
    "    print('x2: ', x2)\n",
    "    print('type args: ', type(args))\n",
    "    print('args: ', args)\n",
    "    \n",
    "foo(1, 2, 3, 5, 6, x1=7, x2=8)"
   ]
  },
  {
   "cell_type": "markdown",
   "id": "5a9b1fc6",
   "metadata": {
    "slideshow": {
     "slide_type": "slide"
    }
   },
   "source": [
    "Как думаете что делает звездочка в этом случае?"
   ]
  },
  {
   "cell_type": "code",
   "execution_count": 68,
   "id": "d47686fa",
   "metadata": {
    "slideshow": {
     "slide_type": "-"
    }
   },
   "outputs": [
    {
     "data": {
      "text/plain": [
       "1.5"
      ]
     },
     "execution_count": 68,
     "metadata": {},
     "output_type": "execute_result"
    }
   ],
   "source": [
    "def foo(*, x, y):\n",
    "    return (x + y) / y\n",
    "\n",
    "foo(x=2, y=4)"
   ]
  },
  {
   "cell_type": "markdown",
   "id": "6cec05ff",
   "metadata": {
    "slideshow": {
     "slide_type": "slide"
    }
   },
   "source": [
    "### Другой способ использования \\*\n",
    "\n",
    "\\* может не только собирать аргументы функции вместе в контейнер (кортеж), но и распаковывать контейнеры."
   ]
  },
  {
   "cell_type": "code",
   "execution_count": 71,
   "id": "dfe57f01",
   "metadata": {},
   "outputs": [],
   "source": [
    "def foo(x, y):\n",
    "    return x + y"
   ]
  },
  {
   "cell_type": "code",
   "execution_count": 72,
   "id": "00645fc7",
   "metadata": {},
   "outputs": [],
   "source": [
    "l = [1, 2]"
   ]
  },
  {
   "cell_type": "code",
   "execution_count": 73,
   "id": "3951875a",
   "metadata": {},
   "outputs": [
    {
     "data": {
      "text/plain": [
       "3"
      ]
     },
     "execution_count": 73,
     "metadata": {},
     "output_type": "execute_result"
    }
   ],
   "source": [
    "foo(*l)"
   ]
  },
  {
   "cell_type": "code",
   "execution_count": 70,
   "id": "335235e4",
   "metadata": {},
   "outputs": [
    {
     "data": {
      "text/plain": [
       "(1, 5)"
      ]
     },
     "execution_count": 70,
     "metadata": {},
     "output_type": "execute_result"
    }
   ],
   "source": [
    "x, *_, y = (1, 2, 3, 4, 5)\n",
    "x, y"
   ]
  },
  {
   "cell_type": "code",
   "execution_count": 97,
   "id": "4e159fe8",
   "metadata": {},
   "outputs": [
    {
     "data": {
      "text/plain": [
       "(1, 2)"
      ]
     },
     "execution_count": 97,
     "metadata": {},
     "output_type": "execute_result"
    }
   ],
   "source": [
    "x, y, *_ = (1, 2, 3, 4, 5)\n",
    "x, y"
   ]
  },
  {
   "cell_type": "markdown",
   "id": "7739c223",
   "metadata": {
    "slideshow": {
     "slide_type": "slide"
    }
   },
   "source": [
    "### \\*\\*kwargs\n",
    "\n",
    "\\*\\*kwargs позваляет передавать нефиксированное количество именованных аргументов. Можно называть не только kwargs, но это название уже стало общепринятым. Звездочки собирают все значения вместе в словарь, где ключ это название переменной, а значение это значение переменной."
   ]
  },
  {
   "cell_type": "code",
   "execution_count": 101,
   "id": "8348a727",
   "metadata": {},
   "outputs": [
    {
     "name": "stdout",
     "output_type": "stream",
     "text": [
      "x1:  1\n",
      "x2:  2\n",
      "type kwargs:  <class 'dict'>\n",
      "kwargs:  {'x3': 3, 'x4': 10, 'chick': 12, 'foo': 0, 'y': 8}\n"
     ]
    }
   ],
   "source": [
    "def bar(x1, x2, **kwargs):\n",
    "    print('x1: ', x1)\n",
    "    print('x2: ', x2)\n",
    "    print('type kwargs: ', type(kwargs))\n",
    "    print('kwargs: ', kwargs)\n",
    "    \n",
    "bar(1, 2, x3=3, x4=10, chick=12, foo=0, y=8)"
   ]
  },
  {
   "cell_type": "markdown",
   "id": "d67fca61",
   "metadata": {
    "slideshow": {
     "slide_type": "slide"
    }
   },
   "source": [
    "### Другой способ использования \\*\\*\n",
    "\n",
    "\\*\\* может не только собирать аргументы функции вместе в словарь, но и распаковывать словарь."
   ]
  },
  {
   "cell_type": "code",
   "execution_count": null,
   "id": "a55af747",
   "metadata": {},
   "outputs": [],
   "source": [
    "def bar(x, y):\n",
    "    return x + y\n",
    "\n",
    "params = {'x': 10, 'y': 20}"
   ]
  },
  {
   "cell_type": "code",
   "execution_count": 104,
   "id": "10d8a915",
   "metadata": {},
   "outputs": [
    {
     "ename": "TypeError",
     "evalue": "bar() missing 1 required positional argument: 'y'",
     "output_type": "error",
     "traceback": [
      "\u001b[0;31m---------------------------------------------------------------------------\u001b[0m",
      "\u001b[0;31mTypeError\u001b[0m                                 Traceback (most recent call last)",
      "Input \u001b[0;32mIn [104]\u001b[0m, in \u001b[0;36m<cell line: 1>\u001b[0;34m()\u001b[0m\n\u001b[0;32m----> 1\u001b[0m \u001b[43mbar\u001b[49m\u001b[43m(\u001b[49m\u001b[43mparams\u001b[49m\u001b[43m)\u001b[49m\n",
      "\u001b[0;31mTypeError\u001b[0m: bar() missing 1 required positional argument: 'y'"
     ]
    }
   ],
   "source": [
    "bar(params)"
   ]
  },
  {
   "cell_type": "code",
   "execution_count": 75,
   "id": "d480cb03",
   "metadata": {},
   "outputs": [
    {
     "ename": "SyntaxError",
     "evalue": "keyword argument repeated (2886407167.py, line 1)",
     "output_type": "error",
     "traceback": [
      "\u001b[0;36m  Input \u001b[0;32mIn [75]\u001b[0;36m\u001b[0m\n\u001b[0;31m    bar(x=2, x=3)\u001b[0m\n\u001b[0m             ^\u001b[0m\n\u001b[0;31mSyntaxError\u001b[0m\u001b[0;31m:\u001b[0m keyword argument repeated\n"
     ]
    }
   ],
   "source": [
    "bar(x=2, x=3)"
   ]
  },
  {
   "cell_type": "markdown",
   "id": "8e91ef0d",
   "metadata": {
    "slideshow": {
     "slide_type": "slide"
    }
   },
   "source": [
    "### Другой способ использования \\*\\*\n",
    "\n",
    "Представьте у вас есть много параметров, например, для обучения модели машинного обучения. Вводить все эти параметры каждый раз не очень хочется. Поэтому вы создаете конфиг с дефолтными параметрами. А при запуске обучения передаете свой конфиг, в котором содержатся параметры, которые вы хотели бы изменить. Как сделать итоговый конфиг?"
   ]
  },
  {
   "cell_type": "code",
   "execution_count": 107,
   "id": "0b9d428c",
   "metadata": {},
   "outputs": [],
   "source": [
    "default_config = {\n",
    "    'model': 'CatBoost',\n",
    "    'lr': 1e-3,\n",
    "    'iterations': 1_000,\n",
    "    'deep': 8,\n",
    "}\n",
    "\n",
    "run_config = {\n",
    "    'lr': 1e-4,\n",
    "    'iterations': 2_000,\n",
    "}"
   ]
  },
  {
   "cell_type": "code",
   "execution_count": 109,
   "id": "25e9c7ea",
   "metadata": {},
   "outputs": [
    {
     "data": {
      "text/plain": [
       "{'model': 'CatBoost', 'lr': 0.0001, 'iterations': 2000, 'deep': 8}"
      ]
     },
     "execution_count": 109,
     "metadata": {},
     "output_type": "execute_result"
    }
   ],
   "source": [
    "final_config = {**default_config, **run_config}\n",
    "final_config"
   ]
  },
  {
   "cell_type": "markdown",
   "id": "c2685e01",
   "metadata": {
    "slideshow": {
     "slide_type": "slide"
    }
   },
   "source": [
    "### Документация\n",
    "\n",
    "Если вы введете `help(func)`, вы сможете получить документацию по функции. Описание функции обычно написано в поле `docstring`. Вы можете заполнять это поле и в своих функциях. Для этого после объявления функции откройте тройные кавычки и напишите в нем ваше описание."
   ]
  },
  {
   "cell_type": "code",
   "execution_count": 76,
   "id": "6866e274",
   "metadata": {},
   "outputs": [
    {
     "name": "stdout",
     "output_type": "stream",
     "text": [
      "Help on function foo in module __main__:\n",
      "\n",
      "foo(x1, x2)\n",
      "    This function return sum of two numbers: x1 and x2.\n",
      "    \n",
      "    Input:\n",
      "        x1: this argument int or float\n",
      "        x2: argument must be int or float\n",
      "    Output: inf or float\n",
      "\n"
     ]
    }
   ],
   "source": [
    "def foo(x1, x2):\n",
    "    \"\"\"\n",
    "    This function return sum of two numbers: x1 and x2.\n",
    "    \n",
    "    Input:\n",
    "        x1: this argument int or float\n",
    "        x2: argument must be int or float\n",
    "    Output: inf or float\n",
    "    \"\"\"\n",
    "    return x1 + x2\n",
    "\n",
    "help(foo)"
   ]
  },
  {
   "cell_type": "markdown",
   "id": "3486d59d",
   "metadata": {
    "slideshow": {
     "slide_type": "slide"
    }
   },
   "source": [
    "### Type Hinting\n",
    "\n",
    "В python динамическая типизация. Это значит, что, например, при написании функции вам не нужно указывать тип аргумента. Рассмотрим функцию, которая умножает аргумент `x` на 10. Мы никак не объявляем, что за тип должен принимать `x`. Эта функция может умножать и число, и строку, и массив.\n",
    "\n"
   ]
  },
  {
   "cell_type": "code",
   "execution_count": 130,
   "id": "5f653fc1",
   "metadata": {},
   "outputs": [
    {
     "name": "stdout",
     "output_type": "stream",
     "text": [
      "50\n",
      "5555555555\n",
      "[0, 1, 0, 1, 0, 1, 0, 1, 0, 1, 0, 1, 0, 1, 0, 1, 0, 1, 0, 1]\n"
     ]
    }
   ],
   "source": [
    "def mul10(x):\n",
    "    return 10 * x\n",
    "\n",
    "\n",
    "print(mul10(5))\n",
    "print(mul10(\"5\"))\n",
    "print(mul10([0, 1]))"
   ]
  },
  {
   "cell_type": "markdown",
   "id": "c4859231",
   "metadata": {
    "slideshow": {
     "slide_type": "slide"
    }
   },
   "source": [
    "В языках со статической типизацией такое недопустимо, так как для каждого аргумента прописывается его тип. Если на вход подается аргумент с другим типом, то выдается ошибка. \n",
    "\n",
    "* Динамическая типизация:\n",
    "    + плюс – проще писать код, так как не нужно прописывать типы\n",
    "    + минус – код может работать не так как должен\n",
    "* Статическая типизация:\n",
    "    + плюс – если аргументы имеют недопустимый тип, выдается ошибка\n",
    "    + минус – приходится везде прописывать типы аргументов\n",
    "    \n",
    "> Лучше получить ошибку чем получить неправильно работающую программу!\n",
    "\n",
    "В python можно указывать типы аргуметов, но это будет лишь подсказкой для других людей. Python не будет воспринимать эти типы, следовательно, он не будет выдавать ошибки. Чтобы указать тип, нужно поставить двоеточие и указать тип."
   ]
  },
  {
   "cell_type": "code",
   "execution_count": 131,
   "id": "d0857971",
   "metadata": {
    "slideshow": {
     "slide_type": "slide"
    }
   },
   "outputs": [
    {
     "name": "stdout",
     "output_type": "stream",
     "text": [
      "50\n",
      "5555555555\n",
      "[0, 1, 0, 1, 0, 1, 0, 1, 0, 1, 0, 1, 0, 1, 0, 1, 0, 1, 0, 1]\n"
     ]
    }
   ],
   "source": [
    "def mul10(x: int):\n",
    "    return 10 * x\n",
    "\n",
    "print(mul10(5))\n",
    "print(mul10(\"5\"))\n",
    "print(mul10([0, 1]))"
   ]
  },
  {
   "cell_type": "markdown",
   "id": "86ac2a1e",
   "metadata": {
    "slideshow": {
     "slide_type": "-"
    }
   },
   "source": [
    "Как видно ошибку мы не получаем. Но мы уменьшаем вероятность этой ошибки, так как человек, который будет использовать эту функцию, будет понимать какой тип может быть использован."
   ]
  },
  {
   "cell_type": "markdown",
   "id": "840b77c0",
   "metadata": {
    "slideshow": {
     "slide_type": "slide"
    }
   },
   "source": [
    "Также можно указать тип объекта, который вернет функция."
   ]
  },
  {
   "cell_type": "code",
   "execution_count": 132,
   "id": "02c81d44",
   "metadata": {},
   "outputs": [],
   "source": [
    "def mul10(x: int) -> int:\n",
    "    return 10 * x"
   ]
  },
  {
   "cell_type": "markdown",
   "id": "9e352703",
   "metadata": {
    "slideshow": {
     "slide_type": "slide"
    }
   },
   "source": [
    "Если ваши аргументы это более сложные объекты (list, tuple, set, dict, ...), то вы можете воспользоваться встроенным модулем `typing`. В питоне 3.9 появилась возможность использовать встроенные обекты без этой библиотеки."
   ]
  },
  {
   "cell_type": "code",
   "execution_count": 134,
   "id": "f519ba0a",
   "metadata": {},
   "outputs": [],
   "source": [
    "from typing import List, Tuple, Dict, Set, Any, Optional, Union, Iterable, Callable\n",
    "\n",
    "\n",
    "def sample(x: List[str], y: Tuple[Any], z: Dict[int, bool], w: Optional[float] = None) -> Union[int, float]:\n",
    "    pass"
   ]
  },
  {
   "cell_type": "markdown",
   "id": "9e30edb7",
   "metadata": {
    "slideshow": {
     "slide_type": "slide"
    }
   },
   "source": [
    "* `List[str]` – список строк\n",
    "* `Tuple[Any]` - кортеж с любыми объектами\n",
    "* `Dict[int, bool]` - словарь, где ключи это целые числа, а значения `True`/`False`\n",
    "* `Optional[float]` - `None` или float\n",
    "* `Union[int, float]` - либо `int`, либо `float`\n",
    "* `Callable` – объект, который можно вызвать (функция/класс)\n",
    "* `Iterable` – объект, по которому можно проитерироваться."
   ]
  },
  {
   "cell_type": "markdown",
   "id": "f79c76e8",
   "metadata": {
    "slideshow": {
     "slide_type": "slide"
    }
   },
   "source": [
    "### Built-in библиотека functools\n",
    "\n",
    "Библиотеку functools содержит много полезных функций. Основную часть мы разберем, когда будем изучать декораторы. А сейчас давайте посмотрим на функцию `partial`. Она позволяет создать новую функцию, подставив в нее нужные нам аргументы."
   ]
  },
  {
   "cell_type": "code",
   "execution_count": 78,
   "id": "ac6b542e",
   "metadata": {},
   "outputs": [],
   "source": [
    "from functools import partial\n",
    "\n",
    "\n",
    "def foo(x, y, z):\n",
    "    return (x + y) * z\n",
    "\n",
    "\n",
    "partial_foo1 = partial(foo, 5)\n",
    "partial_foo2 = partial(foo, y=4)"
   ]
  },
  {
   "cell_type": "code",
   "execution_count": 79,
   "id": "dfaa3a15",
   "metadata": {},
   "outputs": [
    {
     "data": {
      "text/plain": [
       "21"
      ]
     },
     "execution_count": 79,
     "metadata": {},
     "output_type": "execute_result"
    }
   ],
   "source": [
    "partial_foo1(2, 3)"
   ]
  },
  {
   "cell_type": "code",
   "execution_count": 82,
   "id": "c4860bd8",
   "metadata": {},
   "outputs": [
    {
     "ename": "TypeError",
     "evalue": "foo() got multiple values for argument 'y'",
     "output_type": "error",
     "traceback": [
      "\u001b[0;31m---------------------------------------------------------------------------\u001b[0m",
      "\u001b[0;31mTypeError\u001b[0m                                 Traceback (most recent call last)",
      "Input \u001b[0;32mIn [82]\u001b[0m, in \u001b[0;36m<cell line: 1>\u001b[0;34m()\u001b[0m\n\u001b[0;32m----> 1\u001b[0m \u001b[43mpartial_foo2\u001b[49m\u001b[43m(\u001b[49m\u001b[38;5;241;43m2\u001b[39;49m\u001b[43m,\u001b[49m\u001b[43m \u001b[49m\u001b[38;5;241;43m3\u001b[39;49m\u001b[43m)\u001b[49m\n",
      "\u001b[0;31mTypeError\u001b[0m: foo() got multiple values for argument 'y'"
     ]
    }
   ],
   "source": [
    "partial_foo2(2, 3)"
   ]
  },
  {
   "cell_type": "markdown",
   "id": "92444af1",
   "metadata": {
    "slideshow": {
     "slide_type": "slide"
    }
   },
   "source": [
    "### Функциональщина\n",
    "\n",
    "В python есть много функций, которые присуще функциональным языкам программирования.\n",
    "\n",
    "* `map`\n",
    "* `filter`\n",
    "* `lambda`\n",
    "\n",
    "`lambda` функции – это однострочные короткие функции."
   ]
  },
  {
   "cell_type": "code",
   "execution_count": 133,
   "id": "485018b3",
   "metadata": {},
   "outputs": [
    {
     "data": {
      "text/plain": [
       "23"
      ]
     },
     "execution_count": 133,
     "metadata": {},
     "output_type": "execute_result"
    }
   ],
   "source": [
    "str2int = lambda x: int(x)\n",
    "str2int('23')"
   ]
  },
  {
   "cell_type": "code",
   "execution_count": 134,
   "id": "62da4963",
   "metadata": {
    "slideshow": {
     "slide_type": "slide"
    }
   },
   "outputs": [],
   "source": [
    "l = ['1', '2', '4', '5', '10']"
   ]
  },
  {
   "cell_type": "code",
   "execution_count": 150,
   "id": "2329a9fe",
   "metadata": {},
   "outputs": [
    {
     "data": {
      "text/plain": [
       "[1, 2, 4, 5, 10]"
      ]
     },
     "execution_count": 150,
     "metadata": {},
     "output_type": "execute_result"
    }
   ],
   "source": [
    "l = list(\n",
    "    map(\n",
    "        lambda x: int(x),\n",
    "        l,\n",
    "    )\n",
    ")\n",
    "l"
   ]
  },
  {
   "cell_type": "code",
   "execution_count": 137,
   "id": "4e16243a",
   "metadata": {},
   "outputs": [
    {
     "data": {
      "text/plain": [
       "[4, 5, 10]"
      ]
     },
     "execution_count": 137,
     "metadata": {},
     "output_type": "execute_result"
    }
   ],
   "source": [
    "filt_l = filter(\n",
    "    lambda x: x > 3, \n",
    "    l,\n",
    ")\n",
    "list(filt_l)"
   ]
  },
  {
   "cell_type": "markdown",
   "id": "06761f08",
   "metadata": {
    "slideshow": {
     "slide_type": "slide"
    }
   },
   "source": [
    "### Рекурсия\n",
    "\n",
    "Рекурсия – когда функция вызывает сама себя.\n",
    "\n",
    "<center>\n",
    "    <img src=\"../images/rec.gif\" width=\"600\"/>\n",
    "</center>"
   ]
  },
  {
   "cell_type": "code",
   "execution_count": null,
   "id": "0c7c3624",
   "metadata": {},
   "outputs": [],
   "source": [
    "5! = 5 * 4! = 5 * 4 * 3! = 5 * 4 * 3 * 2! = 5 * 4 * 3 * 2 * 1! =  5 * 4 * 3 * 2 * 1 * 1"
   ]
  },
  {
   "cell_type": "code",
   "execution_count": 163,
   "id": "679ded01",
   "metadata": {},
   "outputs": [],
   "source": [
    "sys.setrecursionlimit(10000)"
   ]
  },
  {
   "cell_type": "code",
   "execution_count": 164,
   "id": "310441e4",
   "metadata": {},
   "outputs": [
    {
     "data": {
      "text/plain": [
       "10000"
      ]
     },
     "execution_count": 164,
     "metadata": {},
     "output_type": "execute_result"
    }
   ],
   "source": [
    "sys.getrecursionlimit()"
   ]
  },
  {
   "cell_type": "code",
   "execution_count": 159,
   "id": "3434c49c",
   "metadata": {},
   "outputs": [],
   "source": [
    "import sys"
   ]
  },
  {
   "cell_type": "code",
   "execution_count": 166,
   "id": "d65fa1e9",
   "metadata": {},
   "outputs": [],
   "source": [
    "def factorial(n: int) -> int:\n",
    "    if n == 0:\n",
    "        return 1\n",
    "    \n",
    "    return n * factorial(n-1)\n",
    "\n",
    "\n",
    "# factorial(3_000)"
   ]
  }
 ],
 "metadata": {
  "kernelspec": {
   "display_name": "Python 3 (ipykernel)",
   "language": "python",
   "name": "python3"
  },
  "language_info": {
   "codemirror_mode": {
    "name": "ipython",
    "version": 3
   },
   "file_extension": ".py",
   "mimetype": "text/x-python",
   "name": "python",
   "nbconvert_exporter": "python",
   "pygments_lexer": "ipython3",
   "version": "3.9.12"
  }
 },
 "nbformat": 4,
 "nbformat_minor": 5
}
