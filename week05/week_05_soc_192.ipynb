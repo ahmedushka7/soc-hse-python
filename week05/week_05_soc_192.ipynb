{
 "cells": [
  {
   "cell_type": "markdown",
   "metadata": {},
   "source": [
    "# Анализируем перепись населения в штатах"
   ]
  },
  {
   "cell_type": "code",
   "execution_count": 1,
   "metadata": {},
   "outputs": [],
   "source": [
    "import pandas as pd\n",
    "import numpy as np"
   ]
  },
  {
   "cell_type": "code",
   "execution_count": 2,
   "metadata": {},
   "outputs": [],
   "source": [
    "df = pd.read_csv('data/counties.csv')"
   ]
  },
  {
   "cell_type": "code",
   "execution_count": 4,
   "metadata": {},
   "outputs": [
    {
     "data": {
      "text/plain": [
       "(3138, 40)"
      ]
     },
     "execution_count": 4,
     "metadata": {},
     "output_type": "execute_result"
    }
   ],
   "source": [
    "df.shape"
   ]
  },
  {
   "cell_type": "code",
   "execution_count": 6,
   "metadata": {},
   "outputs": [
    {
     "name": "stdout",
     "output_type": "stream",
     "text": [
      "<class 'pandas.core.frame.DataFrame'>\n",
      "RangeIndex: 3138 entries, 0 to 3137\n",
      "Data columns (total 40 columns):\n",
      " #   Column              Non-Null Count  Dtype  \n",
      "---  ------              --------------  -----  \n",
      " 0   census_id           3138 non-null   int64  \n",
      " 1   state               3138 non-null   object \n",
      " 2   county              3138 non-null   object \n",
      " 3   region              3138 non-null   object \n",
      " 4   metro               3138 non-null   object \n",
      " 5   population          3138 non-null   int64  \n",
      " 6   men                 3138 non-null   int64  \n",
      " 7   women               3138 non-null   int64  \n",
      " 8   hispanic            3138 non-null   float64\n",
      " 9   white               3138 non-null   float64\n",
      " 10  black               3138 non-null   float64\n",
      " 11  native              3138 non-null   float64\n",
      " 12  asian               3138 non-null   float64\n",
      " 13  pacific             3138 non-null   float64\n",
      " 14  citizens            3138 non-null   int64  \n",
      " 15  income              3138 non-null   int64  \n",
      " 16  income_err          3138 non-null   int64  \n",
      " 17  income_per_cap      3138 non-null   int64  \n",
      " 18  income_per_cap_err  3138 non-null   int64  \n",
      " 19  poverty             3138 non-null   float64\n",
      " 20  child_poverty       3137 non-null   float64\n",
      " 21  professional        3138 non-null   float64\n",
      " 22  service             3138 non-null   float64\n",
      " 23  office              3138 non-null   float64\n",
      " 24  construction        3138 non-null   float64\n",
      " 25  production          3138 non-null   float64\n",
      " 26  drive               3138 non-null   float64\n",
      " 27  carpool             3138 non-null   float64\n",
      " 28  transit             3138 non-null   float64\n",
      " 29  walk                3138 non-null   float64\n",
      " 30  other_transp        3138 non-null   float64\n",
      " 31  work_at_home        3138 non-null   float64\n",
      " 32  mean_commute        3138 non-null   float64\n",
      " 33  employed            3138 non-null   int64  \n",
      " 34  private_work        3138 non-null   float64\n",
      " 35  public_work         3138 non-null   float64\n",
      " 36  self_employed       3138 non-null   float64\n",
      " 37  family_work         3138 non-null   float64\n",
      " 38  unemployment        3138 non-null   float64\n",
      " 39  land_area           3138 non-null   float64\n",
      "dtypes: float64(26), int64(10), object(4)\n",
      "memory usage: 980.8+ KB\n"
     ]
    }
   ],
   "source": [
    "df.info()"
   ]
  },
  {
   "cell_type": "code",
   "execution_count": 7,
   "metadata": {},
   "outputs": [
    {
     "data": {
      "text/plain": [
       "census_id             0\n",
       "state                 0\n",
       "county                0\n",
       "region                0\n",
       "metro                 0\n",
       "population            0\n",
       "men                   0\n",
       "women                 0\n",
       "hispanic              0\n",
       "white                 0\n",
       "black                 0\n",
       "native                0\n",
       "asian                 0\n",
       "pacific               0\n",
       "citizens              0\n",
       "income                0\n",
       "income_err            0\n",
       "income_per_cap        0\n",
       "income_per_cap_err    0\n",
       "poverty               0\n",
       "child_poverty         1\n",
       "professional          0\n",
       "service               0\n",
       "office                0\n",
       "construction          0\n",
       "production            0\n",
       "drive                 0\n",
       "carpool               0\n",
       "transit               0\n",
       "walk                  0\n",
       "other_transp          0\n",
       "work_at_home          0\n",
       "mean_commute          0\n",
       "employed              0\n",
       "private_work          0\n",
       "public_work           0\n",
       "self_employed         0\n",
       "family_work           0\n",
       "unemployment          0\n",
       "land_area             0\n",
       "dtype: int64"
      ]
     },
     "execution_count": 7,
     "metadata": {},
     "output_type": "execute_result"
    }
   ],
   "source": [
    "df.isnull().sum()"
   ]
  },
  {
   "cell_type": "code",
   "execution_count": 11,
   "metadata": {},
   "outputs": [
    {
     "data": {
      "text/plain": [
       "58"
      ]
     },
     "execution_count": 11,
     "metadata": {},
     "output_type": "execute_result"
    }
   ],
   "source": [
    "df[df.state == 'California'].shape[0]"
   ]
  },
  {
   "cell_type": "code",
   "execution_count": 16,
   "metadata": {},
   "outputs": [
    {
     "data": {
      "text/plain": [
       "50"
      ]
     },
     "execution_count": 16,
     "metadata": {},
     "output_type": "execute_result"
    }
   ],
   "source": [
    "df[df.metro == 'Metro'].state.nunique()"
   ]
  },
  {
   "cell_type": "code",
   "execution_count": 17,
   "metadata": {},
   "outputs": [
    {
     "data": {
      "text/plain": [
       "50"
      ]
     },
     "execution_count": 17,
     "metadata": {},
     "output_type": "execute_result"
    }
   ],
   "source": [
    "df.state.nunique()"
   ]
  },
  {
   "cell_type": "code",
   "execution_count": 26,
   "metadata": {},
   "outputs": [],
   "source": [
    "df_alabama_m = df[(df.state == 'Alabama') & (df.metro == 'Metro')].reset_index(drop=True)"
   ]
  },
  {
   "cell_type": "code",
   "execution_count": 28,
   "metadata": {},
   "outputs": [
    {
     "data": {
      "text/html": [
       "<div>\n",
       "<style scoped>\n",
       "    .dataframe tbody tr th:only-of-type {\n",
       "        vertical-align: middle;\n",
       "    }\n",
       "\n",
       "    .dataframe tbody tr th {\n",
       "        vertical-align: top;\n",
       "    }\n",
       "\n",
       "    .dataframe thead th {\n",
       "        text-align: right;\n",
       "    }\n",
       "</style>\n",
       "<table border=\"1\" class=\"dataframe\">\n",
       "  <thead>\n",
       "    <tr style=\"text-align: right;\">\n",
       "      <th></th>\n",
       "      <th>census_id</th>\n",
       "      <th>state</th>\n",
       "      <th>county</th>\n",
       "      <th>region</th>\n",
       "      <th>metro</th>\n",
       "      <th>population</th>\n",
       "      <th>men</th>\n",
       "      <th>women</th>\n",
       "      <th>hispanic</th>\n",
       "      <th>white</th>\n",
       "      <th>...</th>\n",
       "      <th>other_transp</th>\n",
       "      <th>work_at_home</th>\n",
       "      <th>mean_commute</th>\n",
       "      <th>employed</th>\n",
       "      <th>private_work</th>\n",
       "      <th>public_work</th>\n",
       "      <th>self_employed</th>\n",
       "      <th>family_work</th>\n",
       "      <th>unemployment</th>\n",
       "      <th>land_area</th>\n",
       "    </tr>\n",
       "  </thead>\n",
       "  <tbody>\n",
       "    <tr>\n",
       "      <th>18</th>\n",
       "      <td>1085</td>\n",
       "      <td>Alabama</td>\n",
       "      <td>Lowndes</td>\n",
       "      <td>South</td>\n",
       "      <td>Metro</td>\n",
       "      <td>10742</td>\n",
       "      <td>5125</td>\n",
       "      <td>5617</td>\n",
       "      <td>0.3</td>\n",
       "      <td>25.3</td>\n",
       "      <td>...</td>\n",
       "      <td>0.3</td>\n",
       "      <td>2.7</td>\n",
       "      <td>29.5</td>\n",
       "      <td>3471</td>\n",
       "      <td>73.9</td>\n",
       "      <td>20.5</td>\n",
       "      <td>4.2</td>\n",
       "      <td>1.5</td>\n",
       "      <td>13.2</td>\n",
       "      <td>715.91</td>\n",
       "    </tr>\n",
       "  </tbody>\n",
       "</table>\n",
       "<p>1 rows × 40 columns</p>\n",
       "</div>"
      ],
      "text/plain": [
       "    census_id    state   county region  metro  population   men  women  \\\n",
       "18       1085  Alabama  Lowndes  South  Metro       10742  5125   5617   \n",
       "\n",
       "    hispanic  white  ...  other_transp  work_at_home  mean_commute  employed  \\\n",
       "18       0.3   25.3  ...           0.3           2.7          29.5      3471   \n",
       "\n",
       "    private_work  public_work  self_employed  family_work  unemployment  \\\n",
       "18          73.9         20.5            4.2          1.5          13.2   \n",
       "\n",
       "    land_area  \n",
       "18     715.91  \n",
       "\n",
       "[1 rows x 40 columns]"
      ]
     },
     "execution_count": 28,
     "metadata": {},
     "output_type": "execute_result"
    }
   ],
   "source": [
    "df_alabama_m[df_alabama_m.population == df_alabama_m.population.min()]"
   ]
  },
  {
   "cell_type": "markdown",
   "metadata": {},
   "source": [
    "Вывести топ-5 штатов по кол-ву населения. "
   ]
  },
  {
   "cell_type": "code",
   "execution_count": 36,
   "metadata": {},
   "outputs": [
    {
     "data": {
      "text/plain": [
       "state\n",
       "California    38421464\n",
       "Texas         26538497\n",
       "New York      19673174\n",
       "Florida       19645772\n",
       "Illinois      12873761\n",
       "Name: population, dtype: int64"
      ]
     },
     "execution_count": 36,
     "metadata": {},
     "output_type": "execute_result"
    }
   ],
   "source": [
    "df.groupby('state').population.sum().sort_values(ascending=False).head()"
   ]
  },
  {
   "cell_type": "code",
   "execution_count": 38,
   "metadata": {},
   "outputs": [
    {
     "data": {
      "text/plain": [
       "315845353"
      ]
     },
     "execution_count": 38,
     "metadata": {},
     "output_type": "execute_result"
    }
   ],
   "source": [
    "df.population.sum()"
   ]
  },
  {
   "cell_type": "code",
   "execution_count": 41,
   "metadata": {},
   "outputs": [
    {
     "data": {
      "text/plain": [
       "metro     state        \n",
       "Metro     Alabama          1.265992e+05\n",
       "          Alaska           1.649967e+05\n",
       "          Arizona          7.868931e+05\n",
       "          Arkansas         9.034335e+04\n",
       "          California       1.015876e+06\n",
       "                               ...     \n",
       "Nonmetro  Virginia         2.002409e+04\n",
       "          Washington       3.959217e+04\n",
       "          West Virginia    2.099697e+04\n",
       "          Wisconsin        3.271235e+04\n",
       "          Wyoming          1.924938e+04\n",
       "Name: population, Length: 97, dtype: float64"
      ]
     },
     "execution_count": 41,
     "metadata": {},
     "output_type": "execute_result"
    }
   ],
   "source": [
    "df.groupby(['metro', 'state']).population.mean()"
   ]
  },
  {
   "cell_type": "code",
   "execution_count": 42,
   "metadata": {},
   "outputs": [
    {
     "data": {
      "text/plain": [
       "state          metro   \n",
       "Alabama        Metro       126599.206897\n",
       "               Nonmetro     30506.394737\n",
       "Alaska         Metro       164996.666667\n",
       "               Nonmetro      9218.840000\n",
       "Arizona        Metro       786893.125000\n",
       "                               ...      \n",
       "West Virginia  Nonmetro     20996.970588\n",
       "Wisconsin      Metro       162974.961538\n",
       "               Nonmetro     32712.347826\n",
       "Wyoming        Metro        87721.000000\n",
       "               Nonmetro     19249.380952\n",
       "Name: population, Length: 97, dtype: float64"
      ]
     },
     "execution_count": 42,
     "metadata": {},
     "output_type": "execute_result"
    }
   ],
   "source": [
    "df.groupby(['state', 'metro']).population.mean()"
   ]
  },
  {
   "cell_type": "markdown",
   "metadata": {},
   "source": [
    "## Переходим к визуализации"
   ]
  },
  {
   "cell_type": "code",
   "execution_count": 49,
   "metadata": {},
   "outputs": [
    {
     "data": {
      "text/plain": [
       "<AxesSubplot:>"
      ]
     },
     "execution_count": 49,
     "metadata": {},
     "output_type": "execute_result"
    },
    {
     "data": {
      "image/png": "[encoded data removed]",
      "text/plain": [
       "<Figure size 432x288 with 1 Axes>"
      ]
     },
     "metadata": {
      "needs_background": "light"
     },
     "output_type": "display_data"
    }
   ],
   "source": [
    "df.population.hist(bins=100, log=True)"
   ]
  },
  {
   "cell_type": "code",
   "execution_count": 50,
   "metadata": {},
   "outputs": [],
   "source": [
    "import matplotlib.pyplot as plt\n",
    "\n",
    "%matplotlib inline\n",
    "\n",
    "import seaborn as sns"
   ]
  },
  {
   "cell_type": "code",
   "execution_count": 54,
   "metadata": {},
   "outputs": [
    {
     "data": {
      "text/plain": [
       "[<matplotlib.lines.Line2D at 0x7fa96937e550>]"
      ]
     },
     "execution_count": 54,
     "metadata": {},
     "output_type": "execute_result"
    },
    {
     "data": {
      "image/png": "[encoded data removed]",
      "text/plain": [
       "<Figure size 432x288 with 1 Axes>"
      ]
     },
     "metadata": {
      "needs_background": "light"
     },
     "output_type": "display_data"
    }
   ],
   "source": [
    "plt.plot([1, 2, 3], [2, 4, 5], linestyle=':')"
   ]
  },
  {
   "cell_type": "code",
   "execution_count": 55,
   "metadata": {},
   "outputs": [],
   "source": [
    "df = pd.read_csv('data/video_games_sales.csv')"
   ]
  },
  {
   "cell_type": "markdown",
   "metadata": {},
   "source": [
    "### Про типы переменных"
   ]
  },
  {
   "cell_type": "markdown",
   "metadata": {},
   "source": [
    "- непрерывные переменные (рост человека, выручка магазина, объем продаж, кол-во лайков)\n",
    "- категориальные (ограниченное маленькое число значений)\n",
    "- дата"
   ]
  },
  {
   "cell_type": "markdown",
   "metadata": {},
   "source": [
    "### 1. Графики для непрерывных переменных\n",
    "- lineplot"
   ]
  },
  {
   "cell_type": "markdown",
   "metadata": {},
   "source": [
    "Хотим посмотреть на суммарное кол-во продаж в каждый год"
   ]
  },
  {
   "cell_type": "code",
   "execution_count": 62,
   "metadata": {},
   "outputs": [],
   "source": [
    "df_sales = df.groupby('Year_of_Release').Global_Sales.sum().reset_index()"
   ]
  },
  {
   "cell_type": "code",
   "execution_count": 82,
   "metadata": {},
   "outputs": [
    {
     "data": {
      "text/plain": [
       "Text(0.5, 1.0, 'Динамика продаж игр во времени')"
      ]
     },
     "execution_count": 82,
     "metadata": {},
     "output_type": "execute_result"
    },
    {
     "data": {
      "image/png": "[encoded data removed]",
      "text/plain": [
       "<Figure size 720x360 with 1 Axes>"
      ]
     },
     "metadata": {
      "needs_background": "light"
     },
     "output_type": "display_data"
    }
   ],
   "source": [
    "plt.figure(figsize=(10, 5))\n",
    "plt.plot(df_sales.Year_of_Release, df_sales.Global_Sales)\n",
    "plt.xlabel('Год')\n",
    "plt.ylabel('Продажи, млн')\n",
    "plt.title('Динамика продаж игр во времени')\n",
    "\n",
    "# plt.savefig('plot.png')"
   ]
  },
  {
   "cell_type": "code",
   "execution_count": 101,
   "metadata": {},
   "outputs": [],
   "source": [
    "useful_cols = ['NA_Sales', 'EU_Sales', 'JP_Sales', 'Other_Sales', 'Global_Sales']\n",
    "\n",
    "df_sales = df.groupby('Year_of_Release')[useful_cols].sum().reset_index()"
   ]
  },
  {
   "cell_type": "code",
   "execution_count": 141,
   "metadata": {},
   "outputs": [
    {
     "data": {
      "image/png": "[encoded data removed]",
      "text/plain": [
       "<Figure size 720x360 with 1 Axes>"
      ]
     },
     "metadata": {
      "needs_background": "light"
     },
     "output_type": "display_data"
    }
   ],
   "source": [
    "plt.figure(figsize=(10, 5))\n",
    "\n",
    "plt.plot(df_sales.Year_of_Release, df_sales.NA_Sales, label='North America', color='#1ccbe5', ls='--', marker='o')\n",
    "plt.plot(df_sales.Year_of_Release, df_sales.EU_Sales, label='Europe')\n",
    "plt.plot(df_sales.Year_of_Release, df_sales.JP_Sales, label='Japan')\n",
    "plt.plot(df_sales.Year_of_Release, df_sales.Other_Sales, label='Other countries')\n",
    "plt.plot(df_sales.Year_of_Release, df_sales.Global_Sales, label='Global')\n",
    "\n",
    "plt.legend()\n",
    "\n",
    "plt.xlabel('Год')\n",
    "plt.ylabel('Продажи, млн')\n",
    "plt.title('Динамика продаж игр во времени');"
   ]
  },
  {
   "cell_type": "code",
   "execution_count": 110,
   "metadata": {},
   "outputs": [
    {
     "data": {
      "text/html": [
       "<div>\n",
       "<style scoped>\n",
       "    .dataframe tbody tr th:only-of-type {\n",
       "        vertical-align: middle;\n",
       "    }\n",
       "\n",
       "    .dataframe tbody tr th {\n",
       "        vertical-align: top;\n",
       "    }\n",
       "\n",
       "    .dataframe thead th {\n",
       "        text-align: right;\n",
       "    }\n",
       "</style>\n",
       "<table border=\"1\" class=\"dataframe\">\n",
       "  <thead>\n",
       "    <tr style=\"text-align: right;\">\n",
       "      <th></th>\n",
       "      <th>Year_of_Release</th>\n",
       "      <th>NA_Sales</th>\n",
       "      <th>EU_Sales</th>\n",
       "      <th>JP_Sales</th>\n",
       "      <th>Other_Sales</th>\n",
       "      <th>Global_Sales</th>\n",
       "    </tr>\n",
       "  </thead>\n",
       "  <tbody>\n",
       "    <tr>\n",
       "      <th>0</th>\n",
       "      <td>1980.0</td>\n",
       "      <td>10.59</td>\n",
       "      <td>0.67</td>\n",
       "      <td>0.00</td>\n",
       "      <td>0.12</td>\n",
       "      <td>11.38</td>\n",
       "    </tr>\n",
       "    <tr>\n",
       "      <th>1</th>\n",
       "      <td>1981.0</td>\n",
       "      <td>33.40</td>\n",
       "      <td>1.96</td>\n",
       "      <td>0.00</td>\n",
       "      <td>0.32</td>\n",
       "      <td>35.77</td>\n",
       "    </tr>\n",
       "    <tr>\n",
       "      <th>2</th>\n",
       "      <td>1982.0</td>\n",
       "      <td>26.92</td>\n",
       "      <td>1.65</td>\n",
       "      <td>0.00</td>\n",
       "      <td>0.31</td>\n",
       "      <td>28.86</td>\n",
       "    </tr>\n",
       "    <tr>\n",
       "      <th>3</th>\n",
       "      <td>1983.0</td>\n",
       "      <td>7.76</td>\n",
       "      <td>0.80</td>\n",
       "      <td>8.10</td>\n",
       "      <td>0.14</td>\n",
       "      <td>16.79</td>\n",
       "    </tr>\n",
       "    <tr>\n",
       "      <th>4</th>\n",
       "      <td>1984.0</td>\n",
       "      <td>33.28</td>\n",
       "      <td>2.10</td>\n",
       "      <td>14.27</td>\n",
       "      <td>0.70</td>\n",
       "      <td>50.36</td>\n",
       "    </tr>\n",
       "  </tbody>\n",
       "</table>\n",
       "</div>"
      ],
      "text/plain": [
       "   Year_of_Release  NA_Sales  EU_Sales  JP_Sales  Other_Sales  Global_Sales\n",
       "0           1980.0     10.59      0.67      0.00         0.12         11.38\n",
       "1           1981.0     33.40      1.96      0.00         0.32         35.77\n",
       "2           1982.0     26.92      1.65      0.00         0.31         28.86\n",
       "3           1983.0      7.76      0.80      8.10         0.14         16.79\n",
       "4           1984.0     33.28      2.10     14.27         0.70         50.36"
      ]
     },
     "execution_count": 110,
     "metadata": {},
     "output_type": "execute_result"
    }
   ],
   "source": [
    "df_sales.head()"
   ]
  },
  {
   "cell_type": "code",
   "execution_count": 119,
   "metadata": {},
   "outputs": [
    {
     "data": {
      "text/plain": [
       "<matplotlib.legend.Legend at 0x7fa9b1463c40>"
      ]
     },
     "execution_count": 119,
     "metadata": {},
     "output_type": "execute_result"
    },
    {
     "data": {
      "image/png": "[encoded data removed]",
      "text/plain": [
       "<Figure size 1008x360 with 2 Axes>"
      ]
     },
     "metadata": {
      "needs_background": "light"
     },
     "output_type": "display_data"
    }
   ],
   "source": [
    "fig, ax = plt.subplots(1, 2, figsize=(14, 5))\n",
    "\n",
    "ax[0].plot(df_sales.Year_of_Release, df_sales.Global_Sales, color='#1ccbe5')\n",
    "\n",
    "ax[1].plot(df_sales.Year_of_Release, df_sales.NA_Sales, label='North America')\n",
    "ax[1].plot(df_sales.Year_of_Release, df_sales.EU_Sales, label='Europe')\n",
    "ax[1].plot(df_sales.Year_of_Release, df_sales.JP_Sales, label='Japan')\n",
    "ax[1].plot(df_sales.Year_of_Release, df_sales.Other_Sales, label='Other countries')\n",
    "\n",
    "\n",
    "ax[1].legend()"
   ]
  },
  {
   "cell_type": "markdown",
   "metadata": {},
   "source": [
    "### 2. Графики для категориальных переменных"
   ]
  },
  {
   "cell_type": "code",
   "execution_count": 125,
   "metadata": {},
   "outputs": [],
   "source": [
    "df_rating = df.groupby('Genre')['Critic_Score'].mean().reset_index()"
   ]
  },
  {
   "cell_type": "code",
   "execution_count": 126,
   "metadata": {},
   "outputs": [
    {
     "data": {
      "text/html": [
       "<div>\n",
       "<style scoped>\n",
       "    .dataframe tbody tr th:only-of-type {\n",
       "        vertical-align: middle;\n",
       "    }\n",
       "\n",
       "    .dataframe tbody tr th {\n",
       "        vertical-align: top;\n",
       "    }\n",
       "\n",
       "    .dataframe thead th {\n",
       "        text-align: right;\n",
       "    }\n",
       "</style>\n",
       "<table border=\"1\" class=\"dataframe\">\n",
       "  <thead>\n",
       "    <tr style=\"text-align: right;\">\n",
       "      <th></th>\n",
       "      <th>Genre</th>\n",
       "      <th>Critic_Score</th>\n",
       "    </tr>\n",
       "  </thead>\n",
       "  <tbody>\n",
       "    <tr>\n",
       "      <th>0</th>\n",
       "      <td>Action</td>\n",
       "      <td>66.629101</td>\n",
       "    </tr>\n",
       "    <tr>\n",
       "      <th>1</th>\n",
       "      <td>Adventure</td>\n",
       "      <td>65.331269</td>\n",
       "    </tr>\n",
       "    <tr>\n",
       "      <th>2</th>\n",
       "      <td>Fighting</td>\n",
       "      <td>69.217604</td>\n",
       "    </tr>\n",
       "    <tr>\n",
       "      <th>3</th>\n",
       "      <td>Misc</td>\n",
       "      <td>66.619503</td>\n",
       "    </tr>\n",
       "    <tr>\n",
       "      <th>4</th>\n",
       "      <td>Platform</td>\n",
       "      <td>68.058350</td>\n",
       "    </tr>\n",
       "    <tr>\n",
       "      <th>5</th>\n",
       "      <td>Puzzle</td>\n",
       "      <td>67.424107</td>\n",
       "    </tr>\n",
       "    <tr>\n",
       "      <th>6</th>\n",
       "      <td>Racing</td>\n",
       "      <td>67.963612</td>\n",
       "    </tr>\n",
       "    <tr>\n",
       "      <th>7</th>\n",
       "      <td>Role-Playing</td>\n",
       "      <td>72.652646</td>\n",
       "    </tr>\n",
       "    <tr>\n",
       "      <th>8</th>\n",
       "      <td>Shooter</td>\n",
       "      <td>70.181144</td>\n",
       "    </tr>\n",
       "    <tr>\n",
       "      <th>9</th>\n",
       "      <td>Simulation</td>\n",
       "      <td>68.619318</td>\n",
       "    </tr>\n",
       "    <tr>\n",
       "      <th>10</th>\n",
       "      <td>Sports</td>\n",
       "      <td>71.968174</td>\n",
       "    </tr>\n",
       "    <tr>\n",
       "      <th>11</th>\n",
       "      <td>Strategy</td>\n",
       "      <td>72.086093</td>\n",
       "    </tr>\n",
       "  </tbody>\n",
       "</table>\n",
       "</div>"
      ],
      "text/plain": [
       "           Genre  Critic_Score\n",
       "0         Action     66.629101\n",
       "1      Adventure     65.331269\n",
       "2       Fighting     69.217604\n",
       "3           Misc     66.619503\n",
       "4       Platform     68.058350\n",
       "5         Puzzle     67.424107\n",
       "6         Racing     67.963612\n",
       "7   Role-Playing     72.652646\n",
       "8        Shooter     70.181144\n",
       "9     Simulation     68.619318\n",
       "10        Sports     71.968174\n",
       "11      Strategy     72.086093"
      ]
     },
     "execution_count": 126,
     "metadata": {},
     "output_type": "execute_result"
    }
   ],
   "source": [
    "df_rating"
   ]
  },
  {
   "cell_type": "code",
   "execution_count": 134,
   "metadata": {},
   "outputs": [
    {
     "data": {
      "text/plain": [
       "Text(0, 0.5, 'Жанр')"
      ]
     },
     "execution_count": 134,
     "metadata": {},
     "output_type": "execute_result"
    },
    {
     "data": {
      "image/png": "[encoded data removed]",
      "text/plain": [
       "<Figure size 432x288 with 1 Axes>"
      ]
     },
     "metadata": {
      "needs_background": "light"
     },
     "output_type": "display_data"
    }
   ],
   "source": [
    "plt.barh(df_rating.Genre, df_rating.Critic_Score)\n",
    "plt.xlabel('Средний рейтинг')\n",
    "plt.ylabel('Жанр')"
   ]
  },
  {
   "cell_type": "code",
   "execution_count": 122,
   "metadata": {},
   "outputs": [
    {
     "data": {
      "text/plain": [
       "(13.0, 98.0)"
      ]
     },
     "execution_count": 122,
     "metadata": {},
     "output_type": "execute_result"
    }
   ],
   "source": [
    "min(df.Critic_Score), max(df.Critic_Score)"
   ]
  },
  {
   "cell_type": "markdown",
   "metadata": {},
   "source": [
    "## Seaborn"
   ]
  },
  {
   "cell_type": "markdown",
   "metadata": {},
   "source": [
    "Это пакет для статистических графиков, будем знакомиться подробно, когда будем изучать статистику"
   ]
  },
  {
   "cell_type": "markdown",
   "metadata": {},
   "source": []
  }
 ],
 "metadata": {
  "kernelspec": {
   "display_name": "Python 3",
   "language": "python",
   "name": "python3"
  },
  "language_info": {
   "codemirror_mode": {
    "name": "ipython",
    "version": 3
   },
   "file_extension": ".py",
   "mimetype": "text/x-python",
   "name": "python",
   "nbconvert_exporter": "python",
   "pygments_lexer": "ipython3",
   "version": "3.8.5"
  }
 },
 "nbformat": 4,
 "nbformat_minor": 4
}
