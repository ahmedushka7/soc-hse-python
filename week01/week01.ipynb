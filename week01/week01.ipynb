{
 "cells": [
  {
   "cell_type": "markdown",
   "metadata": {},
   "source": [
    "# Неделя №1: Проваливаемся в воспоминания"
   ]
  },
  {
   "cell_type": "markdown",
   "metadata": {},
   "source": [
    "<img src=\"../images/sem_01.jpg\" width=\"500\">"
   ]
  },
  {
   "cell_type": "markdown",
   "metadata": {},
   "source": [
    "## 1. Что такое IDE и где мы сейчас находимся\n",
    "\n",
    "`IDE` - это по сути удобный блокнот, в котором можно писать код со всякими разными ништяками. Например, одним из IDE является **jupyter notebook**, в котором мы сейчас и находимся. Он хорош тем, что позволяет совмещать как маркдаун разметку (текст / красивые заголовки / математический шрифт и тд), так и ячейки с выполнением кода. Jupyter notebook считается лучшим IDE, когда речь заходит об анализе данных, учебе и написании скриптов для себя.  \n",
    "\n",
    "Другим популярным IDE является **Pycharm**. Его обычно используют, когда есть какой-то проект, совмещающий в себе много питонячих скриптов, модулей, тестов и тд. С ним можно часто столкнуться, работая в IT-компании, когда вы пишете код в production."
   ]
  },
  {
   "cell_type": "markdown",
   "metadata": {},
   "source": [
    "## 2. Простейшие объекты в python"
   ]
  },
  {
   "cell_type": "markdown",
   "metadata": {},
   "source": [
    "Все, с чем вы работаете в питоне, является **объектом**. Будь то число, строка, функция, метод или класс - все это объекты! Познакомимся с простейшими из них: \n",
    "\n",
    "* `int` - целое число (примеры: 5, 0, -1) \n",
    "* `float` - вещественное число (примеры: 2.3, 4.0)\n",
    "* `str` - строка (примеры: 'Maxim', 'Hello world!')\n",
    "* `bool` - булевский оператор (примеры: True, False)\n",
    "* `None` - отстуствие значения"
   ]
  },
  {
   "cell_type": "markdown",
   "metadata": {},
   "source": [
    "### Числа"
   ]
  },
  {
   "cell_type": "markdown",
   "metadata": {},
   "source": [
    "С числами можно совершать арифметические операции:"
   ]
  },
  {
   "cell_type": "code",
   "execution_count": 8,
   "metadata": {},
   "outputs": [
    {
     "data": {
      "text/plain": [
       "4"
      ]
     },
     "execution_count": 8,
     "metadata": {},
     "output_type": "execute_result"
    }
   ],
   "source": [
    "2 + 2"
   ]
  },
  {
   "cell_type": "code",
   "execution_count": 9,
   "metadata": {},
   "outputs": [
    {
     "data": {
      "text/plain": [
       "0.8333333333333334"
      ]
     },
     "execution_count": 9,
     "metadata": {},
     "output_type": "execute_result"
    }
   ],
   "source": [
    "2.5 / 3"
   ]
  },
  {
   "cell_type": "code",
   "execution_count": 12,
   "metadata": {},
   "outputs": [
    {
     "data": {
      "text/plain": [
       "25"
      ]
     },
     "execution_count": 12,
     "metadata": {},
     "output_type": "execute_result"
    }
   ],
   "source": [
    "(-5)**2"
   ]
  },
  {
   "cell_type": "code",
   "execution_count": 13,
   "metadata": {},
   "outputs": [
    {
     "data": {
      "text/plain": [
       "3"
      ]
     },
     "execution_count": 13,
     "metadata": {},
     "output_type": "execute_result"
    }
   ],
   "source": [
    "7 // 2 # целая часть от деления"
   ]
  },
  {
   "cell_type": "code",
   "execution_count": 14,
   "metadata": {},
   "outputs": [
    {
     "data": {
      "text/plain": [
       "1"
      ]
     },
     "execution_count": 14,
     "metadata": {},
     "output_type": "execute_result"
    }
   ],
   "source": [
    "7 % 2 # остаток от деления"
   ]
  },
  {
   "cell_type": "markdown",
   "metadata": {},
   "source": [
    "### Строки"
   ]
  },
  {
   "cell_type": "code",
   "execution_count": 15,
   "metadata": {},
   "outputs": [
    {
     "data": {
      "text/plain": [
       "'Hello World!'"
      ]
     },
     "execution_count": 15,
     "metadata": {},
     "output_type": "execute_result"
    }
   ],
   "source": [
    "# Строки тоже можно складывать, но по своим правилам\n",
    "'Hello' + ' ' + 'World' + '!'"
   ]
  },
  {
   "cell_type": "code",
   "execution_count": 4,
   "metadata": {},
   "outputs": [
    {
     "name": "stdout",
     "output_type": "stream",
     "text": [
      "Это очень длинный текст длинный длинный текст текст текст текст текст текст и все еще текст\n"
     ]
    }
   ],
   "source": [
    "# Можно разбивать строки с помощью `\\`\n",
    "\n",
    "long_string = \"Это очень длинный текст длинный длинный \" \\\n",
    "            \"текст текст текст текст текст текст \" \\\n",
    "            \"и все еще текст\"\n",
    "\n",
    "print(long_string)"
   ]
  },
  {
   "cell_type": "code",
   "execution_count": 15,
   "metadata": {},
   "outputs": [
    {
     "name": "stdout",
     "output_type": "stream",
     "text": [
      "Рюк любит яблоки\n"
     ]
    }
   ],
   "source": [
    "# форматирование строк\n",
    "name = 'Рюк'\n",
    "fruit = 'яблоки'\n",
    "\n",
    "print(f'{name} любит {fruit}')"
   ]
  },
  {
   "cell_type": "code",
   "execution_count": 16,
   "metadata": {},
   "outputs": [
    {
     "name": "stdout",
     "output_type": "stream",
     "text": [
      "b'\\xd0\\x9f\\xd1\\x80\\xd0\\xb8\\xd0\\xb2\\xd0\\xb5\\xd1\\x82'\n",
      "\n",
      "Привет\n"
     ]
    }
   ],
   "source": [
    "# переводим строку в байты и наоборот\n",
    "ex = 'Привет'\n",
    "\n",
    "ex = ex.encode(encoding='utf-8')\n",
    "print(ex)\n",
    "print()\n",
    "\n",
    "ex = ex.decode()\n",
    "print(ex)"
   ]
  },
  {
   "cell_type": "markdown",
   "metadata": {},
   "source": [
    "### Булевские операторы"
   ]
  },
  {
   "cell_type": "markdown",
   "metadata": {},
   "source": [
    "Во-первых, `True` и `False` это алиасы к $1$ и $0$, соответственно:"
   ]
  },
  {
   "cell_type": "code",
   "execution_count": 1,
   "metadata": {},
   "outputs": [
    {
     "data": {
      "text/plain": [
       "1"
      ]
     },
     "execution_count": 1,
     "metadata": {},
     "output_type": "execute_result"
    }
   ],
   "source": [
    "True + False "
   ]
  },
  {
   "cell_type": "markdown",
   "metadata": {},
   "source": [
    "Во-вторых, булевский оператор можно применить к любому объекту:"
   ]
  },
  {
   "cell_type": "code",
   "execution_count": 3,
   "metadata": {},
   "outputs": [
    {
     "name": "stdout",
     "output_type": "stream",
     "text": [
      "True\n",
      "True\n"
     ]
    }
   ],
   "source": [
    "# непустая строка / массив и тд это всегда True\n",
    "print(bool('42'))\n",
    "print(bool(['']))"
   ]
  },
  {
   "cell_type": "code",
   "execution_count": 5,
   "metadata": {},
   "outputs": [
    {
     "name": "stdout",
     "output_type": "stream",
     "text": [
      "False\n",
      "False\n",
      "False\n"
     ]
    }
   ],
   "source": [
    "# пустая строка / массив и None это False\n",
    "# таким образом можно проверять, идут ли вам на вход пустые данные\n",
    "print(bool(''))\n",
    "print(bool([]))\n",
    "print(bool(None))"
   ]
  },
  {
   "cell_type": "code",
   "execution_count": 8,
   "metadata": {},
   "outputs": [
    {
     "name": "stdout",
     "output_type": "stream",
     "text": [
      "This message will printed\n"
     ]
    }
   ],
   "source": [
    "if []: \n",
    "    print('This message will never printed')\n",
    "elif ['']:\n",
    "    print('This message will printed')"
   ]
  },
  {
   "cell_type": "markdown",
   "metadata": {},
   "source": [
    "В-третьих, работа с операторами:"
   ]
  },
  {
   "cell_type": "code",
   "execution_count": 10,
   "metadata": {},
   "outputs": [
    {
     "name": "stdout",
     "output_type": "stream",
     "text": [
      "False\n",
      "True\n",
      "False\n",
      "True\n"
     ]
    }
   ],
   "source": [
    "print(True and False)\n",
    "print(True or False)\n",
    "print(not True and not False)\n",
    "print(not (True and False))"
   ]
  },
  {
   "cell_type": "markdown",
   "metadata": {},
   "source": [
    "Магический метод `__bool__` в классе (но об этом подробнее чуть позже) можно менять:"
   ]
  },
  {
   "cell_type": "code",
   "execution_count": 11,
   "metadata": {},
   "outputs": [
    {
     "data": {
      "text/plain": [
       "False"
      ]
     },
     "execution_count": 11,
     "metadata": {},
     "output_type": "execute_result"
    }
   ],
   "source": [
    "class Foo:\n",
    "    def __bool__(self):\n",
    "        return False\n",
    "    \n",
    "foo = Foo()\n",
    "bool(foo)"
   ]
  },
  {
   "cell_type": "markdown",
   "metadata": {},
   "source": [
    "**None:**  "
   ]
  },
  {
   "cell_type": "code",
   "execution_count": 12,
   "metadata": {},
   "outputs": [
    {
     "name": "stdout",
     "output_type": "stream",
     "text": [
      "True\n",
      "True\n"
     ]
    }
   ],
   "source": [
    "print(None is None)\n",
    "print(None == None)"
   ]
  },
  {
   "cell_type": "markdown",
   "metadata": {},
   "source": [
    "Узнать тип объекта можно с помощью функции `type()`, а с помощью функций `int()`, `float()`, `str()`, `bool()` можно переводить объекты одного типа в другой (когда это изменение адекватное) "
   ]
  },
  {
   "cell_type": "code",
   "execution_count": 16,
   "metadata": {},
   "outputs": [
    {
     "data": {
      "text/plain": [
       "str"
      ]
     },
     "execution_count": 16,
     "metadata": {},
     "output_type": "execute_result"
    }
   ],
   "source": [
    "type('5')"
   ]
  },
  {
   "cell_type": "code",
   "execution_count": 20,
   "metadata": {},
   "outputs": [
    {
     "data": {
      "text/plain": [
       "5"
      ]
     },
     "execution_count": 20,
     "metadata": {},
     "output_type": "execute_result"
    }
   ],
   "source": [
    "int('5')"
   ]
  },
  {
   "cell_type": "code",
   "execution_count": 21,
   "metadata": {},
   "outputs": [
    {
     "data": {
      "text/plain": [
       "int"
      ]
     },
     "execution_count": 21,
     "metadata": {},
     "output_type": "execute_result"
    }
   ],
   "source": [
    "type(int('5'))"
   ]
  },
  {
   "cell_type": "markdown",
   "metadata": {},
   "source": [
    "## 3. Немного про функции"
   ]
  },
  {
   "cell_type": "markdown",
   "metadata": {},
   "source": [
    "Функции - это объекты, которые принимают что-то на вход, делают с этим что-то (выполняется **\"черный ящик\"**), а затем выдают что-то на выход.  \n",
    "\n",
    "Например, функция $y = x^2$ принимает на вход $x$, затем \"черный ящик\" возводит $x$ в квадрат, а затем функция выдает $y$ (то есть квадрат числа $x$)  \n",
    "\n",
    "<img src=\"../images/sem_01_func.png\" width=\"500\">"
   ]
  },
  {
   "cell_type": "markdown",
   "metadata": {},
   "source": [
    "В питоне функции имеют свои названия и для того чтобы вызвать функцию, нужно написать название этой функции, поставить круглые скобки и указать внутри все аргументы, которые вам нужны и которые эта функция принимает. Чтобы понять, какие аргументы внутри функции есть, и как они называются, можно написать название функции, поставить круглые скобки и нажать сочетание клавиш `Shift` + `Tab`. Вам вылезет документация функции. "
   ]
  },
  {
   "cell_type": "code",
   "execution_count": 4,
   "metadata": {},
   "outputs": [
    {
     "data": {
      "text/plain": [
       "4.535"
      ]
     },
     "execution_count": 4,
     "metadata": {},
     "output_type": "execute_result"
    }
   ],
   "source": [
    "# округлим число до 3х знаков после запятой. За это отвечает аргумент ndigits\n",
    "round(number=4.5345453, ndigits=3)"
   ]
  },
  {
   "cell_type": "markdown",
   "metadata": {},
   "source": [
    "Если вы передаете в функцию аргументы в том порядке, в каком они записаны в устройстве функции, то название аргументов можно не писать:"
   ]
  },
  {
   "cell_type": "code",
   "execution_count": 5,
   "metadata": {},
   "outputs": [
    {
     "data": {
      "text/plain": [
       "4.535"
      ]
     },
     "execution_count": 5,
     "metadata": {},
     "output_type": "execute_result"
    }
   ],
   "source": [
    "round(4.5345453, 3)"
   ]
  },
  {
   "cell_type": "markdown",
   "metadata": {},
   "source": [
    "## 3. Модули"
   ]
  },
  {
   "cell_type": "markdown",
   "metadata": {},
   "source": [
    "Функций в питоне очень очень много. Чтобы их немного укомплектовать, создаются **модули** (иногда называют _пакетами_ или _библиотеками_). Обычно в одном таком модуле находится куча разных функций, объединенных по какому-то правилу. Например, в модуле **tensorflow** лежит куча функций и других объектов, которые позволяют создавать свои собственные нейронные сети, а в модуле **pandas** лежит куча функционала по анализу данных (с ним мы вскоре познакомимся). Другим таким модулем является модуль **math**, в котором лежат разные математические функции. Давайте посмотрим, как можно подгружать модули и доставать из них определенные функции. "
   ]
  },
  {
   "cell_type": "code",
   "execution_count": 22,
   "metadata": {},
   "outputs": [
    {
     "data": {
      "text/plain": [
       "2.0"
      ]
     },
     "execution_count": 22,
     "metadata": {},
     "output_type": "execute_result"
    }
   ],
   "source": [
    "import math \n",
    "\n",
    "math.sqrt(4)"
   ]
  },
  {
   "cell_type": "markdown",
   "metadata": {},
   "source": [
    "Если нам нужна всего одна функция из пакета, то мы можем подгрузить только ее вот таким способом:"
   ]
  },
  {
   "cell_type": "code",
   "execution_count": 23,
   "metadata": {},
   "outputs": [
    {
     "data": {
      "text/plain": [
       "2.0"
      ]
     },
     "execution_count": 23,
     "metadata": {},
     "output_type": "execute_result"
    }
   ],
   "source": [
    "from math import sqrt\n",
    "\n",
    "sqrt(4)"
   ]
  },
  {
   "cell_type": "markdown",
   "metadata": {},
   "source": [
    "Более того с помощью алиасов мы можем давать свои названия для модулей и функций в них. Иногда это делается, когда название модуля слишком большое и писать каждый раз его лень. Например, `import tensorflow as tf`"
   ]
  },
  {
   "cell_type": "code",
   "execution_count": 24,
   "metadata": {},
   "outputs": [
    {
     "data": {
      "text/plain": [
       "2.0"
      ]
     },
     "execution_count": 24,
     "metadata": {},
     "output_type": "execute_result"
    }
   ],
   "source": [
    "from math import sqrt as koren \n",
    "\n",
    "koren(4)"
   ]
  },
  {
   "cell_type": "markdown",
   "metadata": {},
   "source": [
    "Ну и напоследок давайте подгрузим пожалуй главный модуль питона - его дзен! При его подгрузке на экран выдаются некие правила написания хорошего кода."
   ]
  },
  {
   "cell_type": "code",
   "execution_count": 25,
   "metadata": {},
   "outputs": [
    {
     "name": "stdout",
     "output_type": "stream",
     "text": [
      "The Zen of Python, by Tim Peters\n",
      "\n",
      "Beautiful is better than ugly.\n",
      "Explicit is better than implicit.\n",
      "Simple is better than complex.\n",
      "Complex is better than complicated.\n",
      "Flat is better than nested.\n",
      "Sparse is better than dense.\n",
      "Readability counts.\n",
      "Special cases aren't special enough to break the rules.\n",
      "Although practicality beats purity.\n",
      "Errors should never pass silently.\n",
      "Unless explicitly silenced.\n",
      "In the face of ambiguity, refuse the temptation to guess.\n",
      "There should be one-- and preferably only one --obvious way to do it.\n",
      "Although that way may not be obvious at first unless you're Dutch.\n",
      "Now is better than never.\n",
      "Although never is often better than *right* now.\n",
      "If the implementation is hard to explain, it's a bad idea.\n",
      "If the implementation is easy to explain, it may be a good idea.\n",
      "Namespaces are one honking great idea -- let's do more of those!\n"
     ]
    }
   ],
   "source": [
    "import this"
   ]
  },
  {
   "cell_type": "markdown",
   "metadata": {},
   "source": [
    "## 4. Переменные"
   ]
  },
  {
   "cell_type": "markdown",
   "metadata": {},
   "source": [
    "Еще раз вспомни основные объекты в Python:\n",
    "\n",
    "* `int` - целое число (примеры: 5, 0, -1) \n",
    "* `float` - вещественное число (примеры: 2.3, 4.0)\n",
    "* `str` - строка (примеры: 'Maxim', 'Hello world!')\n",
    "* `bool` - булевский оператор (примеры: True, False)\n",
    "\n",
    "Иногда нужно, чтобы `python` **запоминал** какие-то объекты, чтобы в дальнейшем мы могли к ним обращаться, не прописывая их каждый раз. Для этого существуют переменные. Давайте посмотрим, как они работают:"
   ]
  },
  {
   "cell_type": "code",
   "execution_count": 1,
   "metadata": {},
   "outputs": [],
   "source": [
    "# закинули в переменную \"a\" целое число 5 (объект типа int)\n",
    "a = 5"
   ]
  },
  {
   "cell_type": "code",
   "execution_count": 2,
   "metadata": {},
   "outputs": [
    {
     "data": {
      "text/plain": [
       "15"
      ]
     },
     "execution_count": 2,
     "metadata": {},
     "output_type": "execute_result"
    }
   ],
   "source": [
    "# поработали с переменной a \n",
    "a + 10"
   ]
  },
  {
   "cell_type": "code",
   "execution_count": 3,
   "metadata": {},
   "outputs": [
    {
     "data": {
      "text/plain": [
       "15"
      ]
     },
     "execution_count": 3,
     "metadata": {},
     "output_type": "execute_result"
    }
   ],
   "source": [
    "# записали результат в новую переменную и посмотрели на нее\n",
    "b = a + 10\n",
    "b"
   ]
  },
  {
   "cell_type": "markdown",
   "metadata": {},
   "source": [
    "В переменных можно хранить любой объект питона, например, это может быть строка либо результат какой-то функции:"
   ]
  },
  {
   "cell_type": "code",
   "execution_count": 5,
   "metadata": {},
   "outputs": [
    {
     "data": {
      "text/plain": [
       "'Hello World!'"
      ]
     },
     "execution_count": 5,
     "metadata": {},
     "output_type": "execute_result"
    }
   ],
   "source": [
    "stroka = 'Hello World!'\n",
    "stroka"
   ]
  },
  {
   "cell_type": "code",
   "execution_count": 6,
   "metadata": {},
   "outputs": [
    {
     "data": {
      "text/plain": [
       "120"
      ]
     },
     "execution_count": 6,
     "metadata": {},
     "output_type": "execute_result"
    }
   ],
   "source": [
    "import math \n",
    "\n",
    "result_of_function = math.factorial(5)\n",
    "result_of_function"
   ]
  },
  {
   "cell_type": "markdown",
   "metadata": {},
   "source": [
    "## 5. Условная конструкция `if`"
   ]
  },
  {
   "cell_type": "markdown",
   "metadata": {},
   "source": [
    "Все очень просто! С помощью данной конструкции мы говорим нашему коду, когда ему что-то делать."
   ]
  },
  {
   "cell_type": "markdown",
   "metadata": {},
   "source": [
    "**Пример:** Сравнить числа $a$ и $b$ и вывести на экран наибольшее"
   ]
  },
  {
   "cell_type": "code",
   "execution_count": 8,
   "metadata": {},
   "outputs": [
    {
     "name": "stdout",
     "output_type": "stream",
     "text": [
      "Введите число a: 1\n",
      "Введите число b: 2\n",
      "2\n"
     ]
    }
   ],
   "source": [
    "a = int(input(\"Введите число a: \"))\n",
    "b = int(input(\"Введите число b: \"))\n",
    "\n",
    "if a > b:\n",
    "    print(a)\n",
    "elif b > a:\n",
    "    print(b)\n",
    "else:\n",
    "    print(\"Числа равны\")"
   ]
  },
  {
   "cell_type": "markdown",
   "metadata": {},
   "source": [
    "Операторы сравнения:  \n",
    "* `>` - больше\n",
    "* `<` - меньше\n",
    "* `>=` - больше либо равно\n",
    "* `<=` - меньше либо равно\n",
    "* `==` - равно (обращаем внимание, что два символа знака равенства!!)\n",
    "* `!=` - неравно "
   ]
  },
  {
   "cell_type": "markdown",
   "metadata": {},
   "source": [
    "**Другой пример:** Дано натуральное число. Требуется определить, является ли год с данным номером високосным. Если год является високосным, то выведите `YES`, иначе выведите `NO`. Напомним, что в соответствии с григорианским календарем, год является високосным, если его номер кратен $4$, но не кратен $100$, а также если он кратен $400$."
   ]
  },
  {
   "cell_type": "code",
   "execution_count": 9,
   "metadata": {},
   "outputs": [
    {
     "name": "stdout",
     "output_type": "stream",
     "text": [
      "2022\n",
      "NO\n"
     ]
    }
   ],
   "source": [
    "year = int(input())\n",
    "\n",
    "if year % 400 == 0:\n",
    "    print('YES')\n",
    "elif year % 100 == 0:\n",
    "    print('NO')\n",
    "elif year % 4 == 0:\n",
    "    print('YES')\n",
    "else:\n",
    "    print('NO')"
   ]
  }
 ],
 "metadata": {
  "kernelspec": {
   "display_name": "Python 3 (ipykernel)",
   "language": "python",
   "name": "python3"
  },
  "language_info": {
   "codemirror_mode": {
    "name": "ipython",
    "version": 3
   },
   "file_extension": ".py",
   "mimetype": "text/x-python",
   "name": "python",
   "nbconvert_exporter": "python",
   "pygments_lexer": "ipython3",
   "version": "3.9.12"
  },
  "varInspector": {
   "cols": {
    "lenName": 16,
    "lenType": 16,
    "lenVar": 40
   },
   "kernels_config": {
    "python": {
     "delete_cmd_postfix": "",
     "delete_cmd_prefix": "del ",
     "library": "var_list.py",
     "varRefreshCmd": "print(var_dic_list())"
    },
    "r": {
     "delete_cmd_postfix": ") ",
     "delete_cmd_prefix": "rm(",
     "library": "var_list.r",
     "varRefreshCmd": "cat(var_dic_list()) "
    }
   },
   "types_to_exclude": [
    "module",
    "function",
    "builtin_function_or_method",
    "instance",
    "_Feature"
   ],
   "window_display": false
  }
 },
 "nbformat": 4,
 "nbformat_minor": 4
}
