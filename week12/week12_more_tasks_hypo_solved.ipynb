{
 "cells": [
  {
   "cell_type": "code",
   "execution_count": 1,
   "metadata": {},
   "outputs": [],
   "source": [
    "import numpy as np   \n",
    "import pandas as pd        \n",
    "from scipy import stats as sts \n",
    "\n",
    "import matplotlib.pyplot as plt\n",
    "import seaborn as sns\n",
    "\n",
    "%matplotlib inline \n",
    "\n",
    "from math import factorial as fact"
   ]
  },
  {
   "cell_type": "markdown",
   "metadata": {},
   "source": [
    "## Больше задач на проверку гипотез"
   ]
  },
  {
   "cell_type": "markdown",
   "metadata": {},
   "source": [
    "<img src=\"../images/eshe.png\" width=\"250\" align='center'>"
   ]
  },
  {
   "cell_type": "markdown",
   "metadata": {},
   "source": [
    "### Задача №1: Игра Престолов или Дом Дракона? \n",
    "\n",
    "<img src=\"../images/dom_drakona_mem.jpeg\" width=\"400\" align='left'>"
   ]
  },
  {
   "cell_type": "markdown",
   "metadata": {},
   "source": [
    "У вас есть данные о просмотре Джоном серий Игры престолов и Дома дракона за некоторый промежуток времени. Вы хотите понять, заинтересовали ли эти оба сериала Джона одинаково. Для этого проверьте гипотезу о том, что Джон в среднем в день смотрел одинаковое число серий у обоих из этих сериалов. "
   ]
  },
  {
   "cell_type": "code",
   "execution_count": 22,
   "metadata": {},
   "outputs": [],
   "source": [
    "df = pd.read_csv('../data/got_hod_series.csv')"
   ]
  },
  {
   "cell_type": "markdown",
   "metadata": {},
   "source": [
    "__Решение:__\n",
    "\n",
    "Серии – это счетчики, поэтому удобнее всего описать наши данные распределением Пуассона. \n",
    "\n",
    "Пусть $X_1, \\ldots, X_n$ – наблюдения по просмотру серий Игры Престолов\n",
    "\n",
    "$$\n",
    "X_i \\sim Poiss(\\lambda_{got})\n",
    "$$\n",
    "\n",
    "А $Y_1, \\ldots, Y_m$ – наблюдения по просмотру серий Дома Дракона\n",
    "\n",
    "\n",
    "$$\n",
    "Y_i \\sim Poiss(\\lambda_{hod})\n",
    "$$\n",
    "\n",
    "__Замечание:__ при этом $n$ и $m$ могут совпадать, а могут и нет.\n",
    "\n",
    "Тогда хотим проверить следующую гипотезу:\n",
    "\n",
    "$$\n",
    "\\begin{aligned}\n",
    "& H_0: \\lambda_{got} = \\lambda_{hod} \\\\\n",
    "& H_1: \\lambda_{got} \\neq \\lambda_{hod}\n",
    "\\end{aligned}\n",
    "$$\n",
    "\n",
    "Можно переписать это в виде:\n",
    "\n",
    "$$\n",
    "\\begin{aligned}\n",
    "& H_0: \\lambda_{got} - \\lambda_{hod} = 0\\\\\n",
    "& H_1: \\lambda_{got} - \\lambda_{hod} \\neq 0\n",
    "\\end{aligned}\n",
    "$$\n",
    "\n",
    "Приведем это к новому обозначению для удобства:\n",
    "\n",
    "$$\n",
    "\\lambda_{got} - \\lambda_{hod} = \\lambda_{d}\n",
    "$$\n",
    "\n",
    "Будем проверять по ЦПТ, как делали до этого. Выписываем формулу критерия для _двух независимых выборок_:\n",
    "\n",
    "$$\n",
    "\\frac{\\hat \\lambda_d - 0}{\\sqrt{\\frac{\\sigma_{got}^2}{n} + \\frac{\\sigma_{hod}^2}{m}}} \\sim N(0, 1)\n",
    "$$\n",
    "\n",
    "__Замечание:__ $\\sigma_{got}^2$ и $\\sigma_{hod}^2$ мы не знаем, так как это истинные дисперсии, поэтому можем заменить их на выборочные оценки $s_{got}^2$ и $s_{hod}^2$\n",
    "\n",
    "__Замечание:__ При этом мы с вами знаем, что работаем с распределением Пуассона, а у распределения Пуассона $\\sigma^2 = \\lambda$, поэтому можем заменить $s_{got}^2$ и $s_{hod}^2$ просто навсего на $\\hat \\lambda_{got}$ и $\\hat \\lambda_{hod}$"
   ]
  },
  {
   "cell_type": "code",
   "execution_count": 28,
   "metadata": {},
   "outputs": [
    {
     "name": "stdout",
     "output_type": "stream",
     "text": [
      "Выборочное z: -8.859791664986949\n"
     ]
    }
   ],
   "source": [
    "## Ваш код\n",
    "got = df.got_series.values\n",
    "hod = df.hod_series.values\n",
    "\n",
    "\n",
    "n = len(got)\n",
    "m = len(hod)\n",
    "\n",
    "\n",
    "lambda_got = np.mean(got)\n",
    "lambda_hod = np.mean(hod)\n",
    "\n",
    "\n",
    "lambda_d = lambda_got - lambda_hod\n",
    "\n",
    "\n",
    "z_sample = (lambda_d - 0) / np.sqrt(lambda_got / n + lambda_hod / m)\n",
    "print(f'Выборочное z: {z_sample}')"
   ]
  },
  {
   "cell_type": "markdown",
   "metadata": {},
   "source": [
    "__Замечание:__ Здесь мы работаем с двусторонней альтернативной гипотезой, поэтому нам нужно будет посчитать 2 критических значения: левое и правое"
   ]
  },
  {
   "cell_type": "code",
   "execution_count": 29,
   "metadata": {},
   "outputs": [
    {
     "name": "stdout",
     "output_type": "stream",
     "text": [
      "Критическое z слева: -1.9599639845400545\n",
      "Критическое z справа: 1.959963984540054\n",
      "Нулевая гипотеза отвергается\n"
     ]
    }
   ],
   "source": [
    "alpha = 0.05\n",
    "\n",
    "norm_gen = sts.norm(0, 1)\n",
    "\n",
    "z_crit_left = norm_gen.ppf(alpha/2)\n",
    "print(f'Критическое z слева: {z_crit_left}')\n",
    "\n",
    "z_crit_right = norm_gen.ppf(1 - alpha/2)\n",
    "print(f'Критическое z справа: {z_crit_right}')\n",
    "\n",
    "\n",
    "if abs(z_sample) > z_crit:\n",
    "    print('Нулевая гипотеза отвергается')\n",
    "else:\n",
    "    print('Нулевая гипотеза не отвергается')"
   ]
  },
  {
   "cell_type": "markdown",
   "metadata": {},
   "source": [
    "> Кажется, что Дом Дракона и Игра престолов понравились Джону по-разному"
   ]
  },
  {
   "cell_type": "markdown",
   "metadata": {},
   "source": [
    "### Задача №2: Любитель ресторанов"
   ]
  },
  {
   "cell_type": "markdown",
   "metadata": {},
   "source": [
    "Ваш друг любит ужинать в ресторанах, а еще экономить деньги. Он утверждает, что можно поесть в хорошем ресторане со средним чеком 1000 рублей. Вы решили проверить эту гипотезу, поэтому сходили в топ-10 хороших ресторанов и набрали данных о средних чеках. Прав ли ваш друг?"
   ]
  },
  {
   "cell_type": "code",
   "execution_count": 63,
   "metadata": {},
   "outputs": [],
   "source": [
    "sample = [\n",
    "    2074.20063876, 2186.0306825 , 2069.34185185, 1819.23816378,\n",
    "    1702.88575035, 2253.46583296, 2021.12789898, 2153.7653038 ,\n",
    "    2115.86764342, 2026.53853657\n",
    "]"
   ]
  },
  {
   "cell_type": "markdown",
   "metadata": {},
   "source": [
    "__Что тут важно?__\n",
    "\n",
    "Данных супер мало, поэтому можем проводить только t-test (и то сомнительно, но лучше ничего нет). t-test требует нормальности выборки, но кажется с деньгами это ок"
   ]
  },
  {
   "cell_type": "markdown",
   "metadata": {},
   "source": [
    "Посмотрим, похоже ли распределение на нормальное:"
   ]
  },
  {
   "cell_type": "code",
   "execution_count": 66,
   "metadata": {},
   "outputs": [
    {
     "data": {
      "image/png": "[encoded data removed]",
      "text/plain": [
       "<Figure size 432x288 with 1 Axes>"
      ]
     },
     "metadata": {
      "needs_background": "light"
     },
     "output_type": "display_data"
    }
   ],
   "source": [
    "pd.Series(sample).hist();"
   ]
  },
  {
   "cell_type": "markdown",
   "metadata": {},
   "source": [
    "Так себе похоже конечно, но связано с тем, что мало данных."
   ]
  },
  {
   "cell_type": "markdown",
   "metadata": {},
   "source": [
    "Проверим гипотезу: \n",
    "\n",
    "$$\n",
    "\\begin{aligned}\n",
    "& H_0: \\mu = 1000 \\\\\n",
    "& H_1: \\mu > 1000\n",
    "\\end{aligned}\n",
    "$$\n",
    "\n",
    "$$\n",
    "t = \\frac{\\hat \\mu - 1000}{\\sqrt{\\frac{s^2}{n}}} \\sim t(n-1)\n",
    "$$"
   ]
  },
  {
   "cell_type": "code",
   "execution_count": 70,
   "metadata": {},
   "outputs": [
    {
     "name": "stdout",
     "output_type": "stream",
     "text": [
      "Выборочное t: 6.585288109424128\n",
      "Критическое t: 1.8331129326536335\n",
      "Нулевая гипотеза отвергается\n"
     ]
    }
   ],
   "source": [
    "mu_hat = np.mean(sample)\n",
    "n = len(sample)\n",
    "\n",
    "var_hat = np.var(sample, ddof=n-1)\n",
    "\n",
    "t_sample = (mu_hat - 1000) / np.sqrt(var_hat / n)\n",
    "print(f'Выборочное t: {t_sample}')\n",
    "\n",
    "alpha = 0.05\n",
    "\n",
    "t_gen = sts.t(n-1)\n",
    "t_crit = t_gen.ppf(1-alpha)\n",
    "print(f'Критическое t: {t_crit}')\n",
    "\n",
    "if t_sample > t_crit:\n",
    "    print('Нулевая гипотеза отвергается')\n",
    "else:\n",
    "    print('Нулевая гипотеза не отвергается')"
   ]
  },
  {
   "cell_type": "markdown",
   "metadata": {},
   "source": [
    "> Кажется на 1000 рублей в ресторане не покушаешь."
   ]
  },
  {
   "cell_type": "markdown",
   "metadata": {},
   "source": [
    "### Задача №3: Пересдача\n",
    "\n",
    "<img src=\"../images/exam.jpeg\" width=\"400\" align='left'>"
   ]
  },
  {
   "cell_type": "markdown",
   "metadata": {},
   "source": [
    "У вас есть данные студентов, которые написали экзамен на недостаточное число баллов, поэтому пошли на пересдачу. Данные о пересдаче у вас тоже есть, поэтому вы хотите проверить гипотезу о том, что к пересдаче студенты готовятся более тщательно, то есть пишут ее на большее число баллов. "
   ]
  },
  {
   "cell_type": "code",
   "execution_count": 44,
   "metadata": {},
   "outputs": [],
   "source": [
    "df = pd.read_csv('../data/test_data.csv')"
   ]
  },
  {
   "cell_type": "markdown",
   "metadata": {},
   "source": [
    "__Что тут важно?__\n",
    "\n",
    "1. Как мы видим размер выборки небольшой, поэтому z-test по-хорошему применять нельзя. Можно предположить что данные распределены нормально и применить t-test\n",
    "2. Выборки зависимые, так как тест и пересдачу писали одни и те же люди. Нужно учесть это при расчете критерия. "
   ]
  },
  {
   "cell_type": "markdown",
   "metadata": {},
   "source": [
    "Можно построить гистограмму распределения и проверить выборку на нормальность (или что-то очень похожее)"
   ]
  },
  {
   "cell_type": "code",
   "execution_count": 67,
   "metadata": {
    "scrolled": true
   },
   "outputs": [
    {
     "data": {
      "image/png": "[encoded data removed]",
      "text/plain": [
       "<Figure size 432x288 with 1 Axes>"
      ]
     },
     "metadata": {
      "needs_background": "light"
     },
     "output_type": "display_data"
    }
   ],
   "source": [
    "df.test_data.hist();"
   ]
  },
  {
   "cell_type": "code",
   "execution_count": 68,
   "metadata": {
    "scrolled": true
   },
   "outputs": [
    {
     "data": {
      "image/png": "[encoded data removed]",
      "text/plain": [
       "<Figure size 432x288 with 1 Axes>"
      ]
     },
     "metadata": {
      "needs_background": "light"
     },
     "output_type": "display_data"
    }
   ],
   "source": [
    "df.retest_data.hist();"
   ]
  },
  {
   "cell_type": "markdown",
   "metadata": {},
   "source": [
    "Слабовато конечно, но в целом похоже"
   ]
  },
  {
   "cell_type": "markdown",
   "metadata": {},
   "source": [
    "Проведем t-test:"
   ]
  },
  {
   "cell_type": "markdown",
   "metadata": {},
   "source": [
    "$$\n",
    "\\begin{aligned}\n",
    "& H_0: \\mu_{test} = \\mu_{retest} \\\\\n",
    "& H_1: \\mu_{test} < \\mu_{retest}\n",
    "\\end{aligned}\n",
    "$$\n",
    "\n",
    "\n",
    "$$\n",
    "\\begin{aligned}\n",
    "& H_0: \\mu_{test} - \\mu_{retest} = 0 \\\\\n",
    "& H_1: \\mu_{test} - \\mu_{retest} < 0\n",
    "\\end{aligned}\n",
    "$$\n",
    "\n",
    "\n",
    "$$\n",
    "\\begin{aligned}\n",
    "& H_0: d = 0 \\\\\n",
    "& H_1: d < 0\n",
    "\\end{aligned}\n",
    "$$\n",
    "\n",
    "$$\n",
    "\\frac{\\bar d - 0}{\\sqrt{\\frac{s^2_{d}}{n}}} \\sim t(n-1)\n",
    "$$"
   ]
  },
  {
   "cell_type": "code",
   "execution_count": 61,
   "metadata": {},
   "outputs": [
    {
     "name": "stdout",
     "output_type": "stream",
     "text": [
      "Выборочное t: -3.6606217074544847\n",
      "Критическое t: -1.6765508919142635\n",
      "Нулевая гипотеза отвергается\n"
     ]
    }
   ],
   "source": [
    "test = df.test_data.values\n",
    "retest = df.retest_data.values\n",
    "\n",
    "d = test - retest\n",
    "\n",
    "n = len(d)\n",
    "\n",
    "t_sample = (np.mean(d) - 0) / np.sqrt(np.var(d, ddof=n-1) / n)\n",
    "print(f'Выборочное t: {t_sample}')\n",
    "\n",
    "\n",
    "alpha = 0.05\n",
    "\n",
    "t_gen = sts.t(n-1)\n",
    "t_crit = t_gen.ppf(alpha)\n",
    "print(f'Критическое t: {t_crit}')\n",
    "\n",
    "if t_sample < t_crit:\n",
    "    print('Нулевая гипотеза отвергается')\n",
    "else:\n",
    "    print('Нулевая гипотеза не отвергается')"
   ]
  },
  {
   "cell_type": "markdown",
   "metadata": {},
   "source": [
    "> Кажется к пересдаче студенты, действительно, готовятся лучше. А может просто пересдача была проще? 🤔"
   ]
  }
 ],
 "metadata": {
  "kernelspec": {
   "display_name": "Python 3",
   "language": "python",
   "name": "python3"
  },
  "language_info": {
   "codemirror_mode": {
    "name": "ipython",
    "version": 3
   },
   "file_extension": ".py",
   "mimetype": "text/x-python",
   "name": "python",
   "nbconvert_exporter": "python",
   "pygments_lexer": "ipython3",
   "version": "3.8.5"
  }
 },
 "nbformat": 4,
 "nbformat_minor": 4
}
