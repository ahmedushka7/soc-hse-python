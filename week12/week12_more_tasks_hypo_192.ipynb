{
 "cells": [
  {
   "cell_type": "code",
   "execution_count": 1,
   "metadata": {},
   "outputs": [],
   "source": [
    "import numpy as np   \n",
    "import pandas as pd        \n",
    "from scipy import stats as sts \n",
    "\n",
    "import matplotlib.pyplot as plt\n",
    "import seaborn as sns\n",
    "\n",
    "%matplotlib inline \n",
    "\n",
    "from math import factorial as fact"
   ]
  },
  {
   "cell_type": "markdown",
   "metadata": {},
   "source": [
    "## Больше задач на проверку гипотез"
   ]
  },
  {
   "cell_type": "markdown",
   "metadata": {},
   "source": [
    "<img src=\"../images/eshe.png\" width=\"250\" align='center'>"
   ]
  },
  {
   "cell_type": "markdown",
   "metadata": {},
   "source": [
    "### Задача №1: Игра Престолов или Дом Дракона? \n",
    "\n",
    "<img src=\"../images/dom_drakona_mem.jpeg\" width=\"400\" align='left'>"
   ]
  },
  {
   "cell_type": "markdown",
   "metadata": {},
   "source": [
    "У вас есть данные о просмотре Джоном серий Игры престолов и Дома дракона за некоторый промежуток времени. Вы хотите понять, заинтересовали ли эти оба сериала Джона одинаково. Для этого проверьте гипотезу о том, что Джон в среднем в день смотрел одинаковое число серий у обоих из этих сериалов. "
   ]
  },
  {
   "cell_type": "code",
   "execution_count": 2,
   "metadata": {},
   "outputs": [],
   "source": [
    "df = pd.read_csv('../data/got_hod_series.csv')"
   ]
  },
  {
   "cell_type": "markdown",
   "metadata": {},
   "source": [
    "$$\n",
    "X_1, \\ldots, X_n \\sim Poiss(\\lambda_{got})\n",
    "$$\n",
    "\n",
    "\n",
    "$$\n",
    "Y_1, \\ldots, Y_n \\sim Poiss(\\lambda_{hod})\n",
    "$$\n",
    "\n",
    "\n",
    "$$\n",
    "\\begin{aligned}\n",
    "& H_0: \\lambda_{got} = \\lambda_{hod} \\\\ \n",
    "& H_1: \\lambda_{got} \\neq \\lambda_{hod}\n",
    "\\end{aligned}\n",
    "$$\n",
    "\n",
    "\n",
    "$$\n",
    "E(X) = \\lambda \\\\ \n",
    "Var(X) = \\lambda\n",
    "$$\n",
    "\n",
    "\n",
    "$$\n",
    "\\bar x = \\hat \\lambda\n",
    "$$\n",
    "\n",
    "\n",
    "$$\n",
    "\\begin{aligned}\n",
    "& H_0: \\lambda_{got} - \\lambda_{hod} = 0\\\\ \n",
    "& H_1: \\lambda_{got} - \\lambda_{hod} \\neq 0\n",
    "\\end{aligned}\n",
    "$$\n",
    "\n",
    "\n",
    "$$\n",
    "\\begin{aligned}\n",
    "& H_0: \\lambda_{diff} = 0\\\\ \n",
    "& H_1: \\lambda_{diff} \\neq 0\n",
    "\\end{aligned}\n",
    "$$\n",
    "\n",
    "\n",
    "$$\n",
    "\\lambda_{diff} = \\hat \\lambda_{diff} = \\bar x - \\bar y\n",
    "$$\n",
    "\n",
    "Выборки у нас независимые\n",
    "\n",
    "$$\n",
    "\\frac{\\hat \\lambda_{diff} - 0}{\\sqrt{\\frac{s^2_{got}}{n} + \\frac{s^2_{hod}}{m}}} = \\frac{\\hat \\lambda_{diff} - 0}{\\sqrt{\\frac{\\hat \\lambda_{got}}{n} + \\frac{\\hat \\lambda_{hod}}{m}}}\n",
    "$$"
   ]
  },
  {
   "cell_type": "code",
   "execution_count": 7,
   "metadata": {},
   "outputs": [
    {
     "name": "stdout",
     "output_type": "stream",
     "text": [
      "Выборочное z: -8.859791664986949\n"
     ]
    }
   ],
   "source": [
    "X = df['got_series'].values\n",
    "Y = df['hod_series'].values\n",
    "\n",
    "n = len(X)\n",
    "m = len(Y)\n",
    "\n",
    "lambda_got = np.mean(X)\n",
    "lambda_hod = np.mean(Y)\n",
    "\n",
    "lambda_diff = lambda_got - lambda_hod\n",
    "\n",
    "z_sample = (lambda_diff - 0) / np.sqrt(lambda_got / n + lambda_hod / m)\n",
    "print(f'Выборочное z: {z_sample}')"
   ]
  },
  {
   "cell_type": "code",
   "execution_count": 13,
   "metadata": {},
   "outputs": [
    {
     "name": "stdout",
     "output_type": "stream",
     "text": [
      "Левое критическое z: -1.9599639845400545\n",
      "Правое критическое z: 1.959963984540054\n"
     ]
    }
   ],
   "source": [
    "alpha = 0.05\n",
    "\n",
    "\n",
    "norm_gen = sts.norm(0, 1)\n",
    "\n",
    "z_crit_left = norm_gen.ppf(alpha/2)\n",
    "z_crit_right = norm_gen.ppf(1 - alpha/2)\n",
    "print(f'Левое критическое z: {z_crit_left}')\n",
    "print(f'Правое критическое z: {z_crit_right}')"
   ]
  },
  {
   "cell_type": "code",
   "execution_count": 14,
   "metadata": {},
   "outputs": [
    {
     "name": "stdout",
     "output_type": "stream",
     "text": [
      "Нулевая гипотеза отвергается\n"
     ]
    }
   ],
   "source": [
    "if z_sample > z_crit_left and z_sample < z_crit_right:\n",
    "    print('Нулевая гипотеза не отвергается')\n",
    "else:\n",
    "    print('Нулевая гипотеза отвергается')"
   ]
  },
  {
   "cell_type": "markdown",
   "metadata": {},
   "source": [
    "### Задача №2: Любитель ресторанов"
   ]
  },
  {
   "cell_type": "markdown",
   "metadata": {},
   "source": [
    "Ваш друг любит ужинать в ресторанах, а еще экономить деньги. Он утверждает, что можно поесть в хорошем ресторане со средним чеком 1000 рублей. Вы решили проверить эту гипотезу, поэтому сходили в топ-10 хороших ресторанов и набрали данных о средних чеках. Прав ли ваш друг?"
   ]
  },
  {
   "cell_type": "code",
   "execution_count": 63,
   "metadata": {},
   "outputs": [],
   "source": [
    "sample = [\n",
    "    2074.20063876, 2186.0306825 , 2069.34185185, 1819.23816378,\n",
    "    1702.88575035, 2253.46583296, 2021.12789898, 2153.7653038 ,\n",
    "    2115.86764342, 2026.53853657\n",
    "]"
   ]
  },
  {
   "cell_type": "markdown",
   "metadata": {},
   "source": [
    "__Что тут важно?__\n",
    "\n",
    "Данных супер мало, поэтому можем проводить только t-test (и то сомнительно, но лучше ничего нет). t-test требует нормальности выборки, но кажется с деньгами это ок"
   ]
  },
  {
   "cell_type": "code",
   "execution_count": 2,
   "metadata": {},
   "outputs": [],
   "source": [
    "## Ваш код"
   ]
  },
  {
   "cell_type": "markdown",
   "metadata": {},
   "source": [
    "### Задача №3: Пересдача\n",
    "\n",
    "<img src=\"../images/exam.jpeg\" width=\"400\" align='left'>"
   ]
  },
  {
   "cell_type": "markdown",
   "metadata": {},
   "source": [
    "У вас есть данные студентов, которые написали экзамен на недостаточное число баллов, поэтому пошли на пересдачу. Данные о пересдаче у вас тоже есть, поэтому вы хотите проверить гипотезу о том, что к пересдаче студенты готовятся более тщательно, то есть пишут ее на большее число баллов. "
   ]
  },
  {
   "cell_type": "code",
   "execution_count": 15,
   "metadata": {},
   "outputs": [],
   "source": [
    "df = pd.read_csv('../data/test_data.csv')"
   ]
  },
  {
   "cell_type": "code",
   "execution_count": 19,
   "metadata": {},
   "outputs": [
    {
     "data": {
      "text/plain": [
       "(50, 2)"
      ]
     },
     "execution_count": 19,
     "metadata": {},
     "output_type": "execute_result"
    }
   ],
   "source": [
    "df.shape"
   ]
  },
  {
   "cell_type": "markdown",
   "metadata": {},
   "source": [
    "__Что тут важно?__\n",
    "\n",
    "1. Как мы видим размер выборки небольшой, поэтому z-test по-хорошему применять нельзя. Можно предположить что данные распределены нормально и применить t-test\n",
    "2. Выборки зависимые, так как тест и пересдачу писали одни и те же люди. Нужно учесть это при расчете критерия. "
   ]
  },
  {
   "cell_type": "markdown",
   "metadata": {},
   "source": [
    "$$\n",
    "X_1, \\ldots, X_n \\sim N(\\mu_x, \\sigma^2_x)\n",
    "$$\n",
    "\n",
    "\n",
    "$$\n",
    "Y_1, \\ldots, Y_n \\sim N(\\mu_y, \\sigma^2_y)\n",
    "$$\n",
    "\n",
    "\n",
    "$$\n",
    "\\begin{aligned}\n",
    "& H_0: \\mu_y = \\mu_x \\\\ \n",
    "& H_1: \\mu_y > \\mu_x\n",
    "\\end{aligned}\n",
    "$$\n",
    "\n",
    "\n",
    "$$\n",
    "\\begin{aligned}\n",
    "& H_0: \\mu_y - \\mu_x = 0\\\\ \n",
    "& H_1: \\mu_y - \\mu_x > 0\n",
    "\\end{aligned}\n",
    "$$\n",
    "\n",
    "\n",
    "$$\n",
    "\\begin{aligned}\n",
    "& H_0: d = 0\\\\ \n",
    "& H_1: d > 0\n",
    "\\end{aligned}\n",
    "$$\n",
    "\n",
    "\n",
    "$$\n",
    "t = \\frac{\\bar d - 0}{\\sqrt{\\frac{s^2_d}{n}}} \\sim t(n-1)\n",
    "$$"
   ]
  },
  {
   "cell_type": "code",
   "execution_count": 25,
   "metadata": {},
   "outputs": [
    {
     "name": "stdout",
     "output_type": "stream",
     "text": [
      "Выборочное t: 25.88450432699744\n"
     ]
    }
   ],
   "source": [
    "X = df.test_data.values\n",
    "Y = df.retest_data.values\n",
    "\n",
    "D = Y - X\n",
    "\n",
    "n = len(D)\n",
    "\n",
    "d_hat = np.mean(D)\n",
    "var_hat = np.var(D)\n",
    "\n",
    "t_sample = (d_hat - 0) / np.sqrt(var_hat / n)\n",
    "print(f'Выборочное t: {t_sample}')"
   ]
  },
  {
   "cell_type": "code",
   "execution_count": 26,
   "metadata": {},
   "outputs": [
    {
     "name": "stdout",
     "output_type": "stream",
     "text": [
      "Критическое t: 1.6765508919142629\n"
     ]
    }
   ],
   "source": [
    "alpha = 0.05\n",
    "\n",
    "t_gen = sts.t(n-1)\n",
    "t_crit = t_gen.ppf(1 - alpha)\n",
    "print(f'Критическое t: {t_crit}')"
   ]
  },
  {
   "cell_type": "code",
   "execution_count": 27,
   "metadata": {},
   "outputs": [
    {
     "name": "stdout",
     "output_type": "stream",
     "text": [
      "Нулевая гипотеза отвергается\n"
     ]
    }
   ],
   "source": [
    "if t_sample < t_crit:\n",
    "    print('Нулевая гипотеза не отвергается')\n",
    "else:\n",
    "    print('Нулевая гипотеза отвергается')"
   ]
  },
  {
   "cell_type": "markdown",
   "metadata": {},
   "source": [
    "> Кажется, что студенты готовятся к пересдаче лучше. А может быть просто пересдача обычно проще, чем экзамен"
   ]
  },
  {
   "cell_type": "markdown",
   "metadata": {},
   "source": [
    "## Что надо запомнить:\n",
    "\n",
    "1. Понимать, какой тест применять в зависимости от предпосылок\n",
    "2. Понимать, какая у вас альтернативная гипотеза и в зависимости от этого считать критические значения и делать вывод\n",
    "3. Понимать, одна или две выборки у вас. И если выборки 2, то определять, зависимые они или независимые.\n",
    "4. Понимать, как распределены ваши данные. И если они точно распределены по Бернулли или по Пуассону или Нормально, то уточнять ваш тест. В целом можно забить и всегда брать просто выборочную дисперсию – в целом это тоже будет верно, но не факт, что на экзамене. "
   ]
  },
  {
   "cell_type": "code",
   "execution_count": null,
   "metadata": {},
   "outputs": [],
   "source": []
  }
 ],
 "metadata": {
  "kernelspec": {
   "display_name": "Python 3",
   "language": "python",
   "name": "python3"
  },
  "language_info": {
   "codemirror_mode": {
    "name": "ipython",
    "version": 3
   },
   "file_extension": ".py",
   "mimetype": "text/x-python",
   "name": "python",
   "nbconvert_exporter": "python",
   "pygments_lexer": "ipython3",
   "version": "3.8.5"
  }
 },
 "nbformat": 4,
 "nbformat_minor": 4
}
