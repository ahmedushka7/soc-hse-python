{
 "cells": [
  {
   "cell_type": "code",
   "execution_count": 1,
   "metadata": {},
   "outputs": [],
   "source": [
    "import numpy as np   \n",
    "import pandas as pd        \n",
    "from scipy import stats as sts \n",
    "\n",
    "import matplotlib.pyplot as plt\n",
    "import seaborn as sns\n",
    "\n",
    "%matplotlib inline \n",
    "\n",
    "from math import factorial as fact"
   ]
  },
  {
   "cell_type": "markdown",
   "metadata": {},
   "source": [
    "## Больше задач на проверку гипотез"
   ]
  },
  {
   "cell_type": "markdown",
   "metadata": {},
   "source": [
    "<img src=\"../images/eshe.png\" width=\"250\" align='center'>"
   ]
  },
  {
   "cell_type": "markdown",
   "metadata": {},
   "source": [
    "### Задача №1: Игра Престолов или Дом Дракона? \n",
    "\n",
    "<img src=\"../images/dom_drakona_mem.jpeg\" width=\"400\" align='left'>"
   ]
  },
  {
   "cell_type": "markdown",
   "metadata": {},
   "source": [
    "У вас есть данные о просмотре Джоном серий Игры престолов и Дома дракона за некоторый промежуток времени. Вы хотите понять, заинтересовали ли эти оба сериала Джона одинаково. Для этого проверьте гипотезу о том, что Джон в среднем в день смотрел одинаковое число серий у обоих из этих сериалов. "
   ]
  },
  {
   "cell_type": "code",
   "execution_count": 22,
   "metadata": {},
   "outputs": [],
   "source": [
    "df = pd.read_csv('../data/got_hod_series.csv')"
   ]
  },
  {
   "cell_type": "code",
   "execution_count": 1,
   "metadata": {},
   "outputs": [],
   "source": [
    "## Ваш код"
   ]
  },
  {
   "cell_type": "markdown",
   "metadata": {},
   "source": [
    "### Задача №2: Любитель ресторанов"
   ]
  },
  {
   "cell_type": "markdown",
   "metadata": {},
   "source": [
    "Ваш друг любит ужинать в ресторанах, а еще экономить деньги. Он утверждает, что можно поесть в хорошем ресторане со средним чеком 1000 рублей. Вы решили проверить эту гипотезу, поэтому сходили в топ-10 хороших ресторанов и набрали данных о средних чеках. Прав ли ваш друг?"
   ]
  },
  {
   "cell_type": "code",
   "execution_count": 63,
   "metadata": {},
   "outputs": [],
   "source": [
    "sample = [\n",
    "    2074.20063876, 2186.0306825 , 2069.34185185, 1819.23816378,\n",
    "    1702.88575035, 2253.46583296, 2021.12789898, 2153.7653038 ,\n",
    "    2115.86764342, 2026.53853657\n",
    "]"
   ]
  },
  {
   "cell_type": "markdown",
   "metadata": {},
   "source": [
    "__Что тут важно?__\n",
    "\n",
    "Данных супер мало, поэтому можем проводить только t-test (и то сомнительно, но лучше ничего нет). t-test требует нормальности выборки, но кажется с деньгами это ок"
   ]
  },
  {
   "cell_type": "code",
   "execution_count": 2,
   "metadata": {},
   "outputs": [],
   "source": [
    "## Ваш код"
   ]
  },
  {
   "cell_type": "markdown",
   "metadata": {},
   "source": [
    "### Задача №3: Пересдача\n",
    "\n",
    "<img src=\"../images/exam.jpeg\" width=\"400\" align='left'>"
   ]
  },
  {
   "cell_type": "markdown",
   "metadata": {},
   "source": [
    "У вас есть данные студентов, которые написали экзамен на недостаточное число баллов, поэтому пошли на пересдачу. Данные о пересдаче у вас тоже есть, поэтому вы хотите проверить гипотезу о том, что к пересдаче студенты готовятся более тщательно, то есть пишут ее на большее число баллов. "
   ]
  },
  {
   "cell_type": "code",
   "execution_count": 44,
   "metadata": {},
   "outputs": [],
   "source": [
    "df = pd.read_csv('../data/test_data.csv')"
   ]
  },
  {
   "cell_type": "markdown",
   "metadata": {},
   "source": [
    "__Что тут важно?__\n",
    "\n",
    "1. Как мы видим размер выборки небольшой, поэтому z-test по-хорошему применять нельзя. Можно предположить что данные распределены нормально и применить t-test\n",
    "2. Выборки зависимые, так как тест и пересдачу писали одни и те же люди. Нужно учесть это при расчете критерия. "
   ]
  },
  {
   "cell_type": "code",
   "execution_count": 3,
   "metadata": {},
   "outputs": [],
   "source": [
    "## Ваш код"
   ]
  }
 ],
 "metadata": {
  "kernelspec": {
   "display_name": "Python 3",
   "language": "python",
   "name": "python3"
  },
  "language_info": {
   "codemirror_mode": {
    "name": "ipython",
    "version": 3
   },
   "file_extension": ".py",
   "mimetype": "text/x-python",
   "name": "python",
   "nbconvert_exporter": "python",
   "pygments_lexer": "ipython3",
   "version": "3.8.5"
  }
 },
 "nbformat": 4,
 "nbformat_minor": 4
}
