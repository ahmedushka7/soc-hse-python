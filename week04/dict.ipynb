{
 "cells": [
  {
   "cell_type": "code",
   "execution_count": 1,
   "id": "be33ece5",
   "metadata": {},
   "outputs": [],
   "source": [
    "x = [10, -5 , 13]\n",
    "x = list()"
   ]
  },
  {
   "cell_type": "code",
   "execution_count": 2,
   "id": "7c4ae854",
   "metadata": {},
   "outputs": [],
   "source": [
    "x.append(20)"
   ]
  },
  {
   "cell_type": "code",
   "execution_count": 3,
   "id": "dc334010",
   "metadata": {},
   "outputs": [
    {
     "data": {
      "text/plain": [
       "[10, -5, 13, 20]"
      ]
     },
     "execution_count": 3,
     "metadata": {},
     "output_type": "execute_result"
    }
   ],
   "source": [
    "x"
   ]
  },
  {
   "cell_type": "code",
   "execution_count": 7,
   "id": "d146e55e",
   "metadata": {},
   "outputs": [
    {
     "data": {
      "text/plain": [
       "list"
      ]
     },
     "execution_count": 7,
     "metadata": {},
     "output_type": "execute_result"
    }
   ],
   "source": [
    "type(x)"
   ]
  },
  {
   "cell_type": "code",
   "execution_count": 11,
   "id": "bc7bd4ec",
   "metadata": {},
   "outputs": [
    {
     "data": {
      "text/plain": [
       "set"
      ]
     },
     "execution_count": 11,
     "metadata": {},
     "output_type": "execute_result"
    }
   ],
   "source": [
    "s = set()\n",
    "type(s)"
   ]
  },
  {
   "cell_type": "markdown",
   "id": "aa7f9047",
   "metadata": {},
   "source": [
    "### Базовые операции со словарем"
   ]
  },
  {
   "cell_type": "code",
   "execution_count": 8,
   "id": "05457db7",
   "metadata": {},
   "outputs": [],
   "source": [
    "d = {}\n",
    "d = dict()"
   ]
  },
  {
   "cell_type": "code",
   "execution_count": 9,
   "id": "54db3955",
   "metadata": {},
   "outputs": [
    {
     "data": {
      "text/plain": [
       "{}"
      ]
     },
     "execution_count": 9,
     "metadata": {},
     "output_type": "execute_result"
    }
   ],
   "source": [
    "d"
   ]
  },
  {
   "cell_type": "code",
   "execution_count": 10,
   "id": "fc9c6e5a",
   "metadata": {},
   "outputs": [
    {
     "data": {
      "text/plain": [
       "dict"
      ]
     },
     "execution_count": 10,
     "metadata": {},
     "output_type": "execute_result"
    }
   ],
   "source": [
    "type(d)"
   ]
  },
  {
   "cell_type": "code",
   "execution_count": 12,
   "id": "b60cdddf",
   "metadata": {},
   "outputs": [],
   "source": [
    "d = {\n",
    "    'Ahmed': 24,\n",
    "    'Artur': 27,\n",
    "    'Max': 15,\n",
    "    'Rita': 28,\n",
    "    'Anna': 21,\n",
    "}"
   ]
  },
  {
   "cell_type": "code",
   "execution_count": 17,
   "id": "a6f32d88",
   "metadata": {},
   "outputs": [
    {
     "data": {
      "text/plain": [
       "{'Ahmed': 24, 'Artur': 27, 'Max': 15, 'Rita': 28, 'Anna': 21}"
      ]
     },
     "execution_count": 17,
     "metadata": {},
     "output_type": "execute_result"
    }
   ],
   "source": [
    "d"
   ]
  },
  {
   "cell_type": "code",
   "execution_count": 15,
   "id": "348dbdc2",
   "metadata": {
    "scrolled": true
   },
   "outputs": [
    {
     "data": {
      "text/plain": [
       "24"
      ]
     },
     "execution_count": 15,
     "metadata": {},
     "output_type": "execute_result"
    }
   ],
   "source": [
    "d['Ahmed']"
   ]
  },
  {
   "cell_type": "code",
   "execution_count": 19,
   "id": "cf165a54",
   "metadata": {},
   "outputs": [
    {
     "ename": "KeyError",
     "evalue": "'Alina'",
     "output_type": "error",
     "traceback": [
      "\u001b[0;31m---------------------------------------------------------------------------\u001b[0m",
      "\u001b[0;31mKeyError\u001b[0m                                  Traceback (most recent call last)",
      "Input \u001b[0;32mIn [19]\u001b[0m, in \u001b[0;36m<cell line: 1>\u001b[0;34m()\u001b[0m\n\u001b[0;32m----> 1\u001b[0m \u001b[43md\u001b[49m\u001b[43m[\u001b[49m\u001b[38;5;124;43m'\u001b[39;49m\u001b[38;5;124;43mAlina\u001b[39;49m\u001b[38;5;124;43m'\u001b[39;49m\u001b[43m]\u001b[49m\n",
      "\u001b[0;31mKeyError\u001b[0m: 'Alina'"
     ]
    }
   ],
   "source": [
    "d['Alina']"
   ]
  },
  {
   "cell_type": "code",
   "execution_count": 20,
   "id": "c36169ff",
   "metadata": {},
   "outputs": [],
   "source": [
    "d['Alina'] = 18"
   ]
  },
  {
   "cell_type": "code",
   "execution_count": 21,
   "id": "3ef29fdb",
   "metadata": {},
   "outputs": [
    {
     "data": {
      "text/plain": [
       "{'Ahmed': 24, 'Artur': 27, 'Max': 15, 'Rita': 28, 'Anna': 21, 'Alina': 18}"
      ]
     },
     "execution_count": 21,
     "metadata": {},
     "output_type": "execute_result"
    }
   ],
   "source": [
    "d"
   ]
  },
  {
   "cell_type": "code",
   "execution_count": 22,
   "id": "3a1d570e",
   "metadata": {},
   "outputs": [
    {
     "data": {
      "text/plain": [
       "18"
      ]
     },
     "execution_count": 22,
     "metadata": {},
     "output_type": "execute_result"
    }
   ],
   "source": [
    "d['Alina']"
   ]
  },
  {
   "cell_type": "code",
   "execution_count": 26,
   "id": "90849cec",
   "metadata": {},
   "outputs": [],
   "source": [
    "# d['Ahmed'] = d['Ahmed'] + 1\n",
    "d['Ahmed'] += 1"
   ]
  },
  {
   "cell_type": "code",
   "execution_count": 27,
   "id": "1f668cf3",
   "metadata": {},
   "outputs": [
    {
     "data": {
      "text/plain": [
       "{'Ahmed': 26, 'Artur': 27, 'Max': 15, 'Rita': 28, 'Anna': 21, 'Alina': 18}"
      ]
     },
     "execution_count": 27,
     "metadata": {},
     "output_type": "execute_result"
    }
   ],
   "source": [
    "d"
   ]
  },
  {
   "cell_type": "code",
   "execution_count": 28,
   "id": "f05d363c",
   "metadata": {},
   "outputs": [
    {
     "data": {
      "text/plain": [
       "26"
      ]
     },
     "execution_count": 28,
     "metadata": {},
     "output_type": "execute_result"
    }
   ],
   "source": [
    "d.pop('Ahmed')"
   ]
  },
  {
   "cell_type": "code",
   "execution_count": 29,
   "id": "e65020b7",
   "metadata": {},
   "outputs": [
    {
     "data": {
      "text/plain": [
       "{'Artur': 27, 'Max': 15, 'Rita': 28, 'Anna': 21, 'Alina': 18}"
      ]
     },
     "execution_count": 29,
     "metadata": {},
     "output_type": "execute_result"
    }
   ],
   "source": [
    "d"
   ]
  },
  {
   "cell_type": "code",
   "execution_count": 30,
   "id": "677d3895",
   "metadata": {},
   "outputs": [
    {
     "ename": "TypeError",
     "evalue": "pop expected at least 1 argument, got 0",
     "output_type": "error",
     "traceback": [
      "\u001b[0;31m---------------------------------------------------------------------------\u001b[0m",
      "\u001b[0;31mTypeError\u001b[0m                                 Traceback (most recent call last)",
      "Input \u001b[0;32mIn [30]\u001b[0m, in \u001b[0;36m<cell line: 1>\u001b[0;34m()\u001b[0m\n\u001b[0;32m----> 1\u001b[0m \u001b[43md\u001b[49m\u001b[38;5;241;43m.\u001b[39;49m\u001b[43mpop\u001b[49m\u001b[43m(\u001b[49m\u001b[43m)\u001b[49m\n",
      "\u001b[0;31mTypeError\u001b[0m: pop expected at least 1 argument, got 0"
     ]
    }
   ],
   "source": [
    "d.pop()"
   ]
  },
  {
   "cell_type": "markdown",
   "id": "8f94d1de",
   "metadata": {},
   "source": [
    "### Что-то посложнее"
   ]
  },
  {
   "cell_type": "markdown",
   "id": "7164c44e",
   "metadata": {},
   "source": [
    "__mutable__:\n",
    "* list (tuple)\n",
    "* set (frozenset)\n",
    "* dict"
   ]
  },
  {
   "cell_type": "code",
   "execution_count": 36,
   "id": "f14625b7",
   "metadata": {},
   "outputs": [],
   "source": [
    "d = {\n",
    "    1: 6,\n",
    "    'asdf': 23,\n",
    "    False: 'hah',\n",
    "    (1, 2, 3): 6,\n",
    "    1.5: 3,\n",
    "    4: {\n",
    "        'Ahmed': 21,\n",
    "        'Akhmed': 22,\n",
    "    },\n",
    "    6: [1, 2, 3],\n",
    "}"
   ]
  },
  {
   "cell_type": "code",
   "execution_count": 41,
   "id": "c7f0fe6d",
   "metadata": {},
   "outputs": [
    {
     "data": {
      "text/plain": [
       "{1: 6,\n",
       " 'asdf': 23,\n",
       " False: 'hah',\n",
       " (1, 2, 3): 6,\n",
       " 1.5: 3,\n",
       " 4: {'Ahmed': 21, 'Akhmed': 22},\n",
       " 6: [1, 2, 3]}"
      ]
     },
     "execution_count": 41,
     "metadata": {},
     "output_type": "execute_result"
    }
   ],
   "source": [
    "d"
   ]
  },
  {
   "cell_type": "code",
   "execution_count": 40,
   "id": "a0ea15c1",
   "metadata": {},
   "outputs": [
    {
     "data": {
      "text/plain": [
       "21"
      ]
     },
     "execution_count": 40,
     "metadata": {},
     "output_type": "execute_result"
    }
   ],
   "source": [
    "d[4]['Ahmed']"
   ]
  },
  {
   "cell_type": "code",
   "execution_count": 42,
   "id": "a935a994",
   "metadata": {},
   "outputs": [],
   "source": [
    "d = {\n",
    "    'Ahmed': 21,\n",
    "    'Ahmed': 22,\n",
    "}"
   ]
  },
  {
   "cell_type": "code",
   "execution_count": 43,
   "id": "1ed86df8",
   "metadata": {},
   "outputs": [
    {
     "data": {
      "text/plain": [
       "{'Ahmed': 22}"
      ]
     },
     "execution_count": 43,
     "metadata": {},
     "output_type": "execute_result"
    }
   ],
   "source": [
    "d"
   ]
  },
  {
   "cell_type": "code",
   "execution_count": null,
   "id": "dd267dfa",
   "metadata": {},
   "outputs": [],
   "source": [
    "d['Ahmed']"
   ]
  },
  {
   "cell_type": "code",
   "execution_count": 98,
   "id": "4056f54e",
   "metadata": {},
   "outputs": [],
   "source": [
    "d = {\n",
    "    'Ahmed': 24,\n",
    "    'Artur': 27,\n",
    "    'Max': 15,\n",
    "    'Rita': 28,\n",
    "    'Anna': 21,\n",
    "    'Alina': 18,\n",
    "}"
   ]
  },
  {
   "cell_type": "code",
   "execution_count": 51,
   "id": "2ce41ea0",
   "metadata": {},
   "outputs": [],
   "source": [
    "keys = list(d.keys())"
   ]
  },
  {
   "cell_type": "code",
   "execution_count": 52,
   "id": "afb0a1c4",
   "metadata": {},
   "outputs": [
    {
     "data": {
      "text/plain": [
       "['Ahmed', 'Artur', 'Max', 'Rita', 'Anna', 'Alina']"
      ]
     },
     "execution_count": 52,
     "metadata": {},
     "output_type": "execute_result"
    }
   ],
   "source": [
    "keys"
   ]
  },
  {
   "cell_type": "code",
   "execution_count": 53,
   "id": "cc4b2cac",
   "metadata": {},
   "outputs": [
    {
     "data": {
      "text/plain": [
       "'Ahmed'"
      ]
     },
     "execution_count": 53,
     "metadata": {},
     "output_type": "execute_result"
    }
   ],
   "source": [
    "keys[0]"
   ]
  },
  {
   "cell_type": "code",
   "execution_count": 55,
   "id": "b54875dd",
   "metadata": {},
   "outputs": [
    {
     "name": "stdout",
     "output_type": "stream",
     "text": [
      "Ahmed\n",
      "Artur\n",
      "Max\n",
      "Rita\n",
      "Anna\n",
      "Alina\n"
     ]
    }
   ],
   "source": [
    "for name in d.keys():\n",
    "    print(name)"
   ]
  },
  {
   "cell_type": "code",
   "execution_count": 57,
   "id": "4b975f2e",
   "metadata": {},
   "outputs": [
    {
     "data": {
      "text/plain": [
       "6"
      ]
     },
     "execution_count": 57,
     "metadata": {},
     "output_type": "execute_result"
    }
   ],
   "source": [
    "len(d)"
   ]
  },
  {
   "cell_type": "code",
   "execution_count": 59,
   "id": "0f815653",
   "metadata": {},
   "outputs": [
    {
     "name": "stdout",
     "output_type": "stream",
     "text": [
      "22\n"
     ]
    }
   ],
   "source": [
    "s = 0\n",
    "for age in d.values():\n",
    "    s += age\n",
    "print(round(s / len(d)))"
   ]
  },
  {
   "cell_type": "code",
   "execution_count": 62,
   "id": "c210bc6f",
   "metadata": {},
   "outputs": [
    {
     "data": {
      "text/plain": [
       "3.32"
      ]
     },
     "execution_count": 62,
     "metadata": {},
     "output_type": "execute_result"
    }
   ],
   "source": [
    "round(3.3234234, 2)"
   ]
  },
  {
   "cell_type": "code",
   "execution_count": 60,
   "id": "23570009",
   "metadata": {},
   "outputs": [
    {
     "data": {
      "text/plain": [
       "4"
      ]
     },
     "execution_count": 60,
     "metadata": {},
     "output_type": "execute_result"
    }
   ],
   "source": [
    "round(3.5)"
   ]
  },
  {
   "cell_type": "code",
   "execution_count": null,
   "id": "aea8a258",
   "metadata": {},
   "outputs": [],
   "source": [
    "3.3 -> 4"
   ]
  },
  {
   "cell_type": "code",
   "execution_count": 63,
   "id": "3a938435",
   "metadata": {},
   "outputs": [],
   "source": [
    "from math import floor, ceil"
   ]
  },
  {
   "cell_type": "code",
   "execution_count": 64,
   "id": "05d6ff71",
   "metadata": {},
   "outputs": [
    {
     "data": {
      "text/plain": [
       "3"
      ]
     },
     "execution_count": 64,
     "metadata": {},
     "output_type": "execute_result"
    }
   ],
   "source": [
    "floor(3.3)"
   ]
  },
  {
   "cell_type": "code",
   "execution_count": 65,
   "id": "803ca207",
   "metadata": {
    "scrolled": true
   },
   "outputs": [
    {
     "data": {
      "text/plain": [
       "4"
      ]
     },
     "execution_count": 65,
     "metadata": {},
     "output_type": "execute_result"
    }
   ],
   "source": [
    "ceil(3.3)"
   ]
  },
  {
   "cell_type": "code",
   "execution_count": 67,
   "id": "8a2e7fb1",
   "metadata": {},
   "outputs": [],
   "source": [
    "k = 10\n",
    "v = 5"
   ]
  },
  {
   "cell_type": "code",
   "execution_count": 68,
   "id": "75d40c21",
   "metadata": {},
   "outputs": [],
   "source": [
    "k, v = 10, 5"
   ]
  },
  {
   "cell_type": "code",
   "execution_count": 70,
   "id": "01f4d118",
   "metadata": {},
   "outputs": [
    {
     "data": {
      "text/plain": [
       "(10, 5, 5)"
      ]
     },
     "execution_count": 70,
     "metadata": {},
     "output_type": "execute_result"
    }
   ],
   "source": [
    "10, 5"
   ]
  },
  {
   "cell_type": "code",
   "execution_count": 71,
   "id": "318638af",
   "metadata": {},
   "outputs": [],
   "source": [
    "x = [\n",
    "    (1, 1),\n",
    "    (2, 4),\n",
    "    (3, 9),\n",
    "    (4, 16),\n",
    "]"
   ]
  },
  {
   "cell_type": "code",
   "execution_count": 72,
   "id": "bb5aeb2f",
   "metadata": {},
   "outputs": [
    {
     "data": {
      "text/plain": [
       "(1, 1)"
      ]
     },
     "execution_count": 72,
     "metadata": {},
     "output_type": "execute_result"
    }
   ],
   "source": [
    "x[0]"
   ]
  },
  {
   "cell_type": "code",
   "execution_count": 73,
   "id": "da0d85e7",
   "metadata": {},
   "outputs": [
    {
     "name": "stdout",
     "output_type": "stream",
     "text": [
      "(1, 1)\n",
      "(2, 4)\n",
      "(3, 9)\n",
      "(4, 16)\n"
     ]
    }
   ],
   "source": [
    "for i in x:\n",
    "    print(i)"
   ]
  },
  {
   "cell_type": "code",
   "execution_count": 74,
   "id": "fcefbaf6",
   "metadata": {},
   "outputs": [
    {
     "name": "stdout",
     "output_type": "stream",
     "text": [
      "1 1\n",
      "2 4\n",
      "3 9\n",
      "4 16\n"
     ]
    }
   ],
   "source": [
    "for i in x:\n",
    "    k, v = i\n",
    "    print(k, v)"
   ]
  },
  {
   "cell_type": "code",
   "execution_count": 75,
   "id": "0c4aeec1",
   "metadata": {},
   "outputs": [
    {
     "name": "stdout",
     "output_type": "stream",
     "text": [
      "1 1\n",
      "2 4\n",
      "3 9\n",
      "4 16\n"
     ]
    }
   ],
   "source": [
    "for k, v in x:\n",
    "    print(k, v)"
   ]
  },
  {
   "cell_type": "code",
   "execution_count": 77,
   "id": "6bc4efe7",
   "metadata": {},
   "outputs": [
    {
     "data": {
      "text/plain": [
       "{'Ahmed': 24, 'Artur': 27, 'Max': 15, 'Rita': 28, 'Anna': 21, 'Alina': 18}"
      ]
     },
     "execution_count": 77,
     "metadata": {},
     "output_type": "execute_result"
    }
   ],
   "source": [
    "d"
   ]
  },
  {
   "cell_type": "code",
   "execution_count": 78,
   "id": "e6bc7c97",
   "metadata": {},
   "outputs": [
    {
     "data": {
      "text/plain": [
       "dict_items([('Ahmed', 24), ('Artur', 27), ('Max', 15), ('Rita', 28), ('Anna', 21), ('Alina', 18)])"
      ]
     },
     "execution_count": 78,
     "metadata": {},
     "output_type": "execute_result"
    }
   ],
   "source": [
    "d.items()"
   ]
  },
  {
   "cell_type": "code",
   "execution_count": 76,
   "id": "c77b8308",
   "metadata": {},
   "outputs": [
    {
     "name": "stdout",
     "output_type": "stream",
     "text": [
      "Ahmed: 24\n",
      "Artur: 27\n",
      "Max: 15\n",
      "Rita: 28\n",
      "Anna: 21\n",
      "Alina: 18\n"
     ]
    }
   ],
   "source": [
    "for name, age in d.items():\n",
    "    print(f'{name}: {age}')"
   ]
  },
  {
   "cell_type": "code",
   "execution_count": 79,
   "id": "cf3509a5",
   "metadata": {},
   "outputs": [
    {
     "data": {
      "text/plain": [
       "{'Ahmed': 24, 'Artur': 27, 'Max': 15, 'Rita': 28, 'Anna': 21, 'Alina': 18}"
      ]
     },
     "execution_count": 79,
     "metadata": {},
     "output_type": "execute_result"
    }
   ],
   "source": [
    "d"
   ]
  },
  {
   "cell_type": "code",
   "execution_count": 84,
   "id": "1e694d55",
   "metadata": {},
   "outputs": [
    {
     "data": {
      "text/plain": [
       "15"
      ]
     },
     "execution_count": 84,
     "metadata": {},
     "output_type": "execute_result"
    }
   ],
   "source": [
    "d['Max']"
   ]
  },
  {
   "cell_type": "code",
   "execution_count": 83,
   "id": "285e4e7c",
   "metadata": {},
   "outputs": [
    {
     "data": {
      "text/plain": [
       "15"
      ]
     },
     "execution_count": 83,
     "metadata": {},
     "output_type": "execute_result"
    }
   ],
   "source": [
    "d.get('Max')"
   ]
  },
  {
   "cell_type": "code",
   "execution_count": 85,
   "id": "c13016ef",
   "metadata": {},
   "outputs": [
    {
     "ename": "KeyError",
     "evalue": "'Kirill'",
     "output_type": "error",
     "traceback": [
      "\u001b[0;31m---------------------------------------------------------------------------\u001b[0m",
      "\u001b[0;31mKeyError\u001b[0m                                  Traceback (most recent call last)",
      "Input \u001b[0;32mIn [85]\u001b[0m, in \u001b[0;36m<cell line: 1>\u001b[0;34m()\u001b[0m\n\u001b[0;32m----> 1\u001b[0m \u001b[43md\u001b[49m\u001b[43m[\u001b[49m\u001b[38;5;124;43m'\u001b[39;49m\u001b[38;5;124;43mKirill\u001b[39;49m\u001b[38;5;124;43m'\u001b[39;49m\u001b[43m]\u001b[49m\n",
      "\u001b[0;31mKeyError\u001b[0m: 'Kirill'"
     ]
    }
   ],
   "source": [
    "d['Kirill']"
   ]
  },
  {
   "cell_type": "code",
   "execution_count": 90,
   "id": "76ed35b2",
   "metadata": {},
   "outputs": [],
   "source": [
    "d['Kirill'] = 22"
   ]
  },
  {
   "cell_type": "code",
   "execution_count": 104,
   "id": "642f98d6",
   "metadata": {},
   "outputs": [
    {
     "data": {
      "text/plain": [
       "10"
      ]
     },
     "execution_count": 104,
     "metadata": {},
     "output_type": "execute_result"
    }
   ],
   "source": [
    "d.get('Kirill', 10)"
   ]
  },
  {
   "cell_type": "code",
   "execution_count": 99,
   "id": "1214d1d8",
   "metadata": {},
   "outputs": [
    {
     "data": {
      "text/plain": [
       "{'Ahmed': 24, 'Artur': 27, 'Max': 15, 'Rita': 28, 'Anna': 21, 'Alina': 18}"
      ]
     },
     "execution_count": 99,
     "metadata": {},
     "output_type": "execute_result"
    }
   ],
   "source": [
    "d"
   ]
  },
  {
   "cell_type": "code",
   "execution_count": 100,
   "id": "c72fa7ec",
   "metadata": {},
   "outputs": [],
   "source": [
    "d2 = {\n",
    "    'Alena': 25,\n",
    "    'Egor': 30,\n",
    "    'Artur': 28,\n",
    "}"
   ]
  },
  {
   "cell_type": "code",
   "execution_count": 101,
   "id": "7093fd5a",
   "metadata": {},
   "outputs": [],
   "source": [
    "d.update(d2)  # d + d2"
   ]
  },
  {
   "cell_type": "code",
   "execution_count": 102,
   "id": "e165b8d6",
   "metadata": {
    "scrolled": true
   },
   "outputs": [
    {
     "data": {
      "text/plain": [
       "{'Ahmed': 24,\n",
       " 'Artur': 28,\n",
       " 'Max': 15,\n",
       " 'Rita': 28,\n",
       " 'Anna': 21,\n",
       " 'Alina': 18,\n",
       " 'Alena': 25,\n",
       " 'Egor': 30}"
      ]
     },
     "execution_count": 102,
     "metadata": {},
     "output_type": "execute_result"
    }
   ],
   "source": [
    "d"
   ]
  },
  {
   "cell_type": "markdown",
   "id": "c34d947e",
   "metadata": {},
   "source": [
    "### Задачка на словарь"
   ]
  },
  {
   "cell_type": "code",
   "execution_count": 125,
   "id": "60e501ed",
   "metadata": {},
   "outputs": [],
   "source": [
    "# text = 'one two one tho three'  # input()\n",
    "text = \"\"\"\n",
    "She sells sea shells on the sea shore;\n",
    "The shells that she sells are sea shells I'm sure.\n",
    "So if she sells sea shells on the sea shore,\n",
    "I'm sure that the shells are sea shore shells.\n",
    "\"\"\"\n",
    "tokens = text.split()"
   ]
  },
  {
   "cell_type": "code",
   "execution_count": 126,
   "id": "0186e0fc",
   "metadata": {},
   "outputs": [
    {
     "name": "stdout",
     "output_type": "stream",
     "text": [
      "0 0 0 0 0 0 1 0 0 1 0 0 1 0 2 2 0 0 0 0 1 2 3 3 1 1 4 0 1 0 1 2 4 1 5 0 0\n"
     ]
    }
   ],
   "source": [
    "d = {}  # key – token, value – count\n",
    "answers = []\n",
    "for token in tokens:\n",
    "    count = d.get(token, 0)\n",
    "    d[token] = d.get(token, 0) + 1\n",
    "    answers.append(count)\n",
    "    \n",
    "print(' '.join(map(str, answers)))"
   ]
  },
  {
   "cell_type": "code",
   "execution_count": 119,
   "id": "5f045d22",
   "metadata": {},
   "outputs": [
    {
     "data": {
      "text/plain": [
       "{'one': 2, 'two': 1, 'tho': 1, 'three': 1}"
      ]
     },
     "execution_count": 119,
     "metadata": {},
     "output_type": "execute_result"
    }
   ],
   "source": [
    "d"
   ]
  },
  {
   "cell_type": "code",
   "execution_count": 120,
   "id": "e5835026",
   "metadata": {},
   "outputs": [
    {
     "data": {
      "text/plain": [
       "[0, 0, 1, 0, 0]"
      ]
     },
     "execution_count": 120,
     "metadata": {},
     "output_type": "execute_result"
    }
   ],
   "source": [
    "answers"
   ]
  },
  {
   "cell_type": "code",
   "execution_count": 127,
   "id": "4da58247",
   "metadata": {},
   "outputs": [],
   "source": [
    "x = [1, 2, 3]"
   ]
  },
  {
   "cell_type": "code",
   "execution_count": 128,
   "id": "3b494ced",
   "metadata": {},
   "outputs": [
    {
     "data": {
      "text/plain": [
       "[1, 2, 3]"
      ]
     },
     "execution_count": 128,
     "metadata": {},
     "output_type": "execute_result"
    }
   ],
   "source": [
    "x"
   ]
  },
  {
   "cell_type": "code",
   "execution_count": 130,
   "id": "0c0affba",
   "metadata": {},
   "outputs": [
    {
     "data": {
      "text/plain": [
       "['1', '2', '3']"
      ]
     },
     "execution_count": 130,
     "metadata": {},
     "output_type": "execute_result"
    }
   ],
   "source": [
    "list(map(str, x))"
   ]
  },
  {
   "cell_type": "code",
   "execution_count": 131,
   "id": "f2b9e7d9",
   "metadata": {
    "scrolled": true
   },
   "outputs": [
    {
     "data": {
      "text/plain": [
       "'1 2 3'"
      ]
     },
     "execution_count": 131,
     "metadata": {},
     "output_type": "execute_result"
    }
   ],
   "source": [
    "\" \".join(['1', '2', '3'])"
   ]
  },
  {
   "cell_type": "code",
   "execution_count": 135,
   "id": "83288425",
   "metadata": {},
   "outputs": [],
   "source": [
    "d = {}  # key – word, value – count"
   ]
  },
  {
   "cell_type": "code",
   "execution_count": 137,
   "id": "96ce62e1",
   "metadata": {},
   "outputs": [],
   "source": [
    "if 'Ahmed' in d:\n",
    "    d['Ahmed'] = d['Ahmed'] + 1\n",
    "else:\n",
    "    d['Ahmed'] = 0"
   ]
  },
  {
   "cell_type": "code",
   "execution_count": null,
   "id": "2f418871",
   "metadata": {},
   "outputs": [],
   "source": [
    "d['Ahmed'] = d['Ahmed'].get(0) + 1"
   ]
  },
  {
   "cell_type": "code",
   "execution_count": 138,
   "id": "79320596",
   "metadata": {},
   "outputs": [],
   "source": [
    "from collections import defaultdict"
   ]
  },
  {
   "cell_type": "code",
   "execution_count": 139,
   "id": "2f3bae80",
   "metadata": {},
   "outputs": [],
   "source": [
    "d = defaultdict(int)"
   ]
  },
  {
   "cell_type": "code",
   "execution_count": 140,
   "id": "97695d80",
   "metadata": {},
   "outputs": [
    {
     "data": {
      "text/plain": [
       "0"
      ]
     },
     "execution_count": 140,
     "metadata": {},
     "output_type": "execute_result"
    }
   ],
   "source": [
    "d['Ahmed']"
   ]
  },
  {
   "cell_type": "code",
   "execution_count": 142,
   "id": "314b7328",
   "metadata": {},
   "outputs": [],
   "source": [
    "x = {\n",
    "    'sdf': [1, 2],\n",
    "    'hgh': [3, 4],\n",
    "}"
   ]
  },
  {
   "cell_type": "code",
   "execution_count": 144,
   "id": "50b3937d",
   "metadata": {},
   "outputs": [],
   "source": [
    "d = defaultdict(list)"
   ]
  },
  {
   "cell_type": "code",
   "execution_count": 145,
   "id": "f10cfb2c",
   "metadata": {},
   "outputs": [],
   "source": [
    "d['opa'].append(5)"
   ]
  },
  {
   "cell_type": "code",
   "execution_count": 146,
   "id": "ce630574",
   "metadata": {},
   "outputs": [
    {
     "data": {
      "text/plain": [
       "defaultdict(list, {'opa': [5]})"
      ]
     },
     "execution_count": 146,
     "metadata": {},
     "output_type": "execute_result"
    }
   ],
   "source": [
    "d"
   ]
  },
  {
   "cell_type": "code",
   "execution_count": 155,
   "id": "0d757841",
   "metadata": {},
   "outputs": [],
   "source": [
    "d = {}\n",
    "d = defaultdict(dict)"
   ]
  },
  {
   "cell_type": "code",
   "execution_count": 156,
   "id": "2917831d",
   "metadata": {},
   "outputs": [],
   "source": [
    "d['Ahmed'] = 5"
   ]
  },
  {
   "cell_type": "code",
   "execution_count": 157,
   "id": "c2d4f350",
   "metadata": {},
   "outputs": [
    {
     "data": {
      "text/plain": [
       "defaultdict(list, {'Ahmed': 5})"
      ]
     },
     "execution_count": 157,
     "metadata": {},
     "output_type": "execute_result"
    }
   ],
   "source": [
    "d"
   ]
  },
  {
   "cell_type": "code",
   "execution_count": 158,
   "id": "02f2bdff",
   "metadata": {},
   "outputs": [
    {
     "data": {
      "text/plain": [
       "[]"
      ]
     },
     "execution_count": 158,
     "metadata": {},
     "output_type": "execute_result"
    }
   ],
   "source": [
    "d['Max']"
   ]
  },
  {
   "cell_type": "code",
   "execution_count": 159,
   "id": "d7c8f6a7",
   "metadata": {},
   "outputs": [],
   "source": [
    "d = defaultdict(dict)"
   ]
  },
  {
   "cell_type": "code",
   "execution_count": 170,
   "id": "7d49997a",
   "metadata": {},
   "outputs": [],
   "source": [
    "d = defaultdict(lambda: defaultdict(int))"
   ]
  },
  {
   "cell_type": "code",
   "execution_count": 161,
   "id": "720f6817",
   "metadata": {},
   "outputs": [],
   "source": [
    "d['Ahmed']['Ozon'] = 100"
   ]
  },
  {
   "cell_type": "code",
   "execution_count": 162,
   "id": "cbf5ec5a",
   "metadata": {},
   "outputs": [
    {
     "data": {
      "text/plain": [
       "0"
      ]
     },
     "execution_count": 162,
     "metadata": {},
     "output_type": "execute_result"
    }
   ],
   "source": [
    "d['Ahmed']['Aliexpress']"
   ]
  },
  {
   "cell_type": "code",
   "execution_count": 164,
   "id": "d7c57ec6",
   "metadata": {},
   "outputs": [],
   "source": [
    "d = {\n",
    "    'Ahmed': {\n",
    "        'Ozon': 100,\n",
    "        'AliExprees': 200,\n",
    "    },\n",
    "    'Max': {\n",
    "        'Ozon': 200,\n",
    "    }\n",
    "}"
   ]
  }
 ],
 "metadata": {
  "kernelspec": {
   "display_name": "Python 3 (ipykernel)",
   "language": "python",
   "name": "python3"
  },
  "language_info": {
   "codemirror_mode": {
    "name": "ipython",
    "version": 3
   },
   "file_extension": ".py",
   "mimetype": "text/x-python",
   "name": "python",
   "nbconvert_exporter": "python",
   "pygments_lexer": "ipython3",
   "version": "3.9.12"
  }
 },
 "nbformat": 4,
 "nbformat_minor": 5
}
