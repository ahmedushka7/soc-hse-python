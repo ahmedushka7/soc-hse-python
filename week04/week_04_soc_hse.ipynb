{
 "cells": [
  {
   "cell_type": "markdown",
   "metadata": {},
   "source": [
    "## Повторим пройденное\n",
    "\n",
    "- В Python все является объектом\n",
    "- простейшие объекты (`int`, `float`, `bool`, `str`)\n",
    "- объекты посложнее - коллекции (`list`, `tuple`, `set`, `dict`)\n",
    "- решить задачу - это значит написать свою функцию"
   ]
  },
  {
   "cell_type": "code",
   "execution_count": 4,
   "metadata": {},
   "outputs": [
    {
     "data": {
      "text/plain": [
       "80"
      ]
     },
     "execution_count": 4,
     "metadata": {},
     "output_type": "execute_result"
    }
   ],
   "source": [
    "55 + 25"
   ]
  },
  {
   "cell_type": "code",
   "execution_count": 10,
   "metadata": {},
   "outputs": [
    {
     "data": {
      "text/plain": [
       "52.12"
      ]
     },
     "execution_count": 10,
     "metadata": {},
     "output_type": "execute_result"
    }
   ],
   "source": [
    "a = round(number=52.12421, ndigits=2)\n",
    "\n",
    "a"
   ]
  },
  {
   "cell_type": "code",
   "execution_count": 15,
   "metadata": {},
   "outputs": [],
   "source": [
    "s = [1, 2, 100]\n",
    "\n",
    "s.append(200)"
   ]
  },
  {
   "cell_type": "code",
   "execution_count": 16,
   "metadata": {},
   "outputs": [
    {
     "data": {
      "text/plain": [
       "[1, 2, 100, 200]"
      ]
     },
     "execution_count": 16,
     "metadata": {},
     "output_type": "execute_result"
    }
   ],
   "source": [
    "s"
   ]
  },
  {
   "cell_type": "code",
   "execution_count": 31,
   "metadata": {},
   "outputs": [
    {
     "data": {
      "text/plain": [
       "103"
      ]
     },
     "execution_count": 31,
     "metadata": {},
     "output_type": "execute_result"
    }
   ],
   "source": [
    "sum(s)"
   ]
  },
  {
   "cell_type": "code",
   "execution_count": 18,
   "metadata": {},
   "outputs": [
    {
     "ename": "AttributeError",
     "evalue": "'tuple' object has no attribute 'append'",
     "output_type": "error",
     "traceback": [
      "\u001b[0;31m---------------------------------------------------------------------------\u001b[0m",
      "\u001b[0;31mAttributeError\u001b[0m                            Traceback (most recent call last)",
      "\u001b[0;32m<ipython-input-18-8a79a4bae4b5>\u001b[0m in \u001b[0;36m<module>\u001b[0;34m\u001b[0m\n\u001b[1;32m      1\u001b[0m \u001b[0ms\u001b[0m \u001b[0;34m=\u001b[0m \u001b[0;34m(\u001b[0m\u001b[0;36m1\u001b[0m\u001b[0;34m,\u001b[0m \u001b[0;36m2\u001b[0m\u001b[0;34m,\u001b[0m \u001b[0;36m100\u001b[0m\u001b[0;34m)\u001b[0m\u001b[0;34m\u001b[0m\u001b[0;34m\u001b[0m\u001b[0m\n\u001b[1;32m      2\u001b[0m \u001b[0;34m\u001b[0m\u001b[0m\n\u001b[0;32m----> 3\u001b[0;31m \u001b[0ms\u001b[0m\u001b[0;34m.\u001b[0m\u001b[0mappend\u001b[0m\u001b[0;34m(\u001b[0m\u001b[0;36m200\u001b[0m\u001b[0;34m)\u001b[0m\u001b[0;34m\u001b[0m\u001b[0;34m\u001b[0m\u001b[0m\n\u001b[0m",
      "\u001b[0;31mAttributeError\u001b[0m: 'tuple' object has no attribute 'append'"
     ]
    }
   ],
   "source": [
    "s = (1, 2, 100)\n",
    "\n",
    "s.append(200)"
   ]
  },
  {
   "cell_type": "code",
   "execution_count": 20,
   "metadata": {},
   "outputs": [
    {
     "data": {
      "text/plain": [
       "{2, 4, 5}"
      ]
     },
     "execution_count": 20,
     "metadata": {},
     "output_type": "execute_result"
    }
   ],
   "source": [
    "s = {2, 4, 5, 4}\n",
    "\n",
    "s"
   ]
  },
  {
   "cell_type": "code",
   "execution_count": 25,
   "metadata": {},
   "outputs": [
    {
     "data": {
      "text/plain": [
       "{2}"
      ]
     },
     "execution_count": 25,
     "metadata": {},
     "output_type": "execute_result"
    }
   ],
   "source": [
    "s1 = {1, 2, 3}\n",
    "s2 = {2, 5, 4}\n",
    "\n",
    "s1 & s2"
   ]
  },
  {
   "cell_type": "code",
   "execution_count": 22,
   "metadata": {},
   "outputs": [
    {
     "data": {
      "text/plain": [
       "{1, 2, 3, 4, 5}"
      ]
     },
     "execution_count": 22,
     "metadata": {},
     "output_type": "execute_result"
    }
   ],
   "source": [
    "s1 | s2"
   ]
  },
  {
   "cell_type": "code",
   "execution_count": 23,
   "metadata": {},
   "outputs": [
    {
     "data": {
      "text/plain": [
       "{1, 3}"
      ]
     },
     "execution_count": 23,
     "metadata": {},
     "output_type": "execute_result"
    }
   ],
   "source": [
    "s1 - s2"
   ]
  },
  {
   "cell_type": "code",
   "execution_count": 26,
   "metadata": {},
   "outputs": [],
   "source": [
    "d = {1: 'asdasd', 2: 'asdasd', 3: 'asdrweqr'}"
   ]
  },
  {
   "cell_type": "code",
   "execution_count": 28,
   "metadata": {},
   "outputs": [
    {
     "data": {
      "text/plain": [
       "'asdasd'"
      ]
     },
     "execution_count": 28,
     "metadata": {},
     "output_type": "execute_result"
    }
   ],
   "source": [
    "d[1]"
   ]
  },
  {
   "cell_type": "code",
   "execution_count": 32,
   "metadata": {},
   "outputs": [],
   "source": [
    "def calculate_prod(s):\n",
    "    prod = 1\n",
    "    for el in s:\n",
    "        prod = prod * el  # prod *= el\n",
    "\n",
    "    return prod"
   ]
  },
  {
   "cell_type": "code",
   "execution_count": 37,
   "metadata": {},
   "outputs": [],
   "source": [
    "k = [1, 2, 3, 4]\n",
    "\n",
    "a = calculate_prod(k)"
   ]
  },
  {
   "cell_type": "code",
   "execution_count": 39,
   "metadata": {},
   "outputs": [
    {
     "data": {
      "text/plain": [
       "124"
      ]
     },
     "execution_count": 39,
     "metadata": {},
     "output_type": "execute_result"
    }
   ],
   "source": [
    "a + 100"
   ]
  },
  {
   "cell_type": "code",
   "execution_count": 47,
   "metadata": {},
   "outputs": [],
   "source": [
    "def calculate_prod(s):\n",
    "    prod = 1\n",
    "    for el in s:\n",
    "        prod = prod * el  # prod *= el\n",
    "\n",
    "        print(f\"сейчас prod равняется {prod}\")\n",
    "    \n",
    "    return prod"
   ]
  },
  {
   "cell_type": "code",
   "execution_count": 48,
   "metadata": {},
   "outputs": [
    {
     "name": "stdout",
     "output_type": "stream",
     "text": [
      "сейчас prod равняется 1\n",
      "сейчас prod равняется 2\n",
      "сейчас prod равняется 6\n",
      "сейчас prod равняется 24\n"
     ]
    },
    {
     "data": {
      "text/plain": [
       "24"
      ]
     },
     "execution_count": 48,
     "metadata": {},
     "output_type": "execute_result"
    }
   ],
   "source": [
    "k = [1, 2, 3, 4]\n",
    "\n",
    "calculate_prod(k)"
   ]
  },
  {
   "cell_type": "code",
   "execution_count": 46,
   "metadata": {},
   "outputs": [
    {
     "ename": "TypeError",
     "evalue": "unsupported operand type(s) for +: 'NoneType' and 'int'",
     "output_type": "error",
     "traceback": [
      "\u001b[0;31m---------------------------------------------------------------------------\u001b[0m",
      "\u001b[0;31mTypeError\u001b[0m                                 Traceback (most recent call last)",
      "\u001b[0;32m<ipython-input-46-4a11178a7412>\u001b[0m in \u001b[0;36m<module>\u001b[0;34m\u001b[0m\n\u001b[0;32m----> 1\u001b[0;31m \u001b[0ma\u001b[0m \u001b[0;34m+\u001b[0m \u001b[0;36m100\u001b[0m\u001b[0;34m\u001b[0m\u001b[0;34m\u001b[0m\u001b[0m\n\u001b[0m",
      "\u001b[0;31mTypeError\u001b[0m: unsupported operand type(s) for +: 'NoneType' and 'int'"
     ]
    }
   ],
   "source": [
    "a + 100"
   ]
  },
  {
   "cell_type": "code",
   "execution_count": 33,
   "metadata": {},
   "outputs": [
    {
     "data": {
      "text/plain": [
       "24"
      ]
     },
     "execution_count": 33,
     "metadata": {},
     "output_type": "execute_result"
    }
   ],
   "source": [
    "calculate_prod(s=[1, 2, 3, 4])"
   ]
  },
  {
   "cell_type": "code",
   "execution_count": 34,
   "metadata": {},
   "outputs": [
    {
     "data": {
      "text/plain": [
       "24"
      ]
     },
     "execution_count": 34,
     "metadata": {},
     "output_type": "execute_result"
    }
   ],
   "source": [
    "k = [1, 2, 3, 4]\n",
    "\n",
    "calculate_prod(s=k)"
   ]
  },
  {
   "cell_type": "code",
   "execution_count": 35,
   "metadata": {},
   "outputs": [
    {
     "data": {
      "text/plain": [
       "24"
      ]
     },
     "execution_count": 35,
     "metadata": {},
     "output_type": "execute_result"
    }
   ],
   "source": [
    "k = [1, 2, 3, 4]\n",
    "\n",
    "calculate_prod(k)"
   ]
  },
  {
   "cell_type": "markdown",
   "metadata": {},
   "source": [
    "## Решаем задачу №1"
   ]
  },
  {
   "cell_type": "markdown",
   "metadata": {},
   "source": [
    "Есть рыбка Дори, у которой есть куча обычных камней и драгоценных камней. Драгоценные камни обозначаются заглавными буквами, а обычные камни обозначаются прописными буквами. Нужно помочь посчитать сколько каких камней есть у Дори."
   ]
  },
  {
   "cell_type": "code",
   "execution_count": 57,
   "metadata": {},
   "outputs": [],
   "source": [
    "def count_stones(s):\n",
    "    d = {'drag': 0, 'stones': 0}\n",
    "    for stone in s:\n",
    "        if stone.isupper():\n",
    "            d['drag'] += 1\n",
    "        else:\n",
    "            d['stones'] += 1\n",
    "\n",
    "    return d "
   ]
  },
  {
   "cell_type": "code",
   "execution_count": 59,
   "metadata": {},
   "outputs": [
    {
     "data": {
      "text/plain": [
       "{'drag': 7, 'stones': 10}"
      ]
     },
     "execution_count": 59,
     "metadata": {},
     "output_type": "execute_result"
    }
   ],
   "source": [
    "s = 'AAbcaDEfRSSasfasf'\n",
    "\n",
    "count_stones(s)"
   ]
  },
  {
   "cell_type": "code",
   "execution_count": 60,
   "metadata": {},
   "outputs": [
    {
     "data": {
      "text/plain": [
       "{'drag': 2, 'stones': 9}"
      ]
     },
     "execution_count": 60,
     "metadata": {},
     "output_type": "execute_result"
    }
   ],
   "source": [
    "s = 'AAbcaasfasf'\n",
    "\n",
    "count_stones(s)"
   ]
  },
  {
   "cell_type": "markdown",
   "metadata": {},
   "source": [
    "## Решаем задачу №2\n",
    "\n",
    "Дана строка из символов, нужно посчитать сколько какого символа."
   ]
  },
  {
   "cell_type": "code",
   "execution_count": 70,
   "metadata": {},
   "outputs": [],
   "source": [
    "def count_symbols(s):\n",
    "    d = {}\n",
    "    for symbol in s:\n",
    "        if symbol not in d: # если чего-то нет в словаре\n",
    "            d[symbol] = 1   # то создай это и что-то положи \n",
    "        else:\n",
    "            d[symbol] += 1  # а если уже есть в словаре, то измени\n",
    "\n",
    "    return d"
   ]
  },
  {
   "cell_type": "code",
   "execution_count": 98,
   "metadata": {},
   "outputs": [],
   "source": [
    "s = 'BBBCCDDDFFAAQQW'\n",
    "\n",
    "dict_for_table = count_symbols(s)"
   ]
  },
  {
   "cell_type": "markdown",
   "metadata": {},
   "source": [
    "# Переходим к работе с данными\n",
    "\n",
    "Очень часто, когда вы работаете с данными, данные лежат в специальных таблицах. Это могут быть `.excel` таблицы либо таблицы в формате `.csv` (comma separated values)"
   ]
  },
  {
   "cell_type": "code",
   "execution_count": 1,
   "metadata": {},
   "outputs": [],
   "source": [
    "import pandas as pd"
   ]
  },
  {
   "cell_type": "code",
   "execution_count": 101,
   "metadata": {},
   "outputs": [
    {
     "data": {
      "text/plain": [
       "{'B': 3, 'C': 2, 'D': 3, 'F': 2, 'A': 2, 'Q': 2, 'W': 1}"
      ]
     },
     "execution_count": 101,
     "metadata": {},
     "output_type": "execute_result"
    }
   ],
   "source": [
    "dict_for_table"
   ]
  },
  {
   "cell_type": "code",
   "execution_count": 102,
   "metadata": {},
   "outputs": [
    {
     "data": {
      "text/html": [
       "<div>\n",
       "<style scoped>\n",
       "    .dataframe tbody tr th:only-of-type {\n",
       "        vertical-align: middle;\n",
       "    }\n",
       "\n",
       "    .dataframe tbody tr th {\n",
       "        vertical-align: top;\n",
       "    }\n",
       "\n",
       "    .dataframe thead th {\n",
       "        text-align: right;\n",
       "    }\n",
       "</style>\n",
       "<table border=\"1\" class=\"dataframe\">\n",
       "  <thead>\n",
       "    <tr style=\"text-align: right;\">\n",
       "      <th></th>\n",
       "      <th>names</th>\n",
       "      <th>scores</th>\n",
       "    </tr>\n",
       "  </thead>\n",
       "  <tbody>\n",
       "    <tr>\n",
       "      <th>0</th>\n",
       "      <td>max</td>\n",
       "      <td>4</td>\n",
       "    </tr>\n",
       "    <tr>\n",
       "      <th>1</th>\n",
       "      <td>ann</td>\n",
       "      <td>8</td>\n",
       "    </tr>\n",
       "    <tr>\n",
       "      <th>2</th>\n",
       "      <td>akmed</td>\n",
       "      <td>5</td>\n",
       "    </tr>\n",
       "  </tbody>\n",
       "</table>\n",
       "</div>"
      ],
      "text/plain": [
       "   names  scores\n",
       "0    max       4\n",
       "1    ann       8\n",
       "2  akmed       5"
      ]
     },
     "execution_count": 102,
     "metadata": {},
     "output_type": "execute_result"
    }
   ],
   "source": [
    "d = {\n",
    "    'names': ['max', 'ann', 'akmed'],\n",
    "    'scores': [4, 8, 5]\n",
    "}\n",
    "\n",
    "pd.DataFrame(d)"
   ]
  },
  {
   "cell_type": "code",
   "execution_count": 75,
   "metadata": {},
   "outputs": [],
   "source": [
    "# !pip install pandas"
   ]
  },
  {
   "cell_type": "code",
   "execution_count": 2,
   "metadata": {},
   "outputs": [],
   "source": [
    "data = pd.read_csv(\"data/youtube_data_short.csv\", sep='\\t')"
   ]
  },
  {
   "cell_type": "markdown",
   "metadata": {},
   "source": [
    "## План\n",
    "\n",
    "0. Общие функции над таблицей\n",
    "1. Как доставать часть данных? (фильтрация)\n",
    "2. Как создавать новые данные из существующих?\n",
    "3. Как на данных считать статистики? \n",
    "4. Как считать статистики внутри групп? "
   ]
  },
  {
   "cell_type": "markdown",
   "metadata": {},
   "source": [
    "### 0. Общие функции над таблицей"
   ]
  },
  {
   "cell_type": "code",
   "execution_count": 3,
   "metadata": {},
   "outputs": [
    {
     "data": {
      "text/html": [
       "<div>\n",
       "<style scoped>\n",
       "    .dataframe tbody tr th:only-of-type {\n",
       "        vertical-align: middle;\n",
       "    }\n",
       "\n",
       "    .dataframe tbody tr th {\n",
       "        vertical-align: top;\n",
       "    }\n",
       "\n",
       "    .dataframe thead th {\n",
       "        text-align: right;\n",
       "    }\n",
       "</style>\n",
       "<table border=\"1\" class=\"dataframe\">\n",
       "  <thead>\n",
       "    <tr style=\"text-align: right;\">\n",
       "      <th></th>\n",
       "      <th>title</th>\n",
       "      <th>commentCount</th>\n",
       "      <th>dislikeCount</th>\n",
       "      <th>likeCount</th>\n",
       "      <th>music_style</th>\n",
       "      <th>performer</th>\n",
       "      <th>viewCount</th>\n",
       "      <th>commentators_uniq</th>\n",
       "      <th>comments_obscene_cnt</th>\n",
       "      <th>video_age</th>\n",
       "    </tr>\n",
       "  </thead>\n",
       "  <tbody>\n",
       "    <tr>\n",
       "      <th>0</th>\n",
       "      <td>\"#2Маши \"Свободные линии\"</td>\n",
       "      <td>34.0</td>\n",
       "      <td>43.0</td>\n",
       "      <td>1402.0</td>\n",
       "      <td>popsa</td>\n",
       "      <td>2маши</td>\n",
       "      <td>214301.0</td>\n",
       "      <td>24.0</td>\n",
       "      <td>0.0</td>\n",
       "      <td>1141</td>\n",
       "    </tr>\n",
       "    <tr>\n",
       "      <th>1</th>\n",
       "      <td>\"ALARM\" СЕРГЕЙ ЛАЗАРЕВ ( SERGEY LAZAREV )</td>\n",
       "      <td>NaN</td>\n",
       "      <td>690.0</td>\n",
       "      <td>10532.0</td>\n",
       "      <td>popsa</td>\n",
       "      <td>лазарев</td>\n",
       "      <td>2221419.0</td>\n",
       "      <td>NaN</td>\n",
       "      <td>NaN</td>\n",
       "      <td>3217</td>\n",
       "    </tr>\n",
       "    <tr>\n",
       "      <th>2</th>\n",
       "      <td>\"EARTH SONG\"  SERGEY LAZAREV. DEDICATED TO MIC...</td>\n",
       "      <td>26.0</td>\n",
       "      <td>10.0</td>\n",
       "      <td>269.0</td>\n",
       "      <td>popsa</td>\n",
       "      <td>лазарев</td>\n",
       "      <td>40327.0</td>\n",
       "      <td>23.0</td>\n",
       "      <td>0.0</td>\n",
       "      <td>3546</td>\n",
       "    </tr>\n",
       "    <tr>\n",
       "      <th>3</th>\n",
       "      <td>\"Earth song\" премия МУЗ-тВ 2010 (LIVE)</td>\n",
       "      <td>12.0</td>\n",
       "      <td>7.0</td>\n",
       "      <td>163.0</td>\n",
       "      <td>popsa</td>\n",
       "      <td>лазарев</td>\n",
       "      <td>11907.0</td>\n",
       "      <td>11.0</td>\n",
       "      <td>0.0</td>\n",
       "      <td>3189</td>\n",
       "    </tr>\n",
       "    <tr>\n",
       "      <th>4</th>\n",
       "      <td>\"FAKE\" СЕРГЕЙ ЛАЗАРЕВ (SERGEY)</td>\n",
       "      <td>46.0</td>\n",
       "      <td>19.0</td>\n",
       "      <td>597.0</td>\n",
       "      <td>popsa</td>\n",
       "      <td>лазарев</td>\n",
       "      <td>91483.0</td>\n",
       "      <td>33.0</td>\n",
       "      <td>1.0</td>\n",
       "      <td>3361</td>\n",
       "    </tr>\n",
       "  </tbody>\n",
       "</table>\n",
       "</div>"
      ],
      "text/plain": [
       "                                               title  commentCount  \\\n",
       "0                          \"#2Маши \"Свободные линии\"          34.0   \n",
       "1          \"ALARM\" СЕРГЕЙ ЛАЗАРЕВ ( SERGEY LAZAREV )           NaN   \n",
       "2  \"EARTH SONG\"  SERGEY LAZAREV. DEDICATED TO MIC...          26.0   \n",
       "3             \"Earth song\" премия МУЗ-тВ 2010 (LIVE)          12.0   \n",
       "4                     \"FAKE\" СЕРГЕЙ ЛАЗАРЕВ (SERGEY)          46.0   \n",
       "\n",
       "   dislikeCount  likeCount music_style performer  viewCount  \\\n",
       "0          43.0     1402.0       popsa     2маши   214301.0   \n",
       "1         690.0    10532.0       popsa   лазарев  2221419.0   \n",
       "2          10.0      269.0       popsa   лазарев    40327.0   \n",
       "3           7.0      163.0       popsa   лазарев    11907.0   \n",
       "4          19.0      597.0       popsa   лазарев    91483.0   \n",
       "\n",
       "   commentators_uniq  comments_obscene_cnt  video_age  \n",
       "0               24.0                   0.0       1141  \n",
       "1                NaN                   NaN       3217  \n",
       "2               23.0                   0.0       3546  \n",
       "3               11.0                   0.0       3189  \n",
       "4               33.0                   1.0       3361  "
      ]
     },
     "execution_count": 3,
     "metadata": {},
     "output_type": "execute_result"
    }
   ],
   "source": [
    "data.head()"
   ]
  },
  {
   "cell_type": "code",
   "execution_count": 4,
   "metadata": {},
   "outputs": [
    {
     "data": {
      "text/html": [
       "<div>\n",
       "<style scoped>\n",
       "    .dataframe tbody tr th:only-of-type {\n",
       "        vertical-align: middle;\n",
       "    }\n",
       "\n",
       "    .dataframe tbody tr th {\n",
       "        vertical-align: top;\n",
       "    }\n",
       "\n",
       "    .dataframe thead th {\n",
       "        text-align: right;\n",
       "    }\n",
       "</style>\n",
       "<table border=\"1\" class=\"dataframe\">\n",
       "  <thead>\n",
       "    <tr style=\"text-align: right;\">\n",
       "      <th></th>\n",
       "      <th>title</th>\n",
       "      <th>commentCount</th>\n",
       "      <th>dislikeCount</th>\n",
       "      <th>likeCount</th>\n",
       "      <th>music_style</th>\n",
       "      <th>performer</th>\n",
       "      <th>viewCount</th>\n",
       "      <th>commentators_uniq</th>\n",
       "      <th>comments_obscene_cnt</th>\n",
       "      <th>video_age</th>\n",
       "    </tr>\n",
       "  </thead>\n",
       "  <tbody>\n",
       "    <tr>\n",
       "      <th>19119</th>\n",
       "      <td>♫♪Мы расстаемся ♫♪  Бутырка new2019</td>\n",
       "      <td>2.0</td>\n",
       "      <td>0.0</td>\n",
       "      <td>11.0</td>\n",
       "      <td>shanson</td>\n",
       "      <td>бутырка</td>\n",
       "      <td>1107.0</td>\n",
       "      <td>NaN</td>\n",
       "      <td>NaN</td>\n",
       "      <td>44</td>\n",
       "    </tr>\n",
       "    <tr>\n",
       "      <th>19120</th>\n",
       "      <td>❤ 2 ЧАСА ❤ МОЦАРТ Для Младенцев - Колыбельная ...</td>\n",
       "      <td>94.0</td>\n",
       "      <td>431.0</td>\n",
       "      <td>1837.0</td>\n",
       "      <td>classic</td>\n",
       "      <td>classical_channel</td>\n",
       "      <td>391836.0</td>\n",
       "      <td>37.0</td>\n",
       "      <td>1.0</td>\n",
       "      <td>239</td>\n",
       "    </tr>\n",
       "    <tr>\n",
       "      <th>19121</th>\n",
       "      <td>モスクワライブショー ' 17</td>\n",
       "      <td>4872.0</td>\n",
       "      <td>15494.0</td>\n",
       "      <td>30603.0</td>\n",
       "      <td>rap</td>\n",
       "      <td>элджей</td>\n",
       "      <td>1187340.0</td>\n",
       "      <td>1788.0</td>\n",
       "      <td>352.0</td>\n",
       "      <td>339</td>\n",
       "    </tr>\n",
       "    <tr>\n",
       "      <th>19122</th>\n",
       "      <td>舞梅鬼   -  新年好宝贝 / Mumiy Troll - Happy New Year ...</td>\n",
       "      <td>59.0</td>\n",
       "      <td>10.0</td>\n",
       "      <td>260.0</td>\n",
       "      <td>rock</td>\n",
       "      <td>мумий_тролль</td>\n",
       "      <td>10147.0</td>\n",
       "      <td>19.0</td>\n",
       "      <td>0.0</td>\n",
       "      <td>997</td>\n",
       "    </tr>\n",
       "    <tr>\n",
       "      <th>19123</th>\n",
       "      <td>🎄#премьера песни!!! 2019г(вы не спешите говори...</td>\n",
       "      <td>1.0</td>\n",
       "      <td>0.0</td>\n",
       "      <td>22.0</td>\n",
       "      <td>shanson</td>\n",
       "      <td>бутырка</td>\n",
       "      <td>1566.0</td>\n",
       "      <td>NaN</td>\n",
       "      <td>NaN</td>\n",
       "      <td>65</td>\n",
       "    </tr>\n",
       "  </tbody>\n",
       "</table>\n",
       "</div>"
      ],
      "text/plain": [
       "                                                   title  commentCount  \\\n",
       "19119                ♫♪Мы расстаемся ♫♪  Бутырка new2019           2.0   \n",
       "19120  ❤ 2 ЧАСА ❤ МОЦАРТ Для Младенцев - Колыбельная ...          94.0   \n",
       "19121                                    モスクワライブショー ' 17        4872.0   \n",
       "19122  舞梅鬼   -  新年好宝贝 / Mumiy Troll - Happy New Year ...          59.0   \n",
       "19123  🎄#премьера песни!!! 2019г(вы не спешите говори...           1.0   \n",
       "\n",
       "       dislikeCount  likeCount music_style          performer  viewCount  \\\n",
       "19119           0.0       11.0     shanson            бутырка     1107.0   \n",
       "19120         431.0     1837.0     classic  classical_channel   391836.0   \n",
       "19121       15494.0    30603.0         rap             элджей  1187340.0   \n",
       "19122          10.0      260.0        rock       мумий_тролль    10147.0   \n",
       "19123           0.0       22.0     shanson            бутырка     1566.0   \n",
       "\n",
       "       commentators_uniq  comments_obscene_cnt  video_age  \n",
       "19119                NaN                   NaN         44  \n",
       "19120               37.0                   1.0        239  \n",
       "19121             1788.0                 352.0        339  \n",
       "19122               19.0                   0.0        997  \n",
       "19123                NaN                   NaN         65  "
      ]
     },
     "execution_count": 4,
     "metadata": {},
     "output_type": "execute_result"
    }
   ],
   "source": [
    "data.tail()"
   ]
  },
  {
   "cell_type": "code",
   "execution_count": 94,
   "metadata": {},
   "outputs": [
    {
     "name": "stdout",
     "output_type": "stream",
     "text": [
      "<class 'pandas.core.frame.DataFrame'>\n",
      "RangeIndex: 19124 entries, 0 to 19123\n",
      "Data columns (total 10 columns):\n",
      " #   Column                Non-Null Count  Dtype  \n",
      "---  ------                --------------  -----  \n",
      " 0   title                 19124 non-null  object \n",
      " 1   commentCount          18914 non-null  float64\n",
      " 2   dislikeCount          18850 non-null  float64\n",
      " 3   likeCount             18850 non-null  float64\n",
      " 4   music_style           19124 non-null  object \n",
      " 5   performer             19124 non-null  object \n",
      " 6   viewCount             19123 non-null  float64\n",
      " 7   commentators_uniq     12314 non-null  float64\n",
      " 8   comments_obscene_cnt  12314 non-null  float64\n",
      " 9   video_age             19124 non-null  int64  \n",
      "dtypes: float64(6), int64(1), object(3)\n",
      "memory usage: 1.5+ MB\n"
     ]
    }
   ],
   "source": [
    "data.info()"
   ]
  },
  {
   "cell_type": "code",
   "execution_count": 95,
   "metadata": {},
   "outputs": [
    {
     "data": {
      "text/plain": [
       "title                      0\n",
       "commentCount             210\n",
       "dislikeCount             274\n",
       "likeCount                274\n",
       "music_style                0\n",
       "performer                  0\n",
       "viewCount                  1\n",
       "commentators_uniq       6810\n",
       "comments_obscene_cnt    6810\n",
       "video_age                  0\n",
       "dtype: int64"
      ]
     },
     "execution_count": 95,
     "metadata": {},
     "output_type": "execute_result"
    }
   ],
   "source": [
    "data.isnull().sum()"
   ]
  },
  {
   "cell_type": "code",
   "execution_count": 96,
   "metadata": {},
   "outputs": [
    {
     "data": {
      "text/plain": [
       "(19124, 10)"
      ]
     },
     "execution_count": 96,
     "metadata": {},
     "output_type": "execute_result"
    }
   ],
   "source": [
    "data.shape"
   ]
  },
  {
   "cell_type": "code",
   "execution_count": 97,
   "metadata": {},
   "outputs": [
    {
     "data": {
      "text/plain": [
       "Index(['title', 'commentCount', 'dislikeCount', 'likeCount', 'music_style',\n",
       "       'performer', 'viewCount', 'commentators_uniq', 'comments_obscene_cnt',\n",
       "       'video_age'],\n",
       "      dtype='object')"
      ]
     },
     "execution_count": 97,
     "metadata": {},
     "output_type": "execute_result"
    }
   ],
   "source": [
    "data.columns"
   ]
  },
  {
   "cell_type": "markdown",
   "metadata": {},
   "source": [
    "### 1. Как доставать часть данных? (фильтрация)"
   ]
  },
  {
   "cell_type": "code",
   "execution_count": 103,
   "metadata": {},
   "outputs": [
    {
     "data": {
      "text/plain": [
       "0                                \"#2Маши \"Свободные линии\"\n",
       "1                \"ALARM\" СЕРГЕЙ ЛАЗАРЕВ ( SERGEY LAZAREV )\n",
       "2        \"EARTH SONG\"  SERGEY LAZAREV. DEDICATED TO MIC...\n",
       "3                   \"Earth song\" премия МУЗ-тВ 2010 (LIVE)\n",
       "4                           \"FAKE\" СЕРГЕЙ ЛАЗАРЕВ (SERGEY)\n",
       "                               ...                        \n",
       "19119                  ♫♪Мы расстаемся ♫♪  Бутырка new2019\n",
       "19120    ❤ 2 ЧАСА ❤ МОЦАРТ Для Младенцев - Колыбельная ...\n",
       "19121                                      モスクワライブショー ' 17\n",
       "19122    舞梅鬼   -  新年好宝贝 / Mumiy Troll - Happy New Year ...\n",
       "19123    🎄#премьера песни!!! 2019г(вы не спешите говори...\n",
       "Name: title, Length: 19124, dtype: object"
      ]
     },
     "execution_count": 103,
     "metadata": {},
     "output_type": "execute_result"
    }
   ],
   "source": [
    "data['title']"
   ]
  },
  {
   "cell_type": "code",
   "execution_count": 104,
   "metadata": {},
   "outputs": [
    {
     "data": {
      "text/plain": [
       "pandas.core.series.Series"
      ]
     },
     "execution_count": 104,
     "metadata": {},
     "output_type": "execute_result"
    }
   ],
   "source": [
    "type(data['title'])"
   ]
  },
  {
   "cell_type": "code",
   "execution_count": 105,
   "metadata": {},
   "outputs": [
    {
     "data": {
      "text/plain": [
       "array(['\"#2Маши \"Свободные линии\"',\n",
       "       '\"ALARM\" СЕРГЕЙ ЛАЗАРЕВ ( SERGEY LAZAREV )',\n",
       "       '\"EARTH SONG\"  SERGEY LAZAREV. DEDICATED TO MICHAEL JACKSON ( Cover version)',\n",
       "       ..., \"モスクワライブショー ' 17\",\n",
       "       \"舞梅鬼   -  新年好宝贝 / Mumiy Troll - Happy New Year Baby (Fan's  Video)\",\n",
       "       '🎄#премьера песни!!! 2019г(вы не спешите говорит)группа.Бутырка.'],\n",
       "      dtype=object)"
      ]
     },
     "execution_count": 105,
     "metadata": {},
     "output_type": "execute_result"
    }
   ],
   "source": [
    "data['title'].values"
   ]
  },
  {
   "cell_type": "code",
   "execution_count": 106,
   "metadata": {},
   "outputs": [
    {
     "data": {
      "text/plain": [
       "0                                \"#2Маши \"Свободные линии\"\n",
       "1                \"ALARM\" СЕРГЕЙ ЛАЗАРЕВ ( SERGEY LAZAREV )\n",
       "2        \"EARTH SONG\"  SERGEY LAZAREV. DEDICATED TO MIC...\n",
       "3                   \"Earth song\" премия МУЗ-тВ 2010 (LIVE)\n",
       "4                           \"FAKE\" СЕРГЕЙ ЛАЗАРЕВ (SERGEY)\n",
       "                               ...                        \n",
       "19119                  ♫♪Мы расстаемся ♫♪  Бутырка new2019\n",
       "19120    ❤ 2 ЧАСА ❤ МОЦАРТ Для Младенцев - Колыбельная ...\n",
       "19121                                      モスクワライブショー ' 17\n",
       "19122    舞梅鬼   -  新年好宝贝 / Mumiy Troll - Happy New Year ...\n",
       "19123    🎄#премьера песни!!! 2019г(вы не спешите говори...\n",
       "Name: title, Length: 19124, dtype: object"
      ]
     },
     "execution_count": 106,
     "metadata": {},
     "output_type": "execute_result"
    }
   ],
   "source": [
    "data.title"
   ]
  },
  {
   "cell_type": "code",
   "execution_count": 107,
   "metadata": {},
   "outputs": [
    {
     "data": {
      "text/html": [
       "<div>\n",
       "<style scoped>\n",
       "    .dataframe tbody tr th:only-of-type {\n",
       "        vertical-align: middle;\n",
       "    }\n",
       "\n",
       "    .dataframe tbody tr th {\n",
       "        vertical-align: top;\n",
       "    }\n",
       "\n",
       "    .dataframe thead th {\n",
       "        text-align: right;\n",
       "    }\n",
       "</style>\n",
       "<table border=\"1\" class=\"dataframe\">\n",
       "  <thead>\n",
       "    <tr style=\"text-align: right;\">\n",
       "      <th></th>\n",
       "      <th>likeCount</th>\n",
       "      <th>dislikeCount</th>\n",
       "      <th>viewCount</th>\n",
       "    </tr>\n",
       "  </thead>\n",
       "  <tbody>\n",
       "    <tr>\n",
       "      <th>0</th>\n",
       "      <td>1402.0</td>\n",
       "      <td>43.0</td>\n",
       "      <td>214301.0</td>\n",
       "    </tr>\n",
       "    <tr>\n",
       "      <th>1</th>\n",
       "      <td>10532.0</td>\n",
       "      <td>690.0</td>\n",
       "      <td>2221419.0</td>\n",
       "    </tr>\n",
       "    <tr>\n",
       "      <th>2</th>\n",
       "      <td>269.0</td>\n",
       "      <td>10.0</td>\n",
       "      <td>40327.0</td>\n",
       "    </tr>\n",
       "    <tr>\n",
       "      <th>3</th>\n",
       "      <td>163.0</td>\n",
       "      <td>7.0</td>\n",
       "      <td>11907.0</td>\n",
       "    </tr>\n",
       "    <tr>\n",
       "      <th>4</th>\n",
       "      <td>597.0</td>\n",
       "      <td>19.0</td>\n",
       "      <td>91483.0</td>\n",
       "    </tr>\n",
       "    <tr>\n",
       "      <th>...</th>\n",
       "      <td>...</td>\n",
       "      <td>...</td>\n",
       "      <td>...</td>\n",
       "    </tr>\n",
       "    <tr>\n",
       "      <th>19119</th>\n",
       "      <td>11.0</td>\n",
       "      <td>0.0</td>\n",
       "      <td>1107.0</td>\n",
       "    </tr>\n",
       "    <tr>\n",
       "      <th>19120</th>\n",
       "      <td>1837.0</td>\n",
       "      <td>431.0</td>\n",
       "      <td>391836.0</td>\n",
       "    </tr>\n",
       "    <tr>\n",
       "      <th>19121</th>\n",
       "      <td>30603.0</td>\n",
       "      <td>15494.0</td>\n",
       "      <td>1187340.0</td>\n",
       "    </tr>\n",
       "    <tr>\n",
       "      <th>19122</th>\n",
       "      <td>260.0</td>\n",
       "      <td>10.0</td>\n",
       "      <td>10147.0</td>\n",
       "    </tr>\n",
       "    <tr>\n",
       "      <th>19123</th>\n",
       "      <td>22.0</td>\n",
       "      <td>0.0</td>\n",
       "      <td>1566.0</td>\n",
       "    </tr>\n",
       "  </tbody>\n",
       "</table>\n",
       "<p>19124 rows × 3 columns</p>\n",
       "</div>"
      ],
      "text/plain": [
       "       likeCount  dislikeCount  viewCount\n",
       "0         1402.0          43.0   214301.0\n",
       "1        10532.0         690.0  2221419.0\n",
       "2          269.0          10.0    40327.0\n",
       "3          163.0           7.0    11907.0\n",
       "4          597.0          19.0    91483.0\n",
       "...          ...           ...        ...\n",
       "19119       11.0           0.0     1107.0\n",
       "19120     1837.0         431.0   391836.0\n",
       "19121    30603.0       15494.0  1187340.0\n",
       "19122      260.0          10.0    10147.0\n",
       "19123       22.0           0.0     1566.0\n",
       "\n",
       "[19124 rows x 3 columns]"
      ]
     },
     "execution_count": 107,
     "metadata": {},
     "output_type": "execute_result"
    }
   ],
   "source": [
    "data[['likeCount', 'dislikeCount', 'viewCount']]"
   ]
  },
  {
   "cell_type": "code",
   "execution_count": 108,
   "metadata": {},
   "outputs": [
    {
     "data": {
      "text/html": [
       "<div>\n",
       "<style scoped>\n",
       "    .dataframe tbody tr th:only-of-type {\n",
       "        vertical-align: middle;\n",
       "    }\n",
       "\n",
       "    .dataframe tbody tr th {\n",
       "        vertical-align: top;\n",
       "    }\n",
       "\n",
       "    .dataframe thead th {\n",
       "        text-align: right;\n",
       "    }\n",
       "</style>\n",
       "<table border=\"1\" class=\"dataframe\">\n",
       "  <thead>\n",
       "    <tr style=\"text-align: right;\">\n",
       "      <th></th>\n",
       "      <th>likeCount</th>\n",
       "      <th>dislikeCount</th>\n",
       "      <th>viewCount</th>\n",
       "    </tr>\n",
       "  </thead>\n",
       "  <tbody>\n",
       "    <tr>\n",
       "      <th>0</th>\n",
       "      <td>1402.0</td>\n",
       "      <td>43.0</td>\n",
       "      <td>214301.0</td>\n",
       "    </tr>\n",
       "    <tr>\n",
       "      <th>1</th>\n",
       "      <td>10532.0</td>\n",
       "      <td>690.0</td>\n",
       "      <td>2221419.0</td>\n",
       "    </tr>\n",
       "    <tr>\n",
       "      <th>2</th>\n",
       "      <td>269.0</td>\n",
       "      <td>10.0</td>\n",
       "      <td>40327.0</td>\n",
       "    </tr>\n",
       "    <tr>\n",
       "      <th>3</th>\n",
       "      <td>163.0</td>\n",
       "      <td>7.0</td>\n",
       "      <td>11907.0</td>\n",
       "    </tr>\n",
       "    <tr>\n",
       "      <th>4</th>\n",
       "      <td>597.0</td>\n",
       "      <td>19.0</td>\n",
       "      <td>91483.0</td>\n",
       "    </tr>\n",
       "    <tr>\n",
       "      <th>...</th>\n",
       "      <td>...</td>\n",
       "      <td>...</td>\n",
       "      <td>...</td>\n",
       "    </tr>\n",
       "    <tr>\n",
       "      <th>19119</th>\n",
       "      <td>11.0</td>\n",
       "      <td>0.0</td>\n",
       "      <td>1107.0</td>\n",
       "    </tr>\n",
       "    <tr>\n",
       "      <th>19120</th>\n",
       "      <td>1837.0</td>\n",
       "      <td>431.0</td>\n",
       "      <td>391836.0</td>\n",
       "    </tr>\n",
       "    <tr>\n",
       "      <th>19121</th>\n",
       "      <td>30603.0</td>\n",
       "      <td>15494.0</td>\n",
       "      <td>1187340.0</td>\n",
       "    </tr>\n",
       "    <tr>\n",
       "      <th>19122</th>\n",
       "      <td>260.0</td>\n",
       "      <td>10.0</td>\n",
       "      <td>10147.0</td>\n",
       "    </tr>\n",
       "    <tr>\n",
       "      <th>19123</th>\n",
       "      <td>22.0</td>\n",
       "      <td>0.0</td>\n",
       "      <td>1566.0</td>\n",
       "    </tr>\n",
       "  </tbody>\n",
       "</table>\n",
       "<p>19124 rows × 3 columns</p>\n",
       "</div>"
      ],
      "text/plain": [
       "       likeCount  dislikeCount  viewCount\n",
       "0         1402.0          43.0   214301.0\n",
       "1        10532.0         690.0  2221419.0\n",
       "2          269.0          10.0    40327.0\n",
       "3          163.0           7.0    11907.0\n",
       "4          597.0          19.0    91483.0\n",
       "...          ...           ...        ...\n",
       "19119       11.0           0.0     1107.0\n",
       "19120     1837.0         431.0   391836.0\n",
       "19121    30603.0       15494.0  1187340.0\n",
       "19122      260.0          10.0    10147.0\n",
       "19123       22.0           0.0     1566.0\n",
       "\n",
       "[19124 rows x 3 columns]"
      ]
     },
     "execution_count": 108,
     "metadata": {},
     "output_type": "execute_result"
    }
   ],
   "source": [
    "useful_cols = ['likeCount', 'dislikeCount', 'viewCount']\n",
    "\n",
    "data[useful_cols]"
   ]
  },
  {
   "cell_type": "markdown",
   "metadata": {},
   "source": [
    "__Вопрос №1:__ Я хочу отобрать клипы, у которых лайков 0, а дизлайков больше 0."
   ]
  },
  {
   "cell_type": "code",
   "execution_count": 8,
   "metadata": {},
   "outputs": [
    {
     "data": {
      "text/plain": [
       "0                    2маши\n",
       "1                  лазарев\n",
       "2                  лазарев\n",
       "3                  лазарев\n",
       "4                  лазарев\n",
       "               ...        \n",
       "19119              бутырка\n",
       "19120    classical_channel\n",
       "19121               элджей\n",
       "19122         мумий_тролль\n",
       "19123              бутырка\n",
       "Name: performer, Length: 19124, dtype: object"
      ]
     },
     "execution_count": 8,
     "metadata": {},
     "output_type": "execute_result"
    }
   ],
   "source": [
    "data.performer"
   ]
  },
  {
   "cell_type": "code",
   "execution_count": 9,
   "metadata": {},
   "outputs": [
    {
     "data": {
      "text/plain": [
       "0        False\n",
       "1         True\n",
       "2         True\n",
       "3         True\n",
       "4         True\n",
       "         ...  \n",
       "19119    False\n",
       "19120    False\n",
       "19121    False\n",
       "19122    False\n",
       "19123    False\n",
       "Name: performer, Length: 19124, dtype: bool"
      ]
     },
     "execution_count": 9,
     "metadata": {},
     "output_type": "execute_result"
    }
   ],
   "source": [
    "data.performer == 'лазарев'"
   ]
  },
  {
   "cell_type": "code",
   "execution_count": 12,
   "metadata": {},
   "outputs": [],
   "source": [
    "data_small = data[data.performer == 'лазарев']"
   ]
  },
  {
   "cell_type": "code",
   "execution_count": 17,
   "metadata": {},
   "outputs": [
    {
     "data": {
      "text/html": [
       "<div>\n",
       "<style scoped>\n",
       "    .dataframe tbody tr th:only-of-type {\n",
       "        vertical-align: middle;\n",
       "    }\n",
       "\n",
       "    .dataframe tbody tr th {\n",
       "        vertical-align: top;\n",
       "    }\n",
       "\n",
       "    .dataframe thead th {\n",
       "        text-align: right;\n",
       "    }\n",
       "</style>\n",
       "<table border=\"1\" class=\"dataframe\">\n",
       "  <thead>\n",
       "    <tr style=\"text-align: right;\">\n",
       "      <th></th>\n",
       "      <th>title</th>\n",
       "      <th>commentCount</th>\n",
       "      <th>dislikeCount</th>\n",
       "      <th>likeCount</th>\n",
       "      <th>music_style</th>\n",
       "      <th>performer</th>\n",
       "      <th>viewCount</th>\n",
       "      <th>commentators_uniq</th>\n",
       "      <th>comments_obscene_cnt</th>\n",
       "      <th>video_age</th>\n",
       "    </tr>\n",
       "  </thead>\n",
       "  <tbody>\n",
       "    <tr>\n",
       "      <th>0</th>\n",
       "      <td>\"ALARM\" СЕРГЕЙ ЛАЗАРЕВ ( SERGEY LAZAREV )</td>\n",
       "      <td>NaN</td>\n",
       "      <td>690.0</td>\n",
       "      <td>10532.0</td>\n",
       "      <td>popsa</td>\n",
       "      <td>лазарев</td>\n",
       "      <td>2221419.0</td>\n",
       "      <td>NaN</td>\n",
       "      <td>NaN</td>\n",
       "      <td>3217</td>\n",
       "    </tr>\n",
       "    <tr>\n",
       "      <th>1</th>\n",
       "      <td>\"EARTH SONG\"  SERGEY LAZAREV. DEDICATED TO MIC...</td>\n",
       "      <td>26.0</td>\n",
       "      <td>10.0</td>\n",
       "      <td>269.0</td>\n",
       "      <td>popsa</td>\n",
       "      <td>лазарев</td>\n",
       "      <td>40327.0</td>\n",
       "      <td>23.0</td>\n",
       "      <td>0.0</td>\n",
       "      <td>3546</td>\n",
       "    </tr>\n",
       "    <tr>\n",
       "      <th>2</th>\n",
       "      <td>\"Earth song\" премия МУЗ-тВ 2010 (LIVE)</td>\n",
       "      <td>12.0</td>\n",
       "      <td>7.0</td>\n",
       "      <td>163.0</td>\n",
       "      <td>popsa</td>\n",
       "      <td>лазарев</td>\n",
       "      <td>11907.0</td>\n",
       "      <td>11.0</td>\n",
       "      <td>0.0</td>\n",
       "      <td>3189</td>\n",
       "    </tr>\n",
       "    <tr>\n",
       "      <th>3</th>\n",
       "      <td>\"FAKE\" СЕРГЕЙ ЛАЗАРЕВ (SERGEY)</td>\n",
       "      <td>46.0</td>\n",
       "      <td>19.0</td>\n",
       "      <td>597.0</td>\n",
       "      <td>popsa</td>\n",
       "      <td>лазарев</td>\n",
       "      <td>91483.0</td>\n",
       "      <td>33.0</td>\n",
       "      <td>1.0</td>\n",
       "      <td>3361</td>\n",
       "    </tr>\n",
       "    <tr>\n",
       "      <th>4</th>\n",
       "      <td>\"Feelin High\" Сергей Лазарев Sergey Lazarev live</td>\n",
       "      <td>7.0</td>\n",
       "      <td>7.0</td>\n",
       "      <td>87.0</td>\n",
       "      <td>popsa</td>\n",
       "      <td>лазарев</td>\n",
       "      <td>9217.0</td>\n",
       "      <td>6.0</td>\n",
       "      <td>0.0</td>\n",
       "      <td>3179</td>\n",
       "    </tr>\n",
       "    <tr>\n",
       "      <th>...</th>\n",
       "      <td>...</td>\n",
       "      <td>...</td>\n",
       "      <td>...</td>\n",
       "      <td>...</td>\n",
       "      <td>...</td>\n",
       "      <td>...</td>\n",
       "      <td>...</td>\n",
       "      <td>...</td>\n",
       "      <td>...</td>\n",
       "      <td>...</td>\n",
       "    </tr>\n",
       "    <tr>\n",
       "      <th>275</th>\n",
       "      <td>Сергею Лазареву - 35!</td>\n",
       "      <td>127.0</td>\n",
       "      <td>20.0</td>\n",
       "      <td>1179.0</td>\n",
       "      <td>popsa</td>\n",
       "      <td>лазарев</td>\n",
       "      <td>20610.0</td>\n",
       "      <td>104.0</td>\n",
       "      <td>0.0</td>\n",
       "      <td>330</td>\n",
       "    </tr>\n",
       "    <tr>\n",
       "      <th>276</th>\n",
       "      <td>ШОУ \"ЛАЗАРЕВ.\" (ТИЗЕР) СК \"ОЛИМПИЙСКИЙ\" (зал С...</td>\n",
       "      <td>8.0</td>\n",
       "      <td>1.0</td>\n",
       "      <td>151.0</td>\n",
       "      <td>popsa</td>\n",
       "      <td>лазарев</td>\n",
       "      <td>8694.0</td>\n",
       "      <td>8.0</td>\n",
       "      <td>0.0</td>\n",
       "      <td>2008</td>\n",
       "    </tr>\n",
       "    <tr>\n",
       "      <th>277</th>\n",
       "      <td>Шоу Валентина Юдашкина 2018.03.08 Так красиво</td>\n",
       "      <td>151.0</td>\n",
       "      <td>52.0</td>\n",
       "      <td>1701.0</td>\n",
       "      <td>popsa</td>\n",
       "      <td>лазарев</td>\n",
       "      <td>60427.0</td>\n",
       "      <td>115.0</td>\n",
       "      <td>0.0</td>\n",
       "      <td>370</td>\n",
       "    </tr>\n",
       "    <tr>\n",
       "      <th>278</th>\n",
       "      <td>жесткач в туре... негламурные будни...</td>\n",
       "      <td>7.0</td>\n",
       "      <td>4.0</td>\n",
       "      <td>125.0</td>\n",
       "      <td>popsa</td>\n",
       "      <td>лазарев</td>\n",
       "      <td>29330.0</td>\n",
       "      <td>5.0</td>\n",
       "      <td>0.0</td>\n",
       "      <td>4173</td>\n",
       "    </tr>\n",
       "    <tr>\n",
       "      <th>279</th>\n",
       "      <td>лазарев сергей \"Цирк со звездами\" кольца</td>\n",
       "      <td>19.0</td>\n",
       "      <td>1.0</td>\n",
       "      <td>218.0</td>\n",
       "      <td>popsa</td>\n",
       "      <td>лазарев</td>\n",
       "      <td>26164.0</td>\n",
       "      <td>19.0</td>\n",
       "      <td>0.0</td>\n",
       "      <td>3766</td>\n",
       "    </tr>\n",
       "  </tbody>\n",
       "</table>\n",
       "<p>280 rows × 10 columns</p>\n",
       "</div>"
      ],
      "text/plain": [
       "                                                 title  commentCount  \\\n",
       "0            \"ALARM\" СЕРГЕЙ ЛАЗАРЕВ ( SERGEY LAZAREV )           NaN   \n",
       "1    \"EARTH SONG\"  SERGEY LAZAREV. DEDICATED TO MIC...          26.0   \n",
       "2               \"Earth song\" премия МУЗ-тВ 2010 (LIVE)          12.0   \n",
       "3                       \"FAKE\" СЕРГЕЙ ЛАЗАРЕВ (SERGEY)          46.0   \n",
       "4     \"Feelin High\" Сергей Лазарев Sergey Lazarev live           7.0   \n",
       "..                                                 ...           ...   \n",
       "275                              Сергею Лазареву - 35!         127.0   \n",
       "276  ШОУ \"ЛАЗАРЕВ.\" (ТИЗЕР) СК \"ОЛИМПИЙСКИЙ\" (зал С...           8.0   \n",
       "277      Шоу Валентина Юдашкина 2018.03.08 Так красиво         151.0   \n",
       "278             жесткач в туре... негламурные будни...           7.0   \n",
       "279           лазарев сергей \"Цирк со звездами\" кольца          19.0   \n",
       "\n",
       "     dislikeCount  likeCount music_style performer  viewCount  \\\n",
       "0           690.0    10532.0       popsa   лазарев  2221419.0   \n",
       "1            10.0      269.0       popsa   лазарев    40327.0   \n",
       "2             7.0      163.0       popsa   лазарев    11907.0   \n",
       "3            19.0      597.0       popsa   лазарев    91483.0   \n",
       "4             7.0       87.0       popsa   лазарев     9217.0   \n",
       "..            ...        ...         ...       ...        ...   \n",
       "275          20.0     1179.0       popsa   лазарев    20610.0   \n",
       "276           1.0      151.0       popsa   лазарев     8694.0   \n",
       "277          52.0     1701.0       popsa   лазарев    60427.0   \n",
       "278           4.0      125.0       popsa   лазарев    29330.0   \n",
       "279           1.0      218.0       popsa   лазарев    26164.0   \n",
       "\n",
       "     commentators_uniq  comments_obscene_cnt  video_age  \n",
       "0                  NaN                   NaN       3217  \n",
       "1                 23.0                   0.0       3546  \n",
       "2                 11.0                   0.0       3189  \n",
       "3                 33.0                   1.0       3361  \n",
       "4                  6.0                   0.0       3179  \n",
       "..                 ...                   ...        ...  \n",
       "275              104.0                   0.0        330  \n",
       "276                8.0                   0.0       2008  \n",
       "277              115.0                   0.0        370  \n",
       "278                5.0                   0.0       4173  \n",
       "279               19.0                   0.0       3766  \n",
       "\n",
       "[280 rows x 10 columns]"
      ]
     },
     "execution_count": 17,
     "metadata": {},
     "output_type": "execute_result"
    }
   ],
   "source": [
    "data_small.reset_index(drop=True)"
   ]
  },
  {
   "cell_type": "code",
   "execution_count": null,
   "metadata": {},
   "outputs": [],
   "source": []
  },
  {
   "cell_type": "code",
   "execution_count": null,
   "metadata": {},
   "outputs": [],
   "source": []
  },
  {
   "cell_type": "code",
   "execution_count": null,
   "metadata": {},
   "outputs": [],
   "source": []
  },
  {
   "cell_type": "code",
   "execution_count": 5,
   "metadata": {},
   "outputs": [],
   "source": [
    "data_small = data[\n",
    "    (data.likeCount == 0) & \n",
    "    (data.dislikeCount > 0)\n",
    "]"
   ]
  },
  {
   "cell_type": "code",
   "execution_count": 6,
   "metadata": {},
   "outputs": [
    {
     "data": {
      "text/html": [
       "<div>\n",
       "<style scoped>\n",
       "    .dataframe tbody tr th:only-of-type {\n",
       "        vertical-align: middle;\n",
       "    }\n",
       "\n",
       "    .dataframe tbody tr th {\n",
       "        vertical-align: top;\n",
       "    }\n",
       "\n",
       "    .dataframe thead th {\n",
       "        text-align: right;\n",
       "    }\n",
       "</style>\n",
       "<table border=\"1\" class=\"dataframe\">\n",
       "  <thead>\n",
       "    <tr style=\"text-align: right;\">\n",
       "      <th></th>\n",
       "      <th>title</th>\n",
       "      <th>commentCount</th>\n",
       "      <th>dislikeCount</th>\n",
       "      <th>likeCount</th>\n",
       "      <th>music_style</th>\n",
       "      <th>performer</th>\n",
       "      <th>viewCount</th>\n",
       "      <th>commentators_uniq</th>\n",
       "      <th>comments_obscene_cnt</th>\n",
       "      <th>video_age</th>\n",
       "    </tr>\n",
       "  </thead>\n",
       "  <tbody>\n",
       "    <tr>\n",
       "      <th>866</th>\n",
       "      <td>Alenka</td>\n",
       "      <td>0.0</td>\n",
       "      <td>1.0</td>\n",
       "      <td>0.0</td>\n",
       "      <td>shanson</td>\n",
       "      <td>воровайки</td>\n",
       "      <td>282.0</td>\n",
       "      <td>NaN</td>\n",
       "      <td>NaN</td>\n",
       "      <td>1554</td>\n",
       "    </tr>\n",
       "    <tr>\n",
       "      <th>870</th>\n",
       "      <td>All is not lost</td>\n",
       "      <td>0.0</td>\n",
       "      <td>1.0</td>\n",
       "      <td>0.0</td>\n",
       "      <td>estrada</td>\n",
       "      <td>буйнов</td>\n",
       "      <td>131.0</td>\n",
       "      <td>NaN</td>\n",
       "      <td>NaN</td>\n",
       "      <td>1555</td>\n",
       "    </tr>\n",
       "    <tr>\n",
       "      <th>872</th>\n",
       "      <td>All the Pretty Girls</td>\n",
       "      <td>0.0</td>\n",
       "      <td>1.0</td>\n",
       "      <td>0.0</td>\n",
       "      <td>rock</td>\n",
       "      <td>ария</td>\n",
       "      <td>304.0</td>\n",
       "      <td>NaN</td>\n",
       "      <td>NaN</td>\n",
       "      <td>141</td>\n",
       "    </tr>\n",
       "    <tr>\n",
       "      <th>911</th>\n",
       "      <td>Autostoppers (Ft. Bad Balance)</td>\n",
       "      <td>0.0</td>\n",
       "      <td>1.0</td>\n",
       "      <td>0.0</td>\n",
       "      <td>popsa</td>\n",
       "      <td>ёлка</td>\n",
       "      <td>87.0</td>\n",
       "      <td>NaN</td>\n",
       "      <td>NaN</td>\n",
       "      <td>1555</td>\n",
       "    </tr>\n",
       "    <tr>\n",
       "      <th>1046</th>\n",
       "      <td>Breakthrough</td>\n",
       "      <td>0.0</td>\n",
       "      <td>1.0</td>\n",
       "      <td>0.0</td>\n",
       "      <td>popsa</td>\n",
       "      <td>лазарев</td>\n",
       "      <td>441.0</td>\n",
       "      <td>NaN</td>\n",
       "      <td>NaN</td>\n",
       "      <td>753</td>\n",
       "    </tr>\n",
       "    <tr>\n",
       "      <th>...</th>\n",
       "      <td>...</td>\n",
       "      <td>...</td>\n",
       "      <td>...</td>\n",
       "      <td>...</td>\n",
       "      <td>...</td>\n",
       "      <td>...</td>\n",
       "      <td>...</td>\n",
       "      <td>...</td>\n",
       "      <td>...</td>\n",
       "      <td>...</td>\n",
       "    </tr>\n",
       "    <tr>\n",
       "      <th>17450</th>\n",
       "      <td>Тигр</td>\n",
       "      <td>0.0</td>\n",
       "      <td>1.0</td>\n",
       "      <td>0.0</td>\n",
       "      <td>estrada</td>\n",
       "      <td>пугачёва</td>\n",
       "      <td>94.0</td>\n",
       "      <td>NaN</td>\n",
       "      <td>NaN</td>\n",
       "      <td>1454</td>\n",
       "    </tr>\n",
       "    <tr>\n",
       "      <th>17928</th>\n",
       "      <td>Феникс</td>\n",
       "      <td>0.0</td>\n",
       "      <td>1.0</td>\n",
       "      <td>0.0</td>\n",
       "      <td>rock</td>\n",
       "      <td>кукрыниксы</td>\n",
       "      <td>660.0</td>\n",
       "      <td>2.0</td>\n",
       "      <td>0.0</td>\n",
       "      <td>378</td>\n",
       "    </tr>\n",
       "    <tr>\n",
       "      <th>18287</th>\n",
       "      <td>Хиппаны (Периферия)</td>\n",
       "      <td>0.0</td>\n",
       "      <td>1.0</td>\n",
       "      <td>0.0</td>\n",
       "      <td>rock</td>\n",
       "      <td>ддт</td>\n",
       "      <td>163.0</td>\n",
       "      <td>NaN</td>\n",
       "      <td>NaN</td>\n",
       "      <td>917</td>\n",
       "    </tr>\n",
       "    <tr>\n",
       "      <th>18300</th>\n",
       "      <td>Хорошее Настроение (Dubinin`s Twilight Mix)</td>\n",
       "      <td>0.0</td>\n",
       "      <td>2.0</td>\n",
       "      <td>0.0</td>\n",
       "      <td>popsa</td>\n",
       "      <td>ёлка</td>\n",
       "      <td>62.0</td>\n",
       "      <td>NaN</td>\n",
       "      <td>NaN</td>\n",
       "      <td>601</td>\n",
       "    </tr>\n",
       "    <tr>\n",
       "      <th>18753</th>\n",
       "      <td>Этот Великолепный Мир</td>\n",
       "      <td>0.0</td>\n",
       "      <td>2.0</td>\n",
       "      <td>0.0</td>\n",
       "      <td>popsa</td>\n",
       "      <td>ёлка</td>\n",
       "      <td>215.0</td>\n",
       "      <td>NaN</td>\n",
       "      <td>NaN</td>\n",
       "      <td>728</td>\n",
       "    </tr>\n",
       "  </tbody>\n",
       "</table>\n",
       "<p>82 rows × 10 columns</p>\n",
       "</div>"
      ],
      "text/plain": [
       "                                             title  commentCount  \\\n",
       "866                                         Alenka           0.0   \n",
       "870                                All is not lost           0.0   \n",
       "872                           All the Pretty Girls           0.0   \n",
       "911                 Autostoppers (Ft. Bad Balance)           0.0   \n",
       "1046                                  Breakthrough           0.0   \n",
       "...                                            ...           ...   \n",
       "17450                                         Тигр           0.0   \n",
       "17928                                       Феникс           0.0   \n",
       "18287                          Хиппаны (Периферия)           0.0   \n",
       "18300  Хорошее Настроение (Dubinin`s Twilight Mix)           0.0   \n",
       "18753                        Этот Великолепный Мир           0.0   \n",
       "\n",
       "       dislikeCount  likeCount music_style   performer  viewCount  \\\n",
       "866             1.0        0.0     shanson   воровайки      282.0   \n",
       "870             1.0        0.0     estrada      буйнов      131.0   \n",
       "872             1.0        0.0        rock        ария      304.0   \n",
       "911             1.0        0.0       popsa        ёлка       87.0   \n",
       "1046            1.0        0.0       popsa     лазарев      441.0   \n",
       "...             ...        ...         ...         ...        ...   \n",
       "17450           1.0        0.0     estrada    пугачёва       94.0   \n",
       "17928           1.0        0.0        rock  кукрыниксы      660.0   \n",
       "18287           1.0        0.0        rock         ддт      163.0   \n",
       "18300           2.0        0.0       popsa        ёлка       62.0   \n",
       "18753           2.0        0.0       popsa        ёлка      215.0   \n",
       "\n",
       "       commentators_uniq  comments_obscene_cnt  video_age  \n",
       "866                  NaN                   NaN       1554  \n",
       "870                  NaN                   NaN       1555  \n",
       "872                  NaN                   NaN        141  \n",
       "911                  NaN                   NaN       1555  \n",
       "1046                 NaN                   NaN        753  \n",
       "...                  ...                   ...        ...  \n",
       "17450                NaN                   NaN       1454  \n",
       "17928                2.0                   0.0        378  \n",
       "18287                NaN                   NaN        917  \n",
       "18300                NaN                   NaN        601  \n",
       "18753                NaN                   NaN        728  \n",
       "\n",
       "[82 rows x 10 columns]"
      ]
     },
     "execution_count": 6,
     "metadata": {},
     "output_type": "execute_result"
    }
   ],
   "source": [
    "data_small"
   ]
  },
  {
   "cell_type": "code",
   "execution_count": 121,
   "metadata": {},
   "outputs": [],
   "source": [
    "data_small_small = data_small[data_small.music_style == 'popsa']\n",
    "\n",
    "data_small_small.reset_index(drop=True, inplace=True)"
   ]
  },
  {
   "cell_type": "markdown",
   "metadata": {},
   "source": [
    "__Вопрос №2:__ Я хочу по всем клипам посмотреть, сколько максимально лайков клип набирал."
   ]
  },
  {
   "cell_type": "code",
   "execution_count": 125,
   "metadata": {},
   "outputs": [
    {
     "data": {
      "text/plain": [
       "1686810.0"
      ]
     },
     "execution_count": 125,
     "metadata": {},
     "output_type": "execute_result"
    }
   ],
   "source": [
    "max(data.likeCount)"
   ]
  },
  {
   "cell_type": "code",
   "execution_count": 126,
   "metadata": {},
   "outputs": [
    {
     "data": {
      "text/plain": [
       "1686810.0"
      ]
     },
     "execution_count": 126,
     "metadata": {},
     "output_type": "execute_result"
    }
   ],
   "source": [
    "data.likeCount.max()"
   ]
  },
  {
   "cell_type": "markdown",
   "metadata": {},
   "source": [
    "__Вопрос №3:__ Хочу вывести клип, который набрал максимальное число лайков."
   ]
  },
  {
   "cell_type": "code",
   "execution_count": 128,
   "metadata": {},
   "outputs": [
    {
     "data": {
      "text/html": [
       "<div>\n",
       "<style scoped>\n",
       "    .dataframe tbody tr th:only-of-type {\n",
       "        vertical-align: middle;\n",
       "    }\n",
       "\n",
       "    .dataframe tbody tr th {\n",
       "        vertical-align: top;\n",
       "    }\n",
       "\n",
       "    .dataframe thead th {\n",
       "        text-align: right;\n",
       "    }\n",
       "</style>\n",
       "<table border=\"1\" class=\"dataframe\">\n",
       "  <thead>\n",
       "    <tr style=\"text-align: right;\">\n",
       "      <th></th>\n",
       "      <th>title</th>\n",
       "      <th>commentCount</th>\n",
       "      <th>dislikeCount</th>\n",
       "      <th>likeCount</th>\n",
       "      <th>music_style</th>\n",
       "      <th>performer</th>\n",
       "      <th>viewCount</th>\n",
       "      <th>commentators_uniq</th>\n",
       "      <th>comments_obscene_cnt</th>\n",
       "      <th>video_age</th>\n",
       "    </tr>\n",
       "  </thead>\n",
       "  <tbody>\n",
       "    <tr>\n",
       "      <th>18649</th>\n",
       "      <td>Элджей &amp; Feduk - Розовое вино</td>\n",
       "      <td>191702.0</td>\n",
       "      <td>151772.0</td>\n",
       "      <td>1686810.0</td>\n",
       "      <td>rap</td>\n",
       "      <td>feduk</td>\n",
       "      <td>208753182.0</td>\n",
       "      <td>3702.0</td>\n",
       "      <td>183.0</td>\n",
       "      <td>485</td>\n",
       "    </tr>\n",
       "  </tbody>\n",
       "</table>\n",
       "</div>"
      ],
      "text/plain": [
       "                               title  commentCount  dislikeCount  likeCount  \\\n",
       "18649  Элджей & Feduk - Розовое вино      191702.0      151772.0  1686810.0   \n",
       "\n",
       "      music_style performer    viewCount  commentators_uniq  \\\n",
       "18649         rap     feduk  208753182.0             3702.0   \n",
       "\n",
       "       comments_obscene_cnt  video_age  \n",
       "18649                 183.0        485  "
      ]
     },
     "execution_count": 128,
     "metadata": {},
     "output_type": "execute_result"
    }
   ],
   "source": [
    "data[data.likeCount == data.likeCount.max()]"
   ]
  },
  {
   "cell_type": "code",
   "execution_count": 134,
   "metadata": {},
   "outputs": [
    {
     "data": {
      "text/html": [
       "<div>\n",
       "<style scoped>\n",
       "    .dataframe tbody tr th:only-of-type {\n",
       "        vertical-align: middle;\n",
       "    }\n",
       "\n",
       "    .dataframe tbody tr th {\n",
       "        vertical-align: top;\n",
       "    }\n",
       "\n",
       "    .dataframe thead th {\n",
       "        text-align: right;\n",
       "    }\n",
       "</style>\n",
       "<table border=\"1\" class=\"dataframe\">\n",
       "  <thead>\n",
       "    <tr style=\"text-align: right;\">\n",
       "      <th></th>\n",
       "      <th>title</th>\n",
       "      <th>commentCount</th>\n",
       "      <th>dislikeCount</th>\n",
       "      <th>likeCount</th>\n",
       "      <th>music_style</th>\n",
       "      <th>performer</th>\n",
       "      <th>viewCount</th>\n",
       "      <th>commentators_uniq</th>\n",
       "      <th>comments_obscene_cnt</th>\n",
       "      <th>video_age</th>\n",
       "    </tr>\n",
       "  </thead>\n",
       "  <tbody>\n",
       "    <tr>\n",
       "      <th>18649</th>\n",
       "      <td>Элджей &amp; Feduk - Розовое вино</td>\n",
       "      <td>191702.0</td>\n",
       "      <td>151772.0</td>\n",
       "      <td>1686810.0</td>\n",
       "      <td>rap</td>\n",
       "      <td>feduk</td>\n",
       "      <td>208753182.0</td>\n",
       "      <td>3702.0</td>\n",
       "      <td>183.0</td>\n",
       "      <td>485</td>\n",
       "    </tr>\n",
       "  </tbody>\n",
       "</table>\n",
       "</div>"
      ],
      "text/plain": [
       "                               title  commentCount  dislikeCount  likeCount  \\\n",
       "18649  Элджей & Feduk - Розовое вино      191702.0      151772.0  1686810.0   \n",
       "\n",
       "      music_style performer    viewCount  commentators_uniq  \\\n",
       "18649         rap     feduk  208753182.0             3702.0   \n",
       "\n",
       "       comments_obscene_cnt  video_age  \n",
       "18649                 183.0        485  "
      ]
     },
     "execution_count": 134,
     "metadata": {},
     "output_type": "execute_result"
    }
   ],
   "source": [
    "mx = data.likeCount.max()\n",
    "data[data.likeCount == mx]"
   ]
  },
  {
   "cell_type": "markdown",
   "metadata": {},
   "source": [
    "__Вопрос №4:__ Хочу вывести клип, который набрал максимальное число дизлайков."
   ]
  },
  {
   "cell_type": "code",
   "execution_count": 139,
   "metadata": {},
   "outputs": [
    {
     "data": {
      "text/html": [
       "<div>\n",
       "<style scoped>\n",
       "    .dataframe tbody tr th:only-of-type {\n",
       "        vertical-align: middle;\n",
       "    }\n",
       "\n",
       "    .dataframe tbody tr th {\n",
       "        vertical-align: top;\n",
       "    }\n",
       "\n",
       "    .dataframe thead th {\n",
       "        text-align: right;\n",
       "    }\n",
       "</style>\n",
       "<table border=\"1\" class=\"dataframe\">\n",
       "  <thead>\n",
       "    <tr style=\"text-align: right;\">\n",
       "      <th></th>\n",
       "      <th>title</th>\n",
       "      <th>commentCount</th>\n",
       "      <th>dislikeCount</th>\n",
       "      <th>likeCount</th>\n",
       "      <th>music_style</th>\n",
       "      <th>performer</th>\n",
       "      <th>viewCount</th>\n",
       "      <th>commentators_uniq</th>\n",
       "      <th>comments_obscene_cnt</th>\n",
       "      <th>video_age</th>\n",
       "    </tr>\n",
       "  </thead>\n",
       "  <tbody>\n",
       "    <tr>\n",
       "      <th>1299</th>\n",
       "      <td>FACE - Я РОНЯЮ ЗАПАД (prod. by JuloOntheTrack)</td>\n",
       "      <td>303077.0</td>\n",
       "      <td>640698.0</td>\n",
       "      <td>270794.0</td>\n",
       "      <td>rap</td>\n",
       "      <td>face</td>\n",
       "      <td>14799217.0</td>\n",
       "      <td>1541.0</td>\n",
       "      <td>587.0</td>\n",
       "      <td>382</td>\n",
       "    </tr>\n",
       "  </tbody>\n",
       "</table>\n",
       "</div>"
      ],
      "text/plain": [
       "                                               title  commentCount  \\\n",
       "1299  FACE - Я РОНЯЮ ЗАПАД (prod. by JuloOntheTrack)      303077.0   \n",
       "\n",
       "      dislikeCount  likeCount music_style performer   viewCount  \\\n",
       "1299      640698.0   270794.0         rap      face  14799217.0   \n",
       "\n",
       "      commentators_uniq  comments_obscene_cnt  video_age  \n",
       "1299             1541.0                 587.0        382  "
      ]
     },
     "execution_count": 139,
     "metadata": {},
     "output_type": "execute_result"
    }
   ],
   "source": [
    "data[data.dislikeCount == data.dislikeCount.max()]"
   ]
  },
  {
   "cell_type": "code",
   "execution_count": 147,
   "metadata": {},
   "outputs": [
    {
     "data": {
      "text/plain": [
       "0.04329269582302902"
      ]
     },
     "execution_count": 147,
     "metadata": {},
     "output_type": "execute_result"
    }
   ],
   "source": [
    "640698.0 / 14799217.0"
   ]
  },
  {
   "cell_type": "markdown",
   "metadata": {},
   "source": [
    "__Вопрос №5:__ Посчитать задизлайканный клип более по-умному. "
   ]
  },
  {
   "cell_type": "markdown",
   "metadata": {},
   "source": [
    "### 2. Как создавать новые данные из существующих?"
   ]
  },
  {
   "cell_type": "code",
   "execution_count": 142,
   "metadata": {},
   "outputs": [],
   "source": [
    "data['dislike_ratio'] = data['dislikeCount'] / data['viewCount']"
   ]
  },
  {
   "cell_type": "code",
   "execution_count": 145,
   "metadata": {},
   "outputs": [
    {
     "data": {
      "text/html": [
       "<div>\n",
       "<style scoped>\n",
       "    .dataframe tbody tr th:only-of-type {\n",
       "        vertical-align: middle;\n",
       "    }\n",
       "\n",
       "    .dataframe tbody tr th {\n",
       "        vertical-align: top;\n",
       "    }\n",
       "\n",
       "    .dataframe thead th {\n",
       "        text-align: right;\n",
       "    }\n",
       "</style>\n",
       "<table border=\"1\" class=\"dataframe\">\n",
       "  <thead>\n",
       "    <tr style=\"text-align: right;\">\n",
       "      <th></th>\n",
       "      <th>title</th>\n",
       "      <th>commentCount</th>\n",
       "      <th>dislikeCount</th>\n",
       "      <th>likeCount</th>\n",
       "      <th>music_style</th>\n",
       "      <th>performer</th>\n",
       "      <th>viewCount</th>\n",
       "      <th>commentators_uniq</th>\n",
       "      <th>comments_obscene_cnt</th>\n",
       "      <th>video_age</th>\n",
       "      <th>dislike_ratio</th>\n",
       "    </tr>\n",
       "  </thead>\n",
       "  <tbody>\n",
       "    <tr>\n",
       "      <th>17805</th>\n",
       "      <td>Ульяна Тучкова</td>\n",
       "      <td>NaN</td>\n",
       "      <td>48.0</td>\n",
       "      <td>10.0</td>\n",
       "      <td>popsa</td>\n",
       "      <td>макsим</td>\n",
       "      <td>719.0</td>\n",
       "      <td>NaN</td>\n",
       "      <td>NaN</td>\n",
       "      <td>1348</td>\n",
       "      <td>0.066759</td>\n",
       "    </tr>\n",
       "  </tbody>\n",
       "</table>\n",
       "</div>"
      ],
      "text/plain": [
       "                title  commentCount  dislikeCount  likeCount music_style  \\\n",
       "17805  Ульяна Тучкова           NaN          48.0       10.0       popsa   \n",
       "\n",
       "      performer  viewCount  commentators_uniq  comments_obscene_cnt  \\\n",
       "17805    макsим      719.0                NaN                   NaN   \n",
       "\n",
       "       video_age  dislike_ratio  \n",
       "17805       1348       0.066759  "
      ]
     },
     "execution_count": 145,
     "metadata": {},
     "output_type": "execute_result"
    }
   ],
   "source": [
    "data = data[data.viewCount != 0].reset_index(drop=True)\n",
    "\n",
    "mx = data.dislike_ratio.max()\n",
    "data[data.dislike_ratio == mx]"
   ]
  },
  {
   "cell_type": "code",
   "execution_count": 155,
   "metadata": {},
   "outputs": [],
   "source": [
    "def max_from_col(data, col):\n",
    "    mx = data[col].max()\n",
    "    return data[data[col] == mx]"
   ]
  },
  {
   "cell_type": "code",
   "execution_count": 150,
   "metadata": {},
   "outputs": [
    {
     "data": {
      "text/html": [
       "<div>\n",
       "<style scoped>\n",
       "    .dataframe tbody tr th:only-of-type {\n",
       "        vertical-align: middle;\n",
       "    }\n",
       "\n",
       "    .dataframe tbody tr th {\n",
       "        vertical-align: top;\n",
       "    }\n",
       "\n",
       "    .dataframe thead th {\n",
       "        text-align: right;\n",
       "    }\n",
       "</style>\n",
       "<table border=\"1\" class=\"dataframe\">\n",
       "  <thead>\n",
       "    <tr style=\"text-align: right;\">\n",
       "      <th></th>\n",
       "      <th>title</th>\n",
       "      <th>commentCount</th>\n",
       "      <th>dislikeCount</th>\n",
       "      <th>likeCount</th>\n",
       "      <th>music_style</th>\n",
       "      <th>performer</th>\n",
       "      <th>viewCount</th>\n",
       "      <th>commentators_uniq</th>\n",
       "      <th>comments_obscene_cnt</th>\n",
       "      <th>video_age</th>\n",
       "      <th>dislike_ratio</th>\n",
       "    </tr>\n",
       "  </thead>\n",
       "  <tbody>\n",
       "    <tr>\n",
       "      <th>18645</th>\n",
       "      <td>Элджей &amp; Feduk - Розовое вино</td>\n",
       "      <td>191702.0</td>\n",
       "      <td>151772.0</td>\n",
       "      <td>1686810.0</td>\n",
       "      <td>rap</td>\n",
       "      <td>feduk</td>\n",
       "      <td>208753182.0</td>\n",
       "      <td>3702.0</td>\n",
       "      <td>183.0</td>\n",
       "      <td>485</td>\n",
       "      <td>0.000727</td>\n",
       "    </tr>\n",
       "  </tbody>\n",
       "</table>\n",
       "</div>"
      ],
      "text/plain": [
       "                               title  commentCount  dislikeCount  likeCount  \\\n",
       "18645  Элджей & Feduk - Розовое вино      191702.0      151772.0  1686810.0   \n",
       "\n",
       "      music_style performer    viewCount  commentators_uniq  \\\n",
       "18645         rap     feduk  208753182.0             3702.0   \n",
       "\n",
       "       comments_obscene_cnt  video_age  dislike_ratio  \n",
       "18645                 183.0        485       0.000727  "
      ]
     },
     "execution_count": 150,
     "metadata": {},
     "output_type": "execute_result"
    }
   ],
   "source": [
    "max_from_col(data, col='likeCount')"
   ]
  },
  {
   "cell_type": "code",
   "execution_count": 151,
   "metadata": {},
   "outputs": [
    {
     "data": {
      "text/html": [
       "<div>\n",
       "<style scoped>\n",
       "    .dataframe tbody tr th:only-of-type {\n",
       "        vertical-align: middle;\n",
       "    }\n",
       "\n",
       "    .dataframe tbody tr th {\n",
       "        vertical-align: top;\n",
       "    }\n",
       "\n",
       "    .dataframe thead th {\n",
       "        text-align: right;\n",
       "    }\n",
       "</style>\n",
       "<table border=\"1\" class=\"dataframe\">\n",
       "  <thead>\n",
       "    <tr style=\"text-align: right;\">\n",
       "      <th></th>\n",
       "      <th>title</th>\n",
       "      <th>commentCount</th>\n",
       "      <th>dislikeCount</th>\n",
       "      <th>likeCount</th>\n",
       "      <th>music_style</th>\n",
       "      <th>performer</th>\n",
       "      <th>viewCount</th>\n",
       "      <th>commentators_uniq</th>\n",
       "      <th>comments_obscene_cnt</th>\n",
       "      <th>video_age</th>\n",
       "      <th>dislike_ratio</th>\n",
       "    </tr>\n",
       "  </thead>\n",
       "  <tbody>\n",
       "    <tr>\n",
       "      <th>1296</th>\n",
       "      <td>FACE - Я РОНЯЮ ЗАПАД (prod. by JuloOntheTrack)</td>\n",
       "      <td>303077.0</td>\n",
       "      <td>640698.0</td>\n",
       "      <td>270794.0</td>\n",
       "      <td>rap</td>\n",
       "      <td>face</td>\n",
       "      <td>14799217.0</td>\n",
       "      <td>1541.0</td>\n",
       "      <td>587.0</td>\n",
       "      <td>382</td>\n",
       "      <td>0.043293</td>\n",
       "    </tr>\n",
       "  </tbody>\n",
       "</table>\n",
       "</div>"
      ],
      "text/plain": [
       "                                               title  commentCount  \\\n",
       "1296  FACE - Я РОНЯЮ ЗАПАД (prod. by JuloOntheTrack)      303077.0   \n",
       "\n",
       "      dislikeCount  likeCount music_style performer   viewCount  \\\n",
       "1296      640698.0   270794.0         rap      face  14799217.0   \n",
       "\n",
       "      commentators_uniq  comments_obscene_cnt  video_age  dislike_ratio  \n",
       "1296             1541.0                 587.0        382       0.043293  "
      ]
     },
     "execution_count": 151,
     "metadata": {},
     "output_type": "execute_result"
    }
   ],
   "source": [
    "max_from_col(data, col='dislikeCount')"
   ]
  },
  {
   "cell_type": "code",
   "execution_count": 152,
   "metadata": {},
   "outputs": [
    {
     "data": {
      "text/html": [
       "<div>\n",
       "<style scoped>\n",
       "    .dataframe tbody tr th:only-of-type {\n",
       "        vertical-align: middle;\n",
       "    }\n",
       "\n",
       "    .dataframe tbody tr th {\n",
       "        vertical-align: top;\n",
       "    }\n",
       "\n",
       "    .dataframe thead th {\n",
       "        text-align: right;\n",
       "    }\n",
       "</style>\n",
       "<table border=\"1\" class=\"dataframe\">\n",
       "  <thead>\n",
       "    <tr style=\"text-align: right;\">\n",
       "      <th></th>\n",
       "      <th>title</th>\n",
       "      <th>commentCount</th>\n",
       "      <th>dislikeCount</th>\n",
       "      <th>likeCount</th>\n",
       "      <th>music_style</th>\n",
       "      <th>performer</th>\n",
       "      <th>viewCount</th>\n",
       "      <th>commentators_uniq</th>\n",
       "      <th>comments_obscene_cnt</th>\n",
       "      <th>video_age</th>\n",
       "      <th>dislike_ratio</th>\n",
       "    </tr>\n",
       "  </thead>\n",
       "  <tbody>\n",
       "    <tr>\n",
       "      <th>2632</th>\n",
       "      <td>Miyagi &amp; Эндшпиль feat. Рем Дигга - I Got Love...</td>\n",
       "      <td>73038.0</td>\n",
       "      <td>71155.0</td>\n",
       "      <td>1297718.0</td>\n",
       "      <td>rap</td>\n",
       "      <td>miyagi&amp;эндшпиль</td>\n",
       "      <td>272047706.0</td>\n",
       "      <td>NaN</td>\n",
       "      <td>NaN</td>\n",
       "      <td>650</td>\n",
       "      <td>0.000262</td>\n",
       "    </tr>\n",
       "  </tbody>\n",
       "</table>\n",
       "</div>"
      ],
      "text/plain": [
       "                                                  title  commentCount  \\\n",
       "2632  Miyagi & Эндшпиль feat. Рем Дигга - I Got Love...       73038.0   \n",
       "\n",
       "      dislikeCount  likeCount music_style        performer    viewCount  \\\n",
       "2632       71155.0  1297718.0         rap  miyagi&эндшпиль  272047706.0   \n",
       "\n",
       "      commentators_uniq  comments_obscene_cnt  video_age  dislike_ratio  \n",
       "2632                NaN                   NaN        650       0.000262  "
      ]
     },
     "execution_count": 152,
     "metadata": {},
     "output_type": "execute_result"
    }
   ],
   "source": [
    "max_from_col(data, col='viewCount')"
   ]
  },
  {
   "cell_type": "code",
   "execution_count": 153,
   "metadata": {},
   "outputs": [
    {
     "data": {
      "text/html": [
       "<div>\n",
       "<style scoped>\n",
       "    .dataframe tbody tr th:only-of-type {\n",
       "        vertical-align: middle;\n",
       "    }\n",
       "\n",
       "    .dataframe tbody tr th {\n",
       "        vertical-align: top;\n",
       "    }\n",
       "\n",
       "    .dataframe thead th {\n",
       "        text-align: right;\n",
       "    }\n",
       "</style>\n",
       "<table border=\"1\" class=\"dataframe\">\n",
       "  <thead>\n",
       "    <tr style=\"text-align: right;\">\n",
       "      <th></th>\n",
       "      <th>title</th>\n",
       "      <th>commentCount</th>\n",
       "      <th>dislikeCount</th>\n",
       "      <th>likeCount</th>\n",
       "      <th>music_style</th>\n",
       "      <th>performer</th>\n",
       "      <th>viewCount</th>\n",
       "      <th>commentators_uniq</th>\n",
       "      <th>comments_obscene_cnt</th>\n",
       "      <th>video_age</th>\n",
       "      <th>dislike_ratio</th>\n",
       "    </tr>\n",
       "  </thead>\n",
       "  <tbody>\n",
       "    <tr>\n",
       "      <th>17805</th>\n",
       "      <td>Ульяна Тучкова</td>\n",
       "      <td>NaN</td>\n",
       "      <td>48.0</td>\n",
       "      <td>10.0</td>\n",
       "      <td>popsa</td>\n",
       "      <td>макsим</td>\n",
       "      <td>719.0</td>\n",
       "      <td>NaN</td>\n",
       "      <td>NaN</td>\n",
       "      <td>1348</td>\n",
       "      <td>0.066759</td>\n",
       "    </tr>\n",
       "  </tbody>\n",
       "</table>\n",
       "</div>"
      ],
      "text/plain": [
       "                title  commentCount  dislikeCount  likeCount music_style  \\\n",
       "17805  Ульяна Тучкова           NaN          48.0       10.0       popsa   \n",
       "\n",
       "      performer  viewCount  commentators_uniq  comments_obscene_cnt  \\\n",
       "17805    макsим      719.0                NaN                   NaN   \n",
       "\n",
       "       video_age  dislike_ratio  \n",
       "17805       1348       0.066759  "
      ]
     },
     "execution_count": 153,
     "metadata": {},
     "output_type": "execute_result"
    }
   ],
   "source": [
    "max_from_col(data, col='dislike_ratio')"
   ]
  },
  {
   "cell_type": "code",
   "execution_count": 154,
   "metadata": {},
   "outputs": [
    {
     "data": {
      "text/html": [
       "<div>\n",
       "<style scoped>\n",
       "    .dataframe tbody tr th:only-of-type {\n",
       "        vertical-align: middle;\n",
       "    }\n",
       "\n",
       "    .dataframe tbody tr th {\n",
       "        vertical-align: top;\n",
       "    }\n",
       "\n",
       "    .dataframe thead th {\n",
       "        text-align: right;\n",
       "    }\n",
       "</style>\n",
       "<table border=\"1\" class=\"dataframe\">\n",
       "  <thead>\n",
       "    <tr style=\"text-align: right;\">\n",
       "      <th></th>\n",
       "      <th>title</th>\n",
       "      <th>commentCount</th>\n",
       "      <th>dislikeCount</th>\n",
       "      <th>likeCount</th>\n",
       "      <th>music_style</th>\n",
       "      <th>performer</th>\n",
       "      <th>viewCount</th>\n",
       "      <th>commentators_uniq</th>\n",
       "      <th>comments_obscene_cnt</th>\n",
       "      <th>video_age</th>\n",
       "      <th>dislike_ratio</th>\n",
       "    </tr>\n",
       "  </thead>\n",
       "  <tbody>\n",
       "    <tr>\n",
       "      <th>17248</th>\n",
       "      <td>Тараканы! - Кто то из нас двоих</td>\n",
       "      <td>81.0</td>\n",
       "      <td>64.0</td>\n",
       "      <td>1904.0</td>\n",
       "      <td>rock</td>\n",
       "      <td>тараканы</td>\n",
       "      <td>624168.0</td>\n",
       "      <td>58.0</td>\n",
       "      <td>2.0</td>\n",
       "      <td>4574</td>\n",
       "      <td>0.000103</td>\n",
       "    </tr>\n",
       "  </tbody>\n",
       "</table>\n",
       "</div>"
      ],
      "text/plain": [
       "                                 title  commentCount  dislikeCount  likeCount  \\\n",
       "17248  Тараканы! - Кто то из нас двоих          81.0          64.0     1904.0   \n",
       "\n",
       "      music_style performer  viewCount  commentators_uniq  \\\n",
       "17248        rock  тараканы   624168.0               58.0   \n",
       "\n",
       "       comments_obscene_cnt  video_age  dislike_ratio  \n",
       "17248                   2.0       4574       0.000103  "
      ]
     },
     "execution_count": 154,
     "metadata": {},
     "output_type": "execute_result"
    }
   ],
   "source": [
    "max_from_col(data, col='video_age')"
   ]
  },
  {
   "cell_type": "markdown",
   "metadata": {},
   "source": [
    "### 3. Как на данных считать статистики? "
   ]
  },
  {
   "cell_type": "code",
   "execution_count": 157,
   "metadata": {},
   "outputs": [
    {
     "data": {
      "text/plain": [
       "1686810.0"
      ]
     },
     "execution_count": 157,
     "metadata": {},
     "output_type": "execute_result"
    }
   ],
   "source": [
    "data['likeCount'].max()"
   ]
  },
  {
   "cell_type": "code",
   "execution_count": 158,
   "metadata": {},
   "outputs": [
    {
     "data": {
      "text/plain": [
       "108102685.0"
      ]
     },
     "execution_count": 158,
     "metadata": {},
     "output_type": "execute_result"
    }
   ],
   "source": [
    "data['likeCount'].sum()"
   ]
  },
  {
   "cell_type": "code",
   "execution_count": 159,
   "metadata": {},
   "outputs": [
    {
     "data": {
      "text/plain": [
       "5736.107662103364"
      ]
     },
     "execution_count": 159,
     "metadata": {},
     "output_type": "execute_result"
    }
   ],
   "source": [
    "data['likeCount'].mean()"
   ]
  },
  {
   "cell_type": "code",
   "execution_count": 160,
   "metadata": {},
   "outputs": [
    {
     "data": {
      "text/plain": [
       "100.0"
      ]
     },
     "execution_count": 160,
     "metadata": {},
     "output_type": "execute_result"
    }
   ],
   "source": [
    "data['likeCount'].median()"
   ]
  },
  {
   "cell_type": "code",
   "execution_count": 161,
   "metadata": {},
   "outputs": [
    {
     "data": {
      "text/plain": [
       "102500.0"
      ]
     },
     "execution_count": 161,
     "metadata": {},
     "output_type": "execute_result"
    }
   ],
   "source": [
    "salaries = [40000, 30000, 40000, 300000]\n",
    "\n",
    "sum(salaries) / len(salaries)"
   ]
  },
  {
   "cell_type": "code",
   "execution_count": 162,
   "metadata": {},
   "outputs": [],
   "source": [
    "import numpy as np"
   ]
  },
  {
   "cell_type": "code",
   "execution_count": 163,
   "metadata": {},
   "outputs": [
    {
     "data": {
      "text/plain": [
       "40000.0"
      ]
     },
     "execution_count": 163,
     "metadata": {},
     "output_type": "execute_result"
    }
   ],
   "source": [
    "np.median(salaries)"
   ]
  },
  {
   "cell_type": "code",
   "execution_count": 164,
   "metadata": {},
   "outputs": [
    {
     "data": {
      "text/plain": [
       "128199.24999999904"
      ]
     },
     "execution_count": 164,
     "metadata": {},
     "output_type": "execute_result"
    }
   ],
   "source": [
    "data['likeCount'].quantile(0.99)"
   ]
  },
  {
   "cell_type": "markdown",
   "metadata": {},
   "source": [
    "### 4. Группировка над данными и подсчет статистик"
   ]
  },
  {
   "cell_type": "markdown",
   "metadata": {},
   "source": [
    "Хочу вывести среднее число лайков, которое получает клип жанра popsa?"
   ]
  },
  {
   "cell_type": "code",
   "execution_count": 27,
   "metadata": {},
   "outputs": [
    {
     "data": {
      "text/plain": [
       "7492.273791654158"
      ]
     },
     "execution_count": 27,
     "metadata": {},
     "output_type": "execute_result"
    }
   ],
   "source": [
    "data[data.music_style == 'popsa'].likeCount.mean()"
   ]
  },
  {
   "cell_type": "markdown",
   "metadata": {},
   "source": [
    "Хочу вывести среднее число лайков в каждом жанре, чтобы их сравнить?"
   ]
  },
  {
   "cell_type": "code",
   "execution_count": null,
   "metadata": {},
   "outputs": [],
   "source": [
    "data[data.music_style == 'popsa'].likeCount.mean()\n",
    "data[data.music_style == 'rap'].likeCount.mean()\n",
    "data[data.music_style == 'rock'].likeCount.mean()\n",
    "data[data.music_style == 'classic'].likeCount.mean()\n",
    "data[data.music_style == 'indi'].likeCount.mean()\n",
    "data[data.music_style == 'estrada'].likeCount.mean()"
   ]
  },
  {
   "cell_type": "code",
   "execution_count": 34,
   "metadata": {},
   "outputs": [
    {
     "name": "stdout",
     "output_type": "stream",
     "text": [
      "popsa - 7492.27\n",
      "rock - 2132.89\n",
      "classic - 28663.33\n",
      "indi - 2471.84\n",
      "estrada - 938.69\n",
      "shanson - 440.39\n",
      "rap - 26802.46\n"
     ]
    }
   ],
   "source": [
    "# GROUP BY\n",
    "genres = data.music_style.unique()\n",
    "\n",
    "for genre in genres:\n",
    "    mean_likes = data[data.music_style == genre].likeCount.mean()\n",
    "    print(f'{genre} - {round(mean_likes, 2)}')"
   ]
  },
  {
   "cell_type": "code",
   "execution_count": 43,
   "metadata": {},
   "outputs": [
    {
     "data": {
      "text/plain": [
       "music_style\n",
       "classic    28663.333333\n",
       "rap        26802.456253\n",
       "popsa       7492.273792\n",
       "indi        2471.842299\n",
       "rock        2132.887061\n",
       "estrada      938.686662\n",
       "shanson      440.390564\n",
       "Name: likeCount, dtype: float64"
      ]
     },
     "execution_count": 43,
     "metadata": {},
     "output_type": "execute_result"
    }
   ],
   "source": [
    "data.groupby('music_style').likeCount.mean().sort_values(ascending=False)"
   ]
  },
  {
   "cell_type": "code",
   "execution_count": 44,
   "metadata": {},
   "outputs": [
    {
     "data": {
      "text/plain": [
       "music_style\n",
       "classic    4.999888e+06\n",
       "rap        3.168589e+06\n",
       "popsa      1.365989e+06\n",
       "rock       3.603179e+05\n",
       "estrada    2.398359e+05\n",
       "shanson    1.588553e+05\n",
       "indi       1.567647e+05\n",
       "Name: viewCount, dtype: float64"
      ]
     },
     "execution_count": 44,
     "metadata": {},
     "output_type": "execute_result"
    }
   ],
   "source": [
    "data.groupby('music_style').viewCount.mean().sort_values(ascending=False)"
   ]
  },
  {
   "cell_type": "code",
   "execution_count": 49,
   "metadata": {},
   "outputs": [
    {
     "data": {
      "text/html": [
       "<div>\n",
       "<style scoped>\n",
       "    .dataframe tbody tr th:only-of-type {\n",
       "        vertical-align: middle;\n",
       "    }\n",
       "\n",
       "    .dataframe tbody tr th {\n",
       "        vertical-align: top;\n",
       "    }\n",
       "\n",
       "    .dataframe thead th {\n",
       "        text-align: right;\n",
       "    }\n",
       "</style>\n",
       "<table border=\"1\" class=\"dataframe\">\n",
       "  <thead>\n",
       "    <tr style=\"text-align: right;\">\n",
       "      <th></th>\n",
       "      <th>title</th>\n",
       "      <th>commentCount</th>\n",
       "      <th>dislikeCount</th>\n",
       "      <th>likeCount</th>\n",
       "      <th>music_style</th>\n",
       "      <th>performer</th>\n",
       "      <th>viewCount</th>\n",
       "      <th>commentators_uniq</th>\n",
       "      <th>comments_obscene_cnt</th>\n",
       "      <th>video_age</th>\n",
       "    </tr>\n",
       "  </thead>\n",
       "  <tbody>\n",
       "    <tr>\n",
       "      <th>0</th>\n",
       "      <td>\"#2Маши \"Свободные линии\"</td>\n",
       "      <td>34.0</td>\n",
       "      <td>43.0</td>\n",
       "      <td>1402.0</td>\n",
       "      <td>popsa</td>\n",
       "      <td>2маши</td>\n",
       "      <td>214301.0</td>\n",
       "      <td>24.0</td>\n",
       "      <td>0.0</td>\n",
       "      <td>1141</td>\n",
       "    </tr>\n",
       "    <tr>\n",
       "      <th>1</th>\n",
       "      <td>\"ALARM\" СЕРГЕЙ ЛАЗАРЕВ ( SERGEY LAZAREV )</td>\n",
       "      <td>NaN</td>\n",
       "      <td>690.0</td>\n",
       "      <td>10532.0</td>\n",
       "      <td>popsa</td>\n",
       "      <td>лазарев</td>\n",
       "      <td>2221419.0</td>\n",
       "      <td>NaN</td>\n",
       "      <td>NaN</td>\n",
       "      <td>3217</td>\n",
       "    </tr>\n",
       "    <tr>\n",
       "      <th>2</th>\n",
       "      <td>\"EARTH SONG\"  SERGEY LAZAREV. DEDICATED TO MIC...</td>\n",
       "      <td>26.0</td>\n",
       "      <td>10.0</td>\n",
       "      <td>269.0</td>\n",
       "      <td>popsa</td>\n",
       "      <td>лазарев</td>\n",
       "      <td>40327.0</td>\n",
       "      <td>23.0</td>\n",
       "      <td>0.0</td>\n",
       "      <td>3546</td>\n",
       "    </tr>\n",
       "    <tr>\n",
       "      <th>3</th>\n",
       "      <td>\"Earth song\" премия МУЗ-тВ 2010 (LIVE)</td>\n",
       "      <td>12.0</td>\n",
       "      <td>7.0</td>\n",
       "      <td>163.0</td>\n",
       "      <td>popsa</td>\n",
       "      <td>лазарев</td>\n",
       "      <td>11907.0</td>\n",
       "      <td>11.0</td>\n",
       "      <td>0.0</td>\n",
       "      <td>3189</td>\n",
       "    </tr>\n",
       "    <tr>\n",
       "      <th>4</th>\n",
       "      <td>\"FAKE\" СЕРГЕЙ ЛАЗАРЕВ (SERGEY)</td>\n",
       "      <td>46.0</td>\n",
       "      <td>19.0</td>\n",
       "      <td>597.0</td>\n",
       "      <td>popsa</td>\n",
       "      <td>лазарев</td>\n",
       "      <td>91483.0</td>\n",
       "      <td>33.0</td>\n",
       "      <td>1.0</td>\n",
       "      <td>3361</td>\n",
       "    </tr>\n",
       "    <tr>\n",
       "      <th>...</th>\n",
       "      <td>...</td>\n",
       "      <td>...</td>\n",
       "      <td>...</td>\n",
       "      <td>...</td>\n",
       "      <td>...</td>\n",
       "      <td>...</td>\n",
       "      <td>...</td>\n",
       "      <td>...</td>\n",
       "      <td>...</td>\n",
       "      <td>...</td>\n",
       "    </tr>\n",
       "    <tr>\n",
       "      <th>19119</th>\n",
       "      <td>♫♪Мы расстаемся ♫♪  Бутырка new2019</td>\n",
       "      <td>2.0</td>\n",
       "      <td>0.0</td>\n",
       "      <td>11.0</td>\n",
       "      <td>shanson</td>\n",
       "      <td>бутырка</td>\n",
       "      <td>1107.0</td>\n",
       "      <td>NaN</td>\n",
       "      <td>NaN</td>\n",
       "      <td>44</td>\n",
       "    </tr>\n",
       "    <tr>\n",
       "      <th>19120</th>\n",
       "      <td>❤ 2 ЧАСА ❤ МОЦАРТ Для Младенцев - Колыбельная ...</td>\n",
       "      <td>94.0</td>\n",
       "      <td>431.0</td>\n",
       "      <td>1837.0</td>\n",
       "      <td>classic</td>\n",
       "      <td>classical_channel</td>\n",
       "      <td>391836.0</td>\n",
       "      <td>37.0</td>\n",
       "      <td>1.0</td>\n",
       "      <td>239</td>\n",
       "    </tr>\n",
       "    <tr>\n",
       "      <th>19121</th>\n",
       "      <td>モスクワライブショー ' 17</td>\n",
       "      <td>4872.0</td>\n",
       "      <td>15494.0</td>\n",
       "      <td>30603.0</td>\n",
       "      <td>rap</td>\n",
       "      <td>элджей</td>\n",
       "      <td>1187340.0</td>\n",
       "      <td>1788.0</td>\n",
       "      <td>352.0</td>\n",
       "      <td>339</td>\n",
       "    </tr>\n",
       "    <tr>\n",
       "      <th>19122</th>\n",
       "      <td>舞梅鬼   -  新年好宝贝 / Mumiy Troll - Happy New Year ...</td>\n",
       "      <td>59.0</td>\n",
       "      <td>10.0</td>\n",
       "      <td>260.0</td>\n",
       "      <td>rock</td>\n",
       "      <td>мумий_тролль</td>\n",
       "      <td>10147.0</td>\n",
       "      <td>19.0</td>\n",
       "      <td>0.0</td>\n",
       "      <td>997</td>\n",
       "    </tr>\n",
       "    <tr>\n",
       "      <th>19123</th>\n",
       "      <td>🎄#премьера песни!!! 2019г(вы не спешите говори...</td>\n",
       "      <td>1.0</td>\n",
       "      <td>0.0</td>\n",
       "      <td>22.0</td>\n",
       "      <td>shanson</td>\n",
       "      <td>бутырка</td>\n",
       "      <td>1566.0</td>\n",
       "      <td>NaN</td>\n",
       "      <td>NaN</td>\n",
       "      <td>65</td>\n",
       "    </tr>\n",
       "  </tbody>\n",
       "</table>\n",
       "<p>19124 rows × 10 columns</p>\n",
       "</div>"
      ],
      "text/plain": [
       "                                                   title  commentCount  \\\n",
       "0                              \"#2Маши \"Свободные линии\"          34.0   \n",
       "1              \"ALARM\" СЕРГЕЙ ЛАЗАРЕВ ( SERGEY LAZAREV )           NaN   \n",
       "2      \"EARTH SONG\"  SERGEY LAZAREV. DEDICATED TO MIC...          26.0   \n",
       "3                 \"Earth song\" премия МУЗ-тВ 2010 (LIVE)          12.0   \n",
       "4                         \"FAKE\" СЕРГЕЙ ЛАЗАРЕВ (SERGEY)          46.0   \n",
       "...                                                  ...           ...   \n",
       "19119                ♫♪Мы расстаемся ♫♪  Бутырка new2019           2.0   \n",
       "19120  ❤ 2 ЧАСА ❤ МОЦАРТ Для Младенцев - Колыбельная ...          94.0   \n",
       "19121                                    モスクワライブショー ' 17        4872.0   \n",
       "19122  舞梅鬼   -  新年好宝贝 / Mumiy Troll - Happy New Year ...          59.0   \n",
       "19123  🎄#премьера песни!!! 2019г(вы не спешите говори...           1.0   \n",
       "\n",
       "       dislikeCount  likeCount music_style          performer  viewCount  \\\n",
       "0              43.0     1402.0       popsa              2маши   214301.0   \n",
       "1             690.0    10532.0       popsa            лазарев  2221419.0   \n",
       "2              10.0      269.0       popsa            лазарев    40327.0   \n",
       "3               7.0      163.0       popsa            лазарев    11907.0   \n",
       "4              19.0      597.0       popsa            лазарев    91483.0   \n",
       "...             ...        ...         ...                ...        ...   \n",
       "19119           0.0       11.0     shanson            бутырка     1107.0   \n",
       "19120         431.0     1837.0     classic  classical_channel   391836.0   \n",
       "19121       15494.0    30603.0         rap             элджей  1187340.0   \n",
       "19122          10.0      260.0        rock       мумий_тролль    10147.0   \n",
       "19123           0.0       22.0     shanson            бутырка     1566.0   \n",
       "\n",
       "       commentators_uniq  comments_obscene_cnt  video_age  \n",
       "0                   24.0                   0.0       1141  \n",
       "1                    NaN                   NaN       3217  \n",
       "2                   23.0                   0.0       3546  \n",
       "3                   11.0                   0.0       3189  \n",
       "4                   33.0                   1.0       3361  \n",
       "...                  ...                   ...        ...  \n",
       "19119                NaN                   NaN         44  \n",
       "19120               37.0                   1.0        239  \n",
       "19121             1788.0                 352.0        339  \n",
       "19122               19.0                   0.0        997  \n",
       "19123                NaN                   NaN         65  \n",
       "\n",
       "[19124 rows x 10 columns]"
      ]
     },
     "execution_count": 49,
     "metadata": {},
     "output_type": "execute_result"
    }
   ],
   "source": [
    "data"
   ]
  },
  {
   "cell_type": "code",
   "execution_count": 50,
   "metadata": {},
   "outputs": [
    {
     "data": {
      "text/html": [
       "<div>\n",
       "<style scoped>\n",
       "    .dataframe tbody tr th:only-of-type {\n",
       "        vertical-align: middle;\n",
       "    }\n",
       "\n",
       "    .dataframe tbody tr th {\n",
       "        vertical-align: top;\n",
       "    }\n",
       "\n",
       "    .dataframe thead th {\n",
       "        text-align: right;\n",
       "    }\n",
       "</style>\n",
       "<table border=\"1\" class=\"dataframe\">\n",
       "  <thead>\n",
       "    <tr style=\"text-align: right;\">\n",
       "      <th></th>\n",
       "      <th>music_style</th>\n",
       "      <th>performer</th>\n",
       "      <th>likeCount</th>\n",
       "    </tr>\n",
       "  </thead>\n",
       "  <tbody>\n",
       "    <tr>\n",
       "      <th>0</th>\n",
       "      <td>classic</td>\n",
       "      <td>classical_channel</td>\n",
       "      <td>28663.333333</td>\n",
       "    </tr>\n",
       "    <tr>\n",
       "      <th>1</th>\n",
       "      <td>estrada</td>\n",
       "      <td>агутин</td>\n",
       "      <td>39.333333</td>\n",
       "    </tr>\n",
       "    <tr>\n",
       "      <th>2</th>\n",
       "      <td>estrada</td>\n",
       "      <td>басков</td>\n",
       "      <td>1582.721311</td>\n",
       "    </tr>\n",
       "    <tr>\n",
       "      <th>3</th>\n",
       "      <td>estrada</td>\n",
       "      <td>буйнов</td>\n",
       "      <td>2.795455</td>\n",
       "    </tr>\n",
       "    <tr>\n",
       "      <th>4</th>\n",
       "      <td>estrada</td>\n",
       "      <td>ваенга</td>\n",
       "      <td>133.773360</td>\n",
       "    </tr>\n",
       "    <tr>\n",
       "      <th>...</th>\n",
       "      <td>...</td>\n",
       "      <td>...</td>\n",
       "      <td>...</td>\n",
       "    </tr>\n",
       "    <tr>\n",
       "      <th>106</th>\n",
       "      <td>shanson</td>\n",
       "      <td>жека</td>\n",
       "      <td>505.681159</td>\n",
       "    </tr>\n",
       "    <tr>\n",
       "      <th>107</th>\n",
       "      <td>shanson</td>\n",
       "      <td>ирина_круг</td>\n",
       "      <td>1520.352381</td>\n",
       "    </tr>\n",
       "    <tr>\n",
       "      <th>108</th>\n",
       "      <td>shanson</td>\n",
       "      <td>михаил_круг</td>\n",
       "      <td>418.111340</td>\n",
       "    </tr>\n",
       "    <tr>\n",
       "      <th>109</th>\n",
       "      <td>shanson</td>\n",
       "      <td>трофимов</td>\n",
       "      <td>252.857759</td>\n",
       "    </tr>\n",
       "    <tr>\n",
       "      <th>110</th>\n",
       "      <td>shanson</td>\n",
       "      <td>шуфутинский</td>\n",
       "      <td>357.132565</td>\n",
       "    </tr>\n",
       "  </tbody>\n",
       "</table>\n",
       "<p>111 rows × 3 columns</p>\n",
       "</div>"
      ],
      "text/plain": [
       "    music_style          performer     likeCount\n",
       "0       classic  classical_channel  28663.333333\n",
       "1       estrada             агутин     39.333333\n",
       "2       estrada             басков   1582.721311\n",
       "3       estrada             буйнов      2.795455\n",
       "4       estrada             ваенга    133.773360\n",
       "..          ...                ...           ...\n",
       "106     shanson               жека    505.681159\n",
       "107     shanson         ирина_круг   1520.352381\n",
       "108     shanson        михаил_круг    418.111340\n",
       "109     shanson           трофимов    252.857759\n",
       "110     shanson        шуфутинский    357.132565\n",
       "\n",
       "[111 rows x 3 columns]"
      ]
     },
     "execution_count": 50,
     "metadata": {},
     "output_type": "execute_result"
    }
   ],
   "source": [
    "data.groupby(['music_style', 'performer']).likeCount.mean().reset_index()"
   ]
  },
  {
   "cell_type": "code",
   "execution_count": 48,
   "metadata": {},
   "outputs": [
    {
     "name": "stdout",
     "output_type": "stream",
     "text": [
      "popsa, 2маши - 5997.92\n",
      "popsa, лазарев - 6354.79\n",
      "popsa, нюша - 3029.28\n",
      "popsa, виа_гра - 6886.62\n",
      "popsa, барских - 11746.31\n",
      "popsa, темникова - 3070.46\n",
      "popsa, караулова - 4362.38\n",
      "popsa, кока - 33208.36\n",
      "popsa, руки_вверх - 8617.29\n",
      "popsa, astudio - 1385.95\n",
      "popsa, serebro - 18389.38\n",
      "popsa, loboda - 6002.9\n",
      "popsa, бузова - 18490.18\n",
      "popsa, макsим - 5990.16\n",
      "popsa, билан - 8394.94\n",
      "popsa, ёлка - 37.1\n",
      "popsa, градусы - 3119.29\n",
      "popsa, гагарина - 7642.17\n",
      "popsa, iowa - 15051.12\n",
      "rock, мумий_тролль - 819.63\n",
      "rock, король_и_шут - 820.6\n",
      "rock, кукрыниксы - 252.77\n",
      "rock, ария - 508.06\n",
      "rock, арбенина - 490.67\n",
      "rock, чичерина - 632.62\n",
      "rock, би_2 - 3434.87\n",
      "rock, звери - 4052.52\n",
      "rock, ногу_свело - 660.59\n",
      "rock, louna - 1350.34\n",
      "rock, несчастный_случай - 265.44\n",
      "rock, тараканы - 491.51\n",
      "rock, земфира - 1019.1\n",
      "rock, план ломоносова - 262.29\n",
      "rock, ленинград - 16778.07\n",
      "rock, наив - 417.55\n",
      "rock, смысловые_галлюцинации - 445.09\n",
      "rock, ддт - 151.99\n",
      "rock, гребенщиков - 808.04\n",
      "rock, сектор_газа - 202.14\n",
      "rock, летов - 31.94\n",
      "rock, гражданская_оборона - 24.58\n",
      "rock, агата_кристи - 137.59\n",
      "rock, кипелов - 2931.17\n",
      "rock, сплин - 3589.09\n",
      "rock, кино - 1995.51\n",
      "rock, порнофильмы - 2367.2\n",
      "classic, classical_channel - 28663.33\n",
      "indi, антоха_мс - 2214.16\n",
      "indi, краснознаменная_дивизия_имени_моей_бабушки - 158.09\n",
      "indi, rsac - 63.89\n",
      "indi, cбпч - 26.74\n",
      "indi, электрофорез - 35.0\n",
      "indi, женя_любич - 706.65\n",
      "indi, пасош - 93.5\n",
      "indi, казускома - 10.84\n",
      "indi, мальбэк - 24260.13\n",
      "indi, буерак - 77.11\n",
      "indi, pompeya - 696.05\n",
      "indi, retuses - 16.2\n",
      "indi, sonic_death - 12.67\n",
      "indi, ic3peak - 1252.92\n",
      "indi, motorama - 3097.2\n",
      "indi, гш - 142.87\n",
      "indi, интурист - 71.71\n",
      "indi, алоэ_вера - 87.78\n",
      "indi, хадн_дадн - 31.55\n",
      "indi, наадя - 16.97\n",
      "indi, рыцарные_рыцари - 0.33\n",
      "indi, монеточка - 17802.69\n",
      "indi, гречка - 4274.42\n",
      "indi, деревянные киты - 18.67\n",
      "indi, пошлая_молли - 64800.57\n",
      "estrada, николаев - 413.01\n",
      "estrada, валерия - 2033.33\n",
      "estrada, газманов - 1384.93\n",
      "estrada, ваенга - 133.77\n",
      "estrada, киркоров - 1540.11\n",
      "estrada, михайлов - 1680.09\n",
      "estrada, пугачёва - 33.2\n",
      "estrada, басков - 1582.72\n",
      "estrada, леонтьев - 5.15\n",
      "estrada, буйнов - 2.8\n",
      "estrada, лолита - 2707.51\n",
      "estrada, лепс - 847.16\n",
      "estrada, агутин - 39.33\n",
      "estrada, ротару - 31.32\n",
      "estrada, меладзе - 614.88\n",
      "shanson, михаил_круг - 418.11\n",
      "shanson, ирина_круг - 1520.35\n",
      "shanson, воровайки - 387.3\n",
      "shanson, шуфутинский - 357.13\n",
      "shanson, бутырка - 390.31\n",
      "shanson, трофимов - 252.86\n",
      "shanson, жека - 505.68\n",
      "shanson, дюмин - 370.76\n",
      "rap, тимати - 20582.88\n",
      "rap, gazgolder - 17806.19\n",
      "rap, noizemc - 11538.94\n",
      "rap, крид - 54380.74\n",
      "rap, miyagi&эндшпиль - 18377.09\n",
      "rap, pharaon - 12704.69\n",
      "rap, элджей - 55896.73\n",
      "rap, feduk - 38521.62\n",
      "rap, lone - 19725.85\n",
      "rap, oxxxymiron - 59106.51\n",
      "rap, face - 93202.92\n",
      "rap, грибы - 4080.71\n",
      "rap, johnyboy - 15676.7\n",
      "rap, лсп - 56649.15\n",
      "rap, мот - 56415.58\n",
      "rap, хаски - 65718.64\n"
     ]
    }
   ],
   "source": [
    "# GROUP BY\n",
    "genres = data.music_style.unique()\n",
    "\n",
    "for genre in genres:\n",
    "    performers = data[data.music_style == genre].performer.unique()\n",
    "    for performer in performers:\n",
    "        mean_likes = data[(data.music_style == genre) & (data.performer == performer)].likeCount.mean()\n",
    "        print(f'{genre}, {performer} - {round(mean_likes, 2)}')"
   ]
  },
  {
   "cell_type": "code",
   "execution_count": 52,
   "metadata": {},
   "outputs": [
    {
     "data": {
      "text/html": [
       "<div>\n",
       "<style scoped>\n",
       "    .dataframe tbody tr th:only-of-type {\n",
       "        vertical-align: middle;\n",
       "    }\n",
       "\n",
       "    .dataframe tbody tr th {\n",
       "        vertical-align: top;\n",
       "    }\n",
       "\n",
       "    .dataframe thead th {\n",
       "        text-align: right;\n",
       "    }\n",
       "</style>\n",
       "<table border=\"1\" class=\"dataframe\">\n",
       "  <thead>\n",
       "    <tr style=\"text-align: right;\">\n",
       "      <th></th>\n",
       "      <th>likeCount</th>\n",
       "      <th>viewCount</th>\n",
       "      <th>commentCount</th>\n",
       "      <th>dislikeCount</th>\n",
       "    </tr>\n",
       "    <tr>\n",
       "      <th>music_style</th>\n",
       "      <th></th>\n",
       "      <th></th>\n",
       "      <th></th>\n",
       "      <th></th>\n",
       "    </tr>\n",
       "  </thead>\n",
       "  <tbody>\n",
       "    <tr>\n",
       "      <th>classic</th>\n",
       "      <td>28663.333333</td>\n",
       "      <td>4.999888e+06</td>\n",
       "      <td>1421.469595</td>\n",
       "      <td>1236.228956</td>\n",
       "    </tr>\n",
       "    <tr>\n",
       "      <th>estrada</th>\n",
       "      <td>938.686662</td>\n",
       "      <td>2.398359e+05</td>\n",
       "      <td>57.664656</td>\n",
       "      <td>173.565933</td>\n",
       "    </tr>\n",
       "    <tr>\n",
       "      <th>indi</th>\n",
       "      <td>2471.842299</td>\n",
       "      <td>1.567647e+05</td>\n",
       "      <td>104.050074</td>\n",
       "      <td>220.419307</td>\n",
       "    </tr>\n",
       "    <tr>\n",
       "      <th>popsa</th>\n",
       "      <td>7492.273792</td>\n",
       "      <td>1.365989e+06</td>\n",
       "      <td>471.541934</td>\n",
       "      <td>790.161513</td>\n",
       "    </tr>\n",
       "    <tr>\n",
       "      <th>rap</th>\n",
       "      <td>26802.456253</td>\n",
       "      <td>3.168589e+06</td>\n",
       "      <td>2163.059850</td>\n",
       "      <td>4099.575383</td>\n",
       "    </tr>\n",
       "    <tr>\n",
       "      <th>rock</th>\n",
       "      <td>2132.887061</td>\n",
       "      <td>3.603179e+05</td>\n",
       "      <td>126.032532</td>\n",
       "      <td>287.698201</td>\n",
       "    </tr>\n",
       "    <tr>\n",
       "      <th>shanson</th>\n",
       "      <td>440.390564</td>\n",
       "      <td>1.588553e+05</td>\n",
       "      <td>19.527778</td>\n",
       "      <td>45.488327</td>\n",
       "    </tr>\n",
       "  </tbody>\n",
       "</table>\n",
       "</div>"
      ],
      "text/plain": [
       "                likeCount     viewCount  commentCount  dislikeCount\n",
       "music_style                                                        \n",
       "classic      28663.333333  4.999888e+06   1421.469595   1236.228956\n",
       "estrada        938.686662  2.398359e+05     57.664656    173.565933\n",
       "indi          2471.842299  1.567647e+05    104.050074    220.419307\n",
       "popsa         7492.273792  1.365989e+06    471.541934    790.161513\n",
       "rap          26802.456253  3.168589e+06   2163.059850   4099.575383\n",
       "rock          2132.887061  3.603179e+05    126.032532    287.698201\n",
       "shanson        440.390564  1.588553e+05     19.527778     45.488327"
      ]
     },
     "execution_count": 52,
     "metadata": {},
     "output_type": "execute_result"
    }
   ],
   "source": [
    "data.groupby('music_style')[['likeCount', 'viewCount', 'commentCount', 'dislikeCount']].mean()"
   ]
  },
  {
   "cell_type": "code",
   "execution_count": 54,
   "metadata": {},
   "outputs": [
    {
     "data": {
      "text/html": [
       "<div>\n",
       "<style scoped>\n",
       "    .dataframe tbody tr th:only-of-type {\n",
       "        vertical-align: middle;\n",
       "    }\n",
       "\n",
       "    .dataframe tbody tr th {\n",
       "        vertical-align: top;\n",
       "    }\n",
       "\n",
       "    .dataframe thead tr th {\n",
       "        text-align: left;\n",
       "    }\n",
       "\n",
       "    .dataframe thead tr:last-of-type th {\n",
       "        text-align: right;\n",
       "    }\n",
       "</style>\n",
       "<table border=\"1\" class=\"dataframe\">\n",
       "  <thead>\n",
       "    <tr>\n",
       "      <th></th>\n",
       "      <th colspan=\"2\" halign=\"left\">likeCount</th>\n",
       "      <th>dislikeCount</th>\n",
       "      <th>viewCount</th>\n",
       "    </tr>\n",
       "    <tr>\n",
       "      <th></th>\n",
       "      <th>mean</th>\n",
       "      <th>sum</th>\n",
       "      <th>sum</th>\n",
       "      <th>var</th>\n",
       "    </tr>\n",
       "    <tr>\n",
       "      <th>music_style</th>\n",
       "      <th></th>\n",
       "      <th></th>\n",
       "      <th></th>\n",
       "      <th></th>\n",
       "    </tr>\n",
       "  </thead>\n",
       "  <tbody>\n",
       "    <tr>\n",
       "      <th>classic</th>\n",
       "      <td>28663.333333</td>\n",
       "      <td>8513010.0</td>\n",
       "      <td>367160.0</td>\n",
       "      <td>3.746058e+14</td>\n",
       "    </tr>\n",
       "    <tr>\n",
       "      <th>estrada</th>\n",
       "      <td>938.686662</td>\n",
       "      <td>3708751.0</td>\n",
       "      <td>685759.0</td>\n",
       "      <td>2.043893e+12</td>\n",
       "    </tr>\n",
       "    <tr>\n",
       "      <th>indi</th>\n",
       "      <td>2471.842299</td>\n",
       "      <td>3354290.0</td>\n",
       "      <td>299109.0</td>\n",
       "      <td>2.668059e+12</td>\n",
       "    </tr>\n",
       "    <tr>\n",
       "      <th>popsa</th>\n",
       "      <td>7492.273792</td>\n",
       "      <td>24956764.0</td>\n",
       "      <td>2632028.0</td>\n",
       "      <td>5.426235e+13</td>\n",
       "    </tr>\n",
       "    <tr>\n",
       "      <th>rap</th>\n",
       "      <td>26802.456253</td>\n",
       "      <td>54221369.0</td>\n",
       "      <td>8293441.0</td>\n",
       "      <td>1.879743e+14</td>\n",
       "    </tr>\n",
       "    <tr>\n",
       "      <th>rock</th>\n",
       "      <td>2132.887061</td>\n",
       "      <td>12445396.0</td>\n",
       "      <td>1678719.0</td>\n",
       "      <td>1.145942e+13</td>\n",
       "    </tr>\n",
       "    <tr>\n",
       "      <th>shanson</th>\n",
       "      <td>440.390564</td>\n",
       "      <td>905443.0</td>\n",
       "      <td>93524.0</td>\n",
       "      <td>2.176253e+12</td>\n",
       "    </tr>\n",
       "  </tbody>\n",
       "</table>\n",
       "</div>"
      ],
      "text/plain": [
       "                likeCount             dislikeCount     viewCount\n",
       "                     mean         sum          sum           var\n",
       "music_style                                                     \n",
       "classic      28663.333333   8513010.0     367160.0  3.746058e+14\n",
       "estrada        938.686662   3708751.0     685759.0  2.043893e+12\n",
       "indi          2471.842299   3354290.0     299109.0  2.668059e+12\n",
       "popsa         7492.273792  24956764.0    2632028.0  5.426235e+13\n",
       "rap          26802.456253  54221369.0    8293441.0  1.879743e+14\n",
       "rock          2132.887061  12445396.0    1678719.0  1.145942e+13\n",
       "shanson        440.390564    905443.0      93524.0  2.176253e+12"
      ]
     },
     "execution_count": 54,
     "metadata": {},
     "output_type": "execute_result"
    }
   ],
   "source": [
    "data.groupby('music_style').agg(\n",
    "    {'likeCount': ['mean', 'sum'], \n",
    "     'dislikeCount': 'sum', \n",
    "     'viewCount': 'var'\n",
    "    }\n",
    ")"
   ]
  },
  {
   "cell_type": "code",
   "execution_count": 55,
   "metadata": {},
   "outputs": [
    {
     "data": {
      "text/html": [
       "<div>\n",
       "<style scoped>\n",
       "    .dataframe tbody tr th:only-of-type {\n",
       "        vertical-align: middle;\n",
       "    }\n",
       "\n",
       "    .dataframe tbody tr th {\n",
       "        vertical-align: top;\n",
       "    }\n",
       "\n",
       "    .dataframe thead th {\n",
       "        text-align: right;\n",
       "    }\n",
       "</style>\n",
       "<table border=\"1\" class=\"dataframe\">\n",
       "  <thead>\n",
       "    <tr style=\"text-align: right;\">\n",
       "      <th></th>\n",
       "      <th>title</th>\n",
       "      <th>commentCount</th>\n",
       "      <th>dislikeCount</th>\n",
       "      <th>likeCount</th>\n",
       "      <th>music_style</th>\n",
       "      <th>performer</th>\n",
       "      <th>viewCount</th>\n",
       "      <th>commentators_uniq</th>\n",
       "      <th>comments_obscene_cnt</th>\n",
       "      <th>video_age</th>\n",
       "    </tr>\n",
       "  </thead>\n",
       "  <tbody>\n",
       "    <tr>\n",
       "      <th>0</th>\n",
       "      <td>\"#2Маши \"Свободные линии\"</td>\n",
       "      <td>34.0</td>\n",
       "      <td>43.0</td>\n",
       "      <td>1402.0</td>\n",
       "      <td>popsa</td>\n",
       "      <td>2маши</td>\n",
       "      <td>214301.0</td>\n",
       "      <td>24.0</td>\n",
       "      <td>0.0</td>\n",
       "      <td>1141</td>\n",
       "    </tr>\n",
       "    <tr>\n",
       "      <th>1</th>\n",
       "      <td>\"ALARM\" СЕРГЕЙ ЛАЗАРЕВ ( SERGEY LAZAREV )</td>\n",
       "      <td>NaN</td>\n",
       "      <td>690.0</td>\n",
       "      <td>10532.0</td>\n",
       "      <td>popsa</td>\n",
       "      <td>лазарев</td>\n",
       "      <td>2221419.0</td>\n",
       "      <td>NaN</td>\n",
       "      <td>NaN</td>\n",
       "      <td>3217</td>\n",
       "    </tr>\n",
       "    <tr>\n",
       "      <th>2</th>\n",
       "      <td>\"EARTH SONG\"  SERGEY LAZAREV. DEDICATED TO MIC...</td>\n",
       "      <td>26.0</td>\n",
       "      <td>10.0</td>\n",
       "      <td>269.0</td>\n",
       "      <td>popsa</td>\n",
       "      <td>лазарев</td>\n",
       "      <td>40327.0</td>\n",
       "      <td>23.0</td>\n",
       "      <td>0.0</td>\n",
       "      <td>3546</td>\n",
       "    </tr>\n",
       "    <tr>\n",
       "      <th>3</th>\n",
       "      <td>\"Earth song\" премия МУЗ-тВ 2010 (LIVE)</td>\n",
       "      <td>12.0</td>\n",
       "      <td>7.0</td>\n",
       "      <td>163.0</td>\n",
       "      <td>popsa</td>\n",
       "      <td>лазарев</td>\n",
       "      <td>11907.0</td>\n",
       "      <td>11.0</td>\n",
       "      <td>0.0</td>\n",
       "      <td>3189</td>\n",
       "    </tr>\n",
       "    <tr>\n",
       "      <th>4</th>\n",
       "      <td>\"FAKE\" СЕРГЕЙ ЛАЗАРЕВ (SERGEY)</td>\n",
       "      <td>46.0</td>\n",
       "      <td>19.0</td>\n",
       "      <td>597.0</td>\n",
       "      <td>popsa</td>\n",
       "      <td>лазарев</td>\n",
       "      <td>91483.0</td>\n",
       "      <td>33.0</td>\n",
       "      <td>1.0</td>\n",
       "      <td>3361</td>\n",
       "    </tr>\n",
       "    <tr>\n",
       "      <th>...</th>\n",
       "      <td>...</td>\n",
       "      <td>...</td>\n",
       "      <td>...</td>\n",
       "      <td>...</td>\n",
       "      <td>...</td>\n",
       "      <td>...</td>\n",
       "      <td>...</td>\n",
       "      <td>...</td>\n",
       "      <td>...</td>\n",
       "      <td>...</td>\n",
       "    </tr>\n",
       "    <tr>\n",
       "      <th>19119</th>\n",
       "      <td>♫♪Мы расстаемся ♫♪  Бутырка new2019</td>\n",
       "      <td>2.0</td>\n",
       "      <td>0.0</td>\n",
       "      <td>11.0</td>\n",
       "      <td>shanson</td>\n",
       "      <td>бутырка</td>\n",
       "      <td>1107.0</td>\n",
       "      <td>NaN</td>\n",
       "      <td>NaN</td>\n",
       "      <td>44</td>\n",
       "    </tr>\n",
       "    <tr>\n",
       "      <th>19120</th>\n",
       "      <td>❤ 2 ЧАСА ❤ МОЦАРТ Для Младенцев - Колыбельная ...</td>\n",
       "      <td>94.0</td>\n",
       "      <td>431.0</td>\n",
       "      <td>1837.0</td>\n",
       "      <td>classic</td>\n",
       "      <td>classical_channel</td>\n",
       "      <td>391836.0</td>\n",
       "      <td>37.0</td>\n",
       "      <td>1.0</td>\n",
       "      <td>239</td>\n",
       "    </tr>\n",
       "    <tr>\n",
       "      <th>19121</th>\n",
       "      <td>モスクワライブショー ' 17</td>\n",
       "      <td>4872.0</td>\n",
       "      <td>15494.0</td>\n",
       "      <td>30603.0</td>\n",
       "      <td>rap</td>\n",
       "      <td>элджей</td>\n",
       "      <td>1187340.0</td>\n",
       "      <td>1788.0</td>\n",
       "      <td>352.0</td>\n",
       "      <td>339</td>\n",
       "    </tr>\n",
       "    <tr>\n",
       "      <th>19122</th>\n",
       "      <td>舞梅鬼   -  新年好宝贝 / Mumiy Troll - Happy New Year ...</td>\n",
       "      <td>59.0</td>\n",
       "      <td>10.0</td>\n",
       "      <td>260.0</td>\n",
       "      <td>rock</td>\n",
       "      <td>мумий_тролль</td>\n",
       "      <td>10147.0</td>\n",
       "      <td>19.0</td>\n",
       "      <td>0.0</td>\n",
       "      <td>997</td>\n",
       "    </tr>\n",
       "    <tr>\n",
       "      <th>19123</th>\n",
       "      <td>🎄#премьера песни!!! 2019г(вы не спешите говори...</td>\n",
       "      <td>1.0</td>\n",
       "      <td>0.0</td>\n",
       "      <td>22.0</td>\n",
       "      <td>shanson</td>\n",
       "      <td>бутырка</td>\n",
       "      <td>1566.0</td>\n",
       "      <td>NaN</td>\n",
       "      <td>NaN</td>\n",
       "      <td>65</td>\n",
       "    </tr>\n",
       "  </tbody>\n",
       "</table>\n",
       "<p>19124 rows × 10 columns</p>\n",
       "</div>"
      ],
      "text/plain": [
       "                                                   title  commentCount  \\\n",
       "0                              \"#2Маши \"Свободные линии\"          34.0   \n",
       "1              \"ALARM\" СЕРГЕЙ ЛАЗАРЕВ ( SERGEY LAZAREV )           NaN   \n",
       "2      \"EARTH SONG\"  SERGEY LAZAREV. DEDICATED TO MIC...          26.0   \n",
       "3                 \"Earth song\" премия МУЗ-тВ 2010 (LIVE)          12.0   \n",
       "4                         \"FAKE\" СЕРГЕЙ ЛАЗАРЕВ (SERGEY)          46.0   \n",
       "...                                                  ...           ...   \n",
       "19119                ♫♪Мы расстаемся ♫♪  Бутырка new2019           2.0   \n",
       "19120  ❤ 2 ЧАСА ❤ МОЦАРТ Для Младенцев - Колыбельная ...          94.0   \n",
       "19121                                    モスクワライブショー ' 17        4872.0   \n",
       "19122  舞梅鬼   -  新年好宝贝 / Mumiy Troll - Happy New Year ...          59.0   \n",
       "19123  🎄#премьера песни!!! 2019г(вы не спешите говори...           1.0   \n",
       "\n",
       "       dislikeCount  likeCount music_style          performer  viewCount  \\\n",
       "0              43.0     1402.0       popsa              2маши   214301.0   \n",
       "1             690.0    10532.0       popsa            лазарев  2221419.0   \n",
       "2              10.0      269.0       popsa            лазарев    40327.0   \n",
       "3               7.0      163.0       popsa            лазарев    11907.0   \n",
       "4              19.0      597.0       popsa            лазарев    91483.0   \n",
       "...             ...        ...         ...                ...        ...   \n",
       "19119           0.0       11.0     shanson            бутырка     1107.0   \n",
       "19120         431.0     1837.0     classic  classical_channel   391836.0   \n",
       "19121       15494.0    30603.0         rap             элджей  1187340.0   \n",
       "19122          10.0      260.0        rock       мумий_тролль    10147.0   \n",
       "19123           0.0       22.0     shanson            бутырка     1566.0   \n",
       "\n",
       "       commentators_uniq  comments_obscene_cnt  video_age  \n",
       "0                   24.0                   0.0       1141  \n",
       "1                    NaN                   NaN       3217  \n",
       "2                   23.0                   0.0       3546  \n",
       "3                   11.0                   0.0       3189  \n",
       "4                   33.0                   1.0       3361  \n",
       "...                  ...                   ...        ...  \n",
       "19119                NaN                   NaN         44  \n",
       "19120               37.0                   1.0        239  \n",
       "19121             1788.0                 352.0        339  \n",
       "19122               19.0                   0.0        997  \n",
       "19123                NaN                   NaN         65  \n",
       "\n",
       "[19124 rows x 10 columns]"
      ]
     },
     "execution_count": 55,
     "metadata": {},
     "output_type": "execute_result"
    }
   ],
   "source": [
    "data"
   ]
  },
  {
   "cell_type": "code",
   "execution_count": null,
   "metadata": {},
   "outputs": [],
   "source": []
  }
 ],
 "metadata": {
  "kernelspec": {
   "display_name": "Python 3",
   "language": "python",
   "name": "python3"
  },
  "language_info": {
   "codemirror_mode": {
    "name": "ipython",
    "version": 3
   },
   "file_extension": ".py",
   "mimetype": "text/x-python",
   "name": "python",
   "nbconvert_exporter": "python",
   "pygments_lexer": "ipython3",
   "version": "3.8.5"
  }
 },
 "nbformat": 4,
 "nbformat_minor": 4
}
