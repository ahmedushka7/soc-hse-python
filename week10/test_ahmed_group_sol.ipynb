{
 "cells": [
  {
   "cell_type": "markdown",
   "id": "f80384a7",
   "metadata": {},
   "source": [
    "# Контрольная работа"
   ]
  },
  {
   "cell_type": "code",
   "execution_count": 1,
   "id": "b45f7bd7",
   "metadata": {},
   "outputs": [],
   "source": [
    "import scipy.stats as sts\n",
    "import numpy as np"
   ]
  },
  {
   "cell_type": "markdown",
   "id": "812c88a0",
   "metadata": {},
   "source": [
    "### Правила игры\n",
    "\n",
    "* контрольная состоит из 3-х задач, баллы за задание указаны в скобках\n",
    "* у вас есть одна пара (1 ч. 20 мин.) на решение\n",
    "* можно пользоваться материалами с лекций и семинаров\n",
    "* решение отправлять на почту ahmedzarmanbetov@mail.ru (нужно прикрепить .ipynb файл)"
   ]
  },
  {
   "cell_type": "markdown",
   "id": "46b8bb0b",
   "metadata": {},
   "source": [
    "### Вероятности (2 балла)\n",
    "\n",
    "У вас есть следующие случайные величины:\n",
    "\n",
    "* $X_1 \\sim Pois(10)$ - Пуассона\n",
    "* $X_2 \\sim N(7, 1)$ – нормальное\n",
    "* $X_3 \\sim U[-2;4]$ – равномерное\n",
    "\n",
    "Оцените следующие вероятности: \n",
    "\n",
    "1. $P(X_1 - X2 > X_3)$\n",
    "2. $P(X_1 - X2 < X_3^2)$"
   ]
  },
  {
   "cell_type": "code",
   "execution_count": 22,
   "id": "d2deb1e9",
   "metadata": {},
   "outputs": [
    {
     "data": {
      "text/plain": [
       "(0.69112, 0.52162)"
      ]
     },
     "execution_count": 22,
     "metadata": {},
     "output_type": "execute_result"
    }
   ],
   "source": [
    "N = 100_000\n",
    "\n",
    "x1 = np.random.poisson(lam=10, size=N)\n",
    "x2 = np.random.normal(7, 1, size=N)\n",
    "x3 = np.random.uniform(-2, 4, size=N)\n",
    "\n",
    "np.mean(x1 - x2 > x3), np.mean(x1 - x2 < x3**2)"
   ]
  },
  {
   "cell_type": "code",
   "execution_count": 23,
   "id": "c852932e",
   "metadata": {},
   "outputs": [
    {
     "data": {
      "text/plain": [
       "(0.69273, 0.52069)"
      ]
     },
     "execution_count": 23,
     "metadata": {},
     "output_type": "execute_result"
    }
   ],
   "source": [
    "N = 100_000\n",
    "\n",
    "x1 = sts.poisson(10).rvs(N)\n",
    "x2 = sts.norm(7, 1).rvs(N)\n",
    "x3 = sts.uniform(-2, 6).rvs(N)\n",
    "\n",
    "np.mean(x1 - x2 > x3), np.mean(x1 - x2 < x3**2)"
   ]
  },
  {
   "cell_type": "markdown",
   "id": "ea5dd61d",
   "metadata": {},
   "source": [
    "### Везение (4 балла)\n",
    "\n",
    "Миша разбирается в баскетболе и угадывает победителя матча с вероятностью 0.7. Ваня же не разбирается в баскетболе, он называет победителя матча наугад (вероятность 0.5).\n",
    "\n",
    "Миша и Ваня решили посмотреть 7 матчей баскетбола и сделать прогноз. Оказалось, что Миша угадал только результат только 3 матчей, а Ваня угадал результат 5 матчей.\n",
    "\n",
    "Ответьте на следующие вопросы с помощью генерации выборок:\n",
    "1. (1 балл) Найдите вероятность, что Миша угадал бы только результаты 3 матчей, если бы смотрел матчи один.\n",
    "2. (1 балл) Найдите вероятность, что Ваня угадал бы результаты 5 матчей, сли бы смотрел матчи один.\n",
    "3. (2 балла) Найдите вероятность, что Миша угадал результаты 3 матчей, а Ваня 5.\n",
    "\n",
    "Как вы думаете, связаны ли как-то вероятности в 1-3 пунтах между собой?"
   ]
  },
  {
   "cell_type": "code",
   "execution_count": 64,
   "id": "90fad244",
   "metadata": {},
   "outputs": [],
   "source": [
    "N = 10_000"
   ]
  },
  {
   "cell_type": "markdown",
   "id": "4ed3ab5f",
   "metadata": {},
   "source": [
    "#### 1."
   ]
  },
  {
   "cell_type": "code",
   "execution_count": 65,
   "id": "8c324d6c",
   "metadata": {},
   "outputs": [
    {
     "data": {
      "text/plain": [
       "0.1011"
      ]
     },
     "execution_count": 65,
     "metadata": {},
     "output_type": "execute_result"
    }
   ],
   "source": [
    "misha = np.random.binomial(n=7, p=0.7, size=N)\n",
    "np.mean(misha == 3)"
   ]
  },
  {
   "cell_type": "code",
   "execution_count": 66,
   "id": "f419735b",
   "metadata": {},
   "outputs": [
    {
     "data": {
      "text/plain": [
       "0.096"
      ]
     },
     "execution_count": 66,
     "metadata": {},
     "output_type": "execute_result"
    }
   ],
   "source": [
    "misha = np.random.choice([1, 0], p=[0.7, 1 - 0.7], size=(7, N)).sum(axis=0)\n",
    "np.mean(misha == 3)"
   ]
  },
  {
   "cell_type": "code",
   "execution_count": 67,
   "id": "83841379",
   "metadata": {},
   "outputs": [
    {
     "data": {
      "text/plain": [
       "0.0952"
      ]
     },
     "execution_count": 67,
     "metadata": {},
     "output_type": "execute_result"
    }
   ],
   "source": [
    "count = 0\n",
    "for _ in range(N):\n",
    "    good = np.random.choice([1, 0], p=[0.7, 1 - 0.7], size=7).sum()\n",
    "    count = count + (good == 3)\n",
    "count / N"
   ]
  },
  {
   "cell_type": "markdown",
   "id": "e0ec9289",
   "metadata": {},
   "source": [
    "#### 2."
   ]
  },
  {
   "cell_type": "code",
   "execution_count": 75,
   "id": "285489e9",
   "metadata": {},
   "outputs": [
    {
     "data": {
      "text/plain": [
       "0.1614"
      ]
     },
     "execution_count": 75,
     "metadata": {},
     "output_type": "execute_result"
    }
   ],
   "source": [
    "vanya = np.random.binomial(n=7, p=0.5, size=N)\n",
    "np.mean(vanya == 5)"
   ]
  },
  {
   "cell_type": "code",
   "execution_count": 76,
   "id": "b20a47d2",
   "metadata": {
    "scrolled": true
   },
   "outputs": [
    {
     "data": {
      "text/plain": [
       "Ellipsis"
      ]
     },
     "execution_count": 76,
     "metadata": {},
     "output_type": "execute_result"
    }
   ],
   "source": [
    "..."
   ]
  },
  {
   "cell_type": "markdown",
   "id": "b916d62c",
   "metadata": {},
   "source": [
    "#### 3."
   ]
  },
  {
   "cell_type": "code",
   "execution_count": 104,
   "id": "97e46b18",
   "metadata": {},
   "outputs": [
    {
     "data": {
      "text/plain": [
       "0.0159"
      ]
     },
     "execution_count": 104,
     "metadata": {},
     "output_type": "execute_result"
    }
   ],
   "source": [
    "misha = np.random.binomial(n=7, p=0.7, size=N)\n",
    "vanya = np.random.binomial(n=7, p=0.5, size=N)\n",
    "\n",
    "good = (misha == 3) & (vanya == 5)\n",
    "np.mean(good)"
   ]
  },
  {
   "cell_type": "code",
   "execution_count": 105,
   "id": "ad3d3fda",
   "metadata": {},
   "outputs": [
    {
     "data": {
      "text/plain": [
       "0.015494399999999998"
      ]
     },
     "execution_count": 105,
     "metadata": {},
     "output_type": "execute_result"
    }
   ],
   "source": [
    "# P(AB) = P(A) * P(B)\n",
    "0.096 * 0.1614"
   ]
  },
  {
   "cell_type": "markdown",
   "id": "15a8676d",
   "metadata": {},
   "source": [
    "### Пьяный стрелок (4 балла)\n",
    "\n",
    "<center>\n",
    "    <img src=\"https://torrent-rose.ru/_ld/13/00291481.png\" width=\"450px\">\n",
    "</center>\n",
    "\n",
    "На диком западе живет очень точный ковбой. Его точность очень высока, вероятность попасть по мишени почти равна 1. Одним прекрасным вечером ковбой решил зайти в заведение \"Тир и бар\". Хорошенько выпил, а после решил пострелять. Бармен, работающий в этом заведении, хорошо знал ковбоя. Также он знал, что чем больше выпьет ковбой, тем хуже он стреляет. Поэтому предложил ему на выбор два варианта игры:\n",
    "\n",
    "1. У ковбоя есть один выстрел. Попадает по мишени - выигрывает, не попадает - проигрывает.\n",
    "2. Ковбою даётся 20 патронов, ему нужно попасть хотя бы по 7 мишеням. Но после каждого попадания, ковбой будет выпивать, следовательно, его точность будет уменьшаться.\n",
    "\n",
    "Так ковбой уже выпил, вероятность попасть по мишени равна 0.3, после каждого выпитого напитка его точность уменьшается на 10%. Вы -- хороший друг ковбоя, который знает основа тервера, а также Python, чтобы замоделировать ситуацию.\n",
    "\n",
    "Какой из вариантов ему стоит выбрать? Какой вариант вы бы выбрали, если бы вас просили ответить на вопрос без всяких вычислений (ответ никак не учитывается, просто интересна ваша интуиция)?"
   ]
  },
  {
   "cell_type": "code",
   "execution_count": 177,
   "id": "1ea43df8",
   "metadata": {},
   "outputs": [
    {
     "name": "stdout",
     "output_type": "stream",
     "text": [
      "Вероятность победы в первом варианте: 0.3\n"
     ]
    }
   ],
   "source": [
    "print('Вероятность победы в первом варианте: 0.3')"
   ]
  },
  {
   "cell_type": "code",
   "execution_count": 178,
   "id": "9089ed08",
   "metadata": {},
   "outputs": [
    {
     "data": {
      "text/plain": [
       "0"
      ]
     },
     "execution_count": 178,
     "metadata": {},
     "output_type": "execute_result"
    }
   ],
   "source": [
    "def game(p: float = 0.3) -> int:\n",
    "    count = 0\n",
    "    for _ in range(20):\n",
    "        shot = np.random.choice([1, 0], p=[p, 1 - p], size=1)[0]\n",
    "        if shot == 1:\n",
    "            count += 1\n",
    "            p = p * 0.9\n",
    "    if count < 7:\n",
    "        return 0\n",
    "    else:\n",
    "        return 1\n",
    "game()"
   ]
  },
  {
   "cell_type": "code",
   "execution_count": 179,
   "id": "2376f95c",
   "metadata": {},
   "outputs": [
    {
     "name": "stdout",
     "output_type": "stream",
     "text": [
      "Вероятность победы во втором варианте: 0.1171\n"
     ]
    }
   ],
   "source": [
    "N = 10_000\n",
    "count = 0\n",
    "\n",
    "for _ in range(N):\n",
    "    count += game()\n",
    "\n",
    "prob = count / N\n",
    "# print(f'Вероятность победы во втором варианте: {prob}')"
   ]
  },
  {
   "cell_type": "code",
   "execution_count": 180,
   "id": "d200af8f",
   "metadata": {},
   "outputs": [],
   "source": [
    "def get_prob_win(p: float, n: int = 10_000) -> float:\n",
    "    count = 0\n",
    "    for _ in range(n):\n",
    "        count += game(p=p)\n",
    "\n",
    "    prob = count / N\n",
    "    return prob"
   ]
  },
  {
   "cell_type": "code",
   "execution_count": 181,
   "id": "b23c12bd",
   "metadata": {},
   "outputs": [
    {
     "data": {
      "text/plain": [
       "0.1166"
      ]
     },
     "execution_count": 181,
     "metadata": {},
     "output_type": "execute_result"
    }
   ],
   "source": [
    "get_prob_win(0.3)"
   ]
  },
  {
   "cell_type": "code",
   "execution_count": 182,
   "id": "0780b6ad",
   "metadata": {},
   "outputs": [
    {
     "data": {
      "text/plain": [
       "0.6115"
      ]
     },
     "execution_count": 182,
     "metadata": {},
     "output_type": "execute_result"
    }
   ],
   "source": [
    "get_prob_win(0.5)"
   ]
  },
  {
   "cell_type": "code",
   "execution_count": 185,
   "id": "9aa1895e",
   "metadata": {},
   "outputs": [],
   "source": [
    "x = np.linspace(0, 1, 11)\n",
    "y = [get_prob_win(prob) for prob in x]"
   ]
  },
  {
   "cell_type": "code",
   "execution_count": 186,
   "id": "e6031d14",
   "metadata": {},
   "outputs": [],
   "source": [
    "import matplotlib.pyplot as plt"
   ]
  },
  {
   "cell_type": "code",
   "execution_count": 200,
   "id": "396d2f8b",
   "metadata": {},
   "outputs": [
    {
     "data": {
      "image/png": "[encoded data removed]",
      "text/plain": [
       "<Figure size 640x480 with 1 Axes>"
      ]
     },
     "metadata": {},
     "output_type": "display_data"
    }
   ],
   "source": [
    "plt.plot([0, 1], [0, 1], color='red', label='1 вариант')\n",
    "plt.plot(x, y, '-', color='darkblue', label='2 вариант')\n",
    "plt.xlabel('Вероятность попадания на старте')\n",
    "plt.ylabel('Вероятность попеды в игре');\n",
    "plt.legend();"
   ]
  },
  {
   "cell_type": "code",
   "execution_count": 201,
   "id": "0a11004f",
   "metadata": {},
   "outputs": [
    {
     "data": {
      "text/plain": [
       "0.4006"
      ]
     },
     "execution_count": 201,
     "metadata": {},
     "output_type": "execute_result"
    }
   ],
   "source": [
    "get_prob_win(0.42)"
   ]
  },
  {
   "cell_type": "code",
   "execution_count": 204,
   "id": "bd79b09b",
   "metadata": {
    "scrolled": true
   },
   "outputs": [
    {
     "data": {
      "text/plain": [
       "0.4355"
      ]
     },
     "execution_count": 204,
     "metadata": {},
     "output_type": "execute_result"
    }
   ],
   "source": [
    "get_prob_win(0.435)"
   ]
  },
  {
   "cell_type": "code",
   "execution_count": null,
   "id": "a3b0555c",
   "metadata": {},
   "outputs": [],
   "source": [
    "i1 = 5.0\n",
    "i2 = np.random.normal(...)\n",
    "i3 = np.random.normal(...)\n",
    "i4 = np.random.normal(...)\n",
    "\n",
    "profit1\n",
    "profit2\n",
    "...\n",
    "profit1_000_000"
   ]
  },
  {
   "cell_type": "code",
   "execution_count": null,
   "id": "121511c6",
   "metadata": {},
   "outputs": [],
   "source": []
  },
  {
   "cell_type": "code",
   "execution_count": 211,
   "id": "9fa9477f",
   "metadata": {},
   "outputs": [],
   "source": [
    "sample = np.random.choice([1, 0], p=[p, 1 - p], size=7)"
   ]
  },
  {
   "cell_type": "code",
   "execution_count": 212,
   "id": "6a6af500",
   "metadata": {},
   "outputs": [
    {
     "data": {
      "text/plain": [
       "array([1, 1, 0, 1, 1, 1, 1])"
      ]
     },
     "execution_count": 212,
     "metadata": {},
     "output_type": "execute_result"
    }
   ],
   "source": [
    "sample"
   ]
  },
  {
   "cell_type": "code",
   "execution_count": null,
   "id": "84c6c049",
   "metadata": {},
   "outputs": [],
   "source": []
  },
  {
   "cell_type": "markdown",
   "id": "c497d715",
   "metadata": {},
   "source": [
    "---"
   ]
  }
 ],
 "metadata": {
  "kernelspec": {
   "display_name": "Python 3 (ipykernel)",
   "language": "python",
   "name": "python3"
  },
  "language_info": {
   "codemirror_mode": {
    "name": "ipython",
    "version": 3
   },
   "file_extension": ".py",
   "mimetype": "text/x-python",
   "name": "python",
   "nbconvert_exporter": "python",
   "pygments_lexer": "ipython3",
   "version": "3.8.13"
  }
 },
 "nbformat": 4,
 "nbformat_minor": 5
}
