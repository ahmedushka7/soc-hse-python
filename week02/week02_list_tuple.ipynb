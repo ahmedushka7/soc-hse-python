{
 "cells": [
  {
   "cell_type": "markdown",
   "id": "d9583a70",
   "metadata": {
    "slideshow": {
     "slide_type": "slide"
    }
   },
   "source": [
    "### list\n",
    "\n",
    "Самым популярным контейнером данных является лист (`list`). Чтобы его создать, нужно перечислить объекты через запятую в квадратных скобках."
   ]
  },
  {
   "cell_type": "code",
   "execution_count": 106,
   "id": "d9978023",
   "metadata": {},
   "outputs": [
    {
     "name": "stdout",
     "output_type": "stream",
     "text": [
      "[]\n"
     ]
    }
   ],
   "source": [
    "empty_list_v1 = []\n",
    "print(empty_list_v1)"
   ]
  },
  {
   "cell_type": "code",
   "execution_count": 107,
   "id": "b00ccb49",
   "metadata": {},
   "outputs": [
    {
     "name": "stdout",
     "output_type": "stream",
     "text": [
      "[]\n"
     ]
    }
   ],
   "source": [
    "empty_list_v2 = list()\n",
    "print(empty_list_v2)"
   ]
  },
  {
   "cell_type": "code",
   "execution_count": 280,
   "id": "da09419c",
   "metadata": {},
   "outputs": [
    {
     "name": "stdout",
     "output_type": "stream",
     "text": [
      "[10, 24.2, 'Hello', True, [20, 15, 13]]\n"
     ]
    }
   ],
   "source": [
    "not_empty_list_v1 = [10, 24.2, \"Hello\", True, [20, 15, 13]]\n",
    "print(not_empty_list_v1)"
   ]
  },
  {
   "cell_type": "code",
   "execution_count": 109,
   "id": "f598b0c4",
   "metadata": {},
   "outputs": [
    {
     "name": "stdout",
     "output_type": "stream",
     "text": [
      "['p', 'y', 't', 'h', 'o', 'n']\n",
      "<class 'list'>\n"
     ]
    }
   ],
   "source": [
    "not_empty_list_v2 = list('python')\n",
    "print(not_empty_list_v2)\n",
    "print(type(not_empty_list_v2))"
   ]
  },
  {
   "cell_type": "markdown",
   "id": "e076fa2b",
   "metadata": {
    "slideshow": {
     "slide_type": "slide"
    }
   },
   "source": [
    "### индексация, слайсы\n",
    "\n",
    "Все точно так же как и со строками."
   ]
  },
  {
   "cell_type": "code",
   "execution_count": 110,
   "id": "599ffe40",
   "metadata": {},
   "outputs": [
    {
     "data": {
      "text/plain": [
       "[10, 24.2, 'Hello', True, [20, 15, 13]]"
      ]
     },
     "execution_count": 110,
     "metadata": {},
     "output_type": "execute_result"
    }
   ],
   "source": [
    "not_empty_list_v1"
   ]
  },
  {
   "cell_type": "code",
   "execution_count": 111,
   "id": "b12b2b2a",
   "metadata": {},
   "outputs": [
    {
     "data": {
      "text/plain": [
       "10"
      ]
     },
     "execution_count": 111,
     "metadata": {},
     "output_type": "execute_result"
    }
   ],
   "source": [
    "not_empty_list_v1[0]"
   ]
  },
  {
   "cell_type": "code",
   "execution_count": 112,
   "id": "7b447875",
   "metadata": {},
   "outputs": [
    {
     "data": {
      "text/plain": [
       "[24.2, 'Hello', True]"
      ]
     },
     "execution_count": 112,
     "metadata": {},
     "output_type": "execute_result"
    }
   ],
   "source": [
    "not_empty_list_v1[1:4]"
   ]
  },
  {
   "cell_type": "code",
   "execution_count": 113,
   "id": "93861ff8",
   "metadata": {},
   "outputs": [
    {
     "data": {
      "text/plain": [
       "[20, 15, 13]"
      ]
     },
     "execution_count": 113,
     "metadata": {},
     "output_type": "execute_result"
    }
   ],
   "source": [
    "not_empty_list_v1[-1]"
   ]
  },
  {
   "cell_type": "markdown",
   "id": "47964a08",
   "metadata": {
    "slideshow": {
     "slide_type": "slide"
    }
   },
   "source": [
    "Внутри списка может лежать другой список."
   ]
  },
  {
   "cell_type": "code",
   "execution_count": 114,
   "id": "8779f5cd",
   "metadata": {
    "slideshow": {
     "slide_type": "-"
    }
   },
   "outputs": [
    {
     "data": {
      "text/plain": [
       "[20, 15, 13]"
      ]
     },
     "execution_count": 114,
     "metadata": {},
     "output_type": "execute_result"
    }
   ],
   "source": [
    "not_empty_list_v1[4]"
   ]
  },
  {
   "cell_type": "code",
   "execution_count": 115,
   "id": "75038a30",
   "metadata": {
    "scrolled": false
   },
   "outputs": [
    {
     "data": {
      "text/plain": [
       "list"
      ]
     },
     "execution_count": 115,
     "metadata": {},
     "output_type": "execute_result"
    }
   ],
   "source": [
    "type(not_empty_list_v1[4])"
   ]
  },
  {
   "cell_type": "code",
   "execution_count": 116,
   "id": "23ac1ce9",
   "metadata": {},
   "outputs": [
    {
     "data": {
      "text/plain": [
       "15"
      ]
     },
     "execution_count": 116,
     "metadata": {},
     "output_type": "execute_result"
    }
   ],
   "source": [
    "not_empty_list_v1[4][1]"
   ]
  },
  {
   "cell_type": "markdown",
   "id": "623c30db",
   "metadata": {
    "slideshow": {
     "slide_type": "slide"
    }
   },
   "source": [
    "Элементы списка можно изменять"
   ]
  },
  {
   "cell_type": "code",
   "execution_count": 281,
   "id": "f5de020f",
   "metadata": {},
   "outputs": [
    {
     "data": {
      "text/plain": [
       "[10, 24.2, 'Hello', True, [20, 15, 13]]"
      ]
     },
     "execution_count": 281,
     "metadata": {},
     "output_type": "execute_result"
    }
   ],
   "source": [
    "not_empty_list_v1"
   ]
  },
  {
   "cell_type": "code",
   "execution_count": 282,
   "id": "ab3a20f3",
   "metadata": {},
   "outputs": [],
   "source": [
    "not_empty_list_v1[0] = 15\n",
    "not_empty_list_v1[1] += 1.5\n",
    "not_empty_list_v1[2:4] = [2]"
   ]
  },
  {
   "cell_type": "code",
   "execution_count": 283,
   "id": "e601004e",
   "metadata": {},
   "outputs": [
    {
     "data": {
      "text/plain": [
       "[15, 25.7, 2, [20, 15, 13]]"
      ]
     },
     "execution_count": 283,
     "metadata": {},
     "output_type": "execute_result"
    }
   ],
   "source": [
    "not_empty_list_v1"
   ]
  },
  {
   "cell_type": "markdown",
   "id": "5e5fcb7d",
   "metadata": {
    "slideshow": {
     "slide_type": "slide"
    }
   },
   "source": [
    "Можно проводить некоторые арифметические операции"
   ]
  },
  {
   "cell_type": "code",
   "execution_count": 120,
   "id": "c0490529",
   "metadata": {},
   "outputs": [
    {
     "data": {
      "text/plain": [
       "[1, 2, 3, 4, 5]"
      ]
     },
     "execution_count": 120,
     "metadata": {},
     "output_type": "execute_result"
    }
   ],
   "source": [
    "l = [1, 2]\n",
    "l + [3, 4, 5]"
   ]
  },
  {
   "cell_type": "code",
   "execution_count": 121,
   "id": "158fb8d6",
   "metadata": {},
   "outputs": [
    {
     "data": {
      "text/plain": [
       "[1, 2, 1, 2, 1, 2]"
      ]
     },
     "execution_count": 121,
     "metadata": {},
     "output_type": "execute_result"
    }
   ],
   "source": [
    "l * 3"
   ]
  },
  {
   "cell_type": "markdown",
   "id": "09502e13",
   "metadata": {
    "slideshow": {
     "slide_type": "slide"
    }
   },
   "source": [
    "### методы"
   ]
  },
  {
   "cell_type": "code",
   "execution_count": 284,
   "id": "842fa994",
   "metadata": {},
   "outputs": [
    {
     "name": "stdout",
     "output_type": "stream",
     "text": [
      "['__add__', '__class__', '__contains__', '__delattr__', '__delitem__', '__dir__', '__doc__', '__eq__', '__format__', '__ge__', '__getattribute__', '__getitem__', '__gt__', '__hash__', '__iadd__', '__imul__', '__init__', '__init_subclass__', '__iter__', '__le__', '__len__', '__lt__', '__mul__', '__ne__', '__new__', '__reduce__', '__reduce_ex__', '__repr__', '__reversed__', '__rmul__', '__setattr__', '__setitem__', '__sizeof__', '__str__', '__subclasshook__', 'append', 'clear', 'copy', 'count', 'extend', 'index', 'insert', 'pop', 'remove', 'reverse', 'sort']\n"
     ]
    },
    {
     "data": {
      "text/plain": [
       "[]"
      ]
     },
     "execution_count": 284,
     "metadata": {},
     "output_type": "execute_result"
    }
   ],
   "source": [
    "# очищает массив inplace\n",
    "print(dir(list))\n",
    "l = [1, 2, 3]\n",
    "l.clear()\n",
    "l"
   ]
  },
  {
   "cell_type": "code",
   "execution_count": 123,
   "id": "f06a4f11",
   "metadata": {},
   "outputs": [
    {
     "data": {
      "text/plain": [
       "[1, 3, 2]"
      ]
     },
     "execution_count": 123,
     "metadata": {},
     "output_type": "execute_result"
    }
   ],
   "source": [
    "# удаляет первый указанный элемент\n",
    "l = [1, 2, 3, 2]\n",
    "l.remove(2)\n",
    "l"
   ]
  },
  {
   "cell_type": "code",
   "execution_count": 124,
   "id": "f254fa20",
   "metadata": {},
   "outputs": [
    {
     "data": {
      "text/plain": [
       "[1, 2, 3, 4]"
      ]
     },
     "execution_count": 124,
     "metadata": {},
     "output_type": "execute_result"
    }
   ],
   "source": [
    "# добавляет элемент в конце списка\n",
    "l = [1, 2, 3]\n",
    "l.append(4)\n",
    "l"
   ]
  },
  {
   "cell_type": "code",
   "execution_count": 286,
   "id": "ca3ebc84",
   "metadata": {},
   "outputs": [
    {
     "data": {
      "text/plain": [
       "[1, 2, 3, 4, 5, [6, 7]]"
      ]
     },
     "execution_count": 286,
     "metadata": {},
     "output_type": "execute_result"
    }
   ],
   "source": [
    "# добавляет элементы в конец списка распаковывая их\n",
    "l = [1, 2, 3]\n",
    "l.extend([4, 5, [6, 7]])\n",
    "l"
   ]
  },
  {
   "cell_type": "code",
   "execution_count": 126,
   "id": "ce8371b8",
   "metadata": {
    "slideshow": {
     "slide_type": "slide"
    }
   },
   "outputs": [
    {
     "data": {
      "text/plain": [
       "[1, 2, 3]"
      ]
     },
     "execution_count": 126,
     "metadata": {},
     "output_type": "execute_result"
    }
   ],
   "source": [
    "l = [2, 3, 1]\n",
    "l.sort()\n",
    "l"
   ]
  },
  {
   "cell_type": "code",
   "execution_count": 127,
   "id": "4a6a171a",
   "metadata": {},
   "outputs": [
    {
     "data": {
      "text/plain": [
       "[3, 2, 1]"
      ]
     },
     "execution_count": 127,
     "metadata": {},
     "output_type": "execute_result"
    }
   ],
   "source": [
    "# сортировка\n",
    "l = [2, 3, 1]\n",
    "l.sort(reverse=True)\n",
    "l"
   ]
  },
  {
   "cell_type": "code",
   "execution_count": 128,
   "id": "c505b181",
   "metadata": {},
   "outputs": [
    {
     "data": {
      "text/plain": [
       "[3, 2, 1]"
      ]
     },
     "execution_count": 128,
     "metadata": {},
     "output_type": "execute_result"
    }
   ],
   "source": [
    "# переворачивает список\n",
    "l = [1, 2, 3]\n",
    "l.reverse()  # можно сделать с помощью l[::-1], в чем разница?\n",
    "l"
   ]
  },
  {
   "cell_type": "code",
   "execution_count": 129,
   "id": "81bcb8d8",
   "metadata": {},
   "outputs": [
    {
     "data": {
      "text/plain": [
       "[1, 2, 3, 4]"
      ]
     },
     "execution_count": 129,
     "metadata": {},
     "output_type": "execute_result"
    }
   ],
   "source": [
    "# вставляет элемент 3 на индекс 2\n",
    "l = [1, 2, 4]\n",
    "l.insert(2, 3)\n",
    "l"
   ]
  },
  {
   "cell_type": "code",
   "execution_count": 130,
   "id": "11a2ef08",
   "metadata": {
    "slideshow": {
     "slide_type": "slide"
    }
   },
   "outputs": [
    {
     "name": "stdout",
     "output_type": "stream",
     "text": [
      "2\n",
      "3\n"
     ]
    }
   ],
   "source": [
    "# показывает количество повторений элемента в списке\n",
    "l = [-1, -2, -2, -3, -3, -3]\n",
    "print(l.count(-2))\n",
    "print(l.count(-3))"
   ]
  },
  {
   "cell_type": "code",
   "execution_count": 300,
   "id": "27a5dcde",
   "metadata": {},
   "outputs": [
    {
     "data": {
      "text/plain": [
       "[1, 2, 3, [...]]"
      ]
     },
     "execution_count": 300,
     "metadata": {},
     "output_type": "execute_result"
    }
   ],
   "source": [
    "# выдает последний элемент, при этом удаляя его из списка\n",
    "l = [1, 2, 3]\n",
    "print(l.pop())\n",
    "print(l)"
   ]
  },
  {
   "cell_type": "code",
   "execution_count": 301,
   "id": "1dc0c709",
   "metadata": {},
   "outputs": [
    {
     "data": {
      "text/plain": [
       "2"
      ]
     },
     "execution_count": 301,
     "metadata": {},
     "output_type": "execute_result"
    }
   ],
   "source": [
    "# возвращает индекс первого встретившегося объекта\n",
    "l = [-1, -2, -3, -2]\n",
    "l.index(-3)"
   ]
  },
  {
   "cell_type": "markdown",
   "id": "f2d2acde",
   "metadata": {},
   "source": [
    "про метод `.copy()` поговорим чуть позже"
   ]
  },
  {
   "cell_type": "code",
   "execution_count": 133,
   "id": "6a7bcfba",
   "metadata": {
    "slideshow": {
     "slide_type": "slide"
    }
   },
   "outputs": [
    {
     "name": "stdout",
     "output_type": "stream",
     "text": [
      "1 2 3\n",
      "1, 2, 3\n"
     ]
    }
   ],
   "source": [
    "# метод строки, но больше про список\n",
    "l = ['1', '2', '3']\n",
    "print(\" \".join(l))\n",
    "print(\", \".join(l))"
   ]
  },
  {
   "cell_type": "code",
   "execution_count": 134,
   "id": "783d7bc2",
   "metadata": {},
   "outputs": [
    {
     "data": {
      "text/plain": [
       "['1', '2', '3']"
      ]
     },
     "execution_count": 134,
     "metadata": {},
     "output_type": "execute_result"
    }
   ],
   "source": [
    "# делит строку по указанному разделителю и возвращает список\n",
    "s = \"1,2,3\"\n",
    "s.split(',')"
   ]
  },
  {
   "cell_type": "markdown",
   "id": "e8ad1f24",
   "metadata": {},
   "source": [
    "### функции для списка"
   ]
  },
  {
   "cell_type": "code",
   "execution_count": 135,
   "id": "8422b72d",
   "metadata": {},
   "outputs": [
    {
     "data": {
      "text/plain": [
       "3"
      ]
     },
     "execution_count": 135,
     "metadata": {},
     "output_type": "execute_result"
    }
   ],
   "source": [
    "l = [2, 3, 1]\n",
    "len(l)"
   ]
  },
  {
   "cell_type": "code",
   "execution_count": 136,
   "id": "38ff363b",
   "metadata": {},
   "outputs": [
    {
     "data": {
      "text/plain": [
       "6"
      ]
     },
     "execution_count": 136,
     "metadata": {},
     "output_type": "execute_result"
    }
   ],
   "source": [
    "sum(l)"
   ]
  },
  {
   "cell_type": "code",
   "execution_count": 137,
   "id": "86e5bdc2",
   "metadata": {},
   "outputs": [
    {
     "data": {
      "text/plain": [
       "[1, 2, 3]"
      ]
     },
     "execution_count": 137,
     "metadata": {},
     "output_type": "execute_result"
    }
   ],
   "source": [
    "sorted(l)"
   ]
  },
  {
   "cell_type": "code",
   "execution_count": 138,
   "id": "6b250516",
   "metadata": {},
   "outputs": [
    {
     "data": {
      "text/plain": [
       "[3, 2, 1]"
      ]
     },
     "execution_count": 138,
     "metadata": {},
     "output_type": "execute_result"
    }
   ],
   "source": [
    "sorted(l, reverse=True)"
   ]
  },
  {
   "cell_type": "markdown",
   "id": "b9991c30",
   "metadata": {
    "slideshow": {
     "slide_type": "slide"
    }
   },
   "source": [
    "### tuple"
   ]
  },
  {
   "cell_type": "markdown",
   "id": "c241841c",
   "metadata": {},
   "source": [
    "Еще одним контейнером данных является кортеж (`tuple`). Чтобы его создать, нужно перечислить объекты через запятую в круглых скобках."
   ]
  },
  {
   "cell_type": "code",
   "execution_count": 302,
   "id": "210b56dc",
   "metadata": {},
   "outputs": [],
   "source": [
    "t = (42, 3.14, \"Python\", False, None)"
   ]
  },
  {
   "cell_type": "code",
   "execution_count": 303,
   "id": "b03c3b40",
   "metadata": {
    "scrolled": true
   },
   "outputs": [
    {
     "name": "stdout",
     "output_type": "stream",
     "text": [
      "<class 'tuple'>\n"
     ]
    }
   ],
   "source": [
    "print(type(t))"
   ]
  },
  {
   "cell_type": "markdown",
   "id": "78c4b0c6",
   "metadata": {},
   "source": [
    "Чтобы создать пустой кортеж, можно воспользоваться одной из двух команд."
   ]
  },
  {
   "cell_type": "code",
   "execution_count": 304,
   "id": "968c4fab",
   "metadata": {},
   "outputs": [],
   "source": [
    "# 1\n",
    "empty_tuple_v1 = ()\n",
    "# 2\n",
    "empty_tuple_v2 = tuple()"
   ]
  },
  {
   "cell_type": "markdown",
   "id": "36a20536",
   "metadata": {
    "slideshow": {
     "slide_type": "slide"
    }
   },
   "source": [
    "Аналогично можно применять функции."
   ]
  },
  {
   "cell_type": "code",
   "execution_count": 142,
   "id": "8296e7fa",
   "metadata": {},
   "outputs": [],
   "source": [
    "t = (2, 3, 1)"
   ]
  },
  {
   "cell_type": "code",
   "execution_count": 143,
   "id": "c3829551",
   "metadata": {},
   "outputs": [
    {
     "data": {
      "text/plain": [
       "3"
      ]
     },
     "execution_count": 143,
     "metadata": {},
     "output_type": "execute_result"
    }
   ],
   "source": [
    "len(t)"
   ]
  },
  {
   "cell_type": "code",
   "execution_count": 144,
   "id": "2ec36a3f",
   "metadata": {},
   "outputs": [
    {
     "data": {
      "text/plain": [
       "6"
      ]
     },
     "execution_count": 144,
     "metadata": {},
     "output_type": "execute_result"
    }
   ],
   "source": [
    "sum(t)"
   ]
  },
  {
   "cell_type": "code",
   "execution_count": 145,
   "id": "6bfc3f56",
   "metadata": {},
   "outputs": [
    {
     "data": {
      "text/plain": [
       "[1, 2, 3]"
      ]
     },
     "execution_count": 145,
     "metadata": {},
     "output_type": "execute_result"
    }
   ],
   "source": [
    "sorted(t)"
   ]
  },
  {
   "cell_type": "markdown",
   "id": "7cb68dfb",
   "metadata": {
    "slideshow": {
     "slide_type": "slide"
    }
   },
   "source": [
    "Мы можем так же обращаться к элементам по индексам."
   ]
  },
  {
   "cell_type": "code",
   "execution_count": 146,
   "id": "3fe0f85f",
   "metadata": {},
   "outputs": [
    {
     "name": "stdout",
     "output_type": "stream",
     "text": [
      "2\n",
      "3\n",
      "(2, 3, 1)\n",
      "(2, 1)\n"
     ]
    }
   ],
   "source": [
    "print(t[0])\n",
    "print(t[-2])\n",
    "print(t[0:3])  # на выходе получаем tuple\n",
    "print(t[0:3:2])  # на выходе получаем tuple"
   ]
  },
  {
   "cell_type": "markdown",
   "id": "55f0e9a7",
   "metadata": {},
   "source": [
    "Но менять элементы мы не можем. Мы еще поговорим об этом при сравнении `tuple` и `list`."
   ]
  },
  {
   "cell_type": "code",
   "execution_count": 147,
   "id": "9587be43",
   "metadata": {},
   "outputs": [
    {
     "ename": "TypeError",
     "evalue": "'tuple' object does not support item assignment",
     "output_type": "error",
     "traceback": [
      "\u001b[0;31m---------------------------------------------------------------------------\u001b[0m",
      "\u001b[0;31mTypeError\u001b[0m                                 Traceback (most recent call last)",
      "Input \u001b[0;32mIn [147]\u001b[0m, in \u001b[0;36m<cell line: 1>\u001b[0;34m()\u001b[0m\n\u001b[0;32m----> 1\u001b[0m t[\u001b[38;5;241m0\u001b[39m] \u001b[38;5;241m=\u001b[39m \u001b[38;5;241m24\u001b[39m\n",
      "\u001b[0;31mTypeError\u001b[0m: 'tuple' object does not support item assignment"
     ]
    }
   ],
   "source": [
    "t[0] = 24"
   ]
  },
  {
   "cell_type": "markdown",
   "id": "1bf49e8b",
   "metadata": {
    "slideshow": {
     "slide_type": "slide"
    }
   },
   "source": [
    "Но методов y `tuple`, не так много."
   ]
  },
  {
   "cell_type": "code",
   "execution_count": 148,
   "id": "f4aebc32",
   "metadata": {},
   "outputs": [
    {
     "name": "stdout",
     "output_type": "stream",
     "text": [
      "['__add__', '__class__', '__contains__', '__delattr__', '__dir__', '__doc__', '__eq__', '__format__', '__ge__', '__getattribute__', '__getitem__', '__getnewargs__', '__gt__', '__hash__', '__init__', '__init_subclass__', '__iter__', '__le__', '__len__', '__lt__', '__mul__', '__ne__', '__new__', '__reduce__', '__reduce_ex__', '__repr__', '__rmul__', '__setattr__', '__sizeof__', '__str__', '__subclasshook__', 'count', 'index']\n"
     ]
    }
   ],
   "source": [
    "print(dir(t))"
   ]
  },
  {
   "cell_type": "code",
   "execution_count": 305,
   "id": "53665260",
   "metadata": {},
   "outputs": [],
   "source": [
    "t = (42, 42, 4, 42, 4, 10)"
   ]
  },
  {
   "cell_type": "code",
   "execution_count": 306,
   "id": "b4beaa51",
   "metadata": {},
   "outputs": [
    {
     "name": "stdout",
     "output_type": "stream",
     "text": [
      "3\n"
     ]
    }
   ],
   "source": [
    "print(t.count(42))  # количество 42 в t"
   ]
  },
  {
   "cell_type": "code",
   "execution_count": 151,
   "id": "eb3dd967",
   "metadata": {
    "slideshow": {
     "slide_type": "slide"
    }
   },
   "outputs": [
    {
     "name": "stdout",
     "output_type": "stream",
     "text": [
      "2\n"
     ]
    }
   ],
   "source": [
    "print(t.index(4))  # индекс первого элемента, который равен 4"
   ]
  },
  {
   "cell_type": "code",
   "execution_count": 152,
   "id": "5789b8a3",
   "metadata": {},
   "outputs": [
    {
     "name": "stdout",
     "output_type": "stream",
     "text": [
      "4\n"
     ]
    }
   ],
   "source": [
    "print(t.index(4, 3))  # индекс первого элемента, который равен 4, при этом поиск идет с 3 индекса"
   ]
  },
  {
   "cell_type": "code",
   "execution_count": 153,
   "id": "518a8e1a",
   "metadata": {
    "scrolled": true
   },
   "outputs": [
    {
     "ename": "ValueError",
     "evalue": "tuple.index(x): x not in tuple",
     "output_type": "error",
     "traceback": [
      "\u001b[0;31m---------------------------------------------------------------------------\u001b[0m",
      "\u001b[0;31mValueError\u001b[0m                                Traceback (most recent call last)",
      "Input \u001b[0;32mIn [153]\u001b[0m, in \u001b[0;36m<cell line: 1>\u001b[0;34m()\u001b[0m\n\u001b[0;32m----> 1\u001b[0m \u001b[38;5;28mprint\u001b[39m(\u001b[43mt\u001b[49m\u001b[38;5;241;43m.\u001b[39;49m\u001b[43mindex\u001b[49m\u001b[43m(\u001b[49m\u001b[38;5;241;43m99\u001b[39;49m\u001b[43m)\u001b[49m)\n",
      "\u001b[0;31mValueError\u001b[0m: tuple.index(x): x not in tuple"
     ]
    }
   ],
   "source": [
    "print(t.index(99))  # ошибка, так как 99 нет в t"
   ]
  },
  {
   "cell_type": "code",
   "execution_count": 307,
   "id": "5226d9d8",
   "metadata": {},
   "outputs": [],
   "source": [
    "game_name = ('Breath', ' ', 'of', ' ', 'the', ' ', 'Wild')\n",
    "game_name = ''.join(game_name)"
   ]
  },
  {
   "cell_type": "markdown",
   "id": "fb13a3e0",
   "metadata": {
    "slideshow": {
     "slide_type": "slide"
    }
   },
   "source": [
    "С кортежами тоже можно выполнять некоторые арифметические операции."
   ]
  },
  {
   "cell_type": "code",
   "execution_count": 155,
   "id": "0cd29a3b",
   "metadata": {},
   "outputs": [],
   "source": [
    "t1 = (1, 2, 3)\n",
    "t2 = (4, 5, 6)"
   ]
  },
  {
   "cell_type": "code",
   "execution_count": 156,
   "id": "189528e8",
   "metadata": {},
   "outputs": [
    {
     "data": {
      "text/plain": [
       "(1, 2, 3, 4, 5, 6)"
      ]
     },
     "execution_count": 156,
     "metadata": {},
     "output_type": "execute_result"
    }
   ],
   "source": [
    "t1 + t2"
   ]
  },
  {
   "cell_type": "code",
   "execution_count": 157,
   "id": "9a562f54",
   "metadata": {},
   "outputs": [
    {
     "data": {
      "text/plain": [
       "(1, 2, 3, 1, 2, 3)"
      ]
     },
     "execution_count": 157,
     "metadata": {},
     "output_type": "execute_result"
    }
   ],
   "source": [
    "t1 * 2"
   ]
  },
  {
   "cell_type": "markdown",
   "id": "017fa39b",
   "metadata": {
    "slideshow": {
     "slide_type": "slide"
    }
   },
   "source": [
    "Кортежи можно создавать и без круглых скобок. Но таким способом лучше пользоваться только в некоторых случаях. Один из них мы рассмотрим при создании собственных функций на второй неделе курса."
   ]
  },
  {
   "cell_type": "code",
   "execution_count": 158,
   "id": "53ec4481",
   "metadata": {
    "scrolled": true
   },
   "outputs": [
    {
     "name": "stdout",
     "output_type": "stream",
     "text": [
      "<class 'tuple'>\n"
     ]
    }
   ],
   "source": [
    "t = 4, 5\n",
    "print(type(t))"
   ]
  },
  {
   "cell_type": "markdown",
   "id": "14805460",
   "metadata": {
    "slideshow": {
     "slide_type": "slide"
    }
   },
   "source": [
    "Будьте аккуратны, когда создаете `tuple` с одним элементом. "
   ]
  },
  {
   "cell_type": "code",
   "execution_count": 159,
   "id": "d61831c9",
   "metadata": {},
   "outputs": [
    {
     "name": "stdout",
     "output_type": "stream",
     "text": [
      "<class 'int'>\n"
     ]
    }
   ],
   "source": [
    "# BAD\n",
    "t = (4)\n",
    "print(type(t))"
   ]
  },
  {
   "cell_type": "code",
   "execution_count": 160,
   "id": "2509be93",
   "metadata": {},
   "outputs": [
    {
     "name": "stdout",
     "output_type": "stream",
     "text": [
      "<class 'tuple'>\n"
     ]
    }
   ],
   "source": [
    "# GOOD\n",
    "t = (4,)\n",
    "print(type(t))"
   ]
  },
  {
   "cell_type": "code",
   "execution_count": 161,
   "id": "9c60b857",
   "metadata": {},
   "outputs": [],
   "source": [
    "x, y = y, x\n",
    "x, y = (y, x)\n",
    "x, _ = y, x\n",
    "x, y = [y, x]"
   ]
  },
  {
   "cell_type": "code",
   "execution_count": 162,
   "id": "b3395d17",
   "metadata": {},
   "outputs": [
    {
     "ename": "SyntaxError",
     "evalue": "invalid syntax (2942466856.py, line 15)",
     "output_type": "error",
     "traceback": [
      "\u001b[0;36m  Input \u001b[0;32mIn [162]\u001b[0;36m\u001b[0m\n\u001b[0;31m    в объекте с которым сравниваем можно задать магический метод, который будет при == будет выдавать True\u001b[0m\n\u001b[0m      ^\u001b[0m\n\u001b[0;31mSyntaxError\u001b[0m\u001b[0;31m:\u001b[0m invalid syntax\n"
     ]
    }
   ],
   "source": [
    "a is b # id(a) == id(b)\n",
    "\n",
    "x = None\n",
    "\n",
    "# BAD\n",
    "x == None\n",
    "\n",
    "# GOOD\n",
    "x is None\n",
    "\n",
    "5 in [10, 20, 30]\n",
    "\n",
    "\"py\" in \"python\"\n",
    "\n",
    "в объекте с которым сравниваем можно задать магический метод, который будет при == будет выдавать True\n",
    "\n",
    "== None vs. is None"
   ]
  },
  {
   "cell_type": "markdown",
   "id": "0a1f7a94",
   "metadata": {
    "slideshow": {
     "slide_type": "slide"
    }
   },
   "source": [
    "### Различия list и tuple"
   ]
  },
  {
   "cell_type": "markdown",
   "id": "dd6545ed",
   "metadata": {},
   "source": [
    "1. mutable/immutable"
   ]
  },
  {
   "cell_type": "code",
   "execution_count": 363,
   "id": "29304597",
   "metadata": {},
   "outputs": [],
   "source": [
    "t = ([1, 2, 3], 34)"
   ]
  },
  {
   "cell_type": "code",
   "execution_count": null,
   "id": "7078a098",
   "metadata": {},
   "outputs": [],
   "source": [
    "from copy import copy, deepcopy\n",
    "\n",
    "\n",
    "t = (42, [2, 3, 4], 5)\n",
    "\n",
    "# сюда же\n",
    "x[:] # срез делает копию объекта"
   ]
  },
  {
   "cell_type": "code",
   "execution_count": 321,
   "id": "c019cee9",
   "metadata": {},
   "outputs": [
    {
     "name": "stdout",
     "output_type": "stream",
     "text": [
      "(1, 2, 3)\n",
      "id:  140399908473728\n",
      "(1, 2, 3, 1, 2, 3)\n",
      "id new t:  140399908800448\n"
     ]
    }
   ],
   "source": [
    "t = (1, 2, 3)\n",
    "print(t)\n",
    "print(\"id: \", id(t))\n",
    "print(t * 2)\n",
    "print(\"id new t: \", id(t * 2))"
   ]
  },
  {
   "cell_type": "code",
   "execution_count": 166,
   "id": "190ccdcd",
   "metadata": {},
   "outputs": [
    {
     "ename": "TypeError",
     "evalue": "'str' object does not support item assignment",
     "output_type": "error",
     "traceback": [
      "\u001b[0;31m---------------------------------------------------------------------------\u001b[0m",
      "\u001b[0;31mTypeError\u001b[0m                                 Traceback (most recent call last)",
      "Input \u001b[0;32mIn [166]\u001b[0m, in \u001b[0;36m<cell line: 2>\u001b[0;34m()\u001b[0m\n\u001b[1;32m      1\u001b[0m s \u001b[38;5;241m=\u001b[39m \u001b[38;5;124m\"\u001b[39m\u001b[38;5;124mWwefa\u001b[39m\u001b[38;5;124m\"\u001b[39m\n\u001b[0;32m----> 2\u001b[0m s[\u001b[38;5;241m2\u001b[39m] \u001b[38;5;241m=\u001b[39m \u001b[38;5;124m'\u001b[39m\u001b[38;5;124m3\u001b[39m\u001b[38;5;124m'\u001b[39m\n",
      "\u001b[0;31mTypeError\u001b[0m: 'str' object does not support item assignment"
     ]
    }
   ],
   "source": [
    "s = \"Wwefa\"\n",
    "s[2] = '3'"
   ]
  },
  {
   "cell_type": "markdown",
   "id": "a7e61ce7",
   "metadata": {
    "slideshow": {
     "slide_type": "slide"
    }
   },
   "source": [
    "2. из первого различия вытекает то, что `tuple` защищен от намеренных или случайных изменений\n",
    "\n",
    "3. память"
   ]
  },
  {
   "cell_type": "code",
   "execution_count": 169,
   "id": "c3dea715",
   "metadata": {},
   "outputs": [
    {
     "data": {
      "text/plain": [
       "48"
      ]
     },
     "execution_count": 169,
     "metadata": {},
     "output_type": "execute_result"
    }
   ],
   "source": [
    "t.__sizeof__()"
   ]
  },
  {
   "cell_type": "code",
   "execution_count": 170,
   "id": "1313fad7",
   "metadata": {},
   "outputs": [
    {
     "name": "stdout",
     "output_type": "stream",
     "text": [
      "120\n",
      "104\n"
     ]
    }
   ],
   "source": [
    "l = [1, 2, 3, 4, 5, 6, 7, 8, 9, 10]\n",
    "t = (1, 2, 3, 4, 5, 6, 7, 8, 9, 10)\n",
    "\n",
    "print(l.__sizeof__())\n",
    "print(t.__sizeof__())"
   ]
  },
  {
   "cell_type": "markdown",
   "id": "760595e6",
   "metadata": {},
   "source": [
    "4. кортежи можно использовать в качестве ключа в словаре (`dict`), так как это imutable объект"
   ]
  },
  {
   "cell_type": "markdown",
   "id": "306d5252",
   "metadata": {
    "slideshow": {
     "slide_type": "slide"
    }
   },
   "source": [
    "Никто не мешает перевести из одного в другое"
   ]
  },
  {
   "cell_type": "code",
   "execution_count": 171,
   "id": "0eb7e0ff",
   "metadata": {
    "scrolled": true
   },
   "outputs": [
    {
     "data": {
      "text/plain": [
       "(1, 2, 3, 4, 5, 6, 7, 8, 9, 10)"
      ]
     },
     "execution_count": 171,
     "metadata": {},
     "output_type": "execute_result"
    }
   ],
   "source": [
    "list(t)\n",
    "tuple(l)"
   ]
  },
  {
   "cell_type": "markdown",
   "id": "involved-accessory",
   "metadata": {},
   "source": [
    "### Списки (`list`)"
   ]
  },
  {
   "cell_type": "markdown",
   "id": "silver-california",
   "metadata": {},
   "source": [
    "Зачастую одного объекта (например, числа) нам бывает маловато. Хочется хранить много объектов в одном. Для этого используются **списки** (иногда называют _массивы_). Хоть список и состоит из нескольких объектов, он сам - это тоже объект! \n",
    "\n",
    "Список задается с помощью квадратных скобок и может хранить в себе объекты разных типов:"
   ]
  },
  {
   "cell_type": "code",
   "execution_count": 7,
   "id": "turkish-walker",
   "metadata": {},
   "outputs": [
    {
     "data": {
      "text/plain": [
       "[10, 5, 3, 'Python', True, False, -100]"
      ]
     },
     "execution_count": 7,
     "metadata": {},
     "output_type": "execute_result"
    }
   ],
   "source": [
    "x = [10, 5, 3, 'Python', True, False, -100]\n",
    "x"
   ]
  },
  {
   "cell_type": "markdown",
   "id": "arranged-visibility",
   "metadata": {},
   "source": [
    "По спискам мы можем делать **срезы** - то есть доставать часть информации"
   ]
  },
  {
   "cell_type": "code",
   "execution_count": 8,
   "id": "fluid-monster",
   "metadata": {},
   "outputs": [
    {
     "data": {
      "text/plain": [
       "10"
      ]
     },
     "execution_count": 8,
     "metadata": {},
     "output_type": "execute_result"
    }
   ],
   "source": [
    "x[0] # первый элемент списка (помним, что счет начинается с нуля!)"
   ]
  },
  {
   "cell_type": "code",
   "execution_count": 9,
   "id": "ambient-cooper",
   "metadata": {},
   "outputs": [
    {
     "data": {
      "text/plain": [
       "-100"
      ]
     },
     "execution_count": 9,
     "metadata": {},
     "output_type": "execute_result"
    }
   ],
   "source": [
    "x[-1] # последний элемент списка"
   ]
  },
  {
   "cell_type": "code",
   "execution_count": 10,
   "id": "amino-significance",
   "metadata": {},
   "outputs": [
    {
     "data": {
      "text/plain": [
       "[3, 'Python']"
      ]
     },
     "execution_count": 10,
     "metadata": {},
     "output_type": "execute_result"
    }
   ],
   "source": [
    "x[2:4] # со 2 по 4 элемент списка (помним, что верхняя граница не включается!)"
   ]
  },
  {
   "cell_type": "code",
   "execution_count": 11,
   "id": "natural-residence",
   "metadata": {},
   "outputs": [
    {
     "data": {
      "text/plain": [
       "[10, 5, 3, 'Python', True, False, -100]"
      ]
     },
     "execution_count": 11,
     "metadata": {},
     "output_type": "execute_result"
    }
   ],
   "source": [
    "x[:] # срез по всем элементам (просто не указываем границы)"
   ]
  },
  {
   "cell_type": "code",
   "execution_count": 12,
   "id": "embedded-timothy",
   "metadata": {},
   "outputs": [
    {
     "data": {
      "text/plain": [
       "False"
      ]
     },
     "execution_count": 12,
     "metadata": {},
     "output_type": "execute_result"
    }
   ],
   "source": [
    "x[:] is x # индексирование создает новый объект"
   ]
  },
  {
   "cell_type": "markdown",
   "id": "flexible-potato",
   "metadata": {},
   "source": [
    "Можем вывести только элементы, стоящие на четных местах в списке. Сделать это можно с помощью указания шага через еще одно двоеточие: "
   ]
  },
  {
   "cell_type": "code",
   "execution_count": 29,
   "id": "inclusive-february",
   "metadata": {},
   "outputs": [
    {
     "data": {
      "text/plain": [
       "[10, 3, True, -100]"
      ]
     },
     "execution_count": 29,
     "metadata": {},
     "output_type": "execute_result"
    }
   ],
   "source": [
    "x[::2]"
   ]
  },
  {
   "cell_type": "markdown",
   "id": "breeding-elevation",
   "metadata": {},
   "source": [
    "Подумайте, как бы вы перевернули список?"
   ]
  },
  {
   "cell_type": "code",
   "execution_count": null,
   "id": "moral-bloom",
   "metadata": {},
   "outputs": [],
   "source": [
    "# Ваш код"
   ]
  },
  {
   "cell_type": "markdown",
   "id": "analyzed-consultancy",
   "metadata": {},
   "source": [
    "**Списки - это итерируемые объекты**. То есть по ним можно пройтись с помощью `for`"
   ]
  },
  {
   "cell_type": "code",
   "execution_count": 34,
   "id": "minimal-telling",
   "metadata": {},
   "outputs": [
    {
     "name": "stdout",
     "output_type": "stream",
     "text": [
      "Квадрат числа 1 равен 1\n",
      "Квадрат числа 100 равен 10000\n",
      "Квадрат числа -1 равен 1\n",
      "Квадрат числа 20 равен 400\n",
      "Квадрат числа 42 равен 1764\n",
      "Квадрат числа 0 равен 0\n"
     ]
    }
   ],
   "source": [
    "x = [1, 100, -1, 20, 42, 0]\n",
    "\n",
    "for item in x:\n",
    "    y = item**2\n",
    "    print(f'Квадрат числа {item} равен {y}')"
   ]
  },
  {
   "cell_type": "markdown",
   "id": "verbal-surgeon",
   "metadata": {},
   "source": [
    "**Полезные функции и методы при работе со списками:**  \n",
    "\n",
    "Функции:\n",
    "* `sum()` - выдает сумму всех элементов списка\n",
    "* `len()` - выдает длину списка (т.е. сколько в нем элементов) \n",
    "* `max()` / `min()` - выдает максимальный / минимальный элемент списка\n",
    "* `sorted()` - сортирует список \n",
    "* ..."
   ]
  },
  {
   "cell_type": "code",
   "execution_count": 7,
   "id": "spatial-creek",
   "metadata": {},
   "outputs": [
    {
     "name": "stdout",
     "output_type": "stream",
     "text": [
      "668\n",
      "\n",
      "7\n",
      "\n",
      "500\n",
      "\n",
      "[-1, 0, 2, 25, 42, 100, 500]\n"
     ]
    }
   ],
   "source": [
    "x = [100, 2, -1, 500, 0, 25, 42]\n",
    "\n",
    "print(sum(x))\n",
    "print()\n",
    "print(len(x))\n",
    "print()\n",
    "print(max(x))\n",
    "print()\n",
    "print(sorted(x))"
   ]
  },
  {
   "cell_type": "markdown",
   "id": "authentic-treasure",
   "metadata": {},
   "source": [
    "По умолчанию функция `sorted()` сортирует список _по возрастанию_. Происходит это потому, что аргумент `reverse` внутри данной функции по умолчанию принимает значение `False`, что и означает, что нужно отсортировать по возрастанию. Такие аргументы (которые принимают по умолчанию какое-то значение) называются **дефолтными**. Они нужны для удобства, чтобы не указывать каждый раз значения для всех аргументов. Так вот, если мы поменяем данный аргумент на `True`, то список начнет сортироваться _по убыванию_. "
   ]
  },
  {
   "cell_type": "code",
   "execution_count": 8,
   "id": "accessible-passion",
   "metadata": {},
   "outputs": [
    {
     "data": {
      "text/plain": [
       "[500, 100, 42, 25, 2, 0, -1]"
      ]
     },
     "execution_count": 8,
     "metadata": {},
     "output_type": "execute_result"
    }
   ],
   "source": [
    "sorted(x, reverse=True)"
   ]
  },
  {
   "cell_type": "markdown",
   "id": "patient-palestine",
   "metadata": {},
   "source": [
    "Методы:  \n",
    "* `.append(x)` - добавляет элемент $x$ в конец списка\n",
    "* `.prepend(x)` - добавляет элемент $x$ в начало списка\n",
    "* `.extend(L)` - расширяет список, добавляя в конец все элементы списка L\n",
    "* `.remove(x)` - удаляет первый элемент в списке, имеющий значение x\n",
    "* `.pop(i)` - удаляет i-ый элемент и возвращает его \n",
    "* `del lst[i]` - удаляет i-ый элемент из списка\n",
    "* `.sort()` - сортирует список\n",
    "* `.reverse()` - разворачивает список\n",
    "\n",
    "Подробнее об отличиях метода от функций мы поговорим чуть позднее, когда будем говорить об ООП. Пока что просто посмотрите, как отличается синтаксис написания функции от метода. **Метод вызывается от объекта через `.`**. Также запомните, что большинство методов **изменяют** объект."
   ]
  },
  {
   "cell_type": "code",
   "execution_count": 9,
   "id": "reduced-melissa",
   "metadata": {},
   "outputs": [
    {
     "name": "stdout",
     "output_type": "stream",
     "text": [
      "[100, 2, -1, 500, 0, 25, 42]\n",
      "[100, 2, -1, 500, 0, 25, 42, 5]\n"
     ]
    }
   ],
   "source": [
    "x = [100, 2, -1, 500, 0, 25, 42]\n",
    "\n",
    "print(x)\n",
    "\n",
    "x.append(5)\n",
    "\n",
    "print(x) # список после метода append изменился"
   ]
  },
  {
   "cell_type": "code",
   "execution_count": 10,
   "id": "minute-multiple",
   "metadata": {},
   "outputs": [
    {
     "name": "stdout",
     "output_type": "stream",
     "text": [
      "[100, 2, -1, 500, 0, 25, 42]\n",
      "[-1, 0, 2, 25, 42, 100, 500]\n"
     ]
    }
   ],
   "source": [
    "x = [100, 2, -1, 500, 0, 25, 42]\n",
    "\n",
    "print(x)\n",
    "\n",
    "x.sort()\n",
    "\n",
    "print(x) # список после метода sort изменился. Для функции sorted это не так"
   ]
  },
  {
   "cell_type": "code",
   "execution_count": 11,
   "id": "russian-spelling",
   "metadata": {
    "scrolled": true
   },
   "outputs": [
    {
     "name": "stdout",
     "output_type": "stream",
     "text": [
      "[100, 2, -1, 500, 0, 25, 42, 0, 0, 0, 1, 1, 0]\n"
     ]
    }
   ],
   "source": [
    "x1 = [100, 2, -1, 500, 0, 25, 42]\n",
    "x2 = [0, 0, 0, 1, 1, 0]\n",
    "\n",
    "x1.extend(x2)\n",
    "\n",
    "print(x1)"
   ]
  }
 ],
 "metadata": {
  "kernelspec": {
   "display_name": "Python 3 (ipykernel)",
   "language": "python",
   "name": "python3"
  },
  "language_info": {
   "codemirror_mode": {
    "name": "ipython",
    "version": 3
   },
   "file_extension": ".py",
   "mimetype": "text/x-python",
   "name": "python",
   "nbconvert_exporter": "python",
   "pygments_lexer": "ipython3",
   "version": "3.9.12"
  }
 },
 "nbformat": 4,
 "nbformat_minor": 5
}
