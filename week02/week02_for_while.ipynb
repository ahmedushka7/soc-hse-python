{
 "cells": [
  {
   "cell_type": "markdown",
   "id": "368ca4d5",
   "metadata": {},
   "source": [
    "### Цикл `for`\n",
    "\n",
    "Представьте, что вас просят прибавить к каждому элементу списка единицу. С текущими знаниями вы бы сделали это так."
   ]
  },
  {
   "cell_type": "code",
   "execution_count": 2,
   "id": "25f9cfde",
   "metadata": {},
   "outputs": [
    {
     "data": {
      "text/plain": [
       "[2, -2, 1, 11, 5]"
      ]
     },
     "execution_count": 2,
     "metadata": {},
     "output_type": "execute_result"
    }
   ],
   "source": [
    "l = [1, -3, 0, 10, 4]\n",
    "\n",
    "l[0] = l[0] + 1  # l[0] += 1\n",
    "l[1] = l[1] + 1\n",
    "l[2] = l[2] + 1\n",
    "l[3] = l[3] + 1\n",
    "l[4] = l[4] + 1\n",
    "l"
   ]
  },
  {
   "cell_type": "markdown",
   "id": "c869c0da",
   "metadata": {},
   "source": [
    "Такой код очень плох, потому что если бы элементов в списке было бы больше, то и кода было бы больше. \n",
    "\n",
    "А также виден паттерн, давайте попробуем его развить. Мы делаем одну и ту же операцию, при этом меняя только индекс."
   ]
  },
  {
   "cell_type": "code",
   "execution_count": 3,
   "id": "331572aa",
   "metadata": {},
   "outputs": [
    {
     "data": {
      "text/plain": [
       "[2, -2, 1, 11, 5]"
      ]
     },
     "execution_count": 3,
     "metadata": {},
     "output_type": "execute_result"
    }
   ],
   "source": [
    "l = [1, -3, 0, 10, 4]\n",
    "\n",
    "i = 0\n",
    "l[i] = l[i] + 1\n",
    "\n",
    "i = 1\n",
    "l[i] = l[i] + 1\n",
    "\n",
    "i = 2\n",
    "l[i] = l[i] + 1\n",
    "\n",
    "i = 3\n",
    "l[i] = l[i] + 1\n",
    "\n",
    "i = 4\n",
    "l[i] = l[i] + 1\n",
    "l"
   ]
  },
  {
   "cell_type": "markdown",
   "id": "cf7b2d32",
   "metadata": {},
   "source": [
    "Абсолютно то же самое сделает цикл `for`. Он пройдется по каждому значению, присвоит его переменной `i` и выполнит код, который находится внутри цикла. "
   ]
  },
  {
   "cell_type": "code",
   "execution_count": 5,
   "id": "3710d82a",
   "metadata": {},
   "outputs": [
    {
     "data": {
      "text/plain": [
       "[2, -2, 1, 11, 5]"
      ]
     },
     "execution_count": 5,
     "metadata": {},
     "output_type": "execute_result"
    }
   ],
   "source": [
    "l = [1, -3, 0, 10, 4]\n",
    "for i in [0, 1, 2, 3, 4]:\n",
    "    l[i] = l[i] + 1\n",
    "    \n",
    "l"
   ]
  },
  {
   "cell_type": "markdown",
   "id": "cd77b230",
   "metadata": {},
   "source": [
    "Условно цикл `for` можно записать следующим образом.\n",
    "\n",
    "```python\n",
    "for var_name in iterable_object:\n",
    "    # loop code\n",
    "```\n",
    "\n",
    "* `var_name` – название переменной, которая будет менять значение\n",
    "* `iterable_object` – упорядоченный объект (например: `list`, `tuple`)\n",
    "* *loop code* – код, который должен выполняться в цикле"
   ]
  },
  {
   "cell_type": "markdown",
   "id": "896569b2",
   "metadata": {
    "slideshow": {
     "slide_type": "slide"
    }
   },
   "source": [
    "### range\n",
    "\n",
    "Вместо того, чтобы перечислять элементы, по которым надо пройтись. Можно делать это с помощью  ~~функции~~ генератора `range`, он похож на `slice`. Понимайте `range` как ленивый список. Чтобы его получить, нужно обернуть в `list`."
   ]
  },
  {
   "cell_type": "code",
   "execution_count": 6,
   "id": "d368167c",
   "metadata": {},
   "outputs": [
    {
     "data": {
      "text/plain": [
       "range(0, 4)"
      ]
     },
     "execution_count": 6,
     "metadata": {},
     "output_type": "execute_result"
    }
   ],
   "source": [
    "range(4)"
   ]
  },
  {
   "cell_type": "code",
   "execution_count": 7,
   "id": "11965837",
   "metadata": {
    "cell_style": "split"
   },
   "outputs": [
    {
     "data": {
      "text/plain": [
       "[0, 1, 2, 3]"
      ]
     },
     "execution_count": 7,
     "metadata": {},
     "output_type": "execute_result"
    }
   ],
   "source": [
    "list(range(4))"
   ]
  },
  {
   "cell_type": "markdown",
   "id": "4a5a6d82",
   "metadata": {},
   "source": [
    "`range` имеет 3 аргумента:\n",
    "\n",
    "* `start` – начальное значение (default: 0)\n",
    "* `end` – конечное значение (обязательный аргумент), при этом это значение не включается\n",
    "* `step` - шаг "
   ]
  },
  {
   "cell_type": "code",
   "execution_count": 11,
   "id": "979e2f5f",
   "metadata": {},
   "outputs": [
    {
     "data": {
      "text/plain": [
       "[0, 1, 2, 3, 4, 5, 6, 7]"
      ]
     },
     "execution_count": 11,
     "metadata": {},
     "output_type": "execute_result"
    }
   ],
   "source": [
    "# задан end\n",
    "list(range(8))"
   ]
  },
  {
   "cell_type": "code",
   "execution_count": 12,
   "id": "e9840402",
   "metadata": {},
   "outputs": [
    {
     "data": {
      "text/plain": [
       "[2, 3, 4, 5, 6, 7]"
      ]
     },
     "execution_count": 12,
     "metadata": {},
     "output_type": "execute_result"
    }
   ],
   "source": [
    "# задан start и end\n",
    "list(range(2, 8))"
   ]
  },
  {
   "cell_type": "code",
   "execution_count": 14,
   "id": "1e25102c",
   "metadata": {
    "cell_style": "split",
    "scrolled": false
   },
   "outputs": [
    {
     "data": {
      "text/plain": [
       "[2, 5]"
      ]
     },
     "execution_count": 14,
     "metadata": {},
     "output_type": "execute_result"
    }
   ],
   "source": [
    "# задан start, end и step\n",
    "list(range(2, 8, 3))"
   ]
  },
  {
   "cell_type": "code",
   "execution_count": 15,
   "id": "54b8d2c7",
   "metadata": {
    "cell_style": "split"
   },
   "outputs": [
    {
     "name": "stdout",
     "output_type": "stream",
     "text": [
      "0\n",
      "1\n",
      "2\n",
      "3\n"
     ]
    }
   ],
   "source": [
    "for i in range(4):\n",
    "    print(i)"
   ]
  },
  {
   "cell_type": "code",
   "execution_count": 16,
   "id": "5f321598",
   "metadata": {
    "cell_style": "split"
   },
   "outputs": [
    {
     "name": "stdout",
     "output_type": "stream",
     "text": [
      "2\n",
      "4\n",
      "6\n",
      "8\n"
     ]
    }
   ],
   "source": [
    "for i in range(2, 10, 2):\n",
    "    print(i)"
   ]
  },
  {
   "cell_type": "markdown",
   "id": "081448bf",
   "metadata": {
    "slideshow": {
     "slide_type": "slide"
    }
   },
   "source": [
    "### break\n",
    "\n",
    "Оператор `break` может прервать цикл, в котором он находится. Если у вас есть 2 цикла `for`, вложенных друг в друга, то прекратится только внутренний."
   ]
  },
  {
   "cell_type": "code",
   "execution_count": 198,
   "id": "a7de470b",
   "metadata": {},
   "outputs": [
    {
     "data": {
      "text/plain": [
       "[2, 451, 3, 6, 0, 7, -4]"
      ]
     },
     "execution_count": 198,
     "metadata": {},
     "output_type": "execute_result"
    }
   ],
   "source": [
    "l = [1, 450, 2, 6, 0, 7, -4]\n",
    "for i in range(len(l)):\n",
    "    if l[i] == 6:\n",
    "        break\n",
    "    l[i] += 1\n",
    "l"
   ]
  },
  {
   "cell_type": "markdown",
   "id": "a4db7a04",
   "metadata": {
    "slideshow": {
     "slide_type": "slide"
    }
   },
   "source": [
    "### continue\n",
    "\n",
    "Иногда нам нужно пропустить какую-то итерацию и перейти к следующей. В этом нам поможет `continue`."
   ]
  },
  {
   "cell_type": "code",
   "execution_count": 14,
   "id": "9cc9c442",
   "metadata": {},
   "outputs": [
    {
     "data": {
      "text/plain": [
       "[2, 451, 3, 6, 1, 8, -3]"
      ]
     },
     "execution_count": 14,
     "metadata": {},
     "output_type": "execute_result"
    }
   ],
   "source": [
    "l = [1, 450, 2, 6, 0, 7, -4]\n",
    "for i in range(len(l)):\n",
    "    if l[i] == 6:\n",
    "        continue\n",
    "    l[i] += 1\n",
    "\n",
    "l"
   ]
  },
  {
   "cell_type": "markdown",
   "id": "ae8dfe00",
   "metadata": {
    "slideshow": {
     "slide_type": "slide"
    }
   },
   "source": [
    "### while = for + if\n",
    "\n",
    "```python\n",
    "while condition:\n",
    "    # code\n",
    "```"
   ]
  },
  {
   "cell_type": "code",
   "execution_count": 15,
   "id": "491c969e",
   "metadata": {},
   "outputs": [
    {
     "name": "stdout",
     "output_type": "stream",
     "text": [
      "1\n",
      "2\n",
      "3\n",
      "4\n"
     ]
    }
   ],
   "source": [
    "a = 1\n",
    "\n",
    "while a < 5:\n",
    "    print(a)\n",
    "    a += 1"
   ]
  },
  {
   "cell_type": "markdown",
   "id": "3e9dcbfb",
   "metadata": {
    "slideshow": {
     "slide_type": "slide"
    }
   },
   "source": [
    "### list comprehension \n",
    "\n",
    "Чтобы сгенерировать список вы можете использовать list comprehension."
   ]
  },
  {
   "cell_type": "code",
   "execution_count": 7,
   "id": "360c1044",
   "metadata": {},
   "outputs": [
    {
     "data": {
      "text/plain": [
       "[0, 1, 4, 9, 16, 25, 36, 49, 64, 81]"
      ]
     },
     "execution_count": 7,
     "metadata": {},
     "output_type": "execute_result"
    }
   ],
   "source": [
    "# BAD\n",
    "l = []\n",
    "for i in range(10):\n",
    "    l.append(i**2)\n",
    "l"
   ]
  },
  {
   "cell_type": "code",
   "execution_count": 8,
   "id": "99cad71e",
   "metadata": {
    "scrolled": true
   },
   "outputs": [
    {
     "data": {
      "text/plain": [
       "[0, 1, 4, 9, 16, 25, 36, 49, 64, 81]"
      ]
     },
     "execution_count": 8,
     "metadata": {},
     "output_type": "execute_result"
    }
   ],
   "source": [
    "# GOOD\n",
    "m = [i**2 for i in range(10)]\n",
    "m"
   ]
  },
  {
   "cell_type": "code",
   "execution_count": 10,
   "id": "0e6bc61b",
   "metadata": {
    "slideshow": {
     "slide_type": "slide"
    }
   },
   "outputs": [
    {
     "data": {
      "text/plain": [
       "[1, 9, 25, 49, 81]"
      ]
     },
     "execution_count": 10,
     "metadata": {},
     "output_type": "execute_result"
    }
   ],
   "source": [
    "# BAD\n",
    "l = []\n",
    "for i in range(10):\n",
    "    if i % 2:\n",
    "        l.append(i**2)\n",
    "l"
   ]
  },
  {
   "cell_type": "code",
   "execution_count": 14,
   "id": "5a65681d",
   "metadata": {},
   "outputs": [
    {
     "data": {
      "text/plain": [
       "[1, 9, 25, 49, 81]"
      ]
     },
     "execution_count": 14,
     "metadata": {},
     "output_type": "execute_result"
    }
   ],
   "source": [
    "# GOOD\n",
    "m = [i**2 for i in range(10) if i % 2]\n",
    "m"
   ]
  },
  {
   "cell_type": "code",
   "execution_count": 15,
   "id": "246570c6",
   "metadata": {},
   "outputs": [
    {
     "data": {
      "text/plain": [
       "[0, 1, 2, 9, 4, 25, 6, 49, 8, 81]"
      ]
     },
     "execution_count": 15,
     "metadata": {},
     "output_type": "execute_result"
    }
   ],
   "source": [
    "# GOOD\n",
    "m = [i**2 if i % 2 else i for i in range(10)]\n",
    "m"
   ]
  }
 ],
 "metadata": {
  "kernelspec": {
   "display_name": "Python 3 (ipykernel)",
   "language": "python",
   "name": "python3"
  },
  "language_info": {
   "codemirror_mode": {
    "name": "ipython",
    "version": 3
   },
   "file_extension": ".py",
   "mimetype": "text/x-python",
   "name": "python",
   "nbconvert_exporter": "python",
   "pygments_lexer": "ipython3",
   "version": "3.9.12"
  }
 },
 "nbformat": 4,
 "nbformat_minor": 5
}
