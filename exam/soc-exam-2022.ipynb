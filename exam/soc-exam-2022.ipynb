{
 "cells": [
  {
   "cell_type": "code",
   "execution_count": 12,
   "metadata": {},
   "outputs": [],
   "source": [
    "import numpy as np         # библиотека для матриц и математики\n",
    "import pandas as pd        # библиотека для работы с табличками\n",
    "\n",
    "from scipy import stats as sts \n",
    "\n",
    "# библиотеки для визуализации\n",
    "import matplotlib.pyplot as plt\n",
    "import seaborn as sns\n",
    "\n",
    "plt.style.use('ggplot')\n",
    "%matplotlib inline \n",
    "\n",
    "import warnings\n",
    "warnings.filterwarnings('ignore')"
   ]
  },
  {
   "cell_type": "markdown",
   "metadata": {},
   "source": [
    "## Статистические методы анализа данных в Python\n",
    "\n",
    "## Экзамен "
   ]
  },
  {
   "cell_type": "markdown",
   "metadata": {},
   "source": [
    "**Правила игры:**\n",
    "\n",
    "1. У вас есть 1 час 20 минут на выполнение работы.\n",
    "2. Разрешено пользоваться всеми материалами с семинаров, но запрещено сторонними ресурсами и чужой помощью.\n",
    "3. Работы отправлять на почту student.studentsky@yandex.ru\n",
    "4. При проверке гипотез __запрещено__ пользоваться встроенными функциями, выполняющими тест.\n",
    "\n",
    "\n",
    "**Описание данных:**\n",
    "\n",
    "У вас есть набор данных об оценках студентов на экзамене. Каждая строка в датасете – отдельный студент. Датасет представляет собой следующие колонки:\n",
    "\n",
    "* `gender` – пол\n",
    "* `race/ethnicity` – раса / этническая принадлежность\n",
    "* `parental level of education` – уровень образования\n",
    "* `lunch` – получает ли бесплатные обеды (тип питания)\n",
    "* `test preparation course` – прошел ли курсы по подготовке к тесту\n",
    "* `math score` – баллы за математику\n",
    "* `reading score` – баллы за чтение\n",
    "* `writing score` – баллы за письменность"
   ]
  },
  {
   "cell_type": "code",
   "execution_count": 2,
   "metadata": {},
   "outputs": [],
   "source": [
    "df = pd.read_csv('../data/students_exam.csv')"
   ]
  },
  {
   "cell_type": "markdown",
   "metadata": {},
   "source": [
    "### Задача №1 (10 баллов)\n",
    "\n",
    "Посмотрите на ваши данные. Сколько у вас наблюдений? Какие типы данных у колонок?"
   ]
  },
  {
   "cell_type": "code",
   "execution_count": 6,
   "metadata": {},
   "outputs": [],
   "source": [
    "## Ваш код"
   ]
  },
  {
   "cell_type": "markdown",
   "metadata": {},
   "source": [
    "### Задача №2 (20 баллов)\n",
    "\n",
    "Постройте графики распределения колонок `math score` / `reading score` / `writing score`. Что вы можете сказать об их распределении?"
   ]
  },
  {
   "cell_type": "code",
   "execution_count": 7,
   "metadata": {},
   "outputs": [],
   "source": [
    "## Ваш код"
   ]
  },
  {
   "cell_type": "markdown",
   "metadata": {},
   "source": [
    "### Задача №3 (20 баллов)\n",
    "\n",
    "Посчитайте для каждого уровня образования (`parental level of education`) среднее кол-во баллов по каждому предмету и отсортируйте наблюдений по этому среднему. Сделайте вывод. "
   ]
  },
  {
   "cell_type": "code",
   "execution_count": 9,
   "metadata": {},
   "outputs": [],
   "source": [
    "## Ваш код"
   ]
  },
  {
   "cell_type": "markdown",
   "metadata": {},
   "source": [
    "### Задача №4 (25 баллов)\n",
    "\n",
    "Проверьте гипотезу о том, что студенты, получившие высшее образование (associate's degree, bachelor's degree, master's degree) в среднем пишут математику на большее число баллов, чем студенты со средним образованием (high school, some high school, some college). \n",
    "\n",
    "Уровень значимости: $5\\%$\n",
    "\n",
    "$$\n",
    "\\begin{aligned}\n",
    "& H_0: \\mu_{high} = \\mu_{middle} \\\\\n",
    "& H_1: \\mu_{high} > \\mu_{middle}\n",
    "\\end{aligned}\n",
    "$$\n",
    "\n",
    "__Подсказка:__ В тесте 2 выборки: студенты с высшим образованием и со средним. Подумайте о том, как эти выборки связаны между собой. Также обратите внимание на альтернативную гипотезу!"
   ]
  },
  {
   "cell_type": "code",
   "execution_count": 8,
   "metadata": {},
   "outputs": [],
   "source": [
    "## Ваш код"
   ]
  },
  {
   "cell_type": "markdown",
   "metadata": {},
   "source": [
    "### Задача №5 (25 баллов)\n",
    "\n",
    "Правда ли что в среднем студенты пишут экзамен по `reading` так же, как и по `math`? \n",
    "\n",
    "Уровень значимости: $5\\%$\n",
    "\n",
    "$$\n",
    "\\begin{aligned}\n",
    "& H_0: \\mu_{math} = \\mu_{reading} \\\\\n",
    "& H_1: \\mu_{math} \\neq \\mu_{reading}\n",
    "\\end{aligned}\n",
    "$$\n",
    "\n",
    "__Подсказка:__ В тесте 2 выборки: баллы по чтению и баллы по математике. Подумайте о том, как эти выборки связаны между собой. Также обратите внимание на альтернативную гипотезу!"
   ]
  },
  {
   "cell_type": "code",
   "execution_count": null,
   "metadata": {},
   "outputs": [],
   "source": [
    "## Ваш код"
   ]
  }
 ],
 "metadata": {
  "kernelspec": {
   "display_name": "Python 3",
   "language": "python",
   "name": "python3"
  },
  "language_info": {
   "codemirror_mode": {
    "name": "ipython",
    "version": 3
   },
   "file_extension": ".py",
   "mimetype": "text/x-python",
   "name": "python",
   "nbconvert_exporter": "python",
   "pygments_lexer": "ipython3",
   "version": "3.8.5"
  }
 },
 "nbformat": 4,
 "nbformat_minor": 4
}
