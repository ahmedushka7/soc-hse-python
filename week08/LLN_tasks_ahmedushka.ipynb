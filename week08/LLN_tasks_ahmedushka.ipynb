{
 "cells": [
  {
   "cell_type": "markdown",
   "metadata": {},
   "source": [
    "## Больше задач на ЗБЧ"
   ]
  },
  {
   "cell_type": "code",
   "execution_count": 1,
   "metadata": {},
   "outputs": [],
   "source": [
    "import pandas as pd\n",
    "import numpy as np\n",
    "import scipy.stats as sts"
   ]
  },
  {
   "cell_type": "markdown",
   "metadata": {},
   "source": [
    "## 1. Ямете Кудасай\n",
    "\n",
    "Ахмед очень любит аниме \"Наруто\" и постоянно пересматривает его. Кол-во серий, которое Ахмед смотрит в день имеет распределение Пуассона с параметром $\\lambda = 10$. Ахмед смотрел Наруто целый год и собрал выборку из $365$ наблюдений. Сгенерируйте эту выборку, а затем найдите мат. ожидание и дисперсию."
   ]
  },
  {
   "cell_type": "code",
   "execution_count": 30,
   "metadata": {},
   "outputs": [],
   "source": [
    "l = 10\n",
    "\n",
    "generator = sts.poisson(l)\n",
    "year_seen = generator.rvs(365)"
   ]
  },
  {
   "cell_type": "code",
   "execution_count": 31,
   "metadata": {},
   "outputs": [
    {
     "data": {
      "text/plain": [
       "10.24931506849315"
      ]
     },
     "execution_count": 31,
     "metadata": {},
     "output_type": "execute_result"
    }
   ],
   "source": [
    "np.mean(year_seen)"
   ]
  },
  {
   "cell_type": "code",
   "execution_count": 28,
   "metadata": {},
   "outputs": [
    {
     "data": {
      "text/plain": [
       "9.532099831112777"
      ]
     },
     "execution_count": 28,
     "metadata": {},
     "output_type": "execute_result"
    }
   ],
   "source": [
    "np.var(year_seen)"
   ]
  },
  {
   "cell_type": "code",
   "execution_count": 29,
   "metadata": {},
   "outputs": [
    {
     "data": {
      "text/plain": [
       "3.0874098903632436"
      ]
     },
     "execution_count": 29,
     "metadata": {},
     "output_type": "execute_result"
    }
   ],
   "source": [
    "# стандратное отклонение\n",
    "np.std(year_seen)"
   ]
  },
  {
   "cell_type": "markdown",
   "metadata": {},
   "source": [
    "## 2. Выпечка\n",
    "\n",
    "Каждый день Иннокентий съедает случайное количество булочек, которое распределено по Пуассону с параметром $\\lambda = 10$. Затраты в рублях на каждую булочку распределены нормально $\\mathcal{N}(2,1)$. Ксюша каждый день съедает биномиальное количество булочек $Bin(8, 0.5)$. Затраты Ксюши на каждую булочку распределены равномерно на отрезке $U[2; 20]$.\n",
    "\n",
    "а) Сколько в среднем Иннокентий тратит на булочки за день?  \n",
    "б) Чему равна дисперсия дневных расходов Иннокентия?  \n",
    "в) Какова вероятность того, что за один день Иннокентий потратит больше денег, чем Ксюша?"
   ]
  },
  {
   "cell_type": "code",
   "execution_count": 34,
   "metadata": {},
   "outputs": [],
   "source": [
    "ino_bul_gen = sts.poisson(10)\n",
    "ino_price_gen = sts.norm(2, 1)"
   ]
  },
  {
   "cell_type": "code",
   "execution_count": 37,
   "metadata": {},
   "outputs": [],
   "source": [
    "days = 365\n",
    "\n",
    "ino_bul = ino_bul_gen.rvs(days)\n",
    "ino_price = ino_price_gen.rvs(days)"
   ]
  },
  {
   "cell_type": "code",
   "execution_count": 54,
   "metadata": {},
   "outputs": [
    {
     "data": {
      "text/plain": [
       "19.17780792524565"
      ]
     },
     "execution_count": 54,
     "metadata": {},
     "output_type": "execute_result"
    }
   ],
   "source": [
    "ino_total = np.mean(ino_bul * ino_price)\n",
    "ino_total"
   ]
  },
  {
   "cell_type": "code",
   "execution_count": 55,
   "metadata": {},
   "outputs": [
    {
     "data": {
      "text/plain": [
       "142.21303609201127"
      ]
     },
     "execution_count": 55,
     "metadata": {},
     "output_type": "execute_result"
    }
   ],
   "source": [
    "np.var(ino_bul * ino_price)"
   ]
  },
  {
   "cell_type": "code",
   "execution_count": 56,
   "metadata": {},
   "outputs": [
    {
     "data": {
      "text/plain": [
       "11.925310733562092"
      ]
     },
     "execution_count": 56,
     "metadata": {},
     "output_type": "execute_result"
    }
   ],
   "source": [
    "np.std(ino_bul * ino_price)"
   ]
  },
  {
   "cell_type": "code",
   "execution_count": 91,
   "metadata": {},
   "outputs": [],
   "source": [
    "ino_bul_gen = sts.poisson(10)\n",
    "ino_price_gen = sts.norm(2, 1)\n",
    "ksu_bul_gen = sts.binom(8, 0.5)\n",
    "ksu_price_gen = sts.uniform(2, 18)  # 2 + 18 = 20\n",
    "# [loc, loc + scale]\n",
    "# [2, 2 + 18]\n",
    "# [2, 20]"
   ]
  },
  {
   "cell_type": "code",
   "execution_count": 92,
   "metadata": {},
   "outputs": [],
   "source": [
    "days = 10000\n",
    "\n",
    "ino_bul = ino_bul_gen.rvs(days)\n",
    "ino_price = ino_price_gen.rvs(days)\n",
    "\n",
    "ksu_bul = ksu_bul_gen.rvs(days)\n",
    "ksu_price = ksu_price_gen.rvs(days)\n",
    "\n",
    "ino_total = ino_bul * ino_price\n",
    "ksu_total = ksu_bul * ksu_price"
   ]
  },
  {
   "cell_type": "code",
   "execution_count": 93,
   "metadata": {},
   "outputs": [
    {
     "data": {
      "text/plain": [
       "array([10.8294815 , 14.60582992, 36.30829493, 44.07814347, 18.3273283 ])"
      ]
     },
     "execution_count": 93,
     "metadata": {},
     "output_type": "execute_result"
    }
   ],
   "source": [
    "ino_total[:5]"
   ]
  },
  {
   "cell_type": "code",
   "execution_count": 94,
   "metadata": {},
   "outputs": [
    {
     "data": {
      "text/plain": [
       "array([57.49360602, 60.64060505, 66.23934008, 20.68927113, 41.22776677])"
      ]
     },
     "execution_count": 94,
     "metadata": {},
     "output_type": "execute_result"
    }
   ],
   "source": [
    "ksu_total[:5]"
   ]
  },
  {
   "cell_type": "code",
   "execution_count": 95,
   "metadata": {},
   "outputs": [
    {
     "data": {
      "text/plain": [
       "0.2211"
      ]
     },
     "execution_count": 95,
     "metadata": {},
     "output_type": "execute_result"
    }
   ],
   "source": [
    "np.mean(ino_total > ksu_total)"
   ]
  },
  {
   "cell_type": "markdown",
   "metadata": {},
   "source": [
    "## 3. Поиск вероятности\n",
    "\n",
    "Пусть у вас есть $X_1, X_2, X_3$ случайные величины, которые независимы и одинаково равномерно распределены $X_i \\sim U[0;2]$. Оцените следующие вероятности: \n",
    "\n",
    "1. $P(X_1 + X_2 + X_3^2 > 5)$\n",
    "2. $P(X_1 + X_2 + X_3 > 0.8 \\mid X_3 < 0.1)$"
   ]
  },
  {
   "cell_type": "code",
   "execution_count": 6,
   "metadata": {},
   "outputs": [],
   "source": [
    "## Ваш код"
   ]
  },
  {
   "cell_type": "markdown",
   "metadata": {},
   "source": [
    "## 4. Джеймс. Леброн Джеймс.\n"
   ]
  },
  {
   "cell_type": "code",
   "execution_count": null,
   "metadata": {},
   "outputs": [],
   "source": []
  },
  {
   "cell_type": "markdown",
   "metadata": {},
   "source": [
    "## 5. Парадокс дней рождений\n",
    "\n",
    "__Парадокс дней рождений:__ в произвольной группе из $50$ человек вероятность того, что хотябы у двоих людей дни рождения совпадут, равна $0.97$. Но это в теории, при предпосылке, что люди равномерно рождаются в течение года. Давайте проверим это. \n",
    "\n",
    "В табличке `bdates.tsv` лежит информация о $1$ млн. пользователей из вконтакте. В табличке можно найти данные о имени пользователя `first_name`, его поле `sex`, городе проживания `city`, дне `bdate`, месяце `bmonth` и годе `byear` рождения."
   ]
  },
  {
   "cell_type": "code",
   "execution_count": 96,
   "metadata": {},
   "outputs": [
    {
     "name": "stdout",
     "output_type": "stream",
     "text": [
      "(1000000, 7)\n"
     ]
    },
    {
     "data": {
      "text/html": [
       "<div>\n",
       "<style scoped>\n",
       "    .dataframe tbody tr th:only-of-type {\n",
       "        vertical-align: middle;\n",
       "    }\n",
       "\n",
       "    .dataframe tbody tr th {\n",
       "        vertical-align: top;\n",
       "    }\n",
       "\n",
       "    .dataframe thead th {\n",
       "        text-align: right;\n",
       "    }\n",
       "</style>\n",
       "<table border=\"1\" class=\"dataframe\">\n",
       "  <thead>\n",
       "    <tr style=\"text-align: right;\">\n",
       "      <th></th>\n",
       "      <th>city</th>\n",
       "      <th>first_name</th>\n",
       "      <th>id</th>\n",
       "      <th>sex</th>\n",
       "      <th>byear</th>\n",
       "      <th>bmonth</th>\n",
       "      <th>bday</th>\n",
       "    </tr>\n",
       "  </thead>\n",
       "  <tbody>\n",
       "    <tr>\n",
       "      <th>0</th>\n",
       "      <td>Севастополь</td>\n",
       "      <td>Галина</td>\n",
       "      <td>268520763</td>\n",
       "      <td>1</td>\n",
       "      <td>1955</td>\n",
       "      <td>2</td>\n",
       "      <td>4</td>\n",
       "    </tr>\n",
       "    <tr>\n",
       "      <th>1</th>\n",
       "      <td>Новороссийск</td>\n",
       "      <td>Маша</td>\n",
       "      <td>386703913</td>\n",
       "      <td>1</td>\n",
       "      <td>2002</td>\n",
       "      <td>7</td>\n",
       "      <td>10</td>\n",
       "    </tr>\n",
       "    <tr>\n",
       "      <th>2</th>\n",
       "      <td>Нижний Новгород</td>\n",
       "      <td>Екатерина</td>\n",
       "      <td>250291860</td>\n",
       "      <td>1</td>\n",
       "      <td>&lt;NA&gt;</td>\n",
       "      <td>&lt;NA&gt;</td>\n",
       "      <td>&lt;NA&gt;</td>\n",
       "    </tr>\n",
       "    <tr>\n",
       "      <th>3</th>\n",
       "      <td>Турсунзаде</td>\n",
       "      <td>Μαχμυδσθδ</td>\n",
       "      <td>384274806</td>\n",
       "      <td>2</td>\n",
       "      <td>&lt;NA&gt;</td>\n",
       "      <td>&lt;NA&gt;</td>\n",
       "      <td>&lt;NA&gt;</td>\n",
       "    </tr>\n",
       "    <tr>\n",
       "      <th>4</th>\n",
       "      <td>NaN</td>\n",
       "      <td>Bekzod</td>\n",
       "      <td>366702299</td>\n",
       "      <td>2</td>\n",
       "      <td>&lt;NA&gt;</td>\n",
       "      <td>&lt;NA&gt;</td>\n",
       "      <td>&lt;NA&gt;</td>\n",
       "    </tr>\n",
       "  </tbody>\n",
       "</table>\n",
       "</div>"
      ],
      "text/plain": [
       "              city first_name         id  sex  byear  bmonth  bday\n",
       "0      Севастополь     Галина  268520763    1   1955       2     4\n",
       "1     Новороссийск       Маша  386703913    1   2002       7    10\n",
       "2  Нижний Новгород  Екатерина  250291860    1   <NA>    <NA>  <NA>\n",
       "3       Турсунзаде  Μαχμυδσθδ  384274806    2   <NA>    <NA>  <NA>\n",
       "4              NaN     Bekzod  366702299    2   <NA>    <NA>  <NA>"
      ]
     },
     "execution_count": 96,
     "metadata": {},
     "output_type": "execute_result"
    }
   ],
   "source": [
    "df = pd.read_csv(\"data/vk_bdate.tsv\", sep=\"\\t\", \n",
    "                 dtype={'byear': pd.Int64Dtype(), \n",
    "                        'bmonth': pd.Int64Dtype(), \n",
    "                         'bday': pd.Int64Dtype()}\n",
    "                )\n",
    "print(df.shape)\n",
    "df.head()"
   ]
  },
  {
   "cell_type": "code",
   "execution_count": 99,
   "metadata": {},
   "outputs": [
    {
     "data": {
      "text/plain": [
       "city          245482\n",
       "first_name         0\n",
       "id                 0\n",
       "sex                0\n",
       "byear         558800\n",
       "bmonth        305245\n",
       "bday          305245\n",
       "dtype: int64"
      ]
     },
     "execution_count": 99,
     "metadata": {},
     "output_type": "execute_result"
    }
   ],
   "source": [
    "df.isnull().sum()"
   ]
  },
  {
   "cell_type": "code",
   "execution_count": 103,
   "metadata": {},
   "outputs": [],
   "source": [
    "need_df = df[['bmonth', 'bday']]\n",
    "need_df = need_df.dropna()"
   ]
  },
  {
   "cell_type": "code",
   "execution_count": 112,
   "metadata": {},
   "outputs": [
    {
     "data": {
      "text/html": [
       "<div>\n",
       "<style scoped>\n",
       "    .dataframe tbody tr th:only-of-type {\n",
       "        vertical-align: middle;\n",
       "    }\n",
       "\n",
       "    .dataframe tbody tr th {\n",
       "        vertical-align: top;\n",
       "    }\n",
       "\n",
       "    .dataframe thead th {\n",
       "        text-align: right;\n",
       "    }\n",
       "</style>\n",
       "<table border=\"1\" class=\"dataframe\">\n",
       "  <thead>\n",
       "    <tr style=\"text-align: right;\">\n",
       "      <th></th>\n",
       "      <th>bmonth</th>\n",
       "      <th>bday</th>\n",
       "    </tr>\n",
       "  </thead>\n",
       "  <tbody>\n",
       "    <tr>\n",
       "      <th>0</th>\n",
       "      <td>2</td>\n",
       "      <td>4</td>\n",
       "    </tr>\n",
       "    <tr>\n",
       "      <th>1</th>\n",
       "      <td>7</td>\n",
       "      <td>10</td>\n",
       "    </tr>\n",
       "    <tr>\n",
       "      <th>6</th>\n",
       "      <td>12</td>\n",
       "      <td>21</td>\n",
       "    </tr>\n",
       "    <tr>\n",
       "      <th>8</th>\n",
       "      <td>3</td>\n",
       "      <td>8</td>\n",
       "    </tr>\n",
       "    <tr>\n",
       "      <th>9</th>\n",
       "      <td>12</td>\n",
       "      <td>14</td>\n",
       "    </tr>\n",
       "  </tbody>\n",
       "</table>\n",
       "</div>"
      ],
      "text/plain": [
       "   bmonth  bday\n",
       "0       2     4\n",
       "1       7    10\n",
       "6      12    21\n",
       "8       3     8\n",
       "9      12    14"
      ]
     },
     "execution_count": 112,
     "metadata": {},
     "output_type": "execute_result"
    }
   ],
   "source": [
    "need_df.head()"
   ]
  },
  {
   "cell_type": "code",
   "execution_count": 165,
   "metadata": {},
   "outputs": [],
   "source": [
    "def one_group():\n",
    "    sample_df = need_df.sample(n=50)\n",
    "\n",
    "    agg_sample_df = (\n",
    "        sample_df\n",
    "        .groupby(['bmonth', 'bday'])\n",
    "        .size()\n",
    "        .reset_index()\n",
    "    )\n",
    "\n",
    "    result = agg_sample_df[0].max() > 1\n",
    "    return result"
   ]
  },
  {
   "cell_type": "code",
   "execution_count": 168,
   "metadata": {},
   "outputs": [],
   "source": [
    "N = 1_000\n",
    "result = []\n",
    "\n",
    "for i in range(N):\n",
    "    result.append(one_group())"
   ]
  },
  {
   "cell_type": "code",
   "execution_count": 170,
   "metadata": {},
   "outputs": [
    {
     "data": {
      "text/plain": [
       "0.972"
      ]
     },
     "execution_count": 170,
     "metadata": {},
     "output_type": "execute_result"
    }
   ],
   "source": [
    "np.mean(result)"
   ]
  },
  {
   "cell_type": "code",
   "execution_count": 175,
   "metadata": {},
   "outputs": [],
   "source": [
    "need_df['concat'] = need_df['bmonth'].astype(str) + '-' + need_df['bday'].astype(str)"
   ]
  },
  {
   "cell_type": "code",
   "execution_count": 181,
   "metadata": {},
   "outputs": [
    {
     "data": {
      "text/html": [
       "<div>\n",
       "<style scoped>\n",
       "    .dataframe tbody tr th:only-of-type {\n",
       "        vertical-align: middle;\n",
       "    }\n",
       "\n",
       "    .dataframe tbody tr th {\n",
       "        vertical-align: top;\n",
       "    }\n",
       "\n",
       "    .dataframe thead th {\n",
       "        text-align: right;\n",
       "    }\n",
       "</style>\n",
       "<table border=\"1\" class=\"dataframe\">\n",
       "  <thead>\n",
       "    <tr style=\"text-align: right;\">\n",
       "      <th></th>\n",
       "      <th>concat</th>\n",
       "      <th>0</th>\n",
       "    </tr>\n",
       "  </thead>\n",
       "  <tbody>\n",
       "    <tr>\n",
       "      <th>1</th>\n",
       "      <td>1-1</td>\n",
       "      <td>9442</td>\n",
       "    </tr>\n",
       "    <tr>\n",
       "      <th>124</th>\n",
       "      <td>2-1</td>\n",
       "      <td>4547</td>\n",
       "    </tr>\n",
       "    <tr>\n",
       "      <th>304</th>\n",
       "      <td>7-7</td>\n",
       "      <td>3489</td>\n",
       "    </tr>\n",
       "    <tr>\n",
       "      <th>241</th>\n",
       "      <td>5-5</td>\n",
       "      <td>3438</td>\n",
       "    </tr>\n",
       "    <tr>\n",
       "      <th>185</th>\n",
       "      <td>4-1</td>\n",
       "      <td>3400</td>\n",
       "    </tr>\n",
       "    <tr>\n",
       "      <th>...</th>\n",
       "      <td>...</td>\n",
       "      <td>...</td>\n",
       "    </tr>\n",
       "    <tr>\n",
       "      <th>84</th>\n",
       "      <td>11-29</td>\n",
       "      <td>1409</td>\n",
       "    </tr>\n",
       "    <tr>\n",
       "      <th>79</th>\n",
       "      <td>11-24</td>\n",
       "      <td>1390</td>\n",
       "    </tr>\n",
       "    <tr>\n",
       "      <th>145</th>\n",
       "      <td>2-29</td>\n",
       "      <td>563</td>\n",
       "    </tr>\n",
       "    <tr>\n",
       "      <th>0</th>\n",
       "      <td>1--99</td>\n",
       "      <td>2</td>\n",
       "    </tr>\n",
       "    <tr>\n",
       "      <th>147</th>\n",
       "      <td>2-30</td>\n",
       "      <td>1</td>\n",
       "    </tr>\n",
       "  </tbody>\n",
       "</table>\n",
       "<p>368 rows × 2 columns</p>\n",
       "</div>"
      ],
      "text/plain": [
       "    concat     0\n",
       "1      1-1  9442\n",
       "124    2-1  4547\n",
       "304    7-7  3489\n",
       "241    5-5  3438\n",
       "185    4-1  3400\n",
       "..     ...   ...\n",
       "84   11-29  1409\n",
       "79   11-24  1390\n",
       "145   2-29   563\n",
       "0    1--99     2\n",
       "147   2-30     1\n",
       "\n",
       "[368 rows x 2 columns]"
      ]
     },
     "execution_count": 181,
     "metadata": {},
     "output_type": "execute_result"
    }
   ],
   "source": [
    "need_df.groupby('concat').size().reset_index().sort_values(0, ascending=False)"
   ]
  },
  {
   "cell_type": "code",
   "execution_count": 184,
   "metadata": {},
   "outputs": [
    {
     "data": {
      "text/html": [
       "<div>\n",
       "<style scoped>\n",
       "    .dataframe tbody tr th:only-of-type {\n",
       "        vertical-align: middle;\n",
       "    }\n",
       "\n",
       "    .dataframe tbody tr th {\n",
       "        vertical-align: top;\n",
       "    }\n",
       "\n",
       "    .dataframe thead th {\n",
       "        text-align: right;\n",
       "    }\n",
       "</style>\n",
       "<table border=\"1\" class=\"dataframe\">\n",
       "  <thead>\n",
       "    <tr style=\"text-align: right;\">\n",
       "      <th></th>\n",
       "      <th>city</th>\n",
       "      <th>first_name</th>\n",
       "      <th>id</th>\n",
       "      <th>sex</th>\n",
       "      <th>byear</th>\n",
       "      <th>bmonth</th>\n",
       "      <th>bday</th>\n",
       "    </tr>\n",
       "  </thead>\n",
       "  <tbody>\n",
       "    <tr>\n",
       "      <th>273590</th>\n",
       "      <td>NaN</td>\n",
       "      <td>Да</td>\n",
       "      <td>37000274</td>\n",
       "      <td>2</td>\n",
       "      <td>&lt;NA&gt;</td>\n",
       "      <td>1</td>\n",
       "      <td>-99</td>\n",
       "    </tr>\n",
       "    <tr>\n",
       "      <th>521036</th>\n",
       "      <td>NaN</td>\n",
       "      <td>Angel</td>\n",
       "      <td>38598573</td>\n",
       "      <td>2</td>\n",
       "      <td>&lt;NA&gt;</td>\n",
       "      <td>1</td>\n",
       "      <td>-99</td>\n",
       "    </tr>\n",
       "  </tbody>\n",
       "</table>\n",
       "</div>"
      ],
      "text/plain": [
       "       city first_name        id  sex  byear  bmonth  bday\n",
       "273590  NaN         Да  37000274    2   <NA>       1   -99\n",
       "521036  NaN      Angel  38598573    2   <NA>       1   -99"
      ]
     },
     "execution_count": 184,
     "metadata": {},
     "output_type": "execute_result"
    }
   ],
   "source": [
    "df[df['bday'] == -99]"
   ]
  },
  {
   "cell_type": "code",
   "execution_count": 185,
   "metadata": {},
   "outputs": [
    {
     "data": {
      "text/html": [
       "<div>\n",
       "<style scoped>\n",
       "    .dataframe tbody tr th:only-of-type {\n",
       "        vertical-align: middle;\n",
       "    }\n",
       "\n",
       "    .dataframe tbody tr th {\n",
       "        vertical-align: top;\n",
       "    }\n",
       "\n",
       "    .dataframe thead th {\n",
       "        text-align: right;\n",
       "    }\n",
       "</style>\n",
       "<table border=\"1\" class=\"dataframe\">\n",
       "  <thead>\n",
       "    <tr style=\"text-align: right;\">\n",
       "      <th></th>\n",
       "      <th>id</th>\n",
       "      <th>sex</th>\n",
       "      <th>byear</th>\n",
       "      <th>bmonth</th>\n",
       "      <th>bday</th>\n",
       "    </tr>\n",
       "  </thead>\n",
       "  <tbody>\n",
       "    <tr>\n",
       "      <th>count</th>\n",
       "      <td>1.000000e+06</td>\n",
       "      <td>1000000.000000</td>\n",
       "      <td>441200.000000</td>\n",
       "      <td>694755.000000</td>\n",
       "      <td>694755.000000</td>\n",
       "    </tr>\n",
       "    <tr>\n",
       "      <th>mean</th>\n",
       "      <td>2.501112e+08</td>\n",
       "      <td>1.540036</td>\n",
       "      <td>1988.685476</td>\n",
       "      <td>6.175918</td>\n",
       "      <td>14.561343</td>\n",
       "    </tr>\n",
       "    <tr>\n",
       "      <th>std</th>\n",
       "      <td>1.032251e+08</td>\n",
       "      <td>0.498395</td>\n",
       "      <td>17.700429</td>\n",
       "      <td>3.411687</td>\n",
       "      <td>8.949998</td>\n",
       "    </tr>\n",
       "    <tr>\n",
       "      <th>min</th>\n",
       "      <td>5.000000e+00</td>\n",
       "      <td>1.000000</td>\n",
       "      <td>1901.000000</td>\n",
       "      <td>1.000000</td>\n",
       "      <td>-99.000000</td>\n",
       "    </tr>\n",
       "    <tr>\n",
       "      <th>25%</th>\n",
       "      <td>1.933621e+08</td>\n",
       "      <td>1.000000</td>\n",
       "      <td>1986.000000</td>\n",
       "      <td>3.000000</td>\n",
       "      <td>7.000000</td>\n",
       "    </tr>\n",
       "    <tr>\n",
       "      <th>50%</th>\n",
       "      <td>2.564869e+08</td>\n",
       "      <td>2.000000</td>\n",
       "      <td>1993.000000</td>\n",
       "      <td>6.000000</td>\n",
       "      <td>14.000000</td>\n",
       "    </tr>\n",
       "    <tr>\n",
       "      <th>75%</th>\n",
       "      <td>3.254044e+08</td>\n",
       "      <td>2.000000</td>\n",
       "      <td>1999.000000</td>\n",
       "      <td>9.000000</td>\n",
       "      <td>22.000000</td>\n",
       "    </tr>\n",
       "    <tr>\n",
       "      <th>max</th>\n",
       "      <td>4.811556e+08</td>\n",
       "      <td>2.000000</td>\n",
       "      <td>2004.000000</td>\n",
       "      <td>12.000000</td>\n",
       "      <td>31.000000</td>\n",
       "    </tr>\n",
       "  </tbody>\n",
       "</table>\n",
       "</div>"
      ],
      "text/plain": [
       "                 id             sex          byear         bmonth  \\\n",
       "count  1.000000e+06  1000000.000000  441200.000000  694755.000000   \n",
       "mean   2.501112e+08        1.540036    1988.685476       6.175918   \n",
       "std    1.032251e+08        0.498395      17.700429       3.411687   \n",
       "min    5.000000e+00        1.000000    1901.000000       1.000000   \n",
       "25%    1.933621e+08        1.000000    1986.000000       3.000000   \n",
       "50%    2.564869e+08        2.000000    1993.000000       6.000000   \n",
       "75%    3.254044e+08        2.000000    1999.000000       9.000000   \n",
       "max    4.811556e+08        2.000000    2004.000000      12.000000   \n",
       "\n",
       "                bday  \n",
       "count  694755.000000  \n",
       "mean       14.561343  \n",
       "std         8.949998  \n",
       "min       -99.000000  \n",
       "25%         7.000000  \n",
       "50%        14.000000  \n",
       "75%        22.000000  \n",
       "max        31.000000  "
      ]
     },
     "execution_count": 185,
     "metadata": {},
     "output_type": "execute_result"
    }
   ],
   "source": [
    "df.describe()"
   ]
  },
  {
   "cell_type": "markdown",
   "metadata": {},
   "source": [
    "### 6. Парадокс Монти Холла"
   ]
  },
  {
   "cell_type": "code",
   "execution_count": null,
   "metadata": {},
   "outputs": [],
   "source": [
    "[1, 2, 3]\n",
    "\n",
    "player = 1\n",
    "vedu = 2 or 3 was opened"
   ]
  },
  {
   "cell_type": "code",
   "execution_count": null,
   "metadata": {},
   "outputs": [],
   "source": [
    "pla = 1\n",
    "vedu = 2 (nothing)\n",
    "\n",
    "1 (1/3) и 3(2/3)"
   ]
  },
  {
   "cell_type": "code",
   "execution_count": 232,
   "metadata": {},
   "outputs": [],
   "source": [
    "def game(change: bool):\n",
    "    doors = set([1, 2, 3])\n",
    "    priz = np.random.choice([1, 2, 3])\n",
    "    player_choice = np.random.choice([1, 2, 3])\n",
    "    \n",
    "    left_doors = list(doors - {priz} - {player_choice})\n",
    "    open_door = np.random.choice(left_doors)\n",
    "    \n",
    "    if change:\n",
    "        final_door = list(doors - {open_door} - {player_choice})[0]\n",
    "    else:\n",
    "        final_door = player_choice\n",
    "    \n",
    "#     print(f'Приз за дверью: {priz}')\n",
    "#     print(f'Мы выбрали дверь: {player_choice}')\n",
    "#     print(f'Открыли дверь: {open_door}')\n",
    "#     print(f'В итоге выбрали дверь: {final_door}')\n",
    "    \n",
    "    return final_door == priz"
   ]
  },
  {
   "cell_type": "code",
   "execution_count": 251,
   "metadata": {},
   "outputs": [
    {
     "data": {
      "text/plain": [
       "True"
      ]
     },
     "execution_count": 251,
     "metadata": {},
     "output_type": "execute_result"
    }
   ],
   "source": [
    "game(change=True)"
   ]
  },
  {
   "cell_type": "code",
   "execution_count": 252,
   "metadata": {},
   "outputs": [
    {
     "data": {
      "text/plain": [
       "0.677"
      ]
     },
     "execution_count": 252,
     "metadata": {},
     "output_type": "execute_result"
    }
   ],
   "source": [
    "N = 1000\n",
    "result = []\n",
    "\n",
    "for _ in range(N):\n",
    "    result.append(game(change=True))\n",
    "    \n",
    "np.mean(result)"
   ]
  },
  {
   "cell_type": "code",
   "execution_count": 253,
   "metadata": {},
   "outputs": [
    {
     "data": {
      "text/plain": [
       "0.331"
      ]
     },
     "execution_count": 253,
     "metadata": {},
     "output_type": "execute_result"
    }
   ],
   "source": [
    "N = 1000\n",
    "result = []\n",
    "\n",
    "for _ in range(N):\n",
    "    result.append(game(change=False))\n",
    "    \n",
    "np.mean(result)"
   ]
  }
 ],
 "metadata": {
  "kernelspec": {
   "display_name": "Python 3 (ipykernel)",
   "language": "python",
   "name": "python3"
  },
  "language_info": {
   "codemirror_mode": {
    "name": "ipython",
    "version": 3
   },
   "file_extension": ".py",
   "mimetype": "text/x-python",
   "name": "python",
   "nbconvert_exporter": "python",
   "pygments_lexer": "ipython3",
   "version": "3.9.12"
  }
 },
 "nbformat": 4,
 "nbformat_minor": 4
}
