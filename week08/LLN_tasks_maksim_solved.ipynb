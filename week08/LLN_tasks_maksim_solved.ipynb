{
 "cells": [
  {
   "cell_type": "markdown",
   "metadata": {},
   "source": [
    "## Больше задач на ЗБЧ"
   ]
  },
  {
   "cell_type": "code",
   "execution_count": 1,
   "metadata": {},
   "outputs": [],
   "source": [
    "import pandas as pd\n",
    "import numpy as np\n",
    "import scipy.stats as sts"
   ]
  },
  {
   "cell_type": "markdown",
   "metadata": {},
   "source": [
    "## 1. Ямете Кудасай\n",
    "\n",
    "Ахмед очень любит аниме \"Наруто\" и постоянно пересматривает его. Кол-во серий, которое Ахмед смотрит в день имеет распределение Пуассона с параметром $\\lambda = 10$. Ахмед смотрел Наруто целый год и собрал выборку из $365$ наблюдений. Сгенерируйте эту выборку, а затем найдите мат. ожидание и дисперсию."
   ]
  },
  {
   "cell_type": "code",
   "execution_count": 132,
   "metadata": {},
   "outputs": [],
   "source": [
    "## Ваш код\n",
    "\n",
    "lambda_ = 10 # E(X), Var(X)\n",
    "n = 365\n",
    "\n",
    "poiss = sts.poisson(lambda_)"
   ]
  },
  {
   "cell_type": "code",
   "execution_count": 152,
   "metadata": {},
   "outputs": [],
   "source": [
    "poiss_sample = poiss.rvs(size=n)"
   ]
  },
  {
   "cell_type": "code",
   "execution_count": 153,
   "metadata": {},
   "outputs": [
    {
     "data": {
      "text/plain": [
       "9.95890410958904"
      ]
     },
     "execution_count": 153,
     "metadata": {},
     "output_type": "execute_result"
    }
   ],
   "source": [
    "np.mean(poiss_sample)"
   ]
  },
  {
   "cell_type": "code",
   "execution_count": 40,
   "metadata": {},
   "outputs": [
    {
     "data": {
      "text/plain": [
       "9.487213360855694"
      ]
     },
     "execution_count": 40,
     "metadata": {},
     "output_type": "execute_result"
    }
   ],
   "source": [
    "np.var(poiss_sample)"
   ]
  },
  {
   "cell_type": "markdown",
   "metadata": {},
   "source": [
    "## 2. Выпечка\n",
    "\n",
    "Каждый день Иннокентий съедает случайное количество булочек, которое распределено по Пуассону с параметром $\\lambda = 10$. Затраты в рублях на каждую булочку распределены нормально $\\mathcal{N}(4,1)$. Ксюша каждый день съедает биномиальное количество булочек $Bin(8, 0.5)$. Затраты Ксюши на каждую булочку распределены равномерно на отрезке $U[2; 20]$.\n",
    "\n",
    "а) Сколько в среднем Иннокентий тратит на булочки за день?  \n",
    "б) Чему равна дисперсия дневных расходов Иннокентия?  \n",
    "в) Какова вероятность того, что за один день Иннокентий потратит больше денег, чем Ксюша?"
   ]
  },
  {
   "cell_type": "code",
   "execution_count": 46,
   "metadata": {},
   "outputs": [],
   "source": [
    "## Ваш код\n",
    "\n",
    "innok_bulki = sts.poisson(10)\n",
    "innok_spend = sts.norm(4, 1)\n",
    "\n",
    "ksusha_bulki = sts.binom(8, 0.5)\n",
    "ksusha_spend = sts.uniform(2, 20)\n",
    "\n",
    "# генерируем выборки\n",
    "n = 200\n",
    "innok_bulki_sample = innok_bulki.rvs(n)\n",
    "innok_spend_sample = innok_spend.rvs(n)\n",
    "ksusha_bulki_sample = ksusha_bulki.rvs(n)\n",
    "ksusha_spend_sample = ksusha_spend.rvs(n)"
   ]
  },
  {
   "cell_type": "code",
   "execution_count": 50,
   "metadata": {},
   "outputs": [
    {
     "data": {
      "text/plain": [
       "39.46007425907861"
      ]
     },
     "execution_count": 50,
     "metadata": {},
     "output_type": "execute_result"
    }
   ],
   "source": [
    "# a)\n",
    "np.mean(innok_bulki_sample * innok_spend_sample)\n",
    "\n",
    "# имеем распределение Poisson * Norm - понятия не имеем, что за распределение и что там за мат. ожидание\n",
    "# поэтому считаем тупо среднее на выборке и верим в Закон Больших Чисел"
   ]
  },
  {
   "cell_type": "code",
   "execution_count": 51,
   "metadata": {},
   "outputs": [
    {
     "data": {
      "text/plain": [
       "195.86575647357165"
      ]
     },
     "execution_count": 51,
     "metadata": {},
     "output_type": "execute_result"
    }
   ],
   "source": [
    "# б)\n",
    "np.var(innok_bulki_sample * innok_spend_sample)"
   ]
  },
  {
   "cell_type": "code",
   "execution_count": 52,
   "metadata": {},
   "outputs": [],
   "source": [
    "# в)\n",
    "innok_sum_spends = innok_bulki_sample * innok_spend_sample\n",
    "ksusha_sum_spends = ksusha_bulki_sample * ksusha_spend_sample"
   ]
  },
  {
   "cell_type": "code",
   "execution_count": 56,
   "metadata": {},
   "outputs": [],
   "source": [
    "temp = innok_sum_spends > ksusha_sum_spends"
   ]
  },
  {
   "cell_type": "code",
   "execution_count": 58,
   "metadata": {},
   "outputs": [
    {
     "data": {
      "text/plain": [
       "0.435"
      ]
     },
     "execution_count": 58,
     "metadata": {},
     "output_type": "execute_result"
    }
   ],
   "source": [
    "sum(temp) / len(temp)"
   ]
  },
  {
   "cell_type": "markdown",
   "metadata": {},
   "source": [
    "## 3. Поиск вероятности\n",
    "\n",
    "Пусть у вас есть $X_1, X_2, X_3$ случайные величины, которые независимы и одинаково равномерно распределены $X_i \\sim U[0;2]$. Оцените следующие вероятности: \n",
    "\n",
    "1. $P(X_1 + X_2 + X_3^2 > 5)$\n",
    "2. $P(X_1 + X_2 + X_3 > 0.8 \\mid X_3 < 0.1)$"
   ]
  },
  {
   "cell_type": "code",
   "execution_count": 59,
   "metadata": {},
   "outputs": [],
   "source": [
    "## Ваш код\n",
    "\n",
    "x1 = sts.uniform(0, 2)\n",
    "x2 = sts.uniform(0, 2)\n",
    "x3 = sts.uniform(0, 2)\n",
    "\n",
    "n = 1000\n",
    "x1_sample = x1.rvs(n)\n",
    "x2_sample = x2.rvs(n)\n",
    "x3_sample = x3.rvs(n)"
   ]
  },
  {
   "cell_type": "code",
   "execution_count": 63,
   "metadata": {},
   "outputs": [],
   "source": [
    "temp = x1_sample + x2_sample + x3_sample**2 > 5"
   ]
  },
  {
   "cell_type": "code",
   "execution_count": 64,
   "metadata": {},
   "outputs": [
    {
     "data": {
      "text/plain": [
       "0.149"
      ]
     },
     "execution_count": 64,
     "metadata": {},
     "output_type": "execute_result"
    }
   ],
   "source": [
    "sum(temp) / len(temp)"
   ]
  },
  {
   "cell_type": "markdown",
   "metadata": {},
   "source": [
    "## 4. Джеймс. Леброн Джеймс.\n"
   ]
  },
  {
   "cell_type": "markdown",
   "metadata": {},
   "source": [
    "## 5. Парадокс дней рождений\n",
    "\n",
    "__Парадокс дней рождений:__ в произвольной группе из $50$ человек вероятность того, что хотябы у двоих людей дни рождения совпадут, равна $0.97$. Но это в теории, при предпосылке, что люди равномерно рождаются в течение года. Давайте проверим это. \n",
    "\n",
    "В табличке `bdates.tsv` лежит информация о $1$ млн. пользователей из вконтакте. В табличке можно найти данные о имени пользователя `first_name`, его поле `sex`, городе проживания `city`, дне `bdate`, месяце `bmonth` и годе `byear` рождения."
   ]
  },
  {
   "cell_type": "code",
   "execution_count": 98,
   "metadata": {},
   "outputs": [
    {
     "name": "stdout",
     "output_type": "stream",
     "text": [
      "(1000000, 7)\n"
     ]
    },
    {
     "data": {
      "text/html": [
       "<div>\n",
       "<style scoped>\n",
       "    .dataframe tbody tr th:only-of-type {\n",
       "        vertical-align: middle;\n",
       "    }\n",
       "\n",
       "    .dataframe tbody tr th {\n",
       "        vertical-align: top;\n",
       "    }\n",
       "\n",
       "    .dataframe thead th {\n",
       "        text-align: right;\n",
       "    }\n",
       "</style>\n",
       "<table border=\"1\" class=\"dataframe\">\n",
       "  <thead>\n",
       "    <tr style=\"text-align: right;\">\n",
       "      <th></th>\n",
       "      <th>city</th>\n",
       "      <th>first_name</th>\n",
       "      <th>id</th>\n",
       "      <th>sex</th>\n",
       "      <th>byear</th>\n",
       "      <th>bmonth</th>\n",
       "      <th>bday</th>\n",
       "    </tr>\n",
       "  </thead>\n",
       "  <tbody>\n",
       "    <tr>\n",
       "      <th>0</th>\n",
       "      <td>Севастополь</td>\n",
       "      <td>Галина</td>\n",
       "      <td>268520763</td>\n",
       "      <td>1</td>\n",
       "      <td>1955</td>\n",
       "      <td>2</td>\n",
       "      <td>4</td>\n",
       "    </tr>\n",
       "    <tr>\n",
       "      <th>1</th>\n",
       "      <td>Новороссийск</td>\n",
       "      <td>Маша</td>\n",
       "      <td>386703913</td>\n",
       "      <td>1</td>\n",
       "      <td>2002</td>\n",
       "      <td>7</td>\n",
       "      <td>10</td>\n",
       "    </tr>\n",
       "    <tr>\n",
       "      <th>2</th>\n",
       "      <td>Нижний Новгород</td>\n",
       "      <td>Екатерина</td>\n",
       "      <td>250291860</td>\n",
       "      <td>1</td>\n",
       "      <td>&lt;NA&gt;</td>\n",
       "      <td>&lt;NA&gt;</td>\n",
       "      <td>&lt;NA&gt;</td>\n",
       "    </tr>\n",
       "    <tr>\n",
       "      <th>3</th>\n",
       "      <td>Турсунзаде</td>\n",
       "      <td>Μαχμυδσθδ</td>\n",
       "      <td>384274806</td>\n",
       "      <td>2</td>\n",
       "      <td>&lt;NA&gt;</td>\n",
       "      <td>&lt;NA&gt;</td>\n",
       "      <td>&lt;NA&gt;</td>\n",
       "    </tr>\n",
       "    <tr>\n",
       "      <th>4</th>\n",
       "      <td>NaN</td>\n",
       "      <td>Bekzod</td>\n",
       "      <td>366702299</td>\n",
       "      <td>2</td>\n",
       "      <td>&lt;NA&gt;</td>\n",
       "      <td>&lt;NA&gt;</td>\n",
       "      <td>&lt;NA&gt;</td>\n",
       "    </tr>\n",
       "  </tbody>\n",
       "</table>\n",
       "</div>"
      ],
      "text/plain": [
       "              city first_name         id  sex  byear  bmonth  bday\n",
       "0      Севастополь     Галина  268520763    1   1955       2     4\n",
       "1     Новороссийск       Маша  386703913    1   2002       7    10\n",
       "2  Нижний Новгород  Екатерина  250291860    1   <NA>    <NA>  <NA>\n",
       "3       Турсунзаде  Μαχμυδσθδ  384274806    2   <NA>    <NA>  <NA>\n",
       "4              NaN     Bekzod  366702299    2   <NA>    <NA>  <NA>"
      ]
     },
     "execution_count": 98,
     "metadata": {},
     "output_type": "execute_result"
    }
   ],
   "source": [
    "df = pd.read_csv(\"data/vk_bdate.tsv\", sep=\"\\t\", \n",
    "                 dtype={'byear': pd.Int64Dtype(), \n",
    "                        'bmonth': pd.Int64Dtype(), \n",
    "                         'bday': pd.Int64Dtype()}\n",
    "                )\n",
    "print(df.shape)\n",
    "df.head()"
   ]
  },
  {
   "cell_type": "markdown",
   "metadata": {},
   "source": [
    "## Предобработка данных"
   ]
  },
  {
   "cell_type": "code",
   "execution_count": 99,
   "metadata": {},
   "outputs": [],
   "source": [
    "## Выкидываем пропуски\n",
    "df = df.dropna()"
   ]
  },
  {
   "cell_type": "code",
   "execution_count": 101,
   "metadata": {},
   "outputs": [],
   "source": [
    "## делаем удобную колонку\n",
    "df = df.astype('str')\n",
    "df['birth_date'] = df['bmonth'] + '-' + df['bday']"
   ]
  },
  {
   "cell_type": "code",
   "execution_count": 131,
   "metadata": {},
   "outputs": [
    {
     "name": "stdout",
     "output_type": "stream",
     "text": [
      "<class 'pandas.core.frame.DataFrame'>\n",
      "Int64Index: 376583 entries, 0 to 999993\n",
      "Data columns (total 8 columns):\n",
      " #   Column      Non-Null Count   Dtype \n",
      "---  ------      --------------   ----- \n",
      " 0   city        376583 non-null  object\n",
      " 1   first_name  376583 non-null  object\n",
      " 2   id          376583 non-null  object\n",
      " 3   sex         376583 non-null  object\n",
      " 4   byear       376583 non-null  object\n",
      " 5   bmonth      376583 non-null  object\n",
      " 6   bday        376583 non-null  object\n",
      " 7   birth_date  376583 non-null  object\n",
      "dtypes: object(8)\n",
      "memory usage: 25.9+ MB\n"
     ]
    }
   ],
   "source": [
    "df.info()"
   ]
  },
  {
   "cell_type": "markdown",
   "metadata": {},
   "source": [
    "## Моделируем ЗБЧ"
   ]
  },
  {
   "cell_type": "code",
   "execution_count": 128,
   "metadata": {},
   "outputs": [],
   "source": [
    "# смоделировал игру\n",
    "def check_births(df, sample_size):\n",
    "    \n",
    "    df_sample = df.sample(sample_size)\n",
    "    births = df_sample.birth_date.nunique()\n",
    "    \n",
    "    return births < sample_size # если меньше, то тогда есть люди с одинаковым днем рождения"
   ]
  },
  {
   "cell_type": "code",
   "execution_count": 129,
   "metadata": {},
   "outputs": [],
   "source": [
    "from tqdm import tqdm"
   ]
  },
  {
   "cell_type": "code",
   "execution_count": 130,
   "metadata": {},
   "outputs": [
    {
     "name": "stderr",
     "output_type": "stream",
     "text": [
      "100%|██████████| 1000/1000 [00:09<00:00, 103.79it/s]\n"
     ]
    },
    {
     "data": {
      "text/plain": [
       "0.528"
      ]
     },
     "execution_count": 130,
     "metadata": {},
     "output_type": "execute_result"
    }
   ],
   "source": [
    "# запускаю игру кучу раз и считаю вероятность\n",
    "n = 1000\n",
    "\n",
    "success = 0\n",
    "for _ in tqdm(range(n)):\n",
    "    success += check_births(df, sample_size=23)\n",
    "\n",
    "success / n"
   ]
  },
  {
   "cell_type": "code",
   "execution_count": null,
   "metadata": {},
   "outputs": [],
   "source": []
  }
 ],
 "metadata": {
  "kernelspec": {
   "display_name": "Python 3",
   "language": "python",
   "name": "python3"
  },
  "language_info": {
   "codemirror_mode": {
    "name": "ipython",
    "version": 3
   },
   "file_extension": ".py",
   "mimetype": "text/x-python",
   "name": "python",
   "nbconvert_exporter": "python",
   "pygments_lexer": "ipython3",
   "version": "3.8.5"
  }
 },
 "nbformat": 4,
 "nbformat_minor": 4
}
