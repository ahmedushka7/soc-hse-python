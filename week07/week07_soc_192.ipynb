{
 "cells": [
  {
   "cell_type": "markdown",
   "metadata": {},
   "source": [
    "## Что мы с вами уже прошли\n",
    "\n",
    "1. Повторили Python\n",
    "2. Python как инструмент для анализа данных (визуализация)\n",
    "3. Сбор данных (парсинг)\n",
    "4. Статистика для анализа данных (теория вероятностей + мат. статистика)"
   ]
  },
  {
   "cell_type": "markdown",
   "metadata": {},
   "source": [
    "## Неделя №7: Повторение теории вероятностей"
   ]
  },
  {
   "cell_type": "markdown",
   "metadata": {},
   "source": [
    "> Вероятность – это мера, которая определяет возможность (случайность) события"
   ]
  },
  {
   "cell_type": "markdown",
   "metadata": {},
   "source": [
    "Псевдослучайность – случайность, которую мы приняли из-за нашего незнания"
   ]
  },
  {
   "cell_type": "markdown",
   "metadata": {},
   "source": [
    "## 1. Случайная величина"
   ]
  },
  {
   "cell_type": "markdown",
   "metadata": {},
   "source": [
    "> Случайная величина – то событие, которое вы воспринимаете случайным. Тот вопрос, который вас интересует"
   ]
  },
  {
   "cell_type": "markdown",
   "metadata": {},
   "source": [
    "1. Случайные величины делятся на дискретные и непрерывные\n",
    "2. Случайные величины делятся по распределениям (нормальные случайные величины / биномиальные случайные величины / ...)\n",
    "3. Случайные величины имеют характеристики и это тоже отличает одну случайную величину от другой"
   ]
  },
  {
   "cell_type": "markdown",
   "metadata": {},
   "source": [
    "- Во-первых, случайные величины отличаются в зависимости от распределения (распределение задается функцией распределения и плотностью распределения)\n",
    "\n",
    "- Во-вторых, даже если случайные величины принадлежат одному распределению, они все равно могут отличаться, но уже по характеристикам "
   ]
  },
  {
   "cell_type": "markdown",
   "metadata": {},
   "source": [
    "X - случайная величина\n",
    "\n"
   ]
  },
  {
   "cell_type": "code",
   "execution_count": 3,
   "metadata": {},
   "outputs": [
    {
     "data": {
      "text/plain": [
       "1.0"
      ]
     },
     "execution_count": 3,
     "metadata": {},
     "output_type": "execute_result"
    }
   ],
   "source": [
    "(3/5) + (2/5 * 3/4) + (2/5 * 1/4 * 3/3)"
   ]
  },
  {
   "cell_type": "markdown",
   "metadata": {},
   "source": [
    "### 5.2 Неправильная монетка\n",
    "\n",
    "Предположим вам дали 2 монетки. Одна из них честная – то есть равновероятно выпадает Орлом и Решкой, а другая – нет, то есть выдает одно из двух в большем разе случаев. Подкиньте монетку $10$, $100$ и $1000$ раз, а затем посчитайте вероятность выпадения Орла на обоих монетках. Что вы видите? Перезапустите код, что вы видите теперь? "
   ]
  },
  {
   "cell_type": "code",
   "execution_count": 2,
   "metadata": {},
   "outputs": [],
   "source": [
    "# !pip install numpy"
   ]
  },
  {
   "cell_type": "code",
   "execution_count": 3,
   "metadata": {},
   "outputs": [],
   "source": [
    "import numpy as np"
   ]
  },
  {
   "cell_type": "code",
   "execution_count": 62,
   "metadata": {},
   "outputs": [
    {
     "data": {
      "text/plain": [
       "0.50016"
      ]
     },
     "execution_count": 62,
     "metadata": {},
     "output_type": "execute_result"
    }
   ],
   "source": [
    "n = 100000\n",
    "\n",
    "cnt = 0\n",
    "for _ in range(n):\n",
    "    cnt += np.random.choice([1, 0], size=1, p=[0.5, 0.5])[0]\n",
    "    \n",
    "cnt / n"
   ]
  },
  {
   "cell_type": "code",
   "execution_count": 63,
   "metadata": {},
   "outputs": [
    {
     "data": {
      "text/plain": [
       "0.70214"
      ]
     },
     "execution_count": 63,
     "metadata": {},
     "output_type": "execute_result"
    }
   ],
   "source": [
    "n = 100000\n",
    "\n",
    "cnt = 0\n",
    "for _ in range(n):\n",
    "    cnt += np.random.choice([1, 0], size=1, p=[0.7, 0.3])[0]\n",
    "    \n",
    "cnt / n"
   ]
  },
  {
   "cell_type": "markdown",
   "metadata": {},
   "source": [
    "### 5.1 Страховая компания \"Барсуки и Бревна\"\n",
    "\n",
    "Предположим, вы решили открыть страховую компанию. Страховка на автомобиль в вашей компании стоит $100$ рублей. При этом если на застрахованный автомобиль вашего покупателя падает дерево, вы выплачиваете владельцу $1$ млн. руб. Вы знаете, что дерево падает на автомобиль с вероятностью $0.001$. Ответьте на следующие вопросы:\n",
    "\n",
    "__А)__ Постройте распределение случайной величины – прибыли вашей страховой  \n",
    "__Б)__ Сколько в среднем вы будете зарабатывать денег? Выгодно ли открывать такую страховую компанию?  \n",
    "__В)__ Какую цену страховки нужно установить, чтобы зарабатывать в среднем $1000$ рублей?"
   ]
  },
  {
   "cell_type": "markdown",
   "metadata": {},
   "source": [
    "- решили на листочке"
   ]
  },
  {
   "cell_type": "code",
   "execution_count": 67,
   "metadata": {},
   "outputs": [
    {
     "data": {
      "text/plain": [
       "5571.428571428572"
      ]
     },
     "execution_count": 67,
     "metadata": {},
     "output_type": "execute_result"
    }
   ],
   "source": [
    "people = [1000, 2000, 20000, 5000, 4000, 3000, 4000]\n",
    "\n",
    "sum(people) / len(people)"
   ]
  },
  {
   "cell_type": "code",
   "execution_count": 72,
   "metadata": {},
   "outputs": [
    {
     "data": {
      "text/plain": [
       "2666.6666666666665"
      ]
     },
     "execution_count": 72,
     "metadata": {},
     "output_type": "execute_result"
    }
   ],
   "source": [
    "sample = np.random.choice(people, size=3, replace=False)\n",
    "\n",
    "sum(sample) / len(sample)"
   ]
  },
  {
   "cell_type": "code",
   "execution_count": null,
   "metadata": {},
   "outputs": [],
   "source": []
  }
 ],
 "metadata": {
  "kernelspec": {
   "display_name": "Python 3",
   "language": "python",
   "name": "python3"
  },
  "language_info": {
   "codemirror_mode": {
    "name": "ipython",
    "version": 3
   },
   "file_extension": ".py",
   "mimetype": "text/x-python",
   "name": "python",
   "nbconvert_exporter": "python",
   "pygments_lexer": "ipython3",
   "version": "3.8.5"
  }
 },
 "nbformat": 4,
 "nbformat_minor": 4
}
