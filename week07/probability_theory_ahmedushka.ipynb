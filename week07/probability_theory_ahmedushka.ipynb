{
 "cells": [
  {
   "cell_type": "markdown",
   "metadata": {},
   "source": [
    "# Погружение в теорию вероятностей\n",
    "\n",
    "<img src=\"../images/ugway.png\" width=500 align='left'>"
   ]
  },
  {
   "cell_type": "markdown",
   "metadata": {},
   "source": [
    "## 1. Основные понятия\n",
    "\n",
    "Основным понятием в теории вероятностей, как это ни странно, является __вероятность__\n",
    "\n",
    "> __Вероятность__ – это мера возможности наступления того или иного события. Например, вероятность того, что в Москве в один из осенних дней пойдет дождь составляет $0.8$, а того, что завтра на землю упадет метеорит – 1e-19 ($1 \\cdot 10^{-19}$)\n",
    "\n",
    "С определением разобрались, а как посчитать? \n",
    "\n",
    "Одним из вариантов является __частота события__ (поэтому и подход называется частотным). В таком случае нам нужно взять кол-во интересующих нас исходов события – $m$ и поделить на кол-во всех событий – $n$. \n",
    "\n",
    "$$\n",
    "p = \\frac{m}{n}\n",
    "$$\n",
    "\n",
    "При таком подходе, чтобы найти вероятность того, что в Москве осенним днем пойдет дождь, нужно заглянуть в прошлое – например, взять предыдущий год, посмотреть сколько дней осенью шел дождь, а затем поделить на общее число осенних дней: \n",
    "\n",
    "$$\n",
    "p = \\frac{72}{90} = 0.8\n",
    "$$\n",
    "\n",
    "_Подумайте, вероятность каких событий нельзя посчитать при таком подходе?_"
   ]
  },
  {
   "cell_type": "markdown",
   "metadata": {},
   "source": [
    "----\n",
    "\n",
    "**Задача:** Студент М с какой-то периодичностью ходит на первую пару. Староста группы каждый раз записывает присутствующих и на каждый день ставит 1 около фамилии студента, если тот явился на пару, и 0 - если не явился. Какова вероятность, что студент М придет на первую пару?"
   ]
  },
  {
   "cell_type": "code",
   "execution_count": 4,
   "metadata": {},
   "outputs": [],
   "source": [
    "attends = [0, 1, 1, 0, 0, 1, 0, 1, 1, 1, 1]\n",
    "\n",
    "# Ваш код:"
   ]
  },
  {
   "cell_type": "markdown",
   "metadata": {},
   "source": [
    "---\n",
    "\n",
    "В дальнейшем события в роде \"в осенний день в Москве пойдет дождь\", \"завтра на землю упадет метеорит\", \"при следующем подбрасывании монетки она упадет стороной Орла\", \"кол-во голов, которые забьет Реал Мадрид в следующем матче\" и т.д. мы будем считать __случайными__, так как они имеют несколько возможных исходов. \n",
    "\n",
    "> __Случайная величина__ – событие, исход которого мы можем узнать только после совершения этого события\n",
    "\n",
    "Также нужно запомнить, что случайная величина имеет __значения__ (все возможные исходы), а каждое значение случайной величины имеет свою __вероятность__. Все вместе – это __распределение случайной величины__. \n",
    "\n",
    "---"
   ]
  },
  {
   "cell_type": "markdown",
   "metadata": {},
   "source": [
    "## 2. Случайности – неслучайны\n",
    "\n",
    "На самом деле, то что мы договорились называться случайностями по факту таковыми не являются. Да, подбрасывая монетку, в нормальных условиях мы не можем заранее сказать, какой стороной она упадет, однако проведя наш эксперимент в специальных лабораторных условиях, где мы можем измерить силу, с которой мы подбрасываем монетку, высоту подбрасывания, вес монетки и кучу кучу всего другого, мы сможем со сколь угодно точностью определить, сколько оборотов вокруг себя сделает монетка, и какой стороной она в итоге упадет на пол.\n",
    "\n",
    "В чем тогда проблема? – В том, что это сложно 😔 \n",
    "\n",
    "Поэтому говоря о случайности, мы подразумеваем так называемую __псевдослучайность__, возникающую из-за нехватки способностей людей посчитать это. \n",
    "\n",
    "_Подумайте, а что можно считать истинной случайностью?_\n",
    "\n",
    "---"
   ]
  },
  {
   "cell_type": "markdown",
   "metadata": {},
   "source": [
    "## 3. Связь с данными\n",
    "\n",
    "Принимая во внимание все вышесказанное, можно считать, что практически все, что мы наблюдаем с вами вокруг себя – это случайные события. И те данные, которые мы с вами собираемся анализировать – это тоже случайные события! \n",
    "\n",
    "Предположим, у вас есть данные по покупкам пользователей в интернет-магазине. Сегодня конкретный пользователь N купил у вас зубную щетку, завтра купил зубную пасту, а послезавтра вставную челюсть и больше никогда не вернулся к вам на сайт. Его поведение можно объяснять случайностями – размышлять в роде \"какая вероятность, что купив зубную щетку, пользователь вернется за зубной пастой?\", отсюда строить рекомендации товаров, предсказывать покупки пользователей, выручку, и делать много-много чего еще. \n",
    "\n",
    "Чтобы было понятнее, рассмотрим следующую концепцию:\n",
    "\n",
    "<img src=\"../images/box.png\" width=550 align='center'>\n",
    "\n",
    "1. Представим себе сундук, в котором лежит информация о том, как устроен мир (процессы порождения данных)\n",
    "2. Вы не знаете, что лежит внутри сундука, так как он закрыт от вашего взора.\n",
    "3. Но при этом сундук иногда приоткрывается, а из него наружу выплевываются выборки (ваши данные)\n",
    "4. Смотря на эти данные, вы можете научиться понимать, что лежит внутри сундука, определять закономерности, по которым эти данные генерируются в мире.\n",
    "\n",
    "То, что лежит внутри сундука – изучает __теория вероятностей__, а то, как делать свои выводы на основе данных – __математическая статистика__. Мы познакомимся со всем.\n",
    "\n",
    "---"
   ]
  },
  {
   "cell_type": "markdown",
   "metadata": {},
   "source": [
    "## 4. Подробнее о случайных величинах\n",
    "\n",
    "Здесь нужно смотреть презентацию, в ней рассказывается\n",
    "\n",
    "1. Основные понятия, связанные со случайными величинами\n",
    "2. Какими бывают случайные величины и как их отличать\n",
    "3. Характеристики случайных величин\n",
    "\n",
    "---"
   ]
  },
  {
   "cell_type": "markdown",
   "metadata": {},
   "source": [
    "## 5. Задачи для семинара"
   ]
  },
  {
   "cell_type": "markdown",
   "metadata": {},
   "source": [
    "### 5.1 Страховая компания \"Барсуки и Бревна\"\n",
    "\n",
    "Предположим, вы решили открыть страховую компанию. Страховка на автомобиль в вашей компании стоит $100$ рублей. При этом если на застрахованный автомобиль вашего покупателя падает дерево, вы выплачиваете владельцу $1$ млн. руб. Вы знаете, что дерево падает на автомобиль с вероятностью $0.001$. Ответьте на следующие вопросы:\n",
    "\n",
    "__А)__ Постройте распределение случайной величины – прибыли вашей страховой  \n",
    "__Б)__ Сколько в среднем вы будете зарабатывать денег? Выгодно ли открывать такую страховую компанию?  \n",
    "__В)__ Какую цену страховки нужно установить, чтобы зарабатывать в среднем $1000$ рублей?"
   ]
  },
  {
   "cell_type": "code",
   "execution_count": 169,
   "metadata": {},
   "outputs": [],
   "source": [
    "profit = 2000\n",
    "cost = -1_000_000 + profit\n",
    "p = 0.001"
   ]
  },
  {
   "cell_type": "code",
   "execution_count": 170,
   "metadata": {},
   "outputs": [
    {
     "data": {
      "text/plain": [
       "1000.0"
      ]
     },
     "execution_count": 170,
     "metadata": {},
     "output_type": "execute_result"
    }
   ],
   "source": [
    "p * cost + (1 - p) * profit"
   ]
  },
  {
   "cell_type": "code",
   "execution_count": 171,
   "metadata": {},
   "outputs": [],
   "source": [
    "profits_years = []\n",
    "\n",
    "for i in range(10_000):\n",
    "    profits = np.random.choice([cost, profit], size=10_000, p=[p, 1 - p])\n",
    "    profits_years.append(profits.mean())"
   ]
  },
  {
   "cell_type": "code",
   "execution_count": 172,
   "metadata": {},
   "outputs": [],
   "source": [
    "import matplotlib.pyplot as plt"
   ]
  },
  {
   "cell_type": "code",
   "execution_count": 173,
   "metadata": {},
   "outputs": [
    {
     "data": {
      "image/png": "[encoded data removed]",
      "text/plain": [
       "<Figure size 720x360 with 1 Axes>"
      ]
     },
     "metadata": {
      "needs_background": "light"
     },
     "output_type": "display_data"
    }
   ],
   "source": [
    "plt.figure(figsize=(10, 5))\n",
    "plt.hist(profits_years, bins=24);"
   ]
  },
  {
   "cell_type": "code",
   "execution_count": 174,
   "metadata": {},
   "outputs": [],
   "source": [
    "profits_years_np = np.array(profits_years)"
   ]
  },
  {
   "cell_type": "code",
   "execution_count": 175,
   "metadata": {},
   "outputs": [
    {
     "data": {
      "text/plain": [
       "0.0017"
      ]
     },
     "execution_count": 175,
     "metadata": {},
     "output_type": "execute_result"
    }
   ],
   "source": [
    "profits_years_np[profits_years_np < 0].size / 10_000"
   ]
  },
  {
   "cell_type": "markdown",
   "metadata": {},
   "source": [
    "0.15%"
   ]
  },
  {
   "cell_type": "markdown",
   "metadata": {},
   "source": [
    "### 5.2 Неправильная монетка\n",
    "\n",
    "Предположим вам дали 2 монетки. Одна из них честная – то есть равновероятно выпадает Орлом и Решкой, а другая – нет, то есть выдает одно из двух в большем разе случаев. Подкиньте монетку $10$, $100$ и $1000$ раз, а затем посчитайте вероятность выпадения Орла на обоих монетках. Что вы видите? Перезапустите код, что вы видите теперь? \n",
    "\n",
    "__Бонус для тех, кому слишком легко:__ Напишите код, который из неправильной монетки сделает правильную, то есть будет выдавать Орла и Решку в одинаковом числе случаев. "
   ]
  },
  {
   "cell_type": "code",
   "execution_count": 12,
   "metadata": {},
   "outputs": [],
   "source": [
    "import numpy as np"
   ]
  },
  {
   "cell_type": "code",
   "execution_count": 24,
   "metadata": {},
   "outputs": [],
   "source": [
    "def sample(N):\n",
    "    x1 = np.random.choice([1, 0], size=N, p=[0.5, 0.5])\n",
    "    x2 = np.random.choice([1, 0], size=N, p=[2/3, 1/3])\n",
    "    \n",
    "    print(f'Вероятность выпадения орла честной монетки:{x1.mean()}')\n",
    "    print(f'Вероятность выпадения орла нечестной монетки:{x2.mean()}')"
   ]
  },
  {
   "cell_type": "code",
   "execution_count": 27,
   "metadata": {},
   "outputs": [
    {
     "name": "stdout",
     "output_type": "stream",
     "text": [
      "Вероятность выпадения орла честной монетки:0.5\n",
      "Вероятность выпадения орла нечестной монетки:0.2\n"
     ]
    }
   ],
   "source": [
    "sample(10)"
   ]
  },
  {
   "cell_type": "code",
   "execution_count": 32,
   "metadata": {},
   "outputs": [
    {
     "name": "stdout",
     "output_type": "stream",
     "text": [
      "Вероятность выпадения орла честной монетки:0.52\n",
      "Вероятность выпадения орла нечестной монетки:0.69\n"
     ]
    }
   ],
   "source": [
    "sample(100)"
   ]
  },
  {
   "cell_type": "code",
   "execution_count": 44,
   "metadata": {},
   "outputs": [
    {
     "name": "stdout",
     "output_type": "stream",
     "text": [
      "Вероятность выпадения орла честной монетки:0.499\n",
      "Вероятность выпадения орла нечестной монетки:0.671\n"
     ]
    }
   ],
   "source": [
    "sample(1000)"
   ]
  },
  {
   "cell_type": "markdown",
   "metadata": {},
   "source": [
    "### 5.2 В шкуре генератора случайностей\n",
    "\n",
    "Представьте, что вы выступаете создателем процесса порождения данных. То есть вы сами решаете, какие данные отправятся из сундука наружу. Сгенерируйте выборки размера $1000$ из следующих распределений:\n",
    "\n",
    "1. $\\mathcal{N}(0, 1)$ – нормальное распределение с мат. ожиданием 0 и дисперсией 1\n",
    "2. $U[0; 2]$ – равномерное распределение на промежутке от 0 до 2\n",
    "3. $Poiss(0.5)$ – распределение Пуассона с параметром $\\lambda = 0.5$\n",
    "\n",
    "Для каждой выборки постройте гистограмму распределения, оцените выборочное мат. ожидание и дисперсию. \n",
    "\n",
    "----\n",
    "\n",
    "__Памятка:__\n",
    "\n",
    "```python\n",
    "import scipy.stats as sts\n",
    "```\n",
    "\n",
    "* `.rvs` – сгенерирует нам выборку из распределения объёма size\n",
    "* `.cdf` – вычислит для нас значение функции распределения (cumulative distribution function) в указанной точке\n",
    "* `.pdf` – вычислит значение плотности распределения (probability density function) в указанной точке (для непрерывных распределений)\n",
    "* `.pmf` – вычислит вероятность получения заданного значения (для дискретных распределений)\n",
    "* `.ppf` – вычислит квантиль, указанного уровня (для непрерывных распределений)\n",
    "\n",
    "__Замечание:__\n",
    "\n",
    "В реальности, вы видите только сами данные и не знаете, из какого распределения они пришли – вам и нужно это понять, чтобы сделать выводы. Этим, еще раз, занимается мат. статистика. Изучая теорию вероятностей, мы выступаем создателями этих данных – то есть смотрим на ситуацию с обратной стороны (внутрь сундука).\n",
    "\n",
    "---"
   ]
  },
  {
   "cell_type": "code",
   "execution_count": 17,
   "metadata": {},
   "outputs": [],
   "source": [
    "## Ваш код:\n",
    "import scipy.stats as sts"
   ]
  },
  {
   "cell_type": "markdown",
   "metadata": {},
   "source": [
    "### 5.3 Удав и багеты\n",
    "\n",
    "Удав Анатолий любит французские багеты. Длина французского багета равна $1$ метру. За один укус Удав Анатолий съедает кусок случайной длины, равномерно распределённый на отрезке $[0;1]$. Для того, чтобы съесть весь багет удаву потребуется случайное количество $N$ укусов. Найдите $E(N)$ и $Var(N)$"
   ]
  },
  {
   "cell_type": "code",
   "execution_count": 7,
   "metadata": {},
   "outputs": [],
   "source": [
    "## Ваш код:"
   ]
  },
  {
   "cell_type": "markdown",
   "metadata": {},
   "source": [
    "### 5.4 Спортсмены в отеле\n",
    "\n",
    "Для 20 участников соревнований, среди которых 8 российских, в гостинице забронировано 20 номеров. Из них 12 с видом на море. Участники соревнований наугад получают ключи от номеров. Найдите вероятность того, что номера с видом на море достанутся всем российским спортсменам."
   ]
  },
  {
   "cell_type": "markdown",
   "metadata": {},
   "source": [
    "Первые 12 комнат с видом на море, а следующие 8 без."
   ]
  },
  {
   "cell_type": "code",
   "execution_count": 49,
   "metadata": {},
   "outputs": [],
   "source": [
    "# x = np.concatenate([np.ones(8), np.zeros(12)])"
   ]
  },
  {
   "cell_type": "code",
   "execution_count": 50,
   "metadata": {},
   "outputs": [
    {
     "data": {
      "text/plain": [
       "[1, 1, 1, 1, 1, 1, 1, 1, 0, 0, 0, 0, 0, 0, 0, 0, 0, 0, 0, 0]"
      ]
     },
     "execution_count": 50,
     "metadata": {},
     "output_type": "execute_result"
    }
   ],
   "source": [
    "x = [1] * 8 + [0] *12\n",
    "x"
   ]
  },
  {
   "cell_type": "code",
   "execution_count": 53,
   "metadata": {},
   "outputs": [],
   "source": [
    "rastanovka = np.random.permutation(x)"
   ]
  },
  {
   "cell_type": "code",
   "execution_count": 54,
   "metadata": {},
   "outputs": [
    {
     "data": {
      "text/plain": [
       "array([0, 0, 0, 1, 0, 0, 0, 0, 0, 1, 0, 1, 0, 0, 1, 1, 1, 1, 1, 0])"
      ]
     },
     "execution_count": 54,
     "metadata": {},
     "output_type": "execute_result"
    }
   ],
   "source": [
    "rastanovka"
   ]
  },
  {
   "cell_type": "code",
   "execution_count": 55,
   "metadata": {},
   "outputs": [
    {
     "data": {
      "text/plain": [
       "array([0, 0, 0, 1, 0, 0, 0, 0, 0, 1, 0, 1])"
      ]
     },
     "execution_count": 55,
     "metadata": {},
     "output_type": "execute_result"
    }
   ],
   "source": [
    "rastanovka[:12]"
   ]
  },
  {
   "cell_type": "code",
   "execution_count": 56,
   "metadata": {},
   "outputs": [
    {
     "data": {
      "text/plain": [
       "3"
      ]
     },
     "execution_count": 56,
     "metadata": {},
     "output_type": "execute_result"
    }
   ],
   "source": [
    "rastanovka[:12].sum()"
   ]
  },
  {
   "cell_type": "code",
   "execution_count": 57,
   "metadata": {
    "scrolled": true
   },
   "outputs": [
    {
     "data": {
      "text/plain": [
       "False"
      ]
     },
     "execution_count": 57,
     "metadata": {},
     "output_type": "execute_result"
    }
   ],
   "source": [
    "rastanovka[:12].sum() == 8"
   ]
  },
  {
   "cell_type": "code",
   "execution_count": 69,
   "metadata": {},
   "outputs": [
    {
     "name": "stdout",
     "output_type": "stream",
     "text": [
      "0.003895\n"
     ]
    }
   ],
   "source": [
    "x = [1] * 8 + [0] *12\n",
    "N = 1_000_000\n",
    "M = 0\n",
    "\n",
    "for i in range(N):\n",
    "    rastanovka = np.random.permutation(x)\n",
    "    M += rastanovka[:12].sum() == 8\n",
    "print(M / N)"
   ]
  },
  {
   "cell_type": "markdown",
   "metadata": {},
   "source": [
    "0.4%"
   ]
  }
 ],
 "metadata": {
  "kernelspec": {
   "display_name": "Python 3 (ipykernel)",
   "language": "python",
   "name": "python3"
  },
  "language_info": {
   "codemirror_mode": {
    "name": "ipython",
    "version": 3
   },
   "file_extension": ".py",
   "mimetype": "text/x-python",
   "name": "python",
   "nbconvert_exporter": "python",
   "pygments_lexer": "ipython3",
   "version": "3.9.12"
  }
 },
 "nbformat": 4,
 "nbformat_minor": 4
}
